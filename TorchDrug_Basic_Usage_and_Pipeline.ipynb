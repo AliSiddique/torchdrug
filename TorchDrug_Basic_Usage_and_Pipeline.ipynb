{
  "nbformat": 4,
  "nbformat_minor": 0,
  "metadata": {
    "colab": {
      "provenance": [],
      "include_colab_link": true
    },
    "kernelspec": {
      "name": "python3",
      "display_name": "Python 3"
    },
    "language_info": {
      "name": "python"
    },
    "accelerator": "GPU"
  },
  "cells": [
    {
      "cell_type": "markdown",
      "metadata": {
        "id": "view-in-github",
        "colab_type": "text"
      },
      "source": [
        "<a href=\"https://colab.research.google.com/github/AliSiddique/torchdrug/blob/main/TorchDrug_Basic_Usage_and_Pipeline.ipynb\" target=\"_parent\"><img src=\"https://colab.research.google.com/assets/colab-badge.svg\" alt=\"Open In Colab\"/></a>"
      ]
    },
    {
      "cell_type": "markdown",
      "metadata": {
        "id": "GQPnwWiVdZ1p"
      },
      "source": [
        "### Introduction\n",
        "\n",
        "In this tutorial, we are going to introduce the basic usage of **TorchDrug**.\n",
        "\n",
        "### Manual Steps\n",
        "\n",
        "1.   Get your own copy of this file via \"File > Save a copy in Drive...\",\n",
        "2.   Set the runtime to **GPU** via \"Runtime > Change runtime type...\"\n",
        "\n",
        "### Colab Tutorials\n",
        "\n",
        "#### Quick Start\n",
        "1. [Basic Usage and Pipeline](https://colab.research.google.com/drive/1Tbnr1Fog_YjkqU1MOhcVLuxqZ4DC-c8-#forceEdit=true&sandboxMode=true)\n",
        "\n",
        "#### Drug Discovery Tasks\n",
        "1. [Property Prediction](https://colab.research.google.com/drive/1sb2w3evdEWm-GYo28RksvzJ74p63xHMn?usp=sharing#forceEdit=true&sandboxMode=true)\n",
        "2. [Pretrained Molecular Representations](https://colab.research.google.com/drive/10faCIVIfln20f2h1oQk2UrXiAMqZKLoW?usp=sharing#forceEdit=true&sandboxMode=true)\n",
        "3. [De Novo Molecule Design](https://colab.research.google.com/drive/1JEMiMvSBuqCuzzREYpviNZZRVOYsgivA?usp=sharing#forceEdit=true&sandboxMode=true)\n",
        "4. [Retrosynthesis](https://colab.research.google.com/drive/1IH1hk7K3MaxAEe5m6CFY7Eyej3RuiEL1?usp=sharing#forceEdit=true&sandboxMode=true)\n",
        "5. [Knowledge Graph Reasoning](https://colab.research.google.com/drive/1-sjqQZhYrGM0HiMuaqXOiqhDNlJi7g_I?usp=sharing#forceEdit=true&sandboxMode=true)"
      ]
    },
    {
      "cell_type": "code",
      "metadata": {
        "id": "CpM2xMHNyPlr",
        "colab": {
          "base_uri": "https://localhost:8080/"
        },
        "outputId": "1b0f7048-539c-4b6d-89b4-fa3f4f8a2694"
      },
      "source": [
        "import os\n",
        "import torch\n",
        "os.environ[\"TORCH_VERSION\"] = torch.__version__\n",
        "\n",
        "!pip install torch-scatter torch-cluster -f https://pytorch-geometric.com/whl/torch-$TORCH_VERSION.html\n",
        "!pip install torchdrug\n",
        "!pip install wandb"
      ],
      "execution_count": null,
      "outputs": [
        {
          "output_type": "stream",
          "name": "stdout",
          "text": [
            "Looking in indexes: https://pypi.org/simple, https://us-python.pkg.dev/colab-wheels/public/simple/\n",
            "Looking in links: https://pytorch-geometric.com/whl/torch-1.12.1+cu113.html\n",
            "Collecting torch-scatter\n",
            "  Downloading https://data.pyg.org/whl/torch-1.12.0%2Bcu113/torch_scatter-2.0.9-cp37-cp37m-linux_x86_64.whl (7.9 MB)\n",
            "\u001b[K     |████████████████████████████████| 7.9 MB 21.9 MB/s \n",
            "\u001b[?25hCollecting torch-cluster\n",
            "  Downloading https://data.pyg.org/whl/torch-1.12.0%2Bcu113/torch_cluster-1.6.0-cp37-cp37m-linux_x86_64.whl (2.4 MB)\n",
            "\u001b[K     |████████████████████████████████| 2.4 MB 58.0 MB/s \n",
            "\u001b[?25hInstalling collected packages: torch-scatter, torch-cluster\n",
            "Successfully installed torch-cluster-1.6.0 torch-scatter-2.0.9\n",
            "Looking in indexes: https://pypi.org/simple, https://us-python.pkg.dev/colab-wheels/public/simple/\n",
            "Collecting torchdrug\n",
            "  Downloading torchdrug-0.2.0.post1-py3-none-any.whl (267 kB)\n",
            "\u001b[K     |████████████████████████████████| 267 kB 36.8 MB/s \n",
            "\u001b[?25hCollecting fair-esm\n",
            "  Downloading fair_esm-1.0.3-py3-none-any.whl (76 kB)\n",
            "\u001b[K     |████████████████████████████████| 76 kB 5.7 MB/s \n",
            "\u001b[?25hRequirement already satisfied: lmdb in /usr/local/lib/python3.7/dist-packages (from torchdrug) (0.99)\n",
            "Collecting rdkit-pypi>=2020.9\n",
            "  Downloading rdkit_pypi-2022.9.1-cp37-cp37m-manylinux_2_17_x86_64.manylinux2014_x86_64.whl (29.5 MB)\n",
            "\u001b[K     |████████████████████████████████| 29.5 MB 1.2 MB/s \n",
            "\u001b[?25hRequirement already satisfied: numpy>=1.11 in /usr/local/lib/python3.7/dist-packages (from torchdrug) (1.21.6)\n",
            "Requirement already satisfied: decorator in /usr/local/lib/python3.7/dist-packages (from torchdrug) (4.4.2)\n",
            "Requirement already satisfied: torch-scatter>=2.0.8 in /usr/local/lib/python3.7/dist-packages (from torchdrug) (2.0.9)\n",
            "Requirement already satisfied: torch-cluster>=1.5.9 in /usr/local/lib/python3.7/dist-packages (from torchdrug) (1.6.0)\n",
            "Requirement already satisfied: tqdm in /usr/local/lib/python3.7/dist-packages (from torchdrug) (4.64.1)\n",
            "Requirement already satisfied: torch>=1.8.0 in /usr/local/lib/python3.7/dist-packages (from torchdrug) (1.12.1+cu113)\n",
            "Requirement already satisfied: matplotlib in /usr/local/lib/python3.7/dist-packages (from torchdrug) (3.2.2)\n",
            "Collecting ninja\n",
            "  Downloading ninja-1.10.2.4-py2.py3-none-manylinux_2_5_x86_64.manylinux1_x86_64.whl (120 kB)\n",
            "\u001b[K     |████████████████████████████████| 120 kB 70.9 MB/s \n",
            "\u001b[?25hRequirement already satisfied: networkx in /usr/local/lib/python3.7/dist-packages (from torchdrug) (2.6.3)\n",
            "Requirement already satisfied: jinja2 in /usr/local/lib/python3.7/dist-packages (from torchdrug) (2.11.3)\n",
            "Requirement already satisfied: Pillow in /usr/local/lib/python3.7/dist-packages (from rdkit-pypi>=2020.9->torchdrug) (7.1.2)\n",
            "Requirement already satisfied: typing-extensions in /usr/local/lib/python3.7/dist-packages (from torch>=1.8.0->torchdrug) (4.1.1)\n",
            "Requirement already satisfied: MarkupSafe>=0.23 in /usr/local/lib/python3.7/dist-packages (from jinja2->torchdrug) (2.0.1)\n",
            "Requirement already satisfied: kiwisolver>=1.0.1 in /usr/local/lib/python3.7/dist-packages (from matplotlib->torchdrug) (1.4.4)\n",
            "Requirement already satisfied: cycler>=0.10 in /usr/local/lib/python3.7/dist-packages (from matplotlib->torchdrug) (0.11.0)\n",
            "Requirement already satisfied: pyparsing!=2.0.4,!=2.1.2,!=2.1.6,>=2.0.1 in /usr/local/lib/python3.7/dist-packages (from matplotlib->torchdrug) (3.0.9)\n",
            "Requirement already satisfied: python-dateutil>=2.1 in /usr/local/lib/python3.7/dist-packages (from matplotlib->torchdrug) (2.8.2)\n",
            "Requirement already satisfied: six>=1.5 in /usr/local/lib/python3.7/dist-packages (from python-dateutil>=2.1->matplotlib->torchdrug) (1.15.0)\n",
            "Installing collected packages: rdkit-pypi, ninja, fair-esm, torchdrug\n",
            "Successfully installed fair-esm-1.0.3 ninja-1.10.2.4 rdkit-pypi-2022.9.1 torchdrug-0.2.0.post1\n",
            "Looking in indexes: https://pypi.org/simple, https://us-python.pkg.dev/colab-wheels/public/simple/\n",
            "Collecting wandb\n",
            "  Downloading wandb-0.13.4-py2.py3-none-any.whl (1.9 MB)\n",
            "\u001b[K     |████████████████████████████████| 1.9 MB 32.9 MB/s \n",
            "\u001b[?25hCollecting shortuuid>=0.5.0\n",
            "  Downloading shortuuid-1.0.9-py3-none-any.whl (9.4 kB)\n",
            "Requirement already satisfied: psutil>=5.0.0 in /usr/local/lib/python3.7/dist-packages (from wandb) (5.4.8)\n",
            "Requirement already satisfied: protobuf!=4.0.*,!=4.21.0,<5,>=3.12.0 in /usr/local/lib/python3.7/dist-packages (from wandb) (3.17.3)\n",
            "Requirement already satisfied: PyYAML in /usr/local/lib/python3.7/dist-packages (from wandb) (6.0)\n",
            "Requirement already satisfied: setuptools in /usr/local/lib/python3.7/dist-packages (from wandb) (57.4.0)\n",
            "Requirement already satisfied: Click!=8.0.0,>=7.0 in /usr/local/lib/python3.7/dist-packages (from wandb) (7.1.2)\n",
            "Collecting pathtools\n",
            "  Downloading pathtools-0.1.2.tar.gz (11 kB)\n",
            "Collecting docker-pycreds>=0.4.0\n",
            "  Downloading docker_pycreds-0.4.0-py2.py3-none-any.whl (9.0 kB)\n",
            "Collecting setproctitle\n",
            "  Downloading setproctitle-1.3.2-cp37-cp37m-manylinux_2_5_x86_64.manylinux1_x86_64.manylinux_2_17_x86_64.manylinux2014_x86_64.whl (30 kB)\n",
            "Requirement already satisfied: requests<3,>=2.0.0 in /usr/local/lib/python3.7/dist-packages (from wandb) (2.23.0)\n",
            "Requirement already satisfied: promise<3,>=2.0 in /usr/local/lib/python3.7/dist-packages (from wandb) (2.3)\n",
            "Collecting GitPython>=1.0.0\n",
            "  Downloading GitPython-3.1.29-py3-none-any.whl (182 kB)\n",
            "\u001b[K     |████████████████████████████████| 182 kB 65.5 MB/s \n",
            "\u001b[?25hRequirement already satisfied: six>=1.13.0 in /usr/local/lib/python3.7/dist-packages (from wandb) (1.15.0)\n",
            "Collecting sentry-sdk>=1.0.0\n",
            "  Downloading sentry_sdk-1.10.1-py2.py3-none-any.whl (166 kB)\n",
            "\u001b[K     |████████████████████████████████| 166 kB 72.7 MB/s \n",
            "\u001b[?25hRequirement already satisfied: typing-extensions>=3.7.4.3 in /usr/local/lib/python3.7/dist-packages (from GitPython>=1.0.0->wandb) (4.1.1)\n",
            "Collecting gitdb<5,>=4.0.1\n",
            "  Downloading gitdb-4.0.9-py3-none-any.whl (63 kB)\n",
            "\u001b[K     |████████████████████████████████| 63 kB 1.7 MB/s \n",
            "\u001b[?25hCollecting smmap<6,>=3.0.1\n",
            "  Downloading smmap-5.0.0-py3-none-any.whl (24 kB)\n",
            "Requirement already satisfied: urllib3!=1.25.0,!=1.25.1,<1.26,>=1.21.1 in /usr/local/lib/python3.7/dist-packages (from requests<3,>=2.0.0->wandb) (1.24.3)\n",
            "Requirement already satisfied: chardet<4,>=3.0.2 in /usr/local/lib/python3.7/dist-packages (from requests<3,>=2.0.0->wandb) (3.0.4)\n",
            "Requirement already satisfied: idna<3,>=2.5 in /usr/local/lib/python3.7/dist-packages (from requests<3,>=2.0.0->wandb) (2.10)\n",
            "Requirement already satisfied: certifi>=2017.4.17 in /usr/local/lib/python3.7/dist-packages (from requests<3,>=2.0.0->wandb) (2022.9.24)\n",
            "Collecting sentry-sdk>=1.0.0\n",
            "  Downloading sentry_sdk-1.10.0-py2.py3-none-any.whl (166 kB)\n",
            "\u001b[K     |████████████████████████████████| 166 kB 68.1 MB/s \n",
            "\u001b[?25h  Downloading sentry_sdk-1.9.10-py2.py3-none-any.whl (162 kB)\n",
            "\u001b[K     |████████████████████████████████| 162 kB 77.7 MB/s \n",
            "\u001b[?25h  Downloading sentry_sdk-1.9.9-py2.py3-none-any.whl (162 kB)\n",
            "\u001b[K     |████████████████████████████████| 162 kB 75.5 MB/s \n",
            "\u001b[?25h  Downloading sentry_sdk-1.9.8-py2.py3-none-any.whl (158 kB)\n",
            "\u001b[K     |████████████████████████████████| 158 kB 68.8 MB/s \n",
            "\u001b[?25h  Downloading sentry_sdk-1.9.7-py2.py3-none-any.whl (157 kB)\n",
            "\u001b[K     |████████████████████████████████| 157 kB 75.4 MB/s \n",
            "\u001b[?25h  Downloading sentry_sdk-1.9.6-py2.py3-none-any.whl (157 kB)\n",
            "\u001b[K     |████████████████████████████████| 157 kB 75.9 MB/s \n",
            "\u001b[?25h  Downloading sentry_sdk-1.9.5-py2.py3-none-any.whl (157 kB)\n",
            "\u001b[K     |████████████████████████████████| 157 kB 74.2 MB/s \n",
            "\u001b[?25h  Downloading sentry_sdk-1.9.4-py2.py3-none-any.whl (157 kB)\n",
            "\u001b[K     |████████████████████████████████| 157 kB 71.7 MB/s \n",
            "\u001b[?25h  Downloading sentry_sdk-1.9.3-py2.py3-none-any.whl (157 kB)\n",
            "\u001b[K     |████████████████████████████████| 157 kB 75.3 MB/s \n",
            "\u001b[?25h  Downloading sentry_sdk-1.9.2-py2.py3-none-any.whl (157 kB)\n",
            "\u001b[K     |████████████████████████████████| 157 kB 81.0 MB/s \n",
            "\u001b[?25h  Downloading sentry_sdk-1.9.1-py2.py3-none-any.whl (157 kB)\n",
            "\u001b[K     |████████████████████████████████| 157 kB 76.6 MB/s \n",
            "\u001b[?25h  Downloading sentry_sdk-1.9.0-py2.py3-none-any.whl (156 kB)\n",
            "\u001b[K     |████████████████████████████████| 156 kB 54.8 MB/s \n",
            "\u001b[?25hBuilding wheels for collected packages: pathtools\n",
            "  Building wheel for pathtools (setup.py) ... \u001b[?25l\u001b[?25hdone\n",
            "  Created wheel for pathtools: filename=pathtools-0.1.2-py3-none-any.whl size=8806 sha256=3174fc456bcfa65915f9d73d7044f7250d67831e197e24377fdd031556b5f6b2\n",
            "  Stored in directory: /root/.cache/pip/wheels/3e/31/09/fa59cef12cdcfecc627b3d24273699f390e71828921b2cbba2\n",
            "Successfully built pathtools\n",
            "Installing collected packages: smmap, gitdb, shortuuid, setproctitle, sentry-sdk, pathtools, GitPython, docker-pycreds, wandb\n",
            "Successfully installed GitPython-3.1.29 docker-pycreds-0.4.0 gitdb-4.0.9 pathtools-0.1.2 sentry-sdk-1.9.0 setproctitle-1.3.2 shortuuid-1.0.9 smmap-5.0.0 wandb-0.13.4\n"
          ]
        }
      ]
    },
    {
      "cell_type": "markdown",
      "metadata": {
        "id": "BFmpTG8ccZQJ"
      },
      "source": [
        "# Graphs\n",
        "Graphs are the fundamental data structure used in TorchDrug. They can be viewed as a generalization of graph processing libraries (e.g., NetworkX) in a tensor framework, while enjoy the GPU acceleration and auto differentiation."
      ]
    },
    {
      "cell_type": "markdown",
      "metadata": {
        "id": "R4JlPpHcQBS4"
      },
      "source": [
        "The following code shows how to create a cycle graph from an edge list. By default, the graph structure is stored as an edge list to save memory consumption. We can convert it to a dense adjacency matrix on the fly if needed."
      ]
    },
    {
      "cell_type": "code",
      "metadata": {
        "colab": {
          "base_uri": "https://localhost:8080/",
          "height": 395
        },
        "id": "Xb8oU4BZUCmu",
        "outputId": "2b31079b-123a-4245-da2d-34c82b3f9b13"
      },
      "source": [
        "import torchdrug as td\n",
        "from torchdrug import data\n",
        "%matplotlib inline\n",
        "\n",
        "edge_list = [[0, 1], [1, 2], [2, 3], [3, 4], [4, 5], [5, 0]]\n",
        "graph = data.Graph(edge_list, num_node=6)\n",
        "graph.visualize()\n",
        "print(graph.adjacency.to_dense())"
      ],
      "execution_count": null,
      "outputs": [
        {
          "output_type": "stream",
          "name": "stderr",
          "text": [
            "INFO:numexpr.utils:NumExpr defaulting to 2 threads.\n"
          ]
        },
        {
          "output_type": "stream",
          "name": "stdout",
          "text": [
            "22:30:31   NumExpr defaulting to 2 threads.\n",
            "tensor([[0., 1., 0., 0., 0., 0.],\n",
            "        [0., 0., 1., 0., 0., 0.],\n",
            "        [0., 0., 0., 1., 0., 0.],\n",
            "        [0., 0., 0., 0., 1., 0.],\n",
            "        [0., 0., 0., 0., 0., 1.],\n",
            "        [1., 0., 0., 0., 0., 0.]])\n"
          ]
        },
        {
          "output_type": "display_data",
          "data": {
            "text/plain": [
              "<Figure size 216x216 with 1 Axes>"
            ],
            "image/png": "[encoded data removed]"
          },
          "metadata": {}
        }
      ]
    },
    {
      "cell_type": "markdown",
      "metadata": {
        "id": "D6j7u-Y2Owfb"
      },
      "source": [
        "Graphs are defined with directed edges. To define an undirected graph, we can call the member function `Graph.undirected()` to get an undirected copy of the graph."
      ]
    },
    {
      "cell_type": "code",
      "metadata": {
        "id": "eJrRTzI-Kdv8",
        "colab": {
          "base_uri": "https://localhost:8080/",
          "height": 358
        },
        "outputId": "8b6dda6b-a2c1-4fe2-9d47-c279da82d816"
      },
      "source": [
        "graph = graph.undirected()\n",
        "graph.visualize()\n",
        "print(graph.adjacency.to_dense())"
      ],
      "execution_count": null,
      "outputs": [
        {
          "output_type": "stream",
          "name": "stdout",
          "text": [
            "tensor([[0., 1., 0., 0., 0., 1.],\n",
            "        [1., 0., 1., 0., 0., 0.],\n",
            "        [0., 1., 0., 1., 0., 0.],\n",
            "        [0., 0., 1., 0., 1., 0.],\n",
            "        [0., 0., 0., 1., 0., 1.],\n",
            "        [1., 0., 0., 0., 1., 0.]])\n"
          ]
        },
        {
          "output_type": "display_data",
          "data": {
            "text/plain": [
              "<Figure size 216x216 with 1 Axes>"
            ],
            "image/png": "[encoded data removed]"
          },
          "metadata": {}
        }
      ]
    },
    {
      "cell_type": "markdown",
      "metadata": {
        "id": "hnn3nKFDP9Gl"
      },
      "source": [
        "In some cases, we would like to specify a type for each edge in the graph. For example, we may need to represent the bond type in molecules, or the relations in biomedical knowledge graphs."
      ]
    },
    {
      "cell_type": "code",
      "metadata": {
        "id": "RxXhgIHVGAFs",
        "colab": {
          "base_uri": "https://localhost:8080/",
          "height": 247
        },
        "outputId": "da1a99cc-3c60-4722-9f98-f2b008dbfaa0"
      },
      "source": [
        "edge_list = [[0, 1, 0], [1, 2, 1], [2, 3, 0], [3, 4, 1], [4, 5, 0], [5, 0, 1]]\n",
        "graph = data.Graph(edge_list, num_node=6, num_relation=2)\n",
        "graph.visualize()"
      ],
      "execution_count": null,
      "outputs": [
        {
          "output_type": "display_data",
          "data": {
            "text/plain": [
              "<Figure size 216x216 with 1 Axes>"
            ],
            "image/png": "[encoded data removed]"
          },
          "metadata": {}
        }
      ]
    },
    {
      "cell_type": "markdown",
      "metadata": {
        "id": "htz21au8cubx"
      },
      "source": [
        "# Molecules\n",
        "\n",
        "A specfic instance of graphs in drug discovery is a molecule, which may have additional chemical constraints and features. For example, we can construct a molecule from SMILES string. SMILES is a language that describes complex molecule structures using a linear string.\n",
        "\n",
        "The node and edge features may serve as input to machine learning models. We may specify different features by changing the arguments in `Molecule.from_smiles`."
      ]
    },
    {
      "cell_type": "code",
      "metadata": {
        "id": "kq14KIdFUFtQ",
        "colab": {
          "base_uri": "https://localhost:8080/",
          "height": 302
        },
        "outputId": "59b939e7-da29-4482-cd60-3cc975c5e881"
      },
      "source": [
        "smiles = \"CC1=C(C=C(C=C1[N+](=O)[O-])[N+](=O)[O-])[N+](=O)[O-]\"\n",
        "mol = data.Molecule.from_smiles(smiles, atom_feature=\"position\", bond_feature=\"length\")\n",
        "mol.visualize()\n",
        "print(mol)\n",
        "print(mol.node_feature.shape)\n",
        "print(mol.edge_feature.shape)"
      ],
      "execution_count": null,
      "outputs": [
        {
          "output_type": "stream",
          "name": "stdout",
          "text": [
            "Molecule(num_atom=16, num_bond=32)\n",
            "torch.Size([16, 3])\n",
            "torch.Size([32, 1])\n"
          ]
        },
        {
          "output_type": "display_data",
          "data": {
            "text/plain": [
              "<Figure size 216x216 with 1 Axes>"
            ],
            "image/png": "[encoded data removed]"
          },
          "metadata": {
            "needs_background": "light"
          }
        }
      ]
    },
    {
      "cell_type": "markdown",
      "metadata": {
        "id": "aVMlxWREVlYO"
      },
      "source": [
        "The molecule data structure contains several common chemical properties. For example, we can visualize the formal charge of each atom in the molecule."
      ]
    },
    {
      "cell_type": "code",
      "metadata": {
        "id": "h1dibJkjVhgu",
        "colab": {
          "base_uri": "https://localhost:8080/"
        },
        "outputId": "086dbbe4-5878-4e15-b787-105935434bc8"
      },
      "source": [
        "for atom, charge in zip(mol.atom_type.tolist(), mol.formal_charge.tolist()):\n",
        "    print(\"%s: %s\" % (td.ATOM_SYMBOL[atom], charge))"
      ],
      "execution_count": null,
      "outputs": [
        {
          "output_type": "stream",
          "name": "stdout",
          "text": [
            "C: 0\n",
            "C: 0\n",
            "C: 0\n",
            "C: 0\n",
            "C: 0\n",
            "C: 0\n",
            "C: 0\n",
            "N: 1\n",
            "O: 0\n",
            "O: -1\n",
            "N: 1\n",
            "O: 0\n",
            "O: -1\n",
            "N: 1\n",
            "O: 0\n",
            "O: -1\n"
          ]
        }
      ]
    },
    {
      "cell_type": "markdown",
      "metadata": {
        "id": "FGwiHGcBRL6C"
      },
      "source": [
        "# Knowledge Graphs\n",
        "\n",
        "Another instance of graphs is a knowledge graph. Knowledge graphs represent biomedical knowledge as a relational graph, where each edge encodes a fact $<head, relation, tail>$.\n",
        "\n",
        "Here we show an example of knowledge graphs with the dataset Hetionet. Hetionet has the following relations between entities.\n",
        "\n",
        "<img src=\"https://het.io/about/metagraph.png\" alt=\"Hetionet entity & relation types\" width=\"400\">"
      ]
    },
    {
      "cell_type": "code",
      "metadata": {
        "id": "N3tuogBtRSaf",
        "colab": {
          "base_uri": "https://localhost:8080/"
        },
        "outputId": "5a6e0300-c628-4958-f2e5-5bcd28dfac83"
      },
      "source": [
        "from torchdrug import datasets\n",
        "\n",
        "hetionet = datasets.Hetionet(\"~/knowledge-graph-datasets\")\n",
        "print(hetionet)"
      ],
      "execution_count": null,
      "outputs": [
        {
          "output_type": "stream",
          "name": "stderr",
          "text": [
            "INFO:torchdrug.utils.file:Downloading https://www.dropbox.com/s/y47bt9oq57h6l5k/train.txt?dl=1 to /root/knowledge-graph-datasets/hetionet_train.txt\n"
          ]
        },
        {
          "output_type": "stream",
          "name": "stdout",
          "text": [
            "22:30:56   Downloading https://www.dropbox.com/s/y47bt9oq57h6l5k/train.txt?dl=1 to /root/knowledge-graph-datasets/hetionet_train.txt\n"
          ]
        },
        {
          "output_type": "stream",
          "name": "stderr",
          "text": [
            "INFO:torchdrug.utils.file:Downloading https://www.dropbox.com/s/a0pbrx9tz3dgsff/valid.txt?dl=1 to /root/knowledge-graph-datasets/hetionet_valid.txt\n"
          ]
        },
        {
          "output_type": "stream",
          "name": "stdout",
          "text": [
            "22:31:02   Downloading https://www.dropbox.com/s/a0pbrx9tz3dgsff/valid.txt?dl=1 to /root/knowledge-graph-datasets/hetionet_valid.txt\n"
          ]
        },
        {
          "output_type": "stream",
          "name": "stderr",
          "text": [
            "INFO:torchdrug.utils.file:Downloading https://www.dropbox.com/s/4dhrvg3fyq5tnu4/test.txt?dl=1 to /root/knowledge-graph-datasets/hetionet_test.txt\n"
          ]
        },
        {
          "output_type": "stream",
          "name": "stdout",
          "text": [
            "22:31:04   Downloading https://www.dropbox.com/s/4dhrvg3fyq5tnu4/test.txt?dl=1 to /root/knowledge-graph-datasets/hetionet_test.txt\n"
          ]
        },
        {
          "output_type": "stream",
          "name": "stderr",
          "text": [
            "Loading /root/knowledge-graph-datasets/hetionet_train.txt: 100%|██████████| 2025177/2025177 [00:07<00:00, 269857.85it/s]\n",
            "Loading /root/knowledge-graph-datasets/hetionet_valid.txt: 100%|██████████| 112510/112510 [00:00<00:00, 557729.59it/s]\n",
            "Loading /root/knowledge-graph-datasets/hetionet_test.txt: 100%|██████████| 112510/112510 [00:00<00:00, 534974.65it/s]\n"
          ]
        },
        {
          "output_type": "stream",
          "name": "stdout",
          "text": [
            "Hetionet(\n",
            "  #entity: 45158\n",
            "  #relation: 24\n",
            "  #triplet: 2250197\n",
            ")\n"
          ]
        }
      ]
    },
    {
      "cell_type": "markdown",
      "metadata": {
        "id": "t0l_laBC5pRj"
      },
      "source": [
        "We visualize a single edge from the knowledge graph. This edge encodes the fact that [gene 11344](https://www.ncbi.nlm.nih.gov/gene/11344) regulates [gene 7485](https://www.ncbi.nlm.nih.gov/gene/7485)."
      ]
    },
    {
      "cell_type": "code",
      "metadata": {
        "id": "jzD35uARZJUL",
        "colab": {
          "base_uri": "https://localhost:8080/"
        },
        "outputId": "15057473-663e-4103-c509-75e611b06621"
      },
      "source": [
        "kg = hetionet.graph\n",
        "h, t, r = kg.edge_list[0]\n",
        "print(hetionet.entity_vocab[h], hetionet.relation_vocab[r],\n",
        "      hetionet.entity_vocab[t])"
      ],
      "execution_count": null,
      "outputs": [
        {
          "output_type": "stream",
          "name": "stdout",
          "text": [
            "Gene::11344 Gr>G Gene::7485\n"
          ]
        }
      ]
    },
    {
      "cell_type": "markdown",
      "metadata": {
        "id": "IyyIQIrAc0wN"
      },
      "source": [
        "# Graph Operations\n",
        "A group of arbitrary graphs can also be processed as a batch to maximize the utilization of hardware. They can also be transferred between CPUs and GPUs using `cpu()` and `cuda()` methods.\n",
        "\n"
      ]
    },
    {
      "cell_type": "code",
      "metadata": {
        "id": "rfWxU6j5b9rM",
        "colab": {
          "base_uri": "https://localhost:8080/",
          "height": 243
        },
        "outputId": "fdd1d9c7-dc65-4b34-a704-7f5ec0f6167c"
      },
      "source": [
        "smiles_list = [\"CCSCCSP(=S)(OC)OC\", \"CCOC(=O)N\",\n",
        "               \"N(Nc1ccccc1)c2ccccc2\", \"NC(=O)c1cccnc1\"]\n",
        "mols = data.PackedMolecule.from_smiles(smiles_list)\n",
        "mols.visualize(num_row=1)\n",
        "print(mols)"
      ],
      "execution_count": null,
      "outputs": [
        {
          "output_type": "stream",
          "name": "stdout",
          "text": [
            "PackedMolecule(batch_size=4, num_atoms=[12, 6, 14, 9], num_bonds=[22, 10, 30, 18])\n"
          ]
        },
        {
          "output_type": "display_data",
          "data": {
            "text/plain": [
              "<Figure size 864x216 with 4 Axes>"
            ],
            "image/png": "[encoded data removed]"
          },
          "metadata": {
            "needs_background": "light"
          }
        }
      ]
    },
    {
      "cell_type": "code",
      "metadata": {
        "id": "w-Yw4bJBHk66",
        "colab": {
          "base_uri": "https://localhost:8080/"
        },
        "outputId": "99720066-f95e-401d-8462-1da0a4f5e66c"
      },
      "source": [
        "mols = mols.cuda()\n",
        "print(mols)"
      ],
      "execution_count": null,
      "outputs": [
        {
          "output_type": "stream",
          "name": "stdout",
          "text": [
            "PackedMolecule(batch_size=4, num_atoms=[12, 6, 14, 9], num_bonds=[22, 10, 30, 18], device='cuda:0')\n"
          ]
        }
      ]
    },
    {
      "cell_type": "markdown",
      "metadata": {
        "id": "FkyKQQFMXvh_"
      },
      "source": [
        "Just like original PyTorch tensors, a batch of graphs supports many common broadcast and indexing operations."
      ]
    },
    {
      "cell_type": "code",
      "metadata": {
        "id": "Ei3ZgySHXXHZ",
        "colab": {
          "base_uri": "https://localhost:8080/",
          "height": 167
        },
        "outputId": "48ceaa1d-fc9d-4836-c197-043a84c90a2b"
      },
      "source": [
        "mols = mols.repeat(2)\n",
        "mols.visualize(num_row=1)"
      ],
      "execution_count": null,
      "outputs": [
        {
          "output_type": "display_data",
          "data": {
            "text/plain": [
              "<Figure size 1728x216 with 8 Axes>"
            ],
            "image/png": "[encoded data removed]"
          },
          "metadata": {
            "needs_background": "light"
          }
        }
      ]
    },
    {
      "cell_type": "code",
      "metadata": {
        "id": "LKEFWqkWHoI_",
        "colab": {
          "base_uri": "https://localhost:8080/",
          "height": 225
        },
        "outputId": "558e15a2-2fa7-4d6e-9d52-a0d9e988bf2b"
      },
      "source": [
        "mols = mols[[0, 2]]\n",
        "mols.visualize()"
      ],
      "execution_count": null,
      "outputs": [
        {
          "output_type": "display_data",
          "data": {
            "text/plain": [
              "<Figure size 432x216 with 2 Axes>"
            ],
            "image/png": "[encoded data removed]"
          },
          "metadata": {
            "needs_background": "light"
          }
        }
      ]
    },
    {
      "cell_type": "markdown",
      "metadata": {
        "id": "Wx0udm7IemPn"
      },
      "source": [
        "Besides graph-level operations, there are also node-level and edge-level operations. The following example shows how to select edges that contain at least one carbon. This creates disconnected components in each molecule.\n",
        "\n"
      ]
    },
    {
      "cell_type": "code",
      "metadata": {
        "id": "GYwFJlGAcQC-",
        "colab": {
          "base_uri": "https://localhost:8080/",
          "height": 225
        },
        "outputId": "d305186b-3e4f-43e8-c093-5308232470f0"
      },
      "source": [
        "node_in, node_out, bond_type = mols.edge_list.t()\n",
        "edge_mask = (mols.atom_type[node_in] == td.CARBON) | \\\n",
        "            (mols.atom_type[node_out] == td.CARBON)\n",
        "mols = mols.edge_mask(edge_mask)\n",
        "mols.visualize()"
      ],
      "execution_count": null,
      "outputs": [
        {
          "output_type": "display_data",
          "data": {
            "text/plain": [
              "<Figure size 432x216 with 2 Axes>"
            ],
            "image/png": "[encoded data removed]"
          },
          "metadata": {
            "needs_background": "light"
          }
        }
      ]
    },
    {
      "cell_type": "markdown",
      "metadata": {
        "id": "w0jChC1bYvlE"
      },
      "source": [
        "We can further extract each single connected component as a separate molecule. This operation is commonly used in fragment-based drug discovery."
      ]
    },
    {
      "cell_type": "code",
      "metadata": {
        "id": "5D9DvaeBHwze",
        "colab": {
          "base_uri": "https://localhost:8080/",
          "height": 225
        },
        "outputId": "2d84839b-3744-4b8a-9c5b-7989c27b3a70"
      },
      "source": [
        "mols, num_cc = mols.connected_components()\n",
        "mols.visualize(num_row=1)\n",
        "print(num_cc)\n",
        "print(mols.to_smiles())"
      ],
      "execution_count": null,
      "outputs": [
        {
          "output_type": "stream",
          "name": "stdout",
          "text": [
            "tensor([5, 2], device='cuda:0')\n",
            "['CCSCCS', 'P', 'S', 'CO', 'CO', 'Nc1ccccc1', 'Nc1ccccc1']\n"
          ]
        },
        {
          "output_type": "display_data",
          "data": {
            "text/plain": [
              "<Figure size 1512x216 with 7 Axes>"
            ],
            "image/png": "[encoded data removed]"
          },
          "metadata": {
            "needs_background": "light"
          }
        }
      ]
    },
    {
      "cell_type": "markdown",
      "metadata": {
        "id": "TmUZTC1-bwBp"
      },
      "source": [
        "We may also retrieve specific edges from a graph. A typical usage of this operation is to search a knowledge graph for answering some queries.\n",
        "\n",
        "Consider a query on Hetionet: *What are the symptoms that asthma presents?*"
      ]
    },
    {
      "cell_type": "code",
      "metadata": {
        "id": "Hyq0UYNKbwjc"
      },
      "source": [
        "asthma = hetionet.inv_entity_vocab[\"Disease::DOID:2841\"]\n",
        "presents = hetionet.inv_relation_vocab[\"DpS\"]\n",
        "any = -1"
      ],
      "execution_count": null,
      "outputs": []
    },
    {
      "cell_type": "markdown",
      "metadata": {
        "id": "CIIbzXdldRJ-"
      },
      "source": [
        "We can create a search pattern $<asthma, presents, ?>$, and search the knowledge graph with ``match()``."
      ]
    },
    {
      "cell_type": "code",
      "metadata": {
        "id": "DlH2fBoPR6eC",
        "colab": {
          "base_uri": "https://localhost:8080/"
        },
        "outputId": "e05e0d16-3a4d-4318-ce9f-5ab55f6bee41"
      },
      "source": [
        "patterns = torch.tensor([[asthma, any, presents]])\n",
        "edge_index, num_match = kg.match(patterns)\n",
        "symptoms = kg.edge_list[edge_index, 1]\n",
        "from pprint import pprint\n",
        "pprint([hetionet.entity_vocab[s] for s in symptoms.tolist()])"
      ],
      "execution_count": null,
      "outputs": [
        {
          "output_type": "stream",
          "name": "stderr",
          "text": [
            "/usr/local/lib/python3.7/dist-packages/torchdrug/data/graph.py:542: UserWarning: __floordiv__ is deprecated, and its behavior will change in a future version of pytorch. It currently rounds toward 0 (like the 'trunc' function NOT 'floor'). This results in incorrect rounding for negative values. To keep the current behavior, use torch.div(a, b, rounding_mode='trunc'), or for actual floor division, use torch.div(a, b, rounding_mode='floor').\n",
            "  scale = scale[-1] // scale\n"
          ]
        },
        {
          "output_type": "stream",
          "name": "stdout",
          "text": [
            "['Symptom::D012135',\n",
            " 'Symptom::D006935',\n",
            " 'Symptom::D012913',\n",
            " 'Symptom::D020078',\n",
            " 'Symptom::D055154',\n",
            " 'Symptom::D001049',\n",
            " 'Symptom::D016857',\n",
            " 'Symptom::D000472',\n",
            " 'Symptom::D012893',\n",
            " 'Symptom::D020181',\n",
            " 'Symptom::D001724',\n",
            " 'Symptom::D003490',\n",
            " 'Symptom::D012912',\n",
            " 'Symptom::D007040',\n",
            " 'Symptom::D014832',\n",
            " 'Symptom::D003371',\n",
            " 'Symptom::D002637',\n",
            " 'Symptom::D006685',\n",
            " 'Symptom::D014202',\n",
            " 'Symptom::D011602',\n",
            " 'Symptom::D004417',\n",
            " 'Symptom::D005311',\n",
            " 'Symptom::D006985',\n",
            " 'Symptom::D004418',\n",
            " 'Symptom::D000860',\n",
            " 'Symptom::D009058']\n"
          ]
        }
      ]
    },
    {
      "cell_type": "markdown",
      "metadata": {
        "id": "uMm5jEG0H7Ct"
      },
      "source": [
        "# Register Your Own Attributes"
      ]
    },
    {
      "cell_type": "markdown",
      "metadata": {
        "id": "DStgJjSTucNe"
      },
      "source": [
        "While the `Molecule` class comes with several chemical properties, we may also want to define our own properties. This only requires to wrap the attribute assignment lines with a context manager. The following example defines a custom node attribute to encode whether each node is connected to a carbon.\n",
        "\n",
        "We can use `mol.edge()` and `mol.graph()` for node- and graph-level attributes respectively.\n"
      ]
    },
    {
      "cell_type": "code",
      "metadata": {
        "id": "YcgZX35AH-uR",
        "colab": {
          "base_uri": "https://localhost:8080/",
          "height": 542
        },
        "outputId": "bcf0e2d4-c3bb-4fe1-df0d-e0a5fbe13e8a"
      },
      "source": [
        "from torch_scatter import scatter_add\n",
        "\n",
        "smiles = \"CC1=C(C=C(C=C1[N+](=O)[O-])[N+](=O)[O-])[N+](=O)[O-]\"\n",
        "mol = data.Molecule.from_smiles(smiles)\n",
        "node_in, node_out = mol.edge_list.t()[:2]\n",
        "attached_to_C = scatter_add(mol.atom_type[node_in] == td.CARBON, node_out, dim_size=mol.num_node)\n",
        "mol.visualize()\n",
        "with mol.node():\n",
        "    mol.attached_to_C = attached_to_C\n",
        "for atom, attach in zip(mol.atom_type.tolist(), mol.attached_to_C.tolist()):\n",
        "    print(\"%s: %s\" % (td.ATOM_SYMBOL[atom], attach))"
      ],
      "execution_count": null,
      "outputs": [
        {
          "output_type": "stream",
          "name": "stdout",
          "text": [
            "C: True\n",
            "C: True\n",
            "C: True\n",
            "C: True\n",
            "C: True\n",
            "C: True\n",
            "C: True\n",
            "N: True\n",
            "O: False\n",
            "O: False\n",
            "N: True\n",
            "O: False\n",
            "O: False\n",
            "N: True\n",
            "O: False\n",
            "O: False\n"
          ]
        },
        {
          "output_type": "display_data",
          "data": {
            "text/plain": [
              "<Figure size 216x216 with 1 Axes>"
            ],
            "image/png": "[encoded data removed]"
          },
          "metadata": {
            "needs_background": "light"
          }
        }
      ]
    },
    {
      "cell_type": "markdown",
      "metadata": {
        "id": "JVvwL4EswW3H"
      },
      "source": [
        "The custom attributes are preserved in all graph operations. This behaves similarly as masking operations on PyTorch tensors."
      ]
    },
    {
      "cell_type": "code",
      "metadata": {
        "id": "_phlIQylIBmb",
        "colab": {
          "base_uri": "https://localhost:8080/",
          "height": 413
        },
        "outputId": "b8a50595-ab20-4fd6-e4cc-9418e7c2cfeb"
      },
      "source": [
        "mol = mol.subgraph(mol.atom_type != td.CARBON)\n",
        "mol.visualize()\n",
        "for atom, attach in zip(mol.atom_type.tolist(), mol.attached_to_C.tolist()):\n",
        "    print(\"%s: %s\" % (td.ATOM_SYMBOL[atom], attach))"
      ],
      "execution_count": null,
      "outputs": [
        {
          "output_type": "stream",
          "name": "stdout",
          "text": [
            "N: True\n",
            "O: False\n",
            "O: False\n",
            "N: True\n",
            "O: False\n",
            "O: False\n",
            "N: True\n",
            "O: False\n",
            "O: False\n"
          ]
        },
        {
          "output_type": "display_data",
          "data": {
            "text/plain": [
              "<Figure size 216x216 with 1 Axes>"
            ],
            "image/png": "[encoded data removed]"
          },
          "metadata": {
            "needs_background": "light"
          }
        }
      ]
    },
    {
      "cell_type": "markdown",
      "metadata": {
        "id": "0yRyl3HqerLE"
      },
      "source": [
        "# A Molecule Classifier\n",
        "Now we demonstrate how to use TorchDrug to create a molecule classifier. Specifically, TorchDrug provides us with a large collection of popular datasets and models for drug discovery and graph representation learning. These help us avoid writing and debugging boilerplate code.\n",
        "\n",
        "For this tutorial, we use the ClinTox dataset. This dataset requires to predict whether a molecule is toxic in clinical trials, and whether it is approved by FDA."
      ]
    },
    {
      "cell_type": "markdown",
      "metadata": {
        "id": "G8zaVBVeevI0"
      },
      "source": [
        "### Load and Prepare Dataset Splits\n",
        "First of all, we load the dataset with TorchDrug. TorchDrug will automatically download the dataset into the path you specify.\n",
        "\n",
        "We then split the dataset into train, validation and test, with a ratio of 8:1:1."
      ]
    },
    {
      "cell_type": "code",
      "metadata": {
        "id": "dscqfQPUen-r",
        "colab": {
          "base_uri": "https://localhost:8080/"
        },
        "outputId": "7585076c-4fe4-4ada-9095-994f1ece1f19"
      },
      "source": [
        "import torch\n",
        "from torch.nn import functional as F\n",
        "from torchdrug import datasets\n",
        "\n",
        "dataset = datasets.ClinTox(\"~/molecule-datasets/\")\n",
        "lengths = [int(0.8 * len(dataset)), int(0.1 * len(dataset))]\n",
        "lengths += [len(dataset) - sum(lengths)]\n",
        "train_set, valid_set, test_set = torch.utils.data.random_split(dataset, lengths)"
      ],
      "execution_count": null,
      "outputs": [
        {
          "output_type": "stream",
          "name": "stderr",
          "text": [
            "INFO:torchdrug.utils.file:Downloading http://deepchem.io.s3-website-us-west-1.amazonaws.com/datasets/clintox.csv.gz to /root/molecule-datasets/clintox.csv.gz\n"
          ]
        },
        {
          "output_type": "stream",
          "name": "stdout",
          "text": [
            "22:31:22   Downloading http://deepchem.io.s3-website-us-west-1.amazonaws.com/datasets/clintox.csv.gz to /root/molecule-datasets/clintox.csv.gz\n"
          ]
        },
        {
          "output_type": "stream",
          "name": "stderr",
          "text": [
            "INFO:torchdrug.utils.file:Extracting /root/molecule-datasets/clintox.csv.gz to /root/molecule-datasets/clintox.csv\n"
          ]
        },
        {
          "output_type": "stream",
          "name": "stdout",
          "text": [
            "22:31:23   Extracting /root/molecule-datasets/clintox.csv.gz to /root/molecule-datasets/clintox.csv\n"
          ]
        },
        {
          "output_type": "stream",
          "name": "stderr",
          "text": [
            "Loading /root/molecule-datasets/clintox.csv: 100%|██████████| 1485/1485 [00:00<00:00, 92304.77it/s]\n",
            "Constructing molecules from SMILES:   0%|          | 0/1484 [00:00<?, ?it/s]/usr/local/lib/python3.7/dist-packages/torchdrug/data/feature.py:42: UserWarning: Unknown value `*`\n",
            "  warnings.warn(\"Unknown value `%s`\" % x)\n",
            "/usr/local/lib/python3.7/dist-packages/torchdrug/data/feature.py:42: UserWarning: Unknown value `Tc`\n",
            "  warnings.warn(\"Unknown value `%s`\" % x)\n",
            "/usr/local/lib/python3.7/dist-packages/torchdrug/data/feature.py:42: UserWarning: Unknown value `Fe`\n",
            "  warnings.warn(\"Unknown value `%s`\" % x)\n",
            "/usr/local/lib/python3.7/dist-packages/torchdrug/data/feature.py:42: UserWarning: Unknown value `Al`\n",
            "  warnings.warn(\"Unknown value `%s`\" % x)\n",
            "Constructing molecules from SMILES:   5%|▌         | 76/1484 [00:00<00:01, 753.87it/s]/usr/local/lib/python3.7/dist-packages/torchdrug/data/feature.py:42: UserWarning: Unknown value `Ca`\n",
            "  warnings.warn(\"Unknown value `%s`\" % x)\n",
            "Constructing molecules from SMILES:  10%|█         | 152/1484 [00:00<00:02, 659.92it/s]/usr/local/lib/python3.7/dist-packages/torchdrug/data/feature.py:42: UserWarning: Unknown value `Pt`\n",
            "  warnings.warn(\"Unknown value `%s`\" % x)\n",
            "Constructing molecules from SMILES:  19%|█▉        | 286/1484 [00:00<00:01, 664.99it/s]/usr/local/lib/python3.7/dist-packages/torchdrug/data/feature.py:42: UserWarning: Unknown value `Bi`\n",
            "  warnings.warn(\"Unknown value `%s`\" % x)\n",
            "Constructing molecules from SMILES:  89%|████████▊ | 1315/1484 [00:02<00:00, 324.54it/s]/usr/local/lib/python3.7/dist-packages/torchdrug/data/feature.py:42: UserWarning: Unknown value `Au`\n",
            "  warnings.warn(\"Unknown value `%s`\" % x)\n",
            "Constructing molecules from SMILES:  91%|█████████ | 1350/1484 [00:03<00:00, 330.87it/s]/usr/local/lib/python3.7/dist-packages/torchdrug/data/feature.py:42: UserWarning: Unknown value `Tl`\n",
            "  warnings.warn(\"Unknown value `%s`\" % x)\n",
            "/usr/local/lib/python3.7/dist-packages/torchdrug/data/feature.py:42: UserWarning: Unknown value `Cr`\n",
            "  warnings.warn(\"Unknown value `%s`\" % x)\n",
            "/usr/local/lib/python3.7/dist-packages/torchdrug/data/feature.py:42: UserWarning: Unknown value `Mn`\n",
            "  warnings.warn(\"Unknown value `%s`\" % x)\n",
            "Constructing molecules from SMILES:  94%|█████████▎| 1390/1484 [00:03<00:00, 345.54it/s]/usr/local/lib/python3.7/dist-packages/torchdrug/data/feature.py:42: UserWarning: Unknown value `Hg`\n",
            "  warnings.warn(\"Unknown value `%s`\" % x)\n",
            "Constructing molecules from SMILES:  99%|█████████▊| 1465/1484 [00:03<00:00, 358.94it/s]/usr/local/lib/python3.7/dist-packages/torchdrug/data/feature.py:42: UserWarning: Unknown value `As`\n",
            "  warnings.warn(\"Unknown value `%s`\" % x)\n",
            "/usr/local/lib/python3.7/dist-packages/torchdrug/data/feature.py:42: UserWarning: Unknown value `Ti`\n",
            "  warnings.warn(\"Unknown value `%s`\" % x)\n",
            "Constructing molecules from SMILES: 100%|██████████| 1484/1484 [00:03<00:00, 432.86it/s]\n"
          ]
        }
      ]
    },
    {
      "cell_type": "markdown",
      "metadata": {
        "id": "lAYZ3v_re2MF"
      },
      "source": [
        "### Define a Graph Neural Network for Classification\n",
        "We define a graph neural network to encode the molecule graphs. Specifically, we use the a Graph Isomorphism Network (GIN) with 4 hidden layers."
      ]
    },
    {
      "cell_type": "code",
      "metadata": {
        "id": "83NljpvHe0dP"
      },
      "source": [
        "from torchdrug import core, models, tasks\n",
        "\n",
        "model = models.GIN(input_dim=dataset.node_feature_dim,\n",
        "                   hidden_dims=[256, 256, 256, 256],\n",
        "                   short_cut=True, batch_norm=True, concat_hidden=True)"
      ],
      "execution_count": null,
      "outputs": []
    },
    {
      "cell_type": "markdown",
      "metadata": {
        "id": "bRVcbZIDe8c7"
      },
      "source": [
        "Note the model is simply a neural network without any training target. To adapt it for classification, we wrap it with a property prediction module. We define the classification task by the binary cross entropy (BCE) criterion."
      ]
    },
    {
      "cell_type": "code",
      "metadata": {
        "id": "8UTDh6Hie7Kw"
      },
      "source": [
        "task = tasks.PropertyPrediction(model, task=dataset.tasks,\n",
        "                                criterion=\"bce\", metric=(\"auprc\", \"auroc\"))"
      ],
      "execution_count": null,
      "outputs": []
    },
    {
      "cell_type": "markdown",
      "metadata": {
        "id": "TB3Yfd4VfAEP"
      },
      "source": [
        "### Train the Model\n",
        "We create an optimizer for the parameters in the task, and combine everything into `core.Engine`. The engine provides convenient routines for training and test.\n",
        "\n"
      ]
    },
    {
      "cell_type": "code",
      "metadata": {
        "id": "0uyrF8k1e-cH",
        "colab": {
          "base_uri": "https://localhost:8080/"
        },
        "outputId": "9498fd10-ba36-4fbf-dc14-89d40d558edc"
      },
      "source": [
        "optimizer = torch.optim.Adam(task.parameters(), lr=1e-4)\n",
        "solver = core.Engine(task, train_set, valid_set, test_set, optimizer,\n",
        "                     batch_size=1024, gpus=[0])\n",
        "solver.train(num_epoch=100)"
      ],
      "execution_count": null,
      "outputs": [
        {
          "output_type": "stream",
          "name": "stderr",
          "text": [
            "WARNING:torchdrug.core.engine:Preprocess training set\n"
          ]
        },
        {
          "output_type": "stream",
          "name": "stdout",
          "text": [
            "22:31:27   Preprocess training set\n"
          ]
        },
        {
          "output_type": "stream",
          "name": "stderr",
          "text": [
            "WARNING:torchdrug.core.logger:{'batch_size': 1024,\n",
            " 'class': 'core.Engine',\n",
            " 'gpus': [0],\n",
            " 'gradient_interval': 1,\n",
            " 'log_interval': 100,\n",
            " 'logger': 'logging',\n",
            " 'num_worker': 0,\n",
            " 'optimizer': {'amsgrad': False,\n",
            "               'betas': (0.9, 0.999),\n",
            "               'capturable': False,\n",
            "               'class': 'optim.Adam',\n",
            "               'eps': 1e-08,\n",
            "               'foreach': None,\n",
            "               'lr': 0.0001,\n",
            "               'maximize': False,\n",
            "               'weight_decay': 0},\n",
            " 'scheduler': None,\n",
            " 'task': {'class': 'tasks.PropertyPrediction',\n",
            "          'criterion': 'bce',\n",
            "          'graph_construction_model': None,\n",
            "          'metric': ('auprc', 'auroc'),\n",
            "          'model': {'activation': 'relu',\n",
            "                    'batch_norm': True,\n",
            "                    'class': 'models.GIN',\n",
            "                    'concat_hidden': True,\n",
            "                    'edge_input_dim': None,\n",
            "                    'eps': 0,\n",
            "                    'hidden_dims': [256, 256, 256, 256],\n",
            "                    'input_dim': 66,\n",
            "                    'learn_eps': False,\n",
            "                    'num_mlp_layer': 2,\n",
            "                    'readout': 'sum',\n",
            "                    'short_cut': True},\n",
            "          'normalization': True,\n",
            "          'num_class': None,\n",
            "          'num_mlp_layer': 1,\n",
            "          'task': ['FDA_APPROVED', 'CT_TOX'],\n",
            "          'verbose': 0},\n",
            " 'test_set': {'class': 'dataset.Subset',\n",
            "              'dataset': {'class': 'datasets.ClinTox',\n",
            "                          'path': '~/molecule-datasets/',\n",
            "                          'verbose': 1},\n",
            "              'indices': [623,\n",
            "                          830,\n",
            "                          424,\n",
            "                          316,\n",
            "                          272,\n",
            "                          1204,\n",
            "                          1324,\n",
            "                          566,\n",
            "                          837,\n",
            "                          373,\n",
            "                          1206,\n",
            "                          798,\n",
            "                          1102,\n",
            "                          1231,\n",
            "                          960,\n",
            "                          49,\n",
            "                          1365,\n",
            "                          305,\n",
            "                          257,\n",
            "                          477,\n",
            "                          1345,\n",
            "                          167,\n",
            "                          1166,\n",
            "                          488,\n",
            "                          1201,\n",
            "                          1063,\n",
            "                          674,\n",
            "                          168,\n",
            "                          1364,\n",
            "                          1328,\n",
            "                          441,\n",
            "                          875,\n",
            "                          576,\n",
            "                          1457,\n",
            "                          1444,\n",
            "                          124,\n",
            "                          271,\n",
            "                          999,\n",
            "                          147,\n",
            "                          903,\n",
            "                          396,\n",
            "                          707,\n",
            "                          1352,\n",
            "                          636,\n",
            "                          1404,\n",
            "                          915,\n",
            "                          693,\n",
            "                          605,\n",
            "                          1236,\n",
            "                          285,\n",
            "                          695,\n",
            "                          130,\n",
            "                          267,\n",
            "                          1467,\n",
            "                          792,\n",
            "                          921,\n",
            "                          1091,\n",
            "                          25,\n",
            "                          241,\n",
            "                          27,\n",
            "                          552,\n",
            "                          582,\n",
            "                          757,\n",
            "                          821,\n",
            "                          844,\n",
            "                          1086,\n",
            "                          947,\n",
            "                          97,\n",
            "                          1372,\n",
            "                          788,\n",
            "                          1475,\n",
            "                          1198,\n",
            "                          470,\n",
            "                          443,\n",
            "                          1454,\n",
            "                          961,\n",
            "                          6,\n",
            "                          213,\n",
            "                          201,\n",
            "                          579,\n",
            "                          1261,\n",
            "                          1038,\n",
            "                          907,\n",
            "                          1105,\n",
            "                          763,\n",
            "                          1473,\n",
            "                          1023,\n",
            "                          145,\n",
            "                          1196,\n",
            "                          419,\n",
            "                          207,\n",
            "                          514,\n",
            "                          619,\n",
            "                          1350,\n",
            "                          1107,\n",
            "                          121,\n",
            "                          1321,\n",
            "                          712,\n",
            "                          76,\n",
            "                          739,\n",
            "                          1240,\n",
            "                          1379,\n",
            "                          299,\n",
            "                          389,\n",
            "                          715,\n",
            "                          1288,\n",
            "                          538,\n",
            "                          1108,\n",
            "                          310,\n",
            "                          613,\n",
            "                          859,\n",
            "                          138,\n",
            "                          21,\n",
            "                          1428,\n",
            "                          621,\n",
            "                          893,\n",
            "                          1207,\n",
            "                          1093,\n",
            "                          31,\n",
            "                          534,\n",
            "                          418,\n",
            "                          265,\n",
            "                          1433,\n",
            "                          334,\n",
            "                          343,\n",
            "                          295,\n",
            "                          812,\n",
            "                          472,\n",
            "                          416,\n",
            "                          626,\n",
            "                          233,\n",
            "                          860,\n",
            "                          592,\n",
            "                          563,\n",
            "                          154,\n",
            "                          380,\n",
            "                          1369,\n",
            "                          1374,\n",
            "                          1278,\n",
            "                          817,\n",
            "                          245,\n",
            "                          805,\n",
            "                          1113,\n",
            "                          142,\n",
            "                          1082,\n",
            "                          158,\n",
            "                          806,\n",
            "                          91,\n",
            "                          227]},\n",
            " 'train_set': {'class': 'dataset.Subset',\n",
            "               'dataset': {'class': 'datasets.ClinTox',\n",
            "                           'path': '~/molecule-datasets/',\n",
            "                           'verbose': 1},\n",
            "               'indices': [912,\n",
            "                           537,\n",
            "                           584,\n",
            "                           1146,\n",
            "                           230,\n",
            "                           801,\n",
            "                           371,\n",
            "                           1309,\n",
            "                           938,\n",
            "                           1384,\n",
            "                           460,\n",
            "                           409,\n",
            "                           890,\n",
            "                           178,\n",
            "                           874,\n",
            "                           987,\n",
            "                           872,\n",
            "                           531,\n",
            "                           692,\n",
            "                           218,\n",
            "                           163,\n",
            "                           1381,\n",
            "                           1098,\n",
            "                           221,\n",
            "                           183,\n",
            "                           1103,\n",
            "                           452,\n",
            "                           1068,\n",
            "                           1167,\n",
            "                           85,\n",
            "                           784,\n",
            "                           78,\n",
            "                           928,\n",
            "                           368,\n",
            "                           1400,\n",
            "                           321,\n",
            "                           675,\n",
            "                           33,\n",
            "                           1179,\n",
            "                           1377,\n",
            "                           527,\n",
            "                           1072,\n",
            "                           779,\n",
            "                           822,\n",
            "                           281,\n",
            "                           978,\n",
            "                           880,\n",
            "                           871,\n",
            "                           174,\n",
            "                           1111,\n",
            "                           1075,\n",
            "                           1447,\n",
            "                           941,\n",
            "                           985,\n",
            "                           1235,\n",
            "                           1199,\n",
            "                           153,\n",
            "                           331,\n",
            "                           546,\n",
            "                           1313,\n",
            "                           26,\n",
            "                           704,\n",
            "                           395,\n",
            "                           290,\n",
            "                           797,\n",
            "                           933,\n",
            "                           600,\n",
            "                           866,\n",
            "                           1277,\n",
            "                           92,\n",
            "                           276,\n",
            "                           791,\n",
            "                           845,\n",
            "                           362,\n",
            "                           1325,\n",
            "                           733,\n",
            "                           385,\n",
            "                           1217,\n",
            "                           766,\n",
            "                           1182,\n",
            "                           388,\n",
            "                           1429,\n",
            "                           828,\n",
            "                           952,\n",
            "                           902,\n",
            "                           1414,\n",
            "                           1289,\n",
            "                           795,\n",
            "                           291,\n",
            "                           1296,\n",
            "                           609,\n",
            "                           1300,\n",
            "                           929,\n",
            "                           277,\n",
            "                           634,\n",
            "                           246,\n",
            "                           243,\n",
            "                           516,\n",
            "                           714,\n",
            "                           643,\n",
            "                           1069,\n",
            "                           1456,\n",
            "                           1000,\n",
            "                           937,\n",
            "                           463,\n",
            "                           553,\n",
            "                           1110,\n",
            "                           1361,\n",
            "                           1066,\n",
            "                           590,\n",
            "                           669,\n",
            "                           1461,\n",
            "                           522,\n",
            "                           1416,\n",
            "                           240,\n",
            "                           1387,\n",
            "                           1210,\n",
            "                           1131,\n",
            "                           764,\n",
            "                           135,\n",
            "                           1246,\n",
            "                           485,\n",
            "                           476,\n",
            "                           1443,\n",
            "                           1112,\n",
            "                           631,\n",
            "                           1354,\n",
            "                           842,\n",
            "                           56,\n",
            "                           567,\n",
            "                           896,\n",
            "                           397,\n",
            "                           1243,\n",
            "                           372,\n",
            "                           523,\n",
            "                           608,\n",
            "                           279,\n",
            "                           777,\n",
            "                           1006,\n",
            "                           1189,\n",
            "                           629,\n",
            "                           951,\n",
            "                           1341,\n",
            "                           1090,\n",
            "                           568,\n",
            "                           517,\n",
            "                           398,\n",
            "                           1134,\n",
            "                           1359,\n",
            "                           857,\n",
            "                           1149,\n",
            "                           455,\n",
            "                           483,\n",
            "                           1160,\n",
            "                           1174,\n",
            "                           770,\n",
            "                           1221,\n",
            "                           1311,\n",
            "                           558,\n",
            "                           304,\n",
            "                           1219,\n",
            "                           1,\n",
            "                           392,\n",
            "                           17,\n",
            "                           110,\n",
            "                           289,\n",
            "                           554,\n",
            "                           1015,\n",
            "                           814,\n",
            "                           1100,\n",
            "                           2,\n",
            "                           561,\n",
            "                           982,\n",
            "                           132,\n",
            "                           223,\n",
            "                           602,\n",
            "                           358,\n",
            "                           1347,\n",
            "                           1356,\n",
            "                           439,\n",
            "                           1441,\n",
            "                           746,\n",
            "                           535,\n",
            "                           1336,\n",
            "                           772,\n",
            "                           559,\n",
            "                           1080,\n",
            "                           1318,\n",
            "                           359,\n",
            "                           728,\n",
            "                           808,\n",
            "                           82,\n",
            "                           1430,\n",
            "                           783,\n",
            "                           550,\n",
            "                           927,\n",
            "                           723,\n",
            "                           620,\n",
            "                           328,\n",
            "                           1279,\n",
            "                           573,\n",
            "                           104,\n",
            "                           758,\n",
            "                           20,\n",
            "                           303,\n",
            "                           354,\n",
            "                           250,\n",
            "                           1158,\n",
            "                           1317,\n",
            "                           1445,\n",
            "                           333,\n",
            "                           64,\n",
            "                           62,\n",
            "                           193,\n",
            "                           1448,\n",
            "                           220,\n",
            "                           1257,\n",
            "                           179,\n",
            "                           948,\n",
            "                           976,\n",
            "                           254,\n",
            "                           1285,\n",
            "                           1297,\n",
            "                           658,\n",
            "                           393,\n",
            "                           280,\n",
            "                           1335,\n",
            "                           644,\n",
            "                           173,\n",
            "                           943,\n",
            "                           1163,\n",
            "                           1049,\n",
            "                           624,\n",
            "                           809,\n",
            "                           598,\n",
            "                           1181,\n",
            "                           325,\n",
            "                           549,\n",
            "                           322,\n",
            "                           400,\n",
            "                           611,\n",
            "                           1394,\n",
            "                           1048,\n",
            "                           897,\n",
            "                           131,\n",
            "                           648,\n",
            "                           540,\n",
            "                           430,\n",
            "                           1284,\n",
            "                           789,\n",
            "                           1449,\n",
            "                           74,\n",
            "                           854,\n",
            "                           435,\n",
            "                           268,\n",
            "                           904,\n",
            "                           1260,\n",
            "                           47,\n",
            "                           278,\n",
            "                           737,\n",
            "                           1462,\n",
            "                           1045,\n",
            "                           856,\n",
            "                           378,\n",
            "                           1115,\n",
            "                           1119,\n",
            "                           825,\n",
            "                           195,\n",
            "                           1025,\n",
            "                           702,\n",
            "                           888,\n",
            "                           942,\n",
            "                           46,\n",
            "                           1234,\n",
            "                           1403,\n",
            "                           466,\n",
            "                           458,\n",
            "                           9,\n",
            "                           847,\n",
            "                           1402,\n",
            "                           1358,\n",
            "                           651,\n",
            "                           677,\n",
            "                           479,\n",
            "                           603,\n",
            "                           632,\n",
            "                           1044,\n",
            "                           771,\n",
            "                           306,\n",
            "                           140,\n",
            "                           1427,\n",
            "                           244,\n",
            "                           184,\n",
            "                           1070,\n",
            "                           474,\n",
            "                           931,\n",
            "                           898,\n",
            "                           606,\n",
            "                           1407,\n",
            "                           799,\n",
            "                           1135,\n",
            "                           1348,\n",
            "                           1388,\n",
            "                           849,\n",
            "                           1245,\n",
            "                           950,\n",
            "                           578,\n",
            "                           848,\n",
            "                           45,\n",
            "                           450,\n",
            "                           1054,\n",
            "                           1029,\n",
            "                           580,\n",
            "                           208,\n",
            "                           1476,\n",
            "                           1127,\n",
            "                           1421,\n",
            "                           630,\n",
            "                           994,\n",
            "                           41,\n",
            "                           406,\n",
            "                           315,\n",
            "                           1183,\n",
            "                           440,\n",
            "                           317,\n",
            "                           1282,\n",
            "                           50,\n",
            "                           775,\n",
            "                           1344,\n",
            "                           1290,\n",
            "                           1211,\n",
            "                           48,\n",
            "                           530,\n",
            "                           846,\n",
            "                           68,\n",
            "                           736,\n",
            "                           660,\n",
            "                           199,\n",
            "                           490,\n",
            "                           341,\n",
            "                           228,\n",
            "                           234,\n",
            "                           524,\n",
            "                           1168,\n",
            "                           992,\n",
            "                           604,\n",
            "                           868,\n",
            "                           761,\n",
            "                           442,\n",
            "                           1371,\n",
            "                           255,\n",
            "                           762,\n",
            "                           98,\n",
            "                           1470,\n",
            "                           360,\n",
            "                           251,\n",
            "                           769,\n",
            "                           496,\n",
            "                           1425,\n",
            "                           90,\n",
            "                           375,\n",
            "                           686,\n",
            "                           1150,\n",
            "                           1019,\n",
            "                           1310,\n",
            "                           1241,\n",
            "                           123,\n",
            "                           464,\n",
            "                           1026,\n",
            "                           654,\n",
            "                           1141,\n",
            "                           652,\n",
            "                           171,\n",
            "                           1092,\n",
            "                           1419,\n",
            "                           37,\n",
            "                           839,\n",
            "                           421,\n",
            "                           326,\n",
            "                           1205,\n",
            "                           1109,\n",
            "                           1244,\n",
            "                           330,\n",
            "                           1024,\n",
            "                           166,\n",
            "                           956,\n",
            "                           72,\n",
            "                           908,\n",
            "                           725,\n",
            "                           70,\n",
            "                           344,\n",
            "                           1370,\n",
            "                           989,\n",
            "                           815,\n",
            "                           169,\n",
            "                           823,\n",
            "                           329,\n",
            "                           1326,\n",
            "                           146,\n",
            "                           1120,\n",
            "                           776,\n",
            "                           1237,\n",
            "                           970,\n",
            "                           60,\n",
            "                           858,\n",
            "                           275,\n",
            "                           125,\n",
            "                           1034,\n",
            "                           697,\n",
            "                           591,\n",
            "                           468,\n",
            "                           945,\n",
            "                           15,\n",
            "                           499,\n",
            "                           1390,\n",
            "                           730,\n",
            "                           1178,\n",
            "                           1420,\n",
            "                           918,\n",
            "                           152,\n",
            "                           301,\n",
            "                           883,\n",
            "                           43,\n",
            "                           337,\n",
            "                           1303,\n",
            "                           187,\n",
            "                           1076,\n",
            "                           1417,\n",
            "                           504,\n",
            "                           1170,\n",
            "                           1051,\n",
            "                           1128,\n",
            "                           802,\n",
            "                           284,\n",
            "                           1213,\n",
            "                           1009,\n",
            "                           659,\n",
            "                           1053,\n",
            "                           432,\n",
            "                           671,\n",
            "                           108,\n",
            "                           793,\n",
            "                           1165,\n",
            "                           89,\n",
            "                           401,\n",
            "                           137,\n",
            "                           259,\n",
            "                           719,\n",
            "                           816,\n",
            "                           1468,\n",
            "                           1272,\n",
            "                           796,\n",
            "                           544,\n",
            "                           258,\n",
            "                           1052,\n",
            "                           564,\n",
            "                           722,\n",
            "                           122,\n",
            "                           1259,\n",
            "                           363,\n",
            "                           995,\n",
            "                           1306,\n",
            "                           226,\n",
            "                           188,\n",
            "                           1346,\n",
            "                           111,\n",
            "                           616,\n",
            "                           633,\n",
            "                           1437,\n",
            "                           548,\n",
            "                           1017,\n",
            "                           165,\n",
            "                           1104,\n",
            "                           318,\n",
            "                           34,\n",
            "                           42,\n",
            "                           160,\n",
            "                           1412,\n",
            "                           339,\n",
            "                           1353,\n",
            "                           446,\n",
            "                           1124,\n",
            "                           900,\n",
            "                           1463,\n",
            "                           663,\n",
            "                           176,\n",
            "                           760,\n",
            "                           1283,\n",
            "                           864,\n",
            "                           1315,\n",
            "                           1408,\n",
            "                           1376,\n",
            "                           1298,\n",
            "                           1270,\n",
            "                           1399,\n",
            "                           501,\n",
            "                           1133,\n",
            "                           377,\n",
            "                           119,\n",
            "                           645,\n",
            "                           625,\n",
            "                           355,\n",
            "                           800,\n",
            "                           503,\n",
            "                           1434,\n",
            "                           1083,\n",
            "                           1362,\n",
            "                           975,\n",
            "                           1432,\n",
            "                           666,\n",
            "                           105,\n",
            "                           687,\n",
            "                           1041,\n",
            "                           5,\n",
            "                           1056,\n",
            "                           67,\n",
            "                           585,\n",
            "                           562,\n",
            "                           1435,\n",
            "                           1095,\n",
            "                           1339,\n",
            "                           1255,\n",
            "                           13,\n",
            "                           492,\n",
            "                           451,\n",
            "                           1007,\n",
            "                           768,\n",
            "                           1238,\n",
            "                           1343,\n",
            "                           309,\n",
            "                           1410,\n",
            "                           745,\n",
            "                           391,\n",
            "                           1385,\n",
            "                           269,\n",
            "                           1453,\n",
            "                           1458,\n",
            "                           449,\n",
            "                           1085,\n",
            "                           197,\n",
            "                           998,\n",
            "                           57,\n",
            "                           599,\n",
            "                           1267,\n",
            "                           61,\n",
            "                           202,\n",
            "                           348,\n",
            "                           1363,\n",
            "                           247,\n",
            "                           703,\n",
            "                           638,\n",
            "                           711,\n",
            "                           469,\n",
            "                           102,\n",
            "                           262,\n",
            "                           691,\n",
            "                           1391,\n",
            "                           1117,\n",
            "                           957,\n",
            "                           851,\n",
            "                           1477,\n",
            "                           382,\n",
            "                           832,\n",
            "                           1030,\n",
            "                           750,\n",
            "                           433,\n",
            "                           966,\n",
            "                           217,\n",
            "                           751,\n",
            "                           413,\n",
            "                           780,\n",
            "                           657,\n",
            "                           899,\n",
            "                           1175,\n",
            "                           649,\n",
            "                           747,\n",
            "                           1329,\n",
            "                           672,\n",
            "                           133,\n",
            "                           885,\n",
            "                           861,\n",
            "                           203,\n",
            "                           141,\n",
            "                           656,\n",
            "                           1450,\n",
            "                           1411,\n",
            "                           588,\n",
            "                           520,\n",
            "                           403,\n",
            "                           1342,\n",
            "                           1116,\n",
            "                           69,\n",
            "                           925,\n",
            "                           1200,\n",
            "                           1262,\n",
            "                           820,\n",
            "                           114,\n",
            "                           1172,\n",
            "                           1323,\n",
            "                           150,\n",
            "                           1148,\n",
            "                           323,\n",
            "                           1192,\n",
            "                           1451,\n",
            "                           103,\n",
            "                           811,\n",
            "                           794,\n",
            "                           1162,\n",
            "                           1138,\n",
            "                           700,\n",
            "                           729,\n",
            "                           862,\n",
            "                           717,\n",
            "                           934,\n",
            "                           126,\n",
            "                           1373,\n",
            "                           404,\n",
            "                           525,\n",
            "                           699,\n",
            "                           1466,\n",
            "                           327,\n",
            "                           224,\n",
            "                           1254,\n",
            "                           428,\n",
            "                           753,\n",
            "                           346,\n",
            "                           1058,\n",
            "                           922,\n",
            "                           453,\n",
            "                           727,\n",
            "                           1239,\n",
            "                           555,\n",
            "                           1209,\n",
            "                           1001,\n",
            "                           863,\n",
            "                           383,\n",
            "                           198,\n",
            "                           24,\n",
            "                           461,\n",
            "                           512,\n",
            "                           256,\n",
            "                           1151,\n",
            "                           986,\n",
            "                           706,\n",
            "                           1334,\n",
            "                           112,\n",
            "                           507,\n",
            "                           536,\n",
            "                           44,\n",
            "                           422,\n",
            "                           678,\n",
            "                           539,\n",
            "                           1291,\n",
            "                           386,\n",
            "                           547,\n",
            "                           1271,\n",
            "                           113,\n",
            "                           587,\n",
            "                           175,\n",
            "                           1096,\n",
            "                           84,\n",
            "                           607,\n",
            "                           1033,\n",
            "                           292,\n",
            "                           486,\n",
            "                           1423,\n",
            "                           529,\n",
            "                           1322,\n",
            "                           96,\n",
            "                           870,\n",
            "                           541,\n",
            "                           1268,\n",
            "                           1154,\n",
            "                           1274,\n",
            "                           683,\n",
            "                           345,\n",
            "                           628,\n",
            "                           1250,\n",
            "                           149,\n",
            "                           300,\n",
            "                           744,\n",
            "                           1147,\n",
            "                           640,\n",
            "                           973,\n",
            "                           298,\n",
            "                           356,\n",
            "                           889,\n",
            "                           1338,\n",
            "                           853,\n",
            "                           40,\n",
            "                           1312,\n",
            "                           83,\n",
            "                           87,\n",
            "                           29,\n",
            "                           1307,\n",
            "                           577,\n",
            "                           1440,\n",
            "                           155,\n",
            "                           787,\n",
            "                           740,\n",
            "                           1378,\n",
            "                           148,\n",
            "                           1224,\n",
            "                           835,\n",
            "                           556,\n",
            "                           364,\n",
            "                           807,\n",
            "                           759,\n",
            "                           1293,\n",
            "                           824,\n",
            "                           1037,\n",
            "                           642,\n",
            "                           867,\n",
            "                           708,\n",
            "                           296,\n",
            "                           1186,\n",
            "                           185,\n",
            "                           892,\n",
            "                           238,\n",
            "                           324,\n",
            "                           724,\n",
            "                           286,\n",
            "                           1304,\n",
            "                           237,\n",
            "                           984,\n",
            "                           1398,\n",
            "                           192,\n",
            "                           944,\n",
            "                           716,\n",
            "                           260,\n",
            "                           471,\n",
            "                           1040,\n",
            "                           1455,\n",
            "                           182,\n",
            "                           1251,\n",
            "                           231,\n",
            "                           506,\n",
            "                           101,\n",
            "                           852,\n",
            "                           936,\n",
            "                           1060,\n",
            "                           735,\n",
            "                           352,\n",
            "                           1337,\n",
            "                           480,\n",
            "                           1143,\n",
            "                           1474,\n",
            "                           116,\n",
            "                           916,\n",
            "                           1233,\n",
            "                           843,\n",
            "                           1161,\n",
            "                           181,\n",
            "                           1308,\n",
            "                           425,\n",
            "                           465,\n",
            "                           1386,\n",
            "                           417,\n",
            "                           95,\n",
            "                           1185,\n",
            "                           906,\n",
            "                           225,\n",
            "                           1396,\n",
            "                           879,\n",
            "                           394,\n",
            "                           1047,\n",
            "                           670,\n",
            "                           882,\n",
            "                           1256,\n",
            "                           637,\n",
            "                           128,\n",
            "                           487,\n",
            "                           1351,\n",
            "                           1036,\n",
            "                           935,\n",
            "                           264,\n",
            "                           894,\n",
            "                           1287,\n",
            "                           1010,\n",
            "                           990,\n",
            "                           510,\n",
            "                           312,\n",
            "                           80,\n",
            "                           100,\n",
            "                           106,\n",
            "                           963,\n",
            "                           557,\n",
            "                           340,\n",
            "                           19,\n",
            "                           774,\n",
            "                           841,\n",
            "                           1031,\n",
            "                           374,\n",
            "                           28,\n",
            "                           505,\n",
            "                           294,\n",
            "                           972,\n",
            "                           23,\n",
            "                           313,\n",
            "                           884,\n",
            "                           459,\n",
            "                           319,\n",
            "                           1190,\n",
            "                           232,\n",
            "                           617,\n",
            "                           127,\n",
            "                           946,\n",
            "                           1215,\n",
            "                           384,\n",
            "                           1042,\n",
            "                           73,\n",
            "                           509,\n",
            "                           222,\n",
            "                           347,\n",
            "                           249,\n",
            "                           214,\n",
            "                           1071,\n",
            "                           571,\n",
            "                           1424,\n",
            "                           850,\n",
            "                           673,\n",
            "                           204,\n",
            "                           1118,\n",
            "                           1195,\n",
            "                           914,\n",
            "                           526,\n",
            "                           911,\n",
            "                           59,\n",
            "                           804,\n",
            "                           445,\n",
            "                           134,\n",
            "                           1184,\n",
            "                           1472,\n",
            "                           1382,\n",
            "                           682,\n",
            "                           1203,\n",
            "                           1355,\n",
            "                           387,\n",
            "                           993,\n",
            "                           366,\n",
            "                           676,\n",
            "                           997,\n",
            "                           996,\n",
            "                           773,\n",
            "                           593,\n",
            "                           467,\n",
            "                           679,\n",
            "                           519,\n",
            "                           170,\n",
            "                           1169,\n",
            "                           1046,\n",
            "                           515,\n",
            "                           790,\n",
            "                           139,\n",
            "                           161,\n",
            "                           390,\n",
            "                           1266,\n",
            "                           164,\n",
            "                           1368,\n",
            "                           680,\n",
            "                           653,\n",
            "                           484,\n",
            "                           1265,\n",
            "                           1367,\n",
            "                           1155,\n",
            "                           1228,\n",
            "                           1005,\n",
            "                           949,\n",
            "                           1032,\n",
            "                           920,\n",
            "                           402,\n",
            "                           30,\n",
            "                           1452,\n",
            "                           210,\n",
            "                           1258,\n",
            "                           370,\n",
            "                           1122,\n",
            "                           1123,\n",
            "                           756,\n",
            "                           596,\n",
            "                           376,\n",
            "                           1431,\n",
            "                           718,\n",
            "                           54,\n",
            "                           1305,\n",
            "                           979,\n",
            "                           690,\n",
            "                           595,\n",
            "                           205,\n",
            "                           107,\n",
            "                           66,\n",
            "                           1125,\n",
            "                           4,\n",
            "                           1002,\n",
            "                           661,\n",
            "                           336,\n",
            "                           1471,\n",
            "                           491,\n",
            "                           1202,\n",
            "                           288,\n",
            "                           1330,\n",
            "                           803,\n",
            "                           349,\n",
            "                           731,\n",
            "                           958,\n",
            "                           1320,\n",
            "                           55,\n",
            "                           3,\n",
            "                           16,\n",
            "                           689,\n",
            "                           1327,\n",
            "                           239,\n",
            "                           320,\n",
            "                           1442,\n",
            "                           498,\n",
            "                           930,\n",
            "                           118,\n",
            "                           456,\n",
            "                           924,\n",
            "                           873,\n",
            "                           99,\n",
            "                           910,\n",
            "                           1012,\n",
            "                           39,\n",
            "                           1020,\n",
            "                           964,\n",
            "                           500,\n",
            "                           81,\n",
            "                           655,\n",
            "                           965,\n",
            "                           1264,\n",
            "                           818,\n",
            "                           353,\n",
            "                           1401,\n",
            "                           939,\n",
            "                           75,\n",
            "                           411,\n",
            "                           597,\n",
            "                           741,\n",
            "                           742,\n",
            "                           543,\n",
            "                           1225,\n",
            "                           1137,\n",
            "                           1043,\n",
            "                           1395,\n",
            "                           1079,\n",
            "                           932,\n",
            "                           1275,\n",
            "                           662,\n",
            "                           1011,\n",
            "                           586,\n",
            "                           1357,\n",
            "                           738,\n",
            "                           983,\n",
            "                           1097,\n",
            "                           1022,\n",
            "                           12,\n",
            "                           1229,\n",
            "                           1439,\n",
            "                           180,\n",
            "                           52,\n",
            "                           1415,\n",
            "                           144,\n",
            "                           1106,\n",
            "                           755,\n",
            "                           665,\n",
            "                           650,\n",
            "                           855,\n",
            "                           1292,\n",
            "                           1099,\n",
            "                           743,\n",
            "                           1247,\n",
            "                           143,\n",
            "                           710,\n",
            "                           1249,\n",
            "                           206,\n",
            "                           462,\n",
            "                           494,\n",
            "                           93,\n",
            "                           1393,\n",
            "                           1003,\n",
            "                           1114,\n",
            "                           408,\n",
            "                           1340,\n",
            "                           980,\n",
            "                           1077,\n",
            "                           1302,\n",
            "                           117,\n",
            "                           895,\n",
            "                           575,\n",
            "                           786,\n",
            "                           968,\n",
            "                           10,\n",
            "                           302,\n",
            "                           533,\n",
            "                           1008,\n",
            "                           977,\n",
            "                           1156,\n",
            "                           1055,\n",
            "                           1276,\n",
            "                           785,\n",
            "                           361,\n",
            "                           157,\n",
            "                           1018,\n",
            "                           191,\n",
            "                           635,\n",
            "                           1332,\n",
            "                           954,\n",
            "                           426,\n",
            "                           242,\n",
            "                           1101,\n",
            "                           212,\n",
            "                           1223,\n",
            "                           11,\n",
            "                           1062,\n",
            "                           971,\n",
            "                           1242,\n",
            "                           293,\n",
            "                           1027,\n",
            "                           1295,\n",
            "                           721,\n",
            "                           434,\n",
            "                           688,\n",
            "                           1140,\n",
            "                           1016,\n",
            "                           414,\n",
            "                           252,\n",
            "                           511,\n",
            "                           969,\n",
            "                           162,\n",
            "                           1145,\n",
            "                           622,\n",
            "                           177,\n",
            "                           1039,\n",
            "                           639,\n",
            "                           1188,\n",
            "                           14,\n",
            "                           813,\n",
            "                           1380,\n",
            "                           65,\n",
            "                           513,\n",
            "                           1057,\n",
            "                           601,\n",
            "                           1121,\n",
            "                           1465,\n",
            "                           1067,\n",
            "                           647,\n",
            "                           1152,\n",
            "                           615,\n",
            "                           1193,\n",
            "                           881,\n",
            "                           283,\n",
            "                           405,\n",
            "                           1084,\n",
            "                           1214,\n",
            "                           694,\n",
            "                           381,\n",
            "                           560,\n",
            "                           186,\n",
            "                           521,\n",
            "                           1409,\n",
            "                           489,\n",
            "                           782,\n",
            "                           287,\n",
            "                           151,\n",
            "                           869,\n",
            "                           1405,\n",
            "                           720,\n",
            "                           542,\n",
            "                           1218,\n",
            "                           955,\n",
            "                           1014,\n",
            "                           991,\n",
            "                           407,\n",
            "                           1028,\n",
            "                           1232,\n",
            "                           497,\n",
            "                           219,\n",
            "                           273,\n",
            "                           1087,\n",
            "                           1464,\n",
            "                           367,\n",
            "                           765,\n",
            "                           1164,\n",
            "                           209,\n",
            "                           610,\n",
            "                           876,\n",
            "                           827,\n",
            "                           612,\n",
            "                           967,\n",
            "                           528,\n",
            "                           641,\n",
            "                           1460,\n",
            "                           1446,\n",
            "                           412,\n",
            "                           51,\n",
            "                           274,\n",
            "                           1422,\n",
            "                           1061,\n",
            "                           732,\n",
            "                           684,\n",
            "                           1333,\n",
            "                           565,\n",
            "                           1173,\n",
            "                           901,\n",
            "                           1314,\n",
            "                           917,\n",
            "                           1050,\n",
            "                           115,\n",
            "                           1273,\n",
            "                           829,\n",
            "                           664,\n",
            "                           297,\n",
            "                           1366,\n",
            "                           1269,\n",
            "                           1021,\n",
            "                           905,\n",
            "                           454,\n",
            "                           194,\n",
            "                           308,\n",
            "                           18,\n",
            "                           457,\n",
            "                           109,\n",
            "                           988,\n",
            "                           1144,\n",
            "                           1383,\n",
            "                           1180,\n",
            "                           399,\n",
            "                           475,\n",
            "                           589,\n",
            "                           444,\n",
            "                           379,\n",
            "                           819,\n",
            "                           887,\n",
            "                           350,\n",
            "                           1319,\n",
            "                           734,\n",
            "                           1153,\n",
            "                           1132,\n",
            "                           709,\n",
            "                           781,\n",
            "                           834,\n",
            "                           216,\n",
            "                           754,\n",
            "                           926,\n",
            "                           572,\n",
            "                           136,\n",
            "                           1294,\n",
            "                           646,\n",
            "                           1220,\n",
            "                           1142,\n",
            "                           438,\n",
            "                           614,\n",
            "                           1389,\n",
            "                           749,\n",
            "                           1248,\n",
            "                           810,\n",
            "                           1089,\n",
            "                           833,\n",
            "                           940,\n",
            "                           913,\n",
            "                           1065,\n",
            "                           189,\n",
            "                           878,\n",
            "                           962,\n",
            "                           1159,\n",
            "                           1088,\n",
            "                           423,\n",
            "                           1397,\n",
            "                           229,\n",
            "                           1081,\n",
            "                           583,\n",
            "                           618,\n",
            "                           701,\n",
            "                           63,\n",
            "                           211,\n",
            "                           698,\n",
            "                           22,\n",
            "                           38,\n",
            "                           282,\n",
            "                           1286,\n",
            "                           838]},\n",
            " 'valid_set': {'class': 'dataset.Subset',\n",
            "               'dataset': {'class': 'datasets.ClinTox',\n",
            "                           'path': '~/molecule-datasets/',\n",
            "                           'verbose': 1},\n",
            "               'indices': [1208,\n",
            "                           1074,\n",
            "                           532,\n",
            "                           1375,\n",
            "                           886,\n",
            "                           909,\n",
            "                           88,\n",
            "                           32,\n",
            "                           667,\n",
            "                           473,\n",
            "                           502,\n",
            "                           427,\n",
            "                           1406,\n",
            "                           431,\n",
            "                           891,\n",
            "                           1418,\n",
            "                           726,\n",
            "                           1157,\n",
            "                           1197,\n",
            "                           8,\n",
            "                           713,\n",
            "                           36,\n",
            "                           1059,\n",
            "                           447,\n",
            "                           338,\n",
            "                           437,\n",
            "                           752,\n",
            "                           172,\n",
            "                           314,\n",
            "                           570,\n",
            "                           196,\n",
            "                           342,\n",
            "                           429,\n",
            "                           1126,\n",
            "                           351,\n",
            "                           974,\n",
            "                           1216,\n",
            "                           120,\n",
            "                           190,\n",
            "                           311,\n",
            "                           1459,\n",
            "                           357,\n",
            "                           1413,\n",
            "                           1073,\n",
            "                           1392,\n",
            "                           156,\n",
            "                           919,\n",
            "                           748,\n",
            "                           235,\n",
            "                           865,\n",
            "                           58,\n",
            "                           369,\n",
            "                           1316,\n",
            "                           1035,\n",
            "                           478,\n",
            "                           1253,\n",
            "                           236,\n",
            "                           79,\n",
            "                           7,\n",
            "                           1094,\n",
            "                           1139,\n",
            "                           1436,\n",
            "                           545,\n",
            "                           1227,\n",
            "                           1004,\n",
            "                           253,\n",
            "                           1281,\n",
            "                           836,\n",
            "                           335,\n",
            "                           627,\n",
            "                           1438,\n",
            "                           1299,\n",
            "                           1064,\n",
            "                           270,\n",
            "                           778,\n",
            "                           705,\n",
            "                           1252,\n",
            "                           1280,\n",
            "                           1469,\n",
            "                           923,\n",
            "                           420,\n",
            "                           493,\n",
            "                           831,\n",
            "                           574,\n",
            "                           1187,\n",
            "                           53,\n",
            "                           1191,\n",
            "                           448,\n",
            "                           481,\n",
            "                           668,\n",
            "                           1226,\n",
            "                           1301,\n",
            "                           1013,\n",
            "                           159,\n",
            "                           508,\n",
            "                           953,\n",
            "                           415,\n",
            "                           840,\n",
            "                           332,\n",
            "                           518,\n",
            "                           482,\n",
            "                           981,\n",
            "                           307,\n",
            "                           1426,\n",
            "                           767,\n",
            "                           1078,\n",
            "                           410,\n",
            "                           1222,\n",
            "                           569,\n",
            "                           71,\n",
            "                           1177,\n",
            "                           1230,\n",
            "                           266,\n",
            "                           77,\n",
            "                           94,\n",
            "                           696,\n",
            "                           129,\n",
            "                           551,\n",
            "                           1171,\n",
            "                           1194,\n",
            "                           681,\n",
            "                           1129,\n",
            "                           581,\n",
            "                           495,\n",
            "                           1331,\n",
            "                           86,\n",
            "                           261,\n",
            "                           248,\n",
            "                           436,\n",
            "                           0,\n",
            "                           215,\n",
            "                           1263,\n",
            "                           1349,\n",
            "                           1176,\n",
            "                           594,\n",
            "                           1130,\n",
            "                           35,\n",
            "                           685,\n",
            "                           1360,\n",
            "                           826,\n",
            "                           959,\n",
            "                           877,\n",
            "                           200,\n",
            "                           263,\n",
            "                           365,\n",
            "                           1136,\n",
            "                           1212]}}\n"
          ]
        },
        {
          "output_type": "stream",
          "name": "stdout",
          "text": [
            "22:31:27   {'batch_size': 1024,\n",
            " 'class': 'core.Engine',\n",
            " 'gpus': [0],\n",
            " 'gradient_interval': 1,\n",
            " 'log_interval': 100,\n",
            " 'logger': 'logging',\n",
            " 'num_worker': 0,\n",
            " 'optimizer': {'amsgrad': False,\n",
            "               'betas': (0.9, 0.999),\n",
            "               'capturable': False,\n",
            "               'class': 'optim.Adam',\n",
            "               'eps': 1e-08,\n",
            "               'foreach': None,\n",
            "               'lr': 0.0001,\n",
            "               'maximize': False,\n",
            "               'weight_decay': 0},\n",
            " 'scheduler': None,\n",
            " 'task': {'class': 'tasks.PropertyPrediction',\n",
            "          'criterion': 'bce',\n",
            "          'graph_construction_model': None,\n",
            "          'metric': ('auprc', 'auroc'),\n",
            "          'model': {'activation': 'relu',\n",
            "                    'batch_norm': True,\n",
            "                    'class': 'models.GIN',\n",
            "                    'concat_hidden': True,\n",
            "                    'edge_input_dim': None,\n",
            "                    'eps': 0,\n",
            "                    'hidden_dims': [256, 256, 256, 256],\n",
            "                    'input_dim': 66,\n",
            "                    'learn_eps': False,\n",
            "                    'num_mlp_layer': 2,\n",
            "                    'readout': 'sum',\n",
            "                    'short_cut': True},\n",
            "          'normalization': True,\n",
            "          'num_class': None,\n",
            "          'num_mlp_layer': 1,\n",
            "          'task': ['FDA_APPROVED', 'CT_TOX'],\n",
            "          'verbose': 0},\n",
            " 'test_set': {'class': 'dataset.Subset',\n",
            "              'dataset': {'class': 'datasets.ClinTox',\n",
            "                          'path': '~/molecule-datasets/',\n",
            "                          'verbose': 1},\n",
            "              'indices': [623,\n",
            "                          830,\n",
            "                          424,\n",
            "                          316,\n",
            "                          272,\n",
            "                          1204,\n",
            "                          1324,\n",
            "                          566,\n",
            "                          837,\n",
            "                          373,\n",
            "                          1206,\n",
            "                          798,\n",
            "                          1102,\n",
            "                          1231,\n",
            "                          960,\n",
            "                          49,\n",
            "                          1365,\n",
            "                          305,\n",
            "                          257,\n",
            "                          477,\n",
            "                          1345,\n",
            "                          167,\n",
            "                          1166,\n",
            "                          488,\n",
            "                          1201,\n",
            "                          1063,\n",
            "                          674,\n",
            "                          168,\n",
            "                          1364,\n",
            "                          1328,\n",
            "                          441,\n",
            "                          875,\n",
            "                          576,\n",
            "                          1457,\n",
            "                          1444,\n",
            "                          124,\n",
            "                          271,\n",
            "                          999,\n",
            "                          147,\n",
            "                          903,\n",
            "                          396,\n",
            "                          707,\n",
            "                          1352,\n",
            "                          636,\n",
            "                          1404,\n",
            "                          915,\n",
            "                          693,\n",
            "                          605,\n",
            "                          1236,\n",
            "                          285,\n",
            "                          695,\n",
            "                          130,\n",
            "                          267,\n",
            "                          1467,\n",
            "                          792,\n",
            "                          921,\n",
            "                          1091,\n",
            "                          25,\n",
            "                          241,\n",
            "                          27,\n",
            "                          552,\n",
            "                          582,\n",
            "                          757,\n",
            "                          821,\n",
            "                          844,\n",
            "                          1086,\n",
            "                          947,\n",
            "                          97,\n",
            "                          1372,\n",
            "                          788,\n",
            "                          1475,\n",
            "                          1198,\n",
            "                          470,\n",
            "                          443,\n",
            "                          1454,\n",
            "                          961,\n",
            "                          6,\n",
            "                          213,\n",
            "                          201,\n",
            "                          579,\n",
            "                          1261,\n",
            "                          1038,\n",
            "                          907,\n",
            "                          1105,\n",
            "                          763,\n",
            "                          1473,\n",
            "                          1023,\n",
            "                          145,\n",
            "                          1196,\n",
            "                          419,\n",
            "                          207,\n",
            "                          514,\n",
            "                          619,\n",
            "                          1350,\n",
            "                          1107,\n",
            "                          121,\n",
            "                          1321,\n",
            "                          712,\n",
            "                          76,\n",
            "                          739,\n",
            "                          1240,\n",
            "                          1379,\n",
            "                          299,\n",
            "                          389,\n",
            "                          715,\n",
            "                          1288,\n",
            "                          538,\n",
            "                          1108,\n",
            "                          310,\n",
            "                          613,\n",
            "                          859,\n",
            "                          138,\n",
            "                          21,\n",
            "                          1428,\n",
            "                          621,\n",
            "                          893,\n",
            "                          1207,\n",
            "                          1093,\n",
            "                          31,\n",
            "                          534,\n",
            "                          418,\n",
            "                          265,\n",
            "                          1433,\n",
            "                          334,\n",
            "                          343,\n",
            "                          295,\n",
            "                          812,\n",
            "                          472,\n",
            "                          416,\n",
            "                          626,\n",
            "                          233,\n",
            "                          860,\n",
            "                          592,\n",
            "                          563,\n",
            "                          154,\n",
            "                          380,\n",
            "                          1369,\n",
            "                          1374,\n",
            "                          1278,\n",
            "                          817,\n",
            "                          245,\n",
            "                          805,\n",
            "                          1113,\n",
            "                          142,\n",
            "                          1082,\n",
            "                          158,\n",
            "                          806,\n",
            "                          91,\n",
            "                          227]},\n",
            " 'train_set': {'class': 'dataset.Subset',\n",
            "               'dataset': {'class': 'datasets.ClinTox',\n",
            "                           'path': '~/molecule-datasets/',\n",
            "                           'verbose': 1},\n",
            "               'indices': [912,\n",
            "                           537,\n",
            "                           584,\n",
            "                           1146,\n",
            "                           230,\n",
            "                           801,\n",
            "                           371,\n",
            "                           1309,\n",
            "                           938,\n",
            "                           1384,\n",
            "                           460,\n",
            "                           409,\n",
            "                           890,\n",
            "                           178,\n",
            "                           874,\n",
            "                           987,\n",
            "                           872,\n",
            "                           531,\n",
            "                           692,\n",
            "                           218,\n",
            "                           163,\n",
            "                           1381,\n",
            "                           1098,\n",
            "                           221,\n",
            "                           183,\n",
            "                           1103,\n",
            "                           452,\n",
            "                           1068,\n",
            "                           1167,\n",
            "                           85,\n",
            "                           784,\n",
            "                           78,\n",
            "                           928,\n",
            "                           368,\n",
            "                           1400,\n",
            "                           321,\n",
            "                           675,\n",
            "                           33,\n",
            "                           1179,\n",
            "                           1377,\n",
            "                           527,\n",
            "                           1072,\n",
            "                           779,\n",
            "                           822,\n",
            "                           281,\n",
            "                           978,\n",
            "                           880,\n",
            "                           871,\n",
            "                           174,\n",
            "                           1111,\n",
            "                           1075,\n",
            "                           1447,\n",
            "                           941,\n",
            "                           985,\n",
            "                           1235,\n",
            "                           1199,\n",
            "                           153,\n",
            "                           331,\n",
            "                           546,\n",
            "                           1313,\n",
            "                           26,\n",
            "                           704,\n",
            "                           395,\n",
            "                           290,\n",
            "                           797,\n",
            "                           933,\n",
            "                           600,\n",
            "                           866,\n",
            "                           1277,\n",
            "                           92,\n",
            "                           276,\n",
            "                           791,\n",
            "                           845,\n",
            "                           362,\n",
            "                           1325,\n",
            "                           733,\n",
            "                           385,\n",
            "                           1217,\n",
            "                           766,\n",
            "                           1182,\n",
            "                           388,\n",
            "                           1429,\n",
            "                           828,\n",
            "                           952,\n",
            "                           902,\n",
            "                           1414,\n",
            "                           1289,\n",
            "                           795,\n",
            "                           291,\n",
            "                           1296,\n",
            "                           609,\n",
            "                           1300,\n",
            "                           929,\n",
            "                           277,\n",
            "                           634,\n",
            "                           246,\n",
            "                           243,\n",
            "                           516,\n",
            "                           714,\n",
            "                           643,\n",
            "                           1069,\n",
            "                           1456,\n",
            "                           1000,\n",
            "                           937,\n",
            "                           463,\n",
            "                           553,\n",
            "                           1110,\n",
            "                           1361,\n",
            "                           1066,\n",
            "                           590,\n",
            "                           669,\n",
            "                           1461,\n",
            "                           522,\n",
            "                           1416,\n",
            "                           240,\n",
            "                           1387,\n",
            "                           1210,\n",
            "                           1131,\n",
            "                           764,\n",
            "                           135,\n",
            "                           1246,\n",
            "                           485,\n",
            "                           476,\n",
            "                           1443,\n",
            "                           1112,\n",
            "                           631,\n",
            "                           1354,\n",
            "                           842,\n",
            "                           56,\n",
            "                           567,\n",
            "                           896,\n",
            "                           397,\n",
            "                           1243,\n",
            "                           372,\n",
            "                           523,\n",
            "                           608,\n",
            "                           279,\n",
            "                           777,\n",
            "                           1006,\n",
            "                           1189,\n",
            "                           629,\n",
            "                           951,\n",
            "                           1341,\n",
            "                           1090,\n",
            "                           568,\n",
            "                           517,\n",
            "                           398,\n",
            "                           1134,\n",
            "                           1359,\n",
            "                           857,\n",
            "                           1149,\n",
            "                           455,\n",
            "                           483,\n",
            "                           1160,\n",
            "                           1174,\n",
            "                           770,\n",
            "                           1221,\n",
            "                           1311,\n",
            "                           558,\n",
            "                           304,\n",
            "                           1219,\n",
            "                           1,\n",
            "                           392,\n",
            "                           17,\n",
            "                           110,\n",
            "                           289,\n",
            "                           554,\n",
            "                           1015,\n",
            "                           814,\n",
            "                           1100,\n",
            "                           2,\n",
            "                           561,\n",
            "                           982,\n",
            "                           132,\n",
            "                           223,\n",
            "                           602,\n",
            "                           358,\n",
            "                           1347,\n",
            "                           1356,\n",
            "                           439,\n",
            "                           1441,\n",
            "                           746,\n",
            "                           535,\n",
            "                           1336,\n",
            "                           772,\n",
            "                           559,\n",
            "                           1080,\n",
            "                           1318,\n",
            "                           359,\n",
            "                           728,\n",
            "                           808,\n",
            "                           82,\n",
            "                           1430,\n",
            "                           783,\n",
            "                           550,\n",
            "                           927,\n",
            "                           723,\n",
            "                           620,\n",
            "                           328,\n",
            "                           1279,\n",
            "                           573,\n",
            "                           104,\n",
            "                           758,\n",
            "                           20,\n",
            "                           303,\n",
            "                           354,\n",
            "                           250,\n",
            "                           1158,\n",
            "                           1317,\n",
            "                           1445,\n",
            "                           333,\n",
            "                           64,\n",
            "                           62,\n",
            "                           193,\n",
            "                           1448,\n",
            "                           220,\n",
            "                           1257,\n",
            "                           179,\n",
            "                           948,\n",
            "                           976,\n",
            "                           254,\n",
            "                           1285,\n",
            "                           1297,\n",
            "                           658,\n",
            "                           393,\n",
            "                           280,\n",
            "                           1335,\n",
            "                           644,\n",
            "                           173,\n",
            "                           943,\n",
            "                           1163,\n",
            "                           1049,\n",
            "                           624,\n",
            "                           809,\n",
            "                           598,\n",
            "                           1181,\n",
            "                           325,\n",
            "                           549,\n",
            "                           322,\n",
            "                           400,\n",
            "                           611,\n",
            "                           1394,\n",
            "                           1048,\n",
            "                           897,\n",
            "                           131,\n",
            "                           648,\n",
            "                           540,\n",
            "                           430,\n",
            "                           1284,\n",
            "                           789,\n",
            "                           1449,\n",
            "                           74,\n",
            "                           854,\n",
            "                           435,\n",
            "                           268,\n",
            "                           904,\n",
            "                           1260,\n",
            "                           47,\n",
            "                           278,\n",
            "                           737,\n",
            "                           1462,\n",
            "                           1045,\n",
            "                           856,\n",
            "                           378,\n",
            "                           1115,\n",
            "                           1119,\n",
            "                           825,\n",
            "                           195,\n",
            "                           1025,\n",
            "                           702,\n",
            "                           888,\n",
            "                           942,\n",
            "                           46,\n",
            "                           1234,\n",
            "                           1403,\n",
            "                           466,\n",
            "                           458,\n",
            "                           9,\n",
            "                           847,\n",
            "                           1402,\n",
            "                           1358,\n",
            "                           651,\n",
            "                           677,\n",
            "                           479,\n",
            "                           603,\n",
            "                           632,\n",
            "                           1044,\n",
            "                           771,\n",
            "                           306,\n",
            "                           140,\n",
            "                           1427,\n",
            "                           244,\n",
            "                           184,\n",
            "                           1070,\n",
            "                           474,\n",
            "                           931,\n",
            "                           898,\n",
            "                           606,\n",
            "                           1407,\n",
            "                           799,\n",
            "                           1135,\n",
            "                           1348,\n",
            "                           1388,\n",
            "                           849,\n",
            "                           1245,\n",
            "                           950,\n",
            "                           578,\n",
            "                           848,\n",
            "                           45,\n",
            "                           450,\n",
            "                           1054,\n",
            "                           1029,\n",
            "                           580,\n",
            "                           208,\n",
            "                           1476,\n",
            "                           1127,\n",
            "                           1421,\n",
            "                           630,\n",
            "                           994,\n",
            "                           41,\n",
            "                           406,\n",
            "                           315,\n",
            "                           1183,\n",
            "                           440,\n",
            "                           317,\n",
            "                           1282,\n",
            "                           50,\n",
            "                           775,\n",
            "                           1344,\n",
            "                           1290,\n",
            "                           1211,\n",
            "                           48,\n",
            "                           530,\n",
            "                           846,\n",
            "                           68,\n",
            "                           736,\n",
            "                           660,\n",
            "                           199,\n",
            "                           490,\n",
            "                           341,\n",
            "                           228,\n",
            "                           234,\n",
            "                           524,\n",
            "                           1168,\n",
            "                           992,\n",
            "                           604,\n",
            "                           868,\n",
            "                           761,\n",
            "                           442,\n",
            "                           1371,\n",
            "                           255,\n",
            "                           762,\n",
            "                           98,\n",
            "                           1470,\n",
            "                           360,\n",
            "                           251,\n",
            "                           769,\n",
            "                           496,\n",
            "                           1425,\n",
            "                           90,\n",
            "                           375,\n",
            "                           686,\n",
            "                           1150,\n",
            "                           1019,\n",
            "                           1310,\n",
            "                           1241,\n",
            "                           123,\n",
            "                           464,\n",
            "                           1026,\n",
            "                           654,\n",
            "                           1141,\n",
            "                           652,\n",
            "                           171,\n",
            "                           1092,\n",
            "                           1419,\n",
            "                           37,\n",
            "                           839,\n",
            "                           421,\n",
            "                           326,\n",
            "                           1205,\n",
            "                           1109,\n",
            "                           1244,\n",
            "                           330,\n",
            "                           1024,\n",
            "                           166,\n",
            "                           956,\n",
            "                           72,\n",
            "                           908,\n",
            "                           725,\n",
            "                           70,\n",
            "                           344,\n",
            "                           1370,\n",
            "                           989,\n",
            "                           815,\n",
            "                           169,\n",
            "                           823,\n",
            "                           329,\n",
            "                           1326,\n",
            "                           146,\n",
            "                           1120,\n",
            "                           776,\n",
            "                           1237,\n",
            "                           970,\n",
            "                           60,\n",
            "                           858,\n",
            "                           275,\n",
            "                           125,\n",
            "                           1034,\n",
            "                           697,\n",
            "                           591,\n",
            "                           468,\n",
            "                           945,\n",
            "                           15,\n",
            "                           499,\n",
            "                           1390,\n",
            "                           730,\n",
            "                           1178,\n",
            "                           1420,\n",
            "                           918,\n",
            "                           152,\n",
            "                           301,\n",
            "                           883,\n",
            "                           43,\n",
            "                           337,\n",
            "                           1303,\n",
            "                           187,\n",
            "                           1076,\n",
            "                           1417,\n",
            "                           504,\n",
            "                           1170,\n",
            "                           1051,\n",
            "                           1128,\n",
            "                           802,\n",
            "                           284,\n",
            "                           1213,\n",
            "                           1009,\n",
            "                           659,\n",
            "                           1053,\n",
            "                           432,\n",
            "                           671,\n",
            "                           108,\n",
            "                           793,\n",
            "                           1165,\n",
            "                           89,\n",
            "                           401,\n",
            "                           137,\n",
            "                           259,\n",
            "                           719,\n",
            "                           816,\n",
            "                           1468,\n",
            "                           1272,\n",
            "                           796,\n",
            "                           544,\n",
            "                           258,\n",
            "                           1052,\n",
            "                           564,\n",
            "                           722,\n",
            "                           122,\n",
            "                           1259,\n",
            "                           363,\n",
            "                           995,\n",
            "                           1306,\n",
            "                           226,\n",
            "                           188,\n",
            "                           1346,\n",
            "                           111,\n",
            "                           616,\n",
            "                           633,\n",
            "                           1437,\n",
            "                           548,\n",
            "                           1017,\n",
            "                           165,\n",
            "                           1104,\n",
            "                           318,\n",
            "                           34,\n",
            "                           42,\n",
            "                           160,\n",
            "                           1412,\n",
            "                           339,\n",
            "                           1353,\n",
            "                           446,\n",
            "                           1124,\n",
            "                           900,\n",
            "                           1463,\n",
            "                           663,\n",
            "                           176,\n",
            "                           760,\n",
            "                           1283,\n",
            "                           864,\n",
            "                           1315,\n",
            "                           1408,\n",
            "                           1376,\n",
            "                           1298,\n",
            "                           1270,\n",
            "                           1399,\n",
            "                           501,\n",
            "                           1133,\n",
            "                           377,\n",
            "                           119,\n",
            "                           645,\n",
            "                           625,\n",
            "                           355,\n",
            "                           800,\n",
            "                           503,\n",
            "                           1434,\n",
            "                           1083,\n",
            "                           1362,\n",
            "                           975,\n",
            "                           1432,\n",
            "                           666,\n",
            "                           105,\n",
            "                           687,\n",
            "                           1041,\n",
            "                           5,\n",
            "                           1056,\n",
            "                           67,\n",
            "                           585,\n",
            "                           562,\n",
            "                           1435,\n",
            "                           1095,\n",
            "                           1339,\n",
            "                           1255,\n",
            "                           13,\n",
            "                           492,\n",
            "                           451,\n",
            "                           1007,\n",
            "                           768,\n",
            "                           1238,\n",
            "                           1343,\n",
            "                           309,\n",
            "                           1410,\n",
            "                           745,\n",
            "                           391,\n",
            "                           1385,\n",
            "                           269,\n",
            "                           1453,\n",
            "                           1458,\n",
            "                           449,\n",
            "                           1085,\n",
            "                           197,\n",
            "                           998,\n",
            "                           57,\n",
            "                           599,\n",
            "                           1267,\n",
            "                           61,\n",
            "                           202,\n",
            "                           348,\n",
            "                           1363,\n",
            "                           247,\n",
            "                           703,\n",
            "                           638,\n",
            "                           711,\n",
            "                           469,\n",
            "                           102,\n",
            "                           262,\n",
            "                           691,\n",
            "                           1391,\n",
            "                           1117,\n",
            "                           957,\n",
            "                           851,\n",
            "                           1477,\n",
            "                           382,\n",
            "                           832,\n",
            "                           1030,\n",
            "                           750,\n",
            "                           433,\n",
            "                           966,\n",
            "                           217,\n",
            "                           751,\n",
            "                           413,\n",
            "                           780,\n",
            "                           657,\n",
            "                           899,\n",
            "                           1175,\n",
            "                           649,\n",
            "                           747,\n",
            "                           1329,\n",
            "                           672,\n",
            "                           133,\n",
            "                           885,\n",
            "                           861,\n",
            "                           203,\n",
            "                           141,\n",
            "                           656,\n",
            "                           1450,\n",
            "                           1411,\n",
            "                           588,\n",
            "                           520,\n",
            "                           403,\n",
            "                           1342,\n",
            "                           1116,\n",
            "                           69,\n",
            "                           925,\n",
            "                           1200,\n",
            "                           1262,\n",
            "                           820,\n",
            "                           114,\n",
            "                           1172,\n",
            "                           1323,\n",
            "                           150,\n",
            "                           1148,\n",
            "                           323,\n",
            "                           1192,\n",
            "                           1451,\n",
            "                           103,\n",
            "                           811,\n",
            "                           794,\n",
            "                           1162,\n",
            "                           1138,\n",
            "                           700,\n",
            "                           729,\n",
            "                           862,\n",
            "                           717,\n",
            "                           934,\n",
            "                           126,\n",
            "                           1373,\n",
            "                           404,\n",
            "                           525,\n",
            "                           699,\n",
            "                           1466,\n",
            "                           327,\n",
            "                           224,\n",
            "                           1254,\n",
            "                           428,\n",
            "                           753,\n",
            "                           346,\n",
            "                           1058,\n",
            "                           922,\n",
            "                           453,\n",
            "                           727,\n",
            "                           1239,\n",
            "                           555,\n",
            "                           1209,\n",
            "                           1001,\n",
            "                           863,\n",
            "                           383,\n",
            "                           198,\n",
            "                           24,\n",
            "                           461,\n",
            "                           512,\n",
            "                           256,\n",
            "                           1151,\n",
            "                           986,\n",
            "                           706,\n",
            "                           1334,\n",
            "                           112,\n",
            "                           507,\n",
            "                           536,\n",
            "                           44,\n",
            "                           422,\n",
            "                           678,\n",
            "                           539,\n",
            "                           1291,\n",
            "                           386,\n",
            "                           547,\n",
            "                           1271,\n",
            "                           113,\n",
            "                           587,\n",
            "                           175,\n",
            "                           1096,\n",
            "                           84,\n",
            "                           607,\n",
            "                           1033,\n",
            "                           292,\n",
            "                           486,\n",
            "                           1423,\n",
            "                           529,\n",
            "                           1322,\n",
            "                           96,\n",
            "                           870,\n",
            "                           541,\n",
            "                           1268,\n",
            "                           1154,\n",
            "                           1274,\n",
            "                           683,\n",
            "                           345,\n",
            "                           628,\n",
            "                           1250,\n",
            "                           149,\n",
            "                           300,\n",
            "                           744,\n",
            "                           1147,\n",
            "                           640,\n",
            "                           973,\n",
            "                           298,\n",
            "                           356,\n",
            "                           889,\n",
            "                           1338,\n",
            "                           853,\n",
            "                           40,\n",
            "                           1312,\n",
            "                           83,\n",
            "                           87,\n",
            "                           29,\n",
            "                           1307,\n",
            "                           577,\n",
            "                           1440,\n",
            "                           155,\n",
            "                           787,\n",
            "                           740,\n",
            "                           1378,\n",
            "                           148,\n",
            "                           1224,\n",
            "                           835,\n",
            "                           556,\n",
            "                           364,\n",
            "                           807,\n",
            "                           759,\n",
            "                           1293,\n",
            "                           824,\n",
            "                           1037,\n",
            "                           642,\n",
            "                           867,\n",
            "                           708,\n",
            "                           296,\n",
            "                           1186,\n",
            "                           185,\n",
            "                           892,\n",
            "                           238,\n",
            "                           324,\n",
            "                           724,\n",
            "                           286,\n",
            "                           1304,\n",
            "                           237,\n",
            "                           984,\n",
            "                           1398,\n",
            "                           192,\n",
            "                           944,\n",
            "                           716,\n",
            "                           260,\n",
            "                           471,\n",
            "                           1040,\n",
            "                           1455,\n",
            "                           182,\n",
            "                           1251,\n",
            "                           231,\n",
            "                           506,\n",
            "                           101,\n",
            "                           852,\n",
            "                           936,\n",
            "                           1060,\n",
            "                           735,\n",
            "                           352,\n",
            "                           1337,\n",
            "                           480,\n",
            "                           1143,\n",
            "                           1474,\n",
            "                           116,\n",
            "                           916,\n",
            "                           1233,\n",
            "                           843,\n",
            "                           1161,\n",
            "                           181,\n",
            "                           1308,\n",
            "                           425,\n",
            "                           465,\n",
            "                           1386,\n",
            "                           417,\n",
            "                           95,\n",
            "                           1185,\n",
            "                           906,\n",
            "                           225,\n",
            "                           1396,\n",
            "                           879,\n",
            "                           394,\n",
            "                           1047,\n",
            "                           670,\n",
            "                           882,\n",
            "                           1256,\n",
            "                           637,\n",
            "                           128,\n",
            "                           487,\n",
            "                           1351,\n",
            "                           1036,\n",
            "                           935,\n",
            "                           264,\n",
            "                           894,\n",
            "                           1287,\n",
            "                           1010,\n",
            "                           990,\n",
            "                           510,\n",
            "                           312,\n",
            "                           80,\n",
            "                           100,\n",
            "                           106,\n",
            "                           963,\n",
            "                           557,\n",
            "                           340,\n",
            "                           19,\n",
            "                           774,\n",
            "                           841,\n",
            "                           1031,\n",
            "                           374,\n",
            "                           28,\n",
            "                           505,\n",
            "                           294,\n",
            "                           972,\n",
            "                           23,\n",
            "                           313,\n",
            "                           884,\n",
            "                           459,\n",
            "                           319,\n",
            "                           1190,\n",
            "                           232,\n",
            "                           617,\n",
            "                           127,\n",
            "                           946,\n",
            "                           1215,\n",
            "                           384,\n",
            "                           1042,\n",
            "                           73,\n",
            "                           509,\n",
            "                           222,\n",
            "                           347,\n",
            "                           249,\n",
            "                           214,\n",
            "                           1071,\n",
            "                           571,\n",
            "                           1424,\n",
            "                           850,\n",
            "                           673,\n",
            "                           204,\n",
            "                           1118,\n",
            "                           1195,\n",
            "                           914,\n",
            "                           526,\n",
            "                           911,\n",
            "                           59,\n",
            "                           804,\n",
            "                           445,\n",
            "                           134,\n",
            "                           1184,\n",
            "                           1472,\n",
            "                           1382,\n",
            "                           682,\n",
            "                           1203,\n",
            "                           1355,\n",
            "                           387,\n",
            "                           993,\n",
            "                           366,\n",
            "                           676,\n",
            "                           997,\n",
            "                           996,\n",
            "                           773,\n",
            "                           593,\n",
            "                           467,\n",
            "                           679,\n",
            "                           519,\n",
            "                           170,\n",
            "                           1169,\n",
            "                           1046,\n",
            "                           515,\n",
            "                           790,\n",
            "                           139,\n",
            "                           161,\n",
            "                           390,\n",
            "                           1266,\n",
            "                           164,\n",
            "                           1368,\n",
            "                           680,\n",
            "                           653,\n",
            "                           484,\n",
            "                           1265,\n",
            "                           1367,\n",
            "                           1155,\n",
            "                           1228,\n",
            "                           1005,\n",
            "                           949,\n",
            "                           1032,\n",
            "                           920,\n",
            "                           402,\n",
            "                           30,\n",
            "                           1452,\n",
            "                           210,\n",
            "                           1258,\n",
            "                           370,\n",
            "                           1122,\n",
            "                           1123,\n",
            "                           756,\n",
            "                           596,\n",
            "                           376,\n",
            "                           1431,\n",
            "                           718,\n",
            "                           54,\n",
            "                           1305,\n",
            "                           979,\n",
            "                           690,\n",
            "                           595,\n",
            "                           205,\n",
            "                           107,\n",
            "                           66,\n",
            "                           1125,\n",
            "                           4,\n",
            "                           1002,\n",
            "                           661,\n",
            "                           336,\n",
            "                           1471,\n",
            "                           491,\n",
            "                           1202,\n",
            "                           288,\n",
            "                           1330,\n",
            "                           803,\n",
            "                           349,\n",
            "                           731,\n",
            "                           958,\n",
            "                           1320,\n",
            "                           55,\n",
            "                           3,\n",
            "                           16,\n",
            "                           689,\n",
            "                           1327,\n",
            "                           239,\n",
            "                           320,\n",
            "                           1442,\n",
            "                           498,\n",
            "                           930,\n",
            "                           118,\n",
            "                           456,\n",
            "                           924,\n",
            "                           873,\n",
            "                           99,\n",
            "                           910,\n",
            "                           1012,\n",
            "                           39,\n",
            "                           1020,\n",
            "                           964,\n",
            "                           500,\n",
            "                           81,\n",
            "                           655,\n",
            "                           965,\n",
            "                           1264,\n",
            "                           818,\n",
            "                           353,\n",
            "                           1401,\n",
            "                           939,\n",
            "                           75,\n",
            "                           411,\n",
            "                           597,\n",
            "                           741,\n",
            "                           742,\n",
            "                           543,\n",
            "                           1225,\n",
            "                           1137,\n",
            "                           1043,\n",
            "                           1395,\n",
            "                           1079,\n",
            "                           932,\n",
            "                           1275,\n",
            "                           662,\n",
            "                           1011,\n",
            "                           586,\n",
            "                           1357,\n",
            "                           738,\n",
            "                           983,\n",
            "                           1097,\n",
            "                           1022,\n",
            "                           12,\n",
            "                           1229,\n",
            "                           1439,\n",
            "                           180,\n",
            "                           52,\n",
            "                           1415,\n",
            "                           144,\n",
            "                           1106,\n",
            "                           755,\n",
            "                           665,\n",
            "                           650,\n",
            "                           855,\n",
            "                           1292,\n",
            "                           1099,\n",
            "                           743,\n",
            "                           1247,\n",
            "                           143,\n",
            "                           710,\n",
            "                           1249,\n",
            "                           206,\n",
            "                           462,\n",
            "                           494,\n",
            "                           93,\n",
            "                           1393,\n",
            "                           1003,\n",
            "                           1114,\n",
            "                           408,\n",
            "                           1340,\n",
            "                           980,\n",
            "                           1077,\n",
            "                           1302,\n",
            "                           117,\n",
            "                           895,\n",
            "                           575,\n",
            "                           786,\n",
            "                           968,\n",
            "                           10,\n",
            "                           302,\n",
            "                           533,\n",
            "                           1008,\n",
            "                           977,\n",
            "                           1156,\n",
            "                           1055,\n",
            "                           1276,\n",
            "                           785,\n",
            "                           361,\n",
            "                           157,\n",
            "                           1018,\n",
            "                           191,\n",
            "                           635,\n",
            "                           1332,\n",
            "                           954,\n",
            "                           426,\n",
            "                           242,\n",
            "                           1101,\n",
            "                           212,\n",
            "                           1223,\n",
            "                           11,\n",
            "                           1062,\n",
            "                           971,\n",
            "                           1242,\n",
            "                           293,\n",
            "                           1027,\n",
            "                           1295,\n",
            "                           721,\n",
            "                           434,\n",
            "                           688,\n",
            "                           1140,\n",
            "                           1016,\n",
            "                           414,\n",
            "                           252,\n",
            "                           511,\n",
            "                           969,\n",
            "                           162,\n",
            "                           1145,\n",
            "                           622,\n",
            "                           177,\n",
            "                           1039,\n",
            "                           639,\n",
            "                           1188,\n",
            "                           14,\n",
            "                           813,\n",
            "                           1380,\n",
            "                           65,\n",
            "                           513,\n",
            "                           1057,\n",
            "                           601,\n",
            "                           1121,\n",
            "                           1465,\n",
            "                           1067,\n",
            "                           647,\n",
            "                           1152,\n",
            "                           615,\n",
            "                           1193,\n",
            "                           881,\n",
            "                           283,\n",
            "                           405,\n",
            "                           1084,\n",
            "                           1214,\n",
            "                           694,\n",
            "                           381,\n",
            "                           560,\n",
            "                           186,\n",
            "                           521,\n",
            "                           1409,\n",
            "                           489,\n",
            "                           782,\n",
            "                           287,\n",
            "                           151,\n",
            "                           869,\n",
            "                           1405,\n",
            "                           720,\n",
            "                           542,\n",
            "                           1218,\n",
            "                           955,\n",
            "                           1014,\n",
            "                           991,\n",
            "                           407,\n",
            "                           1028,\n",
            "                           1232,\n",
            "                           497,\n",
            "                           219,\n",
            "                           273,\n",
            "                           1087,\n",
            "                           1464,\n",
            "                           367,\n",
            "                           765,\n",
            "                           1164,\n",
            "                           209,\n",
            "                           610,\n",
            "                           876,\n",
            "                           827,\n",
            "                           612,\n",
            "                           967,\n",
            "                           528,\n",
            "                           641,\n",
            "                           1460,\n",
            "                           1446,\n",
            "                           412,\n",
            "                           51,\n",
            "                           274,\n",
            "                           1422,\n",
            "                           1061,\n",
            "                           732,\n",
            "                           684,\n",
            "                           1333,\n",
            "                           565,\n",
            "                           1173,\n",
            "                           901,\n",
            "                           1314,\n",
            "                           917,\n",
            "                           1050,\n",
            "                           115,\n",
            "                           1273,\n",
            "                           829,\n",
            "                           664,\n",
            "                           297,\n",
            "                           1366,\n",
            "                           1269,\n",
            "                           1021,\n",
            "                           905,\n",
            "                           454,\n",
            "                           194,\n",
            "                           308,\n",
            "                           18,\n",
            "                           457,\n",
            "                           109,\n",
            "                           988,\n",
            "                           1144,\n",
            "                           1383,\n",
            "                           1180,\n",
            "                           399,\n",
            "                           475,\n",
            "                           589,\n",
            "                           444,\n",
            "                           379,\n",
            "                           819,\n",
            "                           887,\n",
            "                           350,\n",
            "                           1319,\n",
            "                           734,\n",
            "                           1153,\n",
            "                           1132,\n",
            "                           709,\n",
            "                           781,\n",
            "                           834,\n",
            "                           216,\n",
            "                           754,\n",
            "                           926,\n",
            "                           572,\n",
            "                           136,\n",
            "                           1294,\n",
            "                           646,\n",
            "                           1220,\n",
            "                           1142,\n",
            "                           438,\n",
            "                           614,\n",
            "                           1389,\n",
            "                           749,\n",
            "                           1248,\n",
            "                           810,\n",
            "                           1089,\n",
            "                           833,\n",
            "                           940,\n",
            "                           913,\n",
            "                           1065,\n",
            "                           189,\n",
            "                           878,\n",
            "                           962,\n",
            "                           1159,\n",
            "                           1088,\n",
            "                           423,\n",
            "                           1397,\n",
            "                           229,\n",
            "                           1081,\n",
            "                           583,\n",
            "                           618,\n",
            "                           701,\n",
            "                           63,\n",
            "                           211,\n",
            "                           698,\n",
            "                           22,\n",
            "                           38,\n",
            "                           282,\n",
            "                           1286,\n",
            "                           838]},\n",
            " 'valid_set': {'class': 'dataset.Subset',\n",
            "               'dataset': {'class': 'datasets.ClinTox',\n",
            "                           'path': '~/molecule-datasets/',\n",
            "                           'verbose': 1},\n",
            "               'indices': [1208,\n",
            "                           1074,\n",
            "                           532,\n",
            "                           1375,\n",
            "                           886,\n",
            "                           909,\n",
            "                           88,\n",
            "                           32,\n",
            "                           667,\n",
            "                           473,\n",
            "                           502,\n",
            "                           427,\n",
            "                           1406,\n",
            "                           431,\n",
            "                           891,\n",
            "                           1418,\n",
            "                           726,\n",
            "                           1157,\n",
            "                           1197,\n",
            "                           8,\n",
            "                           713,\n",
            "                           36,\n",
            "                           1059,\n",
            "                           447,\n",
            "                           338,\n",
            "                           437,\n",
            "                           752,\n",
            "                           172,\n",
            "                           314,\n",
            "                           570,\n",
            "                           196,\n",
            "                           342,\n",
            "                           429,\n",
            "                           1126,\n",
            "                           351,\n",
            "                           974,\n",
            "                           1216,\n",
            "                           120,\n",
            "                           190,\n",
            "                           311,\n",
            "                           1459,\n",
            "                           357,\n",
            "                           1413,\n",
            "                           1073,\n",
            "                           1392,\n",
            "                           156,\n",
            "                           919,\n",
            "                           748,\n",
            "                           235,\n",
            "                           865,\n",
            "                           58,\n",
            "                           369,\n",
            "                           1316,\n",
            "                           1035,\n",
            "                           478,\n",
            "                           1253,\n",
            "                           236,\n",
            "                           79,\n",
            "                           7,\n",
            "                           1094,\n",
            "                           1139,\n",
            "                           1436,\n",
            "                           545,\n",
            "                           1227,\n",
            "                           1004,\n",
            "                           253,\n",
            "                           1281,\n",
            "                           836,\n",
            "                           335,\n",
            "                           627,\n",
            "                           1438,\n",
            "                           1299,\n",
            "                           1064,\n",
            "                           270,\n",
            "                           778,\n",
            "                           705,\n",
            "                           1252,\n",
            "                           1280,\n",
            "                           1469,\n",
            "                           923,\n",
            "                           420,\n",
            "                           493,\n",
            "                           831,\n",
            "                           574,\n",
            "                           1187,\n",
            "                           53,\n",
            "                           1191,\n",
            "                           448,\n",
            "                           481,\n",
            "                           668,\n",
            "                           1226,\n",
            "                           1301,\n",
            "                           1013,\n",
            "                           159,\n",
            "                           508,\n",
            "                           953,\n",
            "                           415,\n",
            "                           840,\n",
            "                           332,\n",
            "                           518,\n",
            "                           482,\n",
            "                           981,\n",
            "                           307,\n",
            "                           1426,\n",
            "                           767,\n",
            "                           1078,\n",
            "                           410,\n",
            "                           1222,\n",
            "                           569,\n",
            "                           71,\n",
            "                           1177,\n",
            "                           1230,\n",
            "                           266,\n",
            "                           77,\n",
            "                           94,\n",
            "                           696,\n",
            "                           129,\n",
            "                           551,\n",
            "                           1171,\n",
            "                           1194,\n",
            "                           681,\n",
            "                           1129,\n",
            "                           581,\n",
            "                           495,\n",
            "                           1331,\n",
            "                           86,\n",
            "                           261,\n",
            "                           248,\n",
            "                           436,\n",
            "                           0,\n",
            "                           215,\n",
            "                           1263,\n",
            "                           1349,\n",
            "                           1176,\n",
            "                           594,\n",
            "                           1130,\n",
            "                           35,\n",
            "                           685,\n",
            "                           1360,\n",
            "                           826,\n",
            "                           959,\n",
            "                           877,\n",
            "                           200,\n",
            "                           263,\n",
            "                           365,\n",
            "                           1136,\n",
            "                           1212]}}\n"
          ]
        },
        {
          "output_type": "stream",
          "name": "stderr",
          "text": [
            "WARNING:torchdrug.core.meter:>>>>>>>>>>>>>>>>>>>>>>>>>>>>>>\n"
          ]
        },
        {
          "output_type": "stream",
          "name": "stdout",
          "text": [
            "22:31:27   >>>>>>>>>>>>>>>>>>>>>>>>>>>>>>\n"
          ]
        },
        {
          "output_type": "stream",
          "name": "stderr",
          "text": [
            "WARNING:torchdrug.core.meter:Epoch 0 begin\n"
          ]
        },
        {
          "output_type": "stream",
          "name": "stdout",
          "text": [
            "22:31:27   Epoch 0 begin\n"
          ]
        },
        {
          "output_type": "stream",
          "name": "stderr",
          "text": [
            "WARNING:torchdrug.core.logger:>>>>>>>>>>>>>>>>>>>>>>>>>>>>>>\n"
          ]
        },
        {
          "output_type": "stream",
          "name": "stdout",
          "text": [
            "22:31:29   >>>>>>>>>>>>>>>>>>>>>>>>>>>>>>\n"
          ]
        },
        {
          "output_type": "stream",
          "name": "stderr",
          "text": [
            "WARNING:torchdrug.core.logger:binary cross entropy: 21.9471\n"
          ]
        },
        {
          "output_type": "stream",
          "name": "stdout",
          "text": [
            "22:31:29   binary cross entropy: 21.9471\n"
          ]
        },
        {
          "output_type": "stream",
          "name": "stderr",
          "text": [
            "WARNING:torchdrug.core.meter:>>>>>>>>>>>>>>>>>>>>>>>>>>>>>>\n"
          ]
        },
        {
          "output_type": "stream",
          "name": "stdout",
          "text": [
            "22:31:30   >>>>>>>>>>>>>>>>>>>>>>>>>>>>>>\n"
          ]
        },
        {
          "output_type": "stream",
          "name": "stderr",
          "text": [
            "WARNING:torchdrug.core.meter:Epoch 0 end\n"
          ]
        },
        {
          "output_type": "stream",
          "name": "stdout",
          "text": [
            "22:31:30   Epoch 0 end\n"
          ]
        },
        {
          "output_type": "stream",
          "name": "stderr",
          "text": [
            "WARNING:torchdrug.core.meter:duration: 2.67 secs\n"
          ]
        },
        {
          "output_type": "stream",
          "name": "stdout",
          "text": [
            "22:31:30   duration: 2.67 secs\n"
          ]
        },
        {
          "output_type": "stream",
          "name": "stderr",
          "text": [
            "WARNING:torchdrug.core.meter:speed: 0.75 batch / sec\n"
          ]
        },
        {
          "output_type": "stream",
          "name": "stdout",
          "text": [
            "22:31:30   speed: 0.75 batch / sec\n"
          ]
        },
        {
          "output_type": "stream",
          "name": "stderr",
          "text": [
            "WARNING:torchdrug.core.meter:ETA: 4.40 mins\n"
          ]
        },
        {
          "output_type": "stream",
          "name": "stdout",
          "text": [
            "22:31:30   ETA: 4.40 mins\n"
          ]
        },
        {
          "output_type": "stream",
          "name": "stderr",
          "text": [
            "WARNING:torchdrug.core.meter:max GPU memory: 745.0 MiB\n"
          ]
        },
        {
          "output_type": "stream",
          "name": "stdout",
          "text": [
            "22:31:30   max GPU memory: 745.0 MiB\n"
          ]
        },
        {
          "output_type": "stream",
          "name": "stderr",
          "text": [
            "WARNING:torchdrug.core.logger:------------------------------\n"
          ]
        },
        {
          "output_type": "stream",
          "name": "stdout",
          "text": [
            "22:31:30   ------------------------------\n"
          ]
        },
        {
          "output_type": "stream",
          "name": "stderr",
          "text": [
            "WARNING:torchdrug.core.logger:average binary cross entropy: 20.0354\n"
          ]
        },
        {
          "output_type": "stream",
          "name": "stdout",
          "text": [
            "22:31:30   average binary cross entropy: 20.0354\n"
          ]
        },
        {
          "output_type": "stream",
          "name": "stderr",
          "text": [
            "WARNING:torchdrug.core.meter:>>>>>>>>>>>>>>>>>>>>>>>>>>>>>>\n"
          ]
        },
        {
          "output_type": "stream",
          "name": "stdout",
          "text": [
            "22:31:30   >>>>>>>>>>>>>>>>>>>>>>>>>>>>>>\n"
          ]
        },
        {
          "output_type": "stream",
          "name": "stderr",
          "text": [
            "WARNING:torchdrug.core.meter:Epoch 1 begin\n"
          ]
        },
        {
          "output_type": "stream",
          "name": "stdout",
          "text": [
            "22:31:30   Epoch 1 begin\n"
          ]
        },
        {
          "output_type": "stream",
          "name": "stderr",
          "text": [
            "WARNING:torchdrug.core.meter:>>>>>>>>>>>>>>>>>>>>>>>>>>>>>>\n"
          ]
        },
        {
          "output_type": "stream",
          "name": "stdout",
          "text": [
            "22:31:30   >>>>>>>>>>>>>>>>>>>>>>>>>>>>>>\n"
          ]
        },
        {
          "output_type": "stream",
          "name": "stderr",
          "text": [
            "WARNING:torchdrug.core.meter:Epoch 1 end\n"
          ]
        },
        {
          "output_type": "stream",
          "name": "stdout",
          "text": [
            "22:31:30   Epoch 1 end\n"
          ]
        },
        {
          "output_type": "stream",
          "name": "stderr",
          "text": [
            "WARNING:torchdrug.core.meter:duration: 0.25 secs\n"
          ]
        },
        {
          "output_type": "stream",
          "name": "stdout",
          "text": [
            "22:31:30   duration: 0.25 secs\n"
          ]
        },
        {
          "output_type": "stream",
          "name": "stderr",
          "text": [
            "WARNING:torchdrug.core.meter:speed: 7.86 batch / sec\n"
          ]
        },
        {
          "output_type": "stream",
          "name": "stdout",
          "text": [
            "22:31:30   speed: 7.86 batch / sec\n"
          ]
        },
        {
          "output_type": "stream",
          "name": "stderr",
          "text": [
            "WARNING:torchdrug.core.meter:ETA: 2.38 mins\n"
          ]
        },
        {
          "output_type": "stream",
          "name": "stdout",
          "text": [
            "22:31:30   ETA: 2.38 mins\n"
          ]
        },
        {
          "output_type": "stream",
          "name": "stderr",
          "text": [
            "WARNING:torchdrug.core.meter:max GPU memory: 743.6 MiB\n"
          ]
        },
        {
          "output_type": "stream",
          "name": "stdout",
          "text": [
            "22:31:30   max GPU memory: 743.6 MiB\n"
          ]
        },
        {
          "output_type": "stream",
          "name": "stderr",
          "text": [
            "WARNING:torchdrug.core.logger:------------------------------\n"
          ]
        },
        {
          "output_type": "stream",
          "name": "stdout",
          "text": [
            "22:31:30   ------------------------------\n"
          ]
        },
        {
          "output_type": "stream",
          "name": "stderr",
          "text": [
            "WARNING:torchdrug.core.logger:average binary cross entropy: 16.9778\n"
          ]
        },
        {
          "output_type": "stream",
          "name": "stdout",
          "text": [
            "22:31:30   average binary cross entropy: 16.9778\n"
          ]
        },
        {
          "output_type": "stream",
          "name": "stderr",
          "text": [
            "WARNING:torchdrug.core.meter:>>>>>>>>>>>>>>>>>>>>>>>>>>>>>>\n"
          ]
        },
        {
          "output_type": "stream",
          "name": "stdout",
          "text": [
            "22:31:30   >>>>>>>>>>>>>>>>>>>>>>>>>>>>>>\n"
          ]
        },
        {
          "output_type": "stream",
          "name": "stderr",
          "text": [
            "WARNING:torchdrug.core.meter:Epoch 2 begin\n"
          ]
        },
        {
          "output_type": "stream",
          "name": "stdout",
          "text": [
            "22:31:30   Epoch 2 begin\n"
          ]
        },
        {
          "output_type": "stream",
          "name": "stderr",
          "text": [
            "WARNING:torchdrug.core.meter:>>>>>>>>>>>>>>>>>>>>>>>>>>>>>>\n"
          ]
        },
        {
          "output_type": "stream",
          "name": "stdout",
          "text": [
            "22:31:30   >>>>>>>>>>>>>>>>>>>>>>>>>>>>>>\n"
          ]
        },
        {
          "output_type": "stream",
          "name": "stderr",
          "text": [
            "WARNING:torchdrug.core.meter:Epoch 2 end\n"
          ]
        },
        {
          "output_type": "stream",
          "name": "stdout",
          "text": [
            "22:31:30   Epoch 2 end\n"
          ]
        },
        {
          "output_type": "stream",
          "name": "stderr",
          "text": [
            "WARNING:torchdrug.core.meter:duration: 0.25 secs\n"
          ]
        },
        {
          "output_type": "stream",
          "name": "stdout",
          "text": [
            "22:31:30   duration: 0.25 secs\n"
          ]
        },
        {
          "output_type": "stream",
          "name": "stderr",
          "text": [
            "WARNING:torchdrug.core.meter:speed: 8.06 batch / sec\n"
          ]
        },
        {
          "output_type": "stream",
          "name": "stdout",
          "text": [
            "22:31:30   speed: 8.06 batch / sec\n"
          ]
        },
        {
          "output_type": "stream",
          "name": "stderr",
          "text": [
            "WARNING:torchdrug.core.meter:ETA: 1.71 mins\n"
          ]
        },
        {
          "output_type": "stream",
          "name": "stdout",
          "text": [
            "22:31:30   ETA: 1.71 mins\n"
          ]
        },
        {
          "output_type": "stream",
          "name": "stderr",
          "text": [
            "WARNING:torchdrug.core.meter:max GPU memory: 740.9 MiB\n"
          ]
        },
        {
          "output_type": "stream",
          "name": "stdout",
          "text": [
            "22:31:30   max GPU memory: 740.9 MiB\n"
          ]
        },
        {
          "output_type": "stream",
          "name": "stderr",
          "text": [
            "WARNING:torchdrug.core.logger:------------------------------\n"
          ]
        },
        {
          "output_type": "stream",
          "name": "stdout",
          "text": [
            "22:31:30   ------------------------------\n"
          ]
        },
        {
          "output_type": "stream",
          "name": "stderr",
          "text": [
            "WARNING:torchdrug.core.logger:average binary cross entropy: 13.852\n"
          ]
        },
        {
          "output_type": "stream",
          "name": "stdout",
          "text": [
            "22:31:30   average binary cross entropy: 13.852\n"
          ]
        },
        {
          "output_type": "stream",
          "name": "stderr",
          "text": [
            "WARNING:torchdrug.core.meter:>>>>>>>>>>>>>>>>>>>>>>>>>>>>>>\n"
          ]
        },
        {
          "output_type": "stream",
          "name": "stdout",
          "text": [
            "22:31:30   >>>>>>>>>>>>>>>>>>>>>>>>>>>>>>\n"
          ]
        },
        {
          "output_type": "stream",
          "name": "stderr",
          "text": [
            "WARNING:torchdrug.core.meter:Epoch 3 begin\n"
          ]
        },
        {
          "output_type": "stream",
          "name": "stdout",
          "text": [
            "22:31:30   Epoch 3 begin\n"
          ]
        },
        {
          "output_type": "stream",
          "name": "stderr",
          "text": [
            "WARNING:torchdrug.core.meter:>>>>>>>>>>>>>>>>>>>>>>>>>>>>>>\n"
          ]
        },
        {
          "output_type": "stream",
          "name": "stdout",
          "text": [
            "22:31:30   >>>>>>>>>>>>>>>>>>>>>>>>>>>>>>\n"
          ]
        },
        {
          "output_type": "stream",
          "name": "stderr",
          "text": [
            "WARNING:torchdrug.core.meter:Epoch 3 end\n"
          ]
        },
        {
          "output_type": "stream",
          "name": "stdout",
          "text": [
            "22:31:30   Epoch 3 end\n"
          ]
        },
        {
          "output_type": "stream",
          "name": "stderr",
          "text": [
            "WARNING:torchdrug.core.meter:duration: 0.26 secs\n"
          ]
        },
        {
          "output_type": "stream",
          "name": "stdout",
          "text": [
            "22:31:30   duration: 0.26 secs\n"
          ]
        },
        {
          "output_type": "stream",
          "name": "stderr",
          "text": [
            "WARNING:torchdrug.core.meter:speed: 7.75 batch / sec\n"
          ]
        },
        {
          "output_type": "stream",
          "name": "stdout",
          "text": [
            "22:31:30   speed: 7.75 batch / sec\n"
          ]
        },
        {
          "output_type": "stream",
          "name": "stderr",
          "text": [
            "WARNING:torchdrug.core.meter:ETA: 1.37 mins\n"
          ]
        },
        {
          "output_type": "stream",
          "name": "stdout",
          "text": [
            "22:31:30   ETA: 1.37 mins\n"
          ]
        },
        {
          "output_type": "stream",
          "name": "stderr",
          "text": [
            "WARNING:torchdrug.core.meter:max GPU memory: 746.9 MiB\n"
          ]
        },
        {
          "output_type": "stream",
          "name": "stdout",
          "text": [
            "22:31:30   max GPU memory: 746.9 MiB\n"
          ]
        },
        {
          "output_type": "stream",
          "name": "stderr",
          "text": [
            "WARNING:torchdrug.core.logger:------------------------------\n"
          ]
        },
        {
          "output_type": "stream",
          "name": "stdout",
          "text": [
            "22:31:30   ------------------------------\n"
          ]
        },
        {
          "output_type": "stream",
          "name": "stderr",
          "text": [
            "WARNING:torchdrug.core.logger:average binary cross entropy: 10.4199\n"
          ]
        },
        {
          "output_type": "stream",
          "name": "stdout",
          "text": [
            "22:31:30   average binary cross entropy: 10.4199\n"
          ]
        },
        {
          "output_type": "stream",
          "name": "stderr",
          "text": [
            "WARNING:torchdrug.core.meter:>>>>>>>>>>>>>>>>>>>>>>>>>>>>>>\n"
          ]
        },
        {
          "output_type": "stream",
          "name": "stdout",
          "text": [
            "22:31:30   >>>>>>>>>>>>>>>>>>>>>>>>>>>>>>\n"
          ]
        },
        {
          "output_type": "stream",
          "name": "stderr",
          "text": [
            "WARNING:torchdrug.core.meter:Epoch 4 begin\n"
          ]
        },
        {
          "output_type": "stream",
          "name": "stdout",
          "text": [
            "22:31:30   Epoch 4 begin\n"
          ]
        },
        {
          "output_type": "stream",
          "name": "stderr",
          "text": [
            "WARNING:torchdrug.core.meter:>>>>>>>>>>>>>>>>>>>>>>>>>>>>>>\n"
          ]
        },
        {
          "output_type": "stream",
          "name": "stdout",
          "text": [
            "22:31:31   >>>>>>>>>>>>>>>>>>>>>>>>>>>>>>\n"
          ]
        },
        {
          "output_type": "stream",
          "name": "stderr",
          "text": [
            "WARNING:torchdrug.core.meter:Epoch 4 end\n"
          ]
        },
        {
          "output_type": "stream",
          "name": "stdout",
          "text": [
            "22:31:31   Epoch 4 end\n"
          ]
        },
        {
          "output_type": "stream",
          "name": "stderr",
          "text": [
            "WARNING:torchdrug.core.meter:duration: 0.24 secs\n"
          ]
        },
        {
          "output_type": "stream",
          "name": "stdout",
          "text": [
            "22:31:31   duration: 0.24 secs\n"
          ]
        },
        {
          "output_type": "stream",
          "name": "stderr",
          "text": [
            "WARNING:torchdrug.core.meter:speed: 8.16 batch / sec\n"
          ]
        },
        {
          "output_type": "stream",
          "name": "stdout",
          "text": [
            "22:31:31   speed: 8.16 batch / sec\n"
          ]
        },
        {
          "output_type": "stream",
          "name": "stderr",
          "text": [
            "WARNING:torchdrug.core.meter:ETA: 1.16 mins\n"
          ]
        },
        {
          "output_type": "stream",
          "name": "stdout",
          "text": [
            "22:31:31   ETA: 1.16 mins\n"
          ]
        },
        {
          "output_type": "stream",
          "name": "stderr",
          "text": [
            "WARNING:torchdrug.core.meter:max GPU memory: 741.6 MiB\n"
          ]
        },
        {
          "output_type": "stream",
          "name": "stdout",
          "text": [
            "22:31:31   max GPU memory: 741.6 MiB\n"
          ]
        },
        {
          "output_type": "stream",
          "name": "stderr",
          "text": [
            "WARNING:torchdrug.core.logger:------------------------------\n"
          ]
        },
        {
          "output_type": "stream",
          "name": "stdout",
          "text": [
            "22:31:31   ------------------------------\n"
          ]
        },
        {
          "output_type": "stream",
          "name": "stderr",
          "text": [
            "WARNING:torchdrug.core.logger:average binary cross entropy: 7.86903\n"
          ]
        },
        {
          "output_type": "stream",
          "name": "stdout",
          "text": [
            "22:31:31   average binary cross entropy: 7.86903\n"
          ]
        },
        {
          "output_type": "stream",
          "name": "stderr",
          "text": [
            "WARNING:torchdrug.core.meter:>>>>>>>>>>>>>>>>>>>>>>>>>>>>>>\n"
          ]
        },
        {
          "output_type": "stream",
          "name": "stdout",
          "text": [
            "22:31:31   >>>>>>>>>>>>>>>>>>>>>>>>>>>>>>\n"
          ]
        },
        {
          "output_type": "stream",
          "name": "stderr",
          "text": [
            "WARNING:torchdrug.core.meter:Epoch 5 begin\n"
          ]
        },
        {
          "output_type": "stream",
          "name": "stdout",
          "text": [
            "22:31:31   Epoch 5 begin\n"
          ]
        },
        {
          "output_type": "stream",
          "name": "stderr",
          "text": [
            "WARNING:torchdrug.core.meter:>>>>>>>>>>>>>>>>>>>>>>>>>>>>>>\n"
          ]
        },
        {
          "output_type": "stream",
          "name": "stdout",
          "text": [
            "22:31:31   >>>>>>>>>>>>>>>>>>>>>>>>>>>>>>\n"
          ]
        },
        {
          "output_type": "stream",
          "name": "stderr",
          "text": [
            "WARNING:torchdrug.core.meter:Epoch 5 end\n"
          ]
        },
        {
          "output_type": "stream",
          "name": "stdout",
          "text": [
            "22:31:31   Epoch 5 end\n"
          ]
        },
        {
          "output_type": "stream",
          "name": "stderr",
          "text": [
            "WARNING:torchdrug.core.meter:duration: 0.24 secs\n"
          ]
        },
        {
          "output_type": "stream",
          "name": "stdout",
          "text": [
            "22:31:31   duration: 0.24 secs\n"
          ]
        },
        {
          "output_type": "stream",
          "name": "stderr",
          "text": [
            "WARNING:torchdrug.core.meter:speed: 8.29 batch / sec\n"
          ]
        },
        {
          "output_type": "stream",
          "name": "stdout",
          "text": [
            "22:31:31   speed: 8.29 batch / sec\n"
          ]
        },
        {
          "output_type": "stream",
          "name": "stderr",
          "text": [
            "WARNING:torchdrug.core.meter:ETA: 1.02 mins\n"
          ]
        },
        {
          "output_type": "stream",
          "name": "stdout",
          "text": [
            "22:31:31   ETA: 1.02 mins\n"
          ]
        },
        {
          "output_type": "stream",
          "name": "stderr",
          "text": [
            "WARNING:torchdrug.core.meter:max GPU memory: 738.8 MiB\n"
          ]
        },
        {
          "output_type": "stream",
          "name": "stdout",
          "text": [
            "22:31:31   max GPU memory: 738.8 MiB\n"
          ]
        },
        {
          "output_type": "stream",
          "name": "stderr",
          "text": [
            "WARNING:torchdrug.core.logger:------------------------------\n"
          ]
        },
        {
          "output_type": "stream",
          "name": "stdout",
          "text": [
            "22:31:31   ------------------------------\n"
          ]
        },
        {
          "output_type": "stream",
          "name": "stderr",
          "text": [
            "WARNING:torchdrug.core.logger:average binary cross entropy: 5.53164\n"
          ]
        },
        {
          "output_type": "stream",
          "name": "stdout",
          "text": [
            "22:31:31   average binary cross entropy: 5.53164\n"
          ]
        },
        {
          "output_type": "stream",
          "name": "stderr",
          "text": [
            "WARNING:torchdrug.core.meter:>>>>>>>>>>>>>>>>>>>>>>>>>>>>>>\n"
          ]
        },
        {
          "output_type": "stream",
          "name": "stdout",
          "text": [
            "22:31:31   >>>>>>>>>>>>>>>>>>>>>>>>>>>>>>\n"
          ]
        },
        {
          "output_type": "stream",
          "name": "stderr",
          "text": [
            "WARNING:torchdrug.core.meter:Epoch 6 begin\n"
          ]
        },
        {
          "output_type": "stream",
          "name": "stdout",
          "text": [
            "22:31:31   Epoch 6 begin\n"
          ]
        },
        {
          "output_type": "stream",
          "name": "stderr",
          "text": [
            "WARNING:torchdrug.core.meter:>>>>>>>>>>>>>>>>>>>>>>>>>>>>>>\n"
          ]
        },
        {
          "output_type": "stream",
          "name": "stdout",
          "text": [
            "22:31:31   >>>>>>>>>>>>>>>>>>>>>>>>>>>>>>\n"
          ]
        },
        {
          "output_type": "stream",
          "name": "stderr",
          "text": [
            "WARNING:torchdrug.core.meter:Epoch 6 end\n"
          ]
        },
        {
          "output_type": "stream",
          "name": "stdout",
          "text": [
            "22:31:31   Epoch 6 end\n"
          ]
        },
        {
          "output_type": "stream",
          "name": "stderr",
          "text": [
            "WARNING:torchdrug.core.meter:duration: 0.24 secs\n"
          ]
        },
        {
          "output_type": "stream",
          "name": "stdout",
          "text": [
            "22:31:31   duration: 0.24 secs\n"
          ]
        },
        {
          "output_type": "stream",
          "name": "stderr",
          "text": [
            "WARNING:torchdrug.core.meter:speed: 8.32 batch / sec\n"
          ]
        },
        {
          "output_type": "stream",
          "name": "stdout",
          "text": [
            "22:31:31   speed: 8.32 batch / sec\n"
          ]
        },
        {
          "output_type": "stream",
          "name": "stderr",
          "text": [
            "WARNING:torchdrug.core.meter:ETA: 55.18 secs\n"
          ]
        },
        {
          "output_type": "stream",
          "name": "stdout",
          "text": [
            "22:31:31   ETA: 55.18 secs\n"
          ]
        },
        {
          "output_type": "stream",
          "name": "stderr",
          "text": [
            "WARNING:torchdrug.core.meter:max GPU memory: 750.7 MiB\n"
          ]
        },
        {
          "output_type": "stream",
          "name": "stdout",
          "text": [
            "22:31:31   max GPU memory: 750.7 MiB\n"
          ]
        },
        {
          "output_type": "stream",
          "name": "stderr",
          "text": [
            "WARNING:torchdrug.core.logger:------------------------------\n"
          ]
        },
        {
          "output_type": "stream",
          "name": "stdout",
          "text": [
            "22:31:31   ------------------------------\n"
          ]
        },
        {
          "output_type": "stream",
          "name": "stderr",
          "text": [
            "WARNING:torchdrug.core.logger:average binary cross entropy: 3.2325\n"
          ]
        },
        {
          "output_type": "stream",
          "name": "stdout",
          "text": [
            "22:31:31   average binary cross entropy: 3.2325\n"
          ]
        },
        {
          "output_type": "stream",
          "name": "stderr",
          "text": [
            "WARNING:torchdrug.core.meter:>>>>>>>>>>>>>>>>>>>>>>>>>>>>>>\n"
          ]
        },
        {
          "output_type": "stream",
          "name": "stdout",
          "text": [
            "22:31:31   >>>>>>>>>>>>>>>>>>>>>>>>>>>>>>\n"
          ]
        },
        {
          "output_type": "stream",
          "name": "stderr",
          "text": [
            "WARNING:torchdrug.core.meter:Epoch 7 begin\n"
          ]
        },
        {
          "output_type": "stream",
          "name": "stdout",
          "text": [
            "22:31:31   Epoch 7 begin\n"
          ]
        },
        {
          "output_type": "stream",
          "name": "stderr",
          "text": [
            "WARNING:torchdrug.core.meter:>>>>>>>>>>>>>>>>>>>>>>>>>>>>>>\n"
          ]
        },
        {
          "output_type": "stream",
          "name": "stdout",
          "text": [
            "22:31:31   >>>>>>>>>>>>>>>>>>>>>>>>>>>>>>\n"
          ]
        },
        {
          "output_type": "stream",
          "name": "stderr",
          "text": [
            "WARNING:torchdrug.core.meter:Epoch 7 end\n"
          ]
        },
        {
          "output_type": "stream",
          "name": "stdout",
          "text": [
            "22:31:31   Epoch 7 end\n"
          ]
        },
        {
          "output_type": "stream",
          "name": "stderr",
          "text": [
            "WARNING:torchdrug.core.meter:duration: 0.26 secs\n"
          ]
        },
        {
          "output_type": "stream",
          "name": "stdout",
          "text": [
            "22:31:31   duration: 0.26 secs\n"
          ]
        },
        {
          "output_type": "stream",
          "name": "stderr",
          "text": [
            "WARNING:torchdrug.core.meter:speed: 7.70 batch / sec\n"
          ]
        },
        {
          "output_type": "stream",
          "name": "stdout",
          "text": [
            "22:31:31   speed: 7.70 batch / sec\n"
          ]
        },
        {
          "output_type": "stream",
          "name": "stderr",
          "text": [
            "WARNING:torchdrug.core.meter:ETA: 50.75 secs\n"
          ]
        },
        {
          "output_type": "stream",
          "name": "stdout",
          "text": [
            "22:31:31   ETA: 50.75 secs\n"
          ]
        },
        {
          "output_type": "stream",
          "name": "stderr",
          "text": [
            "WARNING:torchdrug.core.meter:max GPU memory: 742.3 MiB\n"
          ]
        },
        {
          "output_type": "stream",
          "name": "stdout",
          "text": [
            "22:31:31   max GPU memory: 742.3 MiB\n"
          ]
        },
        {
          "output_type": "stream",
          "name": "stderr",
          "text": [
            "WARNING:torchdrug.core.logger:------------------------------\n"
          ]
        },
        {
          "output_type": "stream",
          "name": "stdout",
          "text": [
            "22:31:31   ------------------------------\n"
          ]
        },
        {
          "output_type": "stream",
          "name": "stderr",
          "text": [
            "WARNING:torchdrug.core.logger:average binary cross entropy: 1.96525\n"
          ]
        },
        {
          "output_type": "stream",
          "name": "stdout",
          "text": [
            "22:31:31   average binary cross entropy: 1.96525\n"
          ]
        },
        {
          "output_type": "stream",
          "name": "stderr",
          "text": [
            "WARNING:torchdrug.core.meter:>>>>>>>>>>>>>>>>>>>>>>>>>>>>>>\n"
          ]
        },
        {
          "output_type": "stream",
          "name": "stdout",
          "text": [
            "22:31:31   >>>>>>>>>>>>>>>>>>>>>>>>>>>>>>\n"
          ]
        },
        {
          "output_type": "stream",
          "name": "stderr",
          "text": [
            "WARNING:torchdrug.core.meter:Epoch 8 begin\n"
          ]
        },
        {
          "output_type": "stream",
          "name": "stdout",
          "text": [
            "22:31:31   Epoch 8 begin\n"
          ]
        },
        {
          "output_type": "stream",
          "name": "stderr",
          "text": [
            "WARNING:torchdrug.core.meter:>>>>>>>>>>>>>>>>>>>>>>>>>>>>>>\n"
          ]
        },
        {
          "output_type": "stream",
          "name": "stdout",
          "text": [
            "22:31:32   >>>>>>>>>>>>>>>>>>>>>>>>>>>>>>\n"
          ]
        },
        {
          "output_type": "stream",
          "name": "stderr",
          "text": [
            "WARNING:torchdrug.core.meter:Epoch 8 end\n"
          ]
        },
        {
          "output_type": "stream",
          "name": "stdout",
          "text": [
            "22:31:32   Epoch 8 end\n"
          ]
        },
        {
          "output_type": "stream",
          "name": "stderr",
          "text": [
            "WARNING:torchdrug.core.meter:duration: 0.26 secs\n"
          ]
        },
        {
          "output_type": "stream",
          "name": "stdout",
          "text": [
            "22:31:32   duration: 0.26 secs\n"
          ]
        },
        {
          "output_type": "stream",
          "name": "stderr",
          "text": [
            "WARNING:torchdrug.core.meter:speed: 7.82 batch / sec\n"
          ]
        },
        {
          "output_type": "stream",
          "name": "stdout",
          "text": [
            "22:31:32   speed: 7.82 batch / sec\n"
          ]
        },
        {
          "output_type": "stream",
          "name": "stderr",
          "text": [
            "WARNING:torchdrug.core.meter:ETA: 47.20 secs\n"
          ]
        },
        {
          "output_type": "stream",
          "name": "stdout",
          "text": [
            "22:31:32   ETA: 47.20 secs\n"
          ]
        },
        {
          "output_type": "stream",
          "name": "stderr",
          "text": [
            "WARNING:torchdrug.core.meter:max GPU memory: 744.0 MiB\n"
          ]
        },
        {
          "output_type": "stream",
          "name": "stdout",
          "text": [
            "22:31:32   max GPU memory: 744.0 MiB\n"
          ]
        },
        {
          "output_type": "stream",
          "name": "stderr",
          "text": [
            "WARNING:torchdrug.core.logger:------------------------------\n"
          ]
        },
        {
          "output_type": "stream",
          "name": "stdout",
          "text": [
            "22:31:32   ------------------------------\n"
          ]
        },
        {
          "output_type": "stream",
          "name": "stderr",
          "text": [
            "WARNING:torchdrug.core.logger:average binary cross entropy: 1.11744\n"
          ]
        },
        {
          "output_type": "stream",
          "name": "stdout",
          "text": [
            "22:31:32   average binary cross entropy: 1.11744\n"
          ]
        },
        {
          "output_type": "stream",
          "name": "stderr",
          "text": [
            "WARNING:torchdrug.core.meter:>>>>>>>>>>>>>>>>>>>>>>>>>>>>>>\n"
          ]
        },
        {
          "output_type": "stream",
          "name": "stdout",
          "text": [
            "22:31:32   >>>>>>>>>>>>>>>>>>>>>>>>>>>>>>\n"
          ]
        },
        {
          "output_type": "stream",
          "name": "stderr",
          "text": [
            "WARNING:torchdrug.core.meter:Epoch 9 begin\n"
          ]
        },
        {
          "output_type": "stream",
          "name": "stdout",
          "text": [
            "22:31:32   Epoch 9 begin\n"
          ]
        },
        {
          "output_type": "stream",
          "name": "stderr",
          "text": [
            "WARNING:torchdrug.core.meter:>>>>>>>>>>>>>>>>>>>>>>>>>>>>>>\n"
          ]
        },
        {
          "output_type": "stream",
          "name": "stdout",
          "text": [
            "22:31:32   >>>>>>>>>>>>>>>>>>>>>>>>>>>>>>\n"
          ]
        },
        {
          "output_type": "stream",
          "name": "stderr",
          "text": [
            "WARNING:torchdrug.core.meter:Epoch 9 end\n"
          ]
        },
        {
          "output_type": "stream",
          "name": "stdout",
          "text": [
            "22:31:32   Epoch 9 end\n"
          ]
        },
        {
          "output_type": "stream",
          "name": "stderr",
          "text": [
            "WARNING:torchdrug.core.meter:duration: 0.25 secs\n"
          ]
        },
        {
          "output_type": "stream",
          "name": "stdout",
          "text": [
            "22:31:32   duration: 0.25 secs\n"
          ]
        },
        {
          "output_type": "stream",
          "name": "stderr",
          "text": [
            "WARNING:torchdrug.core.meter:speed: 8.04 batch / sec\n"
          ]
        },
        {
          "output_type": "stream",
          "name": "stdout",
          "text": [
            "22:31:32   speed: 8.04 batch / sec\n"
          ]
        },
        {
          "output_type": "stream",
          "name": "stderr",
          "text": [
            "WARNING:torchdrug.core.meter:ETA: 44.25 secs\n"
          ]
        },
        {
          "output_type": "stream",
          "name": "stdout",
          "text": [
            "22:31:32   ETA: 44.25 secs\n"
          ]
        },
        {
          "output_type": "stream",
          "name": "stderr",
          "text": [
            "WARNING:torchdrug.core.meter:max GPU memory: 733.0 MiB\n"
          ]
        },
        {
          "output_type": "stream",
          "name": "stdout",
          "text": [
            "22:31:32   max GPU memory: 733.0 MiB\n"
          ]
        },
        {
          "output_type": "stream",
          "name": "stderr",
          "text": [
            "WARNING:torchdrug.core.logger:------------------------------\n"
          ]
        },
        {
          "output_type": "stream",
          "name": "stdout",
          "text": [
            "22:31:32   ------------------------------\n"
          ]
        },
        {
          "output_type": "stream",
          "name": "stderr",
          "text": [
            "WARNING:torchdrug.core.logger:average binary cross entropy: 1.09372\n"
          ]
        },
        {
          "output_type": "stream",
          "name": "stdout",
          "text": [
            "22:31:32   average binary cross entropy: 1.09372\n"
          ]
        },
        {
          "output_type": "stream",
          "name": "stderr",
          "text": [
            "WARNING:torchdrug.core.meter:>>>>>>>>>>>>>>>>>>>>>>>>>>>>>>\n"
          ]
        },
        {
          "output_type": "stream",
          "name": "stdout",
          "text": [
            "22:31:32   >>>>>>>>>>>>>>>>>>>>>>>>>>>>>>\n"
          ]
        },
        {
          "output_type": "stream",
          "name": "stderr",
          "text": [
            "WARNING:torchdrug.core.meter:Epoch 10 begin\n"
          ]
        },
        {
          "output_type": "stream",
          "name": "stdout",
          "text": [
            "22:31:32   Epoch 10 begin\n"
          ]
        },
        {
          "output_type": "stream",
          "name": "stderr",
          "text": [
            "WARNING:torchdrug.core.meter:>>>>>>>>>>>>>>>>>>>>>>>>>>>>>>\n"
          ]
        },
        {
          "output_type": "stream",
          "name": "stdout",
          "text": [
            "22:31:32   >>>>>>>>>>>>>>>>>>>>>>>>>>>>>>\n"
          ]
        },
        {
          "output_type": "stream",
          "name": "stderr",
          "text": [
            "WARNING:torchdrug.core.meter:Epoch 10 end\n"
          ]
        },
        {
          "output_type": "stream",
          "name": "stdout",
          "text": [
            "22:31:32   Epoch 10 end\n"
          ]
        },
        {
          "output_type": "stream",
          "name": "stderr",
          "text": [
            "WARNING:torchdrug.core.meter:duration: 0.26 secs\n"
          ]
        },
        {
          "output_type": "stream",
          "name": "stdout",
          "text": [
            "22:31:32   duration: 0.26 secs\n"
          ]
        },
        {
          "output_type": "stream",
          "name": "stderr",
          "text": [
            "WARNING:torchdrug.core.meter:speed: 7.73 batch / sec\n"
          ]
        },
        {
          "output_type": "stream",
          "name": "stdout",
          "text": [
            "22:31:32   speed: 7.73 batch / sec\n"
          ]
        },
        {
          "output_type": "stream",
          "name": "stderr",
          "text": [
            "WARNING:torchdrug.core.meter:ETA: 41.88 secs\n"
          ]
        },
        {
          "output_type": "stream",
          "name": "stdout",
          "text": [
            "22:31:32   ETA: 41.88 secs\n"
          ]
        },
        {
          "output_type": "stream",
          "name": "stderr",
          "text": [
            "WARNING:torchdrug.core.meter:max GPU memory: 744.2 MiB\n"
          ]
        },
        {
          "output_type": "stream",
          "name": "stdout",
          "text": [
            "22:31:32   max GPU memory: 744.2 MiB\n"
          ]
        },
        {
          "output_type": "stream",
          "name": "stderr",
          "text": [
            "WARNING:torchdrug.core.logger:------------------------------\n"
          ]
        },
        {
          "output_type": "stream",
          "name": "stdout",
          "text": [
            "22:31:32   ------------------------------\n"
          ]
        },
        {
          "output_type": "stream",
          "name": "stderr",
          "text": [
            "WARNING:torchdrug.core.logger:average binary cross entropy: 1.00741\n"
          ]
        },
        {
          "output_type": "stream",
          "name": "stdout",
          "text": [
            "22:31:32   average binary cross entropy: 1.00741\n"
          ]
        },
        {
          "output_type": "stream",
          "name": "stderr",
          "text": [
            "WARNING:torchdrug.core.meter:>>>>>>>>>>>>>>>>>>>>>>>>>>>>>>\n"
          ]
        },
        {
          "output_type": "stream",
          "name": "stdout",
          "text": [
            "22:31:32   >>>>>>>>>>>>>>>>>>>>>>>>>>>>>>\n"
          ]
        },
        {
          "output_type": "stream",
          "name": "stderr",
          "text": [
            "WARNING:torchdrug.core.meter:Epoch 11 begin\n"
          ]
        },
        {
          "output_type": "stream",
          "name": "stdout",
          "text": [
            "22:31:32   Epoch 11 begin\n"
          ]
        },
        {
          "output_type": "stream",
          "name": "stderr",
          "text": [
            "WARNING:torchdrug.core.meter:>>>>>>>>>>>>>>>>>>>>>>>>>>>>>>\n"
          ]
        },
        {
          "output_type": "stream",
          "name": "stdout",
          "text": [
            "22:31:32   >>>>>>>>>>>>>>>>>>>>>>>>>>>>>>\n"
          ]
        },
        {
          "output_type": "stream",
          "name": "stderr",
          "text": [
            "WARNING:torchdrug.core.meter:Epoch 11 end\n"
          ]
        },
        {
          "output_type": "stream",
          "name": "stdout",
          "text": [
            "22:31:32   Epoch 11 end\n"
          ]
        },
        {
          "output_type": "stream",
          "name": "stderr",
          "text": [
            "WARNING:torchdrug.core.meter:duration: 0.25 secs\n"
          ]
        },
        {
          "output_type": "stream",
          "name": "stdout",
          "text": [
            "22:31:32   duration: 0.25 secs\n"
          ]
        },
        {
          "output_type": "stream",
          "name": "stderr",
          "text": [
            "WARNING:torchdrug.core.meter:speed: 7.87 batch / sec\n"
          ]
        },
        {
          "output_type": "stream",
          "name": "stdout",
          "text": [
            "22:31:32   speed: 7.87 batch / sec\n"
          ]
        },
        {
          "output_type": "stream",
          "name": "stderr",
          "text": [
            "WARNING:torchdrug.core.meter:ETA: 39.82 secs\n"
          ]
        },
        {
          "output_type": "stream",
          "name": "stdout",
          "text": [
            "22:31:32   ETA: 39.82 secs\n"
          ]
        },
        {
          "output_type": "stream",
          "name": "stderr",
          "text": [
            "WARNING:torchdrug.core.meter:max GPU memory: 748.2 MiB\n"
          ]
        },
        {
          "output_type": "stream",
          "name": "stdout",
          "text": [
            "22:31:32   max GPU memory: 748.2 MiB\n"
          ]
        },
        {
          "output_type": "stream",
          "name": "stderr",
          "text": [
            "WARNING:torchdrug.core.logger:------------------------------\n"
          ]
        },
        {
          "output_type": "stream",
          "name": "stdout",
          "text": [
            "22:31:32   ------------------------------\n"
          ]
        },
        {
          "output_type": "stream",
          "name": "stderr",
          "text": [
            "WARNING:torchdrug.core.logger:average binary cross entropy: 0.844599\n"
          ]
        },
        {
          "output_type": "stream",
          "name": "stdout",
          "text": [
            "22:31:32   average binary cross entropy: 0.844599\n"
          ]
        },
        {
          "output_type": "stream",
          "name": "stderr",
          "text": [
            "WARNING:torchdrug.core.meter:>>>>>>>>>>>>>>>>>>>>>>>>>>>>>>\n"
          ]
        },
        {
          "output_type": "stream",
          "name": "stdout",
          "text": [
            "22:31:32   >>>>>>>>>>>>>>>>>>>>>>>>>>>>>>\n"
          ]
        },
        {
          "output_type": "stream",
          "name": "stderr",
          "text": [
            "WARNING:torchdrug.core.meter:Epoch 12 begin\n"
          ]
        },
        {
          "output_type": "stream",
          "name": "stdout",
          "text": [
            "22:31:32   Epoch 12 begin\n"
          ]
        },
        {
          "output_type": "stream",
          "name": "stderr",
          "text": [
            "WARNING:torchdrug.core.meter:>>>>>>>>>>>>>>>>>>>>>>>>>>>>>>\n"
          ]
        },
        {
          "output_type": "stream",
          "name": "stdout",
          "text": [
            "22:31:33   >>>>>>>>>>>>>>>>>>>>>>>>>>>>>>\n"
          ]
        },
        {
          "output_type": "stream",
          "name": "stderr",
          "text": [
            "WARNING:torchdrug.core.meter:Epoch 12 end\n"
          ]
        },
        {
          "output_type": "stream",
          "name": "stdout",
          "text": [
            "22:31:33   Epoch 12 end\n"
          ]
        },
        {
          "output_type": "stream",
          "name": "stderr",
          "text": [
            "WARNING:torchdrug.core.meter:duration: 0.25 secs\n"
          ]
        },
        {
          "output_type": "stream",
          "name": "stdout",
          "text": [
            "22:31:33   duration: 0.25 secs\n"
          ]
        },
        {
          "output_type": "stream",
          "name": "stderr",
          "text": [
            "WARNING:torchdrug.core.meter:speed: 8.08 batch / sec\n"
          ]
        },
        {
          "output_type": "stream",
          "name": "stdout",
          "text": [
            "22:31:33   speed: 8.08 batch / sec\n"
          ]
        },
        {
          "output_type": "stream",
          "name": "stderr",
          "text": [
            "WARNING:torchdrug.core.meter:ETA: 37.99 secs\n"
          ]
        },
        {
          "output_type": "stream",
          "name": "stdout",
          "text": [
            "22:31:33   ETA: 37.99 secs\n"
          ]
        },
        {
          "output_type": "stream",
          "name": "stderr",
          "text": [
            "WARNING:torchdrug.core.meter:max GPU memory: 744.5 MiB\n"
          ]
        },
        {
          "output_type": "stream",
          "name": "stdout",
          "text": [
            "22:31:33   max GPU memory: 744.5 MiB\n"
          ]
        },
        {
          "output_type": "stream",
          "name": "stderr",
          "text": [
            "WARNING:torchdrug.core.logger:------------------------------\n"
          ]
        },
        {
          "output_type": "stream",
          "name": "stdout",
          "text": [
            "22:31:33   ------------------------------\n"
          ]
        },
        {
          "output_type": "stream",
          "name": "stderr",
          "text": [
            "WARNING:torchdrug.core.logger:average binary cross entropy: 1.20518\n"
          ]
        },
        {
          "output_type": "stream",
          "name": "stdout",
          "text": [
            "22:31:33   average binary cross entropy: 1.20518\n"
          ]
        },
        {
          "output_type": "stream",
          "name": "stderr",
          "text": [
            "WARNING:torchdrug.core.meter:>>>>>>>>>>>>>>>>>>>>>>>>>>>>>>\n"
          ]
        },
        {
          "output_type": "stream",
          "name": "stdout",
          "text": [
            "22:31:33   >>>>>>>>>>>>>>>>>>>>>>>>>>>>>>\n"
          ]
        },
        {
          "output_type": "stream",
          "name": "stderr",
          "text": [
            "WARNING:torchdrug.core.meter:Epoch 13 begin\n"
          ]
        },
        {
          "output_type": "stream",
          "name": "stdout",
          "text": [
            "22:31:33   Epoch 13 begin\n"
          ]
        },
        {
          "output_type": "stream",
          "name": "stderr",
          "text": [
            "WARNING:torchdrug.core.meter:>>>>>>>>>>>>>>>>>>>>>>>>>>>>>>\n"
          ]
        },
        {
          "output_type": "stream",
          "name": "stdout",
          "text": [
            "22:31:33   >>>>>>>>>>>>>>>>>>>>>>>>>>>>>>\n"
          ]
        },
        {
          "output_type": "stream",
          "name": "stderr",
          "text": [
            "WARNING:torchdrug.core.meter:Epoch 13 end\n"
          ]
        },
        {
          "output_type": "stream",
          "name": "stdout",
          "text": [
            "22:31:33   Epoch 13 end\n"
          ]
        },
        {
          "output_type": "stream",
          "name": "stderr",
          "text": [
            "WARNING:torchdrug.core.meter:duration: 0.26 secs\n"
          ]
        },
        {
          "output_type": "stream",
          "name": "stdout",
          "text": [
            "22:31:33   duration: 0.26 secs\n"
          ]
        },
        {
          "output_type": "stream",
          "name": "stderr",
          "text": [
            "WARNING:torchdrug.core.meter:speed: 7.73 batch / sec\n"
          ]
        },
        {
          "output_type": "stream",
          "name": "stdout",
          "text": [
            "22:31:33   speed: 7.73 batch / sec\n"
          ]
        },
        {
          "output_type": "stream",
          "name": "stderr",
          "text": [
            "WARNING:torchdrug.core.meter:ETA: 36.46 secs\n"
          ]
        },
        {
          "output_type": "stream",
          "name": "stdout",
          "text": [
            "22:31:33   ETA: 36.46 secs\n"
          ]
        },
        {
          "output_type": "stream",
          "name": "stderr",
          "text": [
            "WARNING:torchdrug.core.meter:max GPU memory: 747.9 MiB\n"
          ]
        },
        {
          "output_type": "stream",
          "name": "stdout",
          "text": [
            "22:31:33   max GPU memory: 747.9 MiB\n"
          ]
        },
        {
          "output_type": "stream",
          "name": "stderr",
          "text": [
            "WARNING:torchdrug.core.logger:------------------------------\n"
          ]
        },
        {
          "output_type": "stream",
          "name": "stdout",
          "text": [
            "22:31:33   ------------------------------\n"
          ]
        },
        {
          "output_type": "stream",
          "name": "stderr",
          "text": [
            "WARNING:torchdrug.core.logger:average binary cross entropy: 1.02333\n"
          ]
        },
        {
          "output_type": "stream",
          "name": "stdout",
          "text": [
            "22:31:33   average binary cross entropy: 1.02333\n"
          ]
        },
        {
          "output_type": "stream",
          "name": "stderr",
          "text": [
            "WARNING:torchdrug.core.meter:>>>>>>>>>>>>>>>>>>>>>>>>>>>>>>\n"
          ]
        },
        {
          "output_type": "stream",
          "name": "stdout",
          "text": [
            "22:31:33   >>>>>>>>>>>>>>>>>>>>>>>>>>>>>>\n"
          ]
        },
        {
          "output_type": "stream",
          "name": "stderr",
          "text": [
            "WARNING:torchdrug.core.meter:Epoch 14 begin\n"
          ]
        },
        {
          "output_type": "stream",
          "name": "stdout",
          "text": [
            "22:31:33   Epoch 14 begin\n"
          ]
        },
        {
          "output_type": "stream",
          "name": "stderr",
          "text": [
            "WARNING:torchdrug.core.meter:>>>>>>>>>>>>>>>>>>>>>>>>>>>>>>\n"
          ]
        },
        {
          "output_type": "stream",
          "name": "stdout",
          "text": [
            "22:31:33   >>>>>>>>>>>>>>>>>>>>>>>>>>>>>>\n"
          ]
        },
        {
          "output_type": "stream",
          "name": "stderr",
          "text": [
            "WARNING:torchdrug.core.meter:Epoch 14 end\n"
          ]
        },
        {
          "output_type": "stream",
          "name": "stdout",
          "text": [
            "22:31:33   Epoch 14 end\n"
          ]
        },
        {
          "output_type": "stream",
          "name": "stderr",
          "text": [
            "WARNING:torchdrug.core.meter:duration: 0.26 secs\n"
          ]
        },
        {
          "output_type": "stream",
          "name": "stdout",
          "text": [
            "22:31:33   duration: 0.26 secs\n"
          ]
        },
        {
          "output_type": "stream",
          "name": "stderr",
          "text": [
            "WARNING:torchdrug.core.meter:speed: 7.74 batch / sec\n"
          ]
        },
        {
          "output_type": "stream",
          "name": "stdout",
          "text": [
            "22:31:33   speed: 7.74 batch / sec\n"
          ]
        },
        {
          "output_type": "stream",
          "name": "stderr",
          "text": [
            "WARNING:torchdrug.core.meter:ETA: 35.10 secs\n"
          ]
        },
        {
          "output_type": "stream",
          "name": "stdout",
          "text": [
            "22:31:33   ETA: 35.10 secs\n"
          ]
        },
        {
          "output_type": "stream",
          "name": "stderr",
          "text": [
            "WARNING:torchdrug.core.meter:max GPU memory: 741.0 MiB\n"
          ]
        },
        {
          "output_type": "stream",
          "name": "stdout",
          "text": [
            "22:31:33   max GPU memory: 741.0 MiB\n"
          ]
        },
        {
          "output_type": "stream",
          "name": "stderr",
          "text": [
            "WARNING:torchdrug.core.logger:------------------------------\n"
          ]
        },
        {
          "output_type": "stream",
          "name": "stdout",
          "text": [
            "22:31:33   ------------------------------\n"
          ]
        },
        {
          "output_type": "stream",
          "name": "stderr",
          "text": [
            "WARNING:torchdrug.core.logger:average binary cross entropy: 0.919667\n"
          ]
        },
        {
          "output_type": "stream",
          "name": "stdout",
          "text": [
            "22:31:33   average binary cross entropy: 0.919667\n"
          ]
        },
        {
          "output_type": "stream",
          "name": "stderr",
          "text": [
            "WARNING:torchdrug.core.meter:>>>>>>>>>>>>>>>>>>>>>>>>>>>>>>\n"
          ]
        },
        {
          "output_type": "stream",
          "name": "stdout",
          "text": [
            "22:31:33   >>>>>>>>>>>>>>>>>>>>>>>>>>>>>>\n"
          ]
        },
        {
          "output_type": "stream",
          "name": "stderr",
          "text": [
            "WARNING:torchdrug.core.meter:Epoch 15 begin\n"
          ]
        },
        {
          "output_type": "stream",
          "name": "stdout",
          "text": [
            "22:31:33   Epoch 15 begin\n"
          ]
        },
        {
          "output_type": "stream",
          "name": "stderr",
          "text": [
            "WARNING:torchdrug.core.meter:>>>>>>>>>>>>>>>>>>>>>>>>>>>>>>\n"
          ]
        },
        {
          "output_type": "stream",
          "name": "stdout",
          "text": [
            "22:31:33   >>>>>>>>>>>>>>>>>>>>>>>>>>>>>>\n"
          ]
        },
        {
          "output_type": "stream",
          "name": "stderr",
          "text": [
            "WARNING:torchdrug.core.meter:Epoch 15 end\n"
          ]
        },
        {
          "output_type": "stream",
          "name": "stdout",
          "text": [
            "22:31:33   Epoch 15 end\n"
          ]
        },
        {
          "output_type": "stream",
          "name": "stderr",
          "text": [
            "WARNING:torchdrug.core.meter:duration: 0.26 secs\n"
          ]
        },
        {
          "output_type": "stream",
          "name": "stdout",
          "text": [
            "22:31:33   duration: 0.26 secs\n"
          ]
        },
        {
          "output_type": "stream",
          "name": "stderr",
          "text": [
            "WARNING:torchdrug.core.meter:speed: 7.82 batch / sec\n"
          ]
        },
        {
          "output_type": "stream",
          "name": "stdout",
          "text": [
            "22:31:33   speed: 7.82 batch / sec\n"
          ]
        },
        {
          "output_type": "stream",
          "name": "stderr",
          "text": [
            "WARNING:torchdrug.core.meter:ETA: 33.86 secs\n"
          ]
        },
        {
          "output_type": "stream",
          "name": "stdout",
          "text": [
            "22:31:33   ETA: 33.86 secs\n"
          ]
        },
        {
          "output_type": "stream",
          "name": "stderr",
          "text": [
            "WARNING:torchdrug.core.meter:max GPU memory: 735.5 MiB\n"
          ]
        },
        {
          "output_type": "stream",
          "name": "stdout",
          "text": [
            "22:31:33   max GPU memory: 735.5 MiB\n"
          ]
        },
        {
          "output_type": "stream",
          "name": "stderr",
          "text": [
            "WARNING:torchdrug.core.logger:------------------------------\n"
          ]
        },
        {
          "output_type": "stream",
          "name": "stdout",
          "text": [
            "22:31:33   ------------------------------\n"
          ]
        },
        {
          "output_type": "stream",
          "name": "stderr",
          "text": [
            "WARNING:torchdrug.core.logger:average binary cross entropy: 1.16368\n"
          ]
        },
        {
          "output_type": "stream",
          "name": "stdout",
          "text": [
            "22:31:33   average binary cross entropy: 1.16368\n"
          ]
        },
        {
          "output_type": "stream",
          "name": "stderr",
          "text": [
            "WARNING:torchdrug.core.meter:>>>>>>>>>>>>>>>>>>>>>>>>>>>>>>\n"
          ]
        },
        {
          "output_type": "stream",
          "name": "stdout",
          "text": [
            "22:31:33   >>>>>>>>>>>>>>>>>>>>>>>>>>>>>>\n"
          ]
        },
        {
          "output_type": "stream",
          "name": "stderr",
          "text": [
            "WARNING:torchdrug.core.meter:Epoch 16 begin\n"
          ]
        },
        {
          "output_type": "stream",
          "name": "stdout",
          "text": [
            "22:31:33   Epoch 16 begin\n"
          ]
        },
        {
          "output_type": "stream",
          "name": "stderr",
          "text": [
            "WARNING:torchdrug.core.meter:>>>>>>>>>>>>>>>>>>>>>>>>>>>>>>\n"
          ]
        },
        {
          "output_type": "stream",
          "name": "stdout",
          "text": [
            "22:31:34   >>>>>>>>>>>>>>>>>>>>>>>>>>>>>>\n"
          ]
        },
        {
          "output_type": "stream",
          "name": "stderr",
          "text": [
            "WARNING:torchdrug.core.meter:Epoch 16 end\n"
          ]
        },
        {
          "output_type": "stream",
          "name": "stdout",
          "text": [
            "22:31:34   Epoch 16 end\n"
          ]
        },
        {
          "output_type": "stream",
          "name": "stderr",
          "text": [
            "WARNING:torchdrug.core.meter:duration: 0.26 secs\n"
          ]
        },
        {
          "output_type": "stream",
          "name": "stdout",
          "text": [
            "22:31:34   duration: 0.26 secs\n"
          ]
        },
        {
          "output_type": "stream",
          "name": "stderr",
          "text": [
            "WARNING:torchdrug.core.meter:speed: 7.78 batch / sec\n"
          ]
        },
        {
          "output_type": "stream",
          "name": "stdout",
          "text": [
            "22:31:34   speed: 7.78 batch / sec\n"
          ]
        },
        {
          "output_type": "stream",
          "name": "stderr",
          "text": [
            "WARNING:torchdrug.core.meter:ETA: 32.74 secs\n"
          ]
        },
        {
          "output_type": "stream",
          "name": "stdout",
          "text": [
            "22:31:34   ETA: 32.74 secs\n"
          ]
        },
        {
          "output_type": "stream",
          "name": "stderr",
          "text": [
            "WARNING:torchdrug.core.meter:max GPU memory: 736.6 MiB\n"
          ]
        },
        {
          "output_type": "stream",
          "name": "stdout",
          "text": [
            "22:31:34   max GPU memory: 736.6 MiB\n"
          ]
        },
        {
          "output_type": "stream",
          "name": "stderr",
          "text": [
            "WARNING:torchdrug.core.logger:------------------------------\n"
          ]
        },
        {
          "output_type": "stream",
          "name": "stdout",
          "text": [
            "22:31:34   ------------------------------\n"
          ]
        },
        {
          "output_type": "stream",
          "name": "stderr",
          "text": [
            "WARNING:torchdrug.core.logger:average binary cross entropy: 0.968409\n"
          ]
        },
        {
          "output_type": "stream",
          "name": "stdout",
          "text": [
            "22:31:34   average binary cross entropy: 0.968409\n"
          ]
        },
        {
          "output_type": "stream",
          "name": "stderr",
          "text": [
            "WARNING:torchdrug.core.meter:>>>>>>>>>>>>>>>>>>>>>>>>>>>>>>\n"
          ]
        },
        {
          "output_type": "stream",
          "name": "stdout",
          "text": [
            "22:31:34   >>>>>>>>>>>>>>>>>>>>>>>>>>>>>>\n"
          ]
        },
        {
          "output_type": "stream",
          "name": "stderr",
          "text": [
            "WARNING:torchdrug.core.meter:Epoch 17 begin\n"
          ]
        },
        {
          "output_type": "stream",
          "name": "stdout",
          "text": [
            "22:31:34   Epoch 17 begin\n"
          ]
        },
        {
          "output_type": "stream",
          "name": "stderr",
          "text": [
            "WARNING:torchdrug.core.meter:>>>>>>>>>>>>>>>>>>>>>>>>>>>>>>\n"
          ]
        },
        {
          "output_type": "stream",
          "name": "stdout",
          "text": [
            "22:31:34   >>>>>>>>>>>>>>>>>>>>>>>>>>>>>>\n"
          ]
        },
        {
          "output_type": "stream",
          "name": "stderr",
          "text": [
            "WARNING:torchdrug.core.meter:Epoch 17 end\n"
          ]
        },
        {
          "output_type": "stream",
          "name": "stdout",
          "text": [
            "22:31:34   Epoch 17 end\n"
          ]
        },
        {
          "output_type": "stream",
          "name": "stderr",
          "text": [
            "WARNING:torchdrug.core.meter:duration: 0.25 secs\n"
          ]
        },
        {
          "output_type": "stream",
          "name": "stdout",
          "text": [
            "22:31:34   duration: 0.25 secs\n"
          ]
        },
        {
          "output_type": "stream",
          "name": "stderr",
          "text": [
            "WARNING:torchdrug.core.meter:speed: 7.85 batch / sec\n"
          ]
        },
        {
          "output_type": "stream",
          "name": "stdout",
          "text": [
            "22:31:34   speed: 7.85 batch / sec\n"
          ]
        },
        {
          "output_type": "stream",
          "name": "stderr",
          "text": [
            "WARNING:torchdrug.core.meter:ETA: 31.71 secs\n"
          ]
        },
        {
          "output_type": "stream",
          "name": "stdout",
          "text": [
            "22:31:34   ETA: 31.71 secs\n"
          ]
        },
        {
          "output_type": "stream",
          "name": "stderr",
          "text": [
            "WARNING:torchdrug.core.meter:max GPU memory: 741.8 MiB\n"
          ]
        },
        {
          "output_type": "stream",
          "name": "stdout",
          "text": [
            "22:31:34   max GPU memory: 741.8 MiB\n"
          ]
        },
        {
          "output_type": "stream",
          "name": "stderr",
          "text": [
            "WARNING:torchdrug.core.logger:------------------------------\n"
          ]
        },
        {
          "output_type": "stream",
          "name": "stdout",
          "text": [
            "22:31:34   ------------------------------\n"
          ]
        },
        {
          "output_type": "stream",
          "name": "stderr",
          "text": [
            "WARNING:torchdrug.core.logger:average binary cross entropy: 0.824889\n"
          ]
        },
        {
          "output_type": "stream",
          "name": "stdout",
          "text": [
            "22:31:34   average binary cross entropy: 0.824889\n"
          ]
        },
        {
          "output_type": "stream",
          "name": "stderr",
          "text": [
            "WARNING:torchdrug.core.meter:>>>>>>>>>>>>>>>>>>>>>>>>>>>>>>\n"
          ]
        },
        {
          "output_type": "stream",
          "name": "stdout",
          "text": [
            "22:31:34   >>>>>>>>>>>>>>>>>>>>>>>>>>>>>>\n"
          ]
        },
        {
          "output_type": "stream",
          "name": "stderr",
          "text": [
            "WARNING:torchdrug.core.meter:Epoch 18 begin\n"
          ]
        },
        {
          "output_type": "stream",
          "name": "stdout",
          "text": [
            "22:31:34   Epoch 18 begin\n"
          ]
        },
        {
          "output_type": "stream",
          "name": "stderr",
          "text": [
            "WARNING:torchdrug.core.meter:>>>>>>>>>>>>>>>>>>>>>>>>>>>>>>\n"
          ]
        },
        {
          "output_type": "stream",
          "name": "stdout",
          "text": [
            "22:31:34   >>>>>>>>>>>>>>>>>>>>>>>>>>>>>>\n"
          ]
        },
        {
          "output_type": "stream",
          "name": "stderr",
          "text": [
            "WARNING:torchdrug.core.meter:Epoch 18 end\n"
          ]
        },
        {
          "output_type": "stream",
          "name": "stdout",
          "text": [
            "22:31:34   Epoch 18 end\n"
          ]
        },
        {
          "output_type": "stream",
          "name": "stderr",
          "text": [
            "WARNING:torchdrug.core.meter:duration: 0.25 secs\n"
          ]
        },
        {
          "output_type": "stream",
          "name": "stdout",
          "text": [
            "22:31:34   duration: 0.25 secs\n"
          ]
        },
        {
          "output_type": "stream",
          "name": "stderr",
          "text": [
            "WARNING:torchdrug.core.meter:speed: 7.88 batch / sec\n"
          ]
        },
        {
          "output_type": "stream",
          "name": "stdout",
          "text": [
            "22:31:34   speed: 7.88 batch / sec\n"
          ]
        },
        {
          "output_type": "stream",
          "name": "stderr",
          "text": [
            "WARNING:torchdrug.core.meter:ETA: 30.76 secs\n"
          ]
        },
        {
          "output_type": "stream",
          "name": "stdout",
          "text": [
            "22:31:34   ETA: 30.76 secs\n"
          ]
        },
        {
          "output_type": "stream",
          "name": "stderr",
          "text": [
            "WARNING:torchdrug.core.meter:max GPU memory: 741.5 MiB\n"
          ]
        },
        {
          "output_type": "stream",
          "name": "stdout",
          "text": [
            "22:31:34   max GPU memory: 741.5 MiB\n"
          ]
        },
        {
          "output_type": "stream",
          "name": "stderr",
          "text": [
            "WARNING:torchdrug.core.logger:------------------------------\n"
          ]
        },
        {
          "output_type": "stream",
          "name": "stdout",
          "text": [
            "22:31:34   ------------------------------\n"
          ]
        },
        {
          "output_type": "stream",
          "name": "stderr",
          "text": [
            "WARNING:torchdrug.core.logger:average binary cross entropy: 0.714003\n"
          ]
        },
        {
          "output_type": "stream",
          "name": "stdout",
          "text": [
            "22:31:34   average binary cross entropy: 0.714003\n"
          ]
        },
        {
          "output_type": "stream",
          "name": "stderr",
          "text": [
            "WARNING:torchdrug.core.meter:>>>>>>>>>>>>>>>>>>>>>>>>>>>>>>\n"
          ]
        },
        {
          "output_type": "stream",
          "name": "stdout",
          "text": [
            "22:31:34   >>>>>>>>>>>>>>>>>>>>>>>>>>>>>>\n"
          ]
        },
        {
          "output_type": "stream",
          "name": "stderr",
          "text": [
            "WARNING:torchdrug.core.meter:Epoch 19 begin\n"
          ]
        },
        {
          "output_type": "stream",
          "name": "stdout",
          "text": [
            "22:31:34   Epoch 19 begin\n"
          ]
        },
        {
          "output_type": "stream",
          "name": "stderr",
          "text": [
            "WARNING:torchdrug.core.meter:>>>>>>>>>>>>>>>>>>>>>>>>>>>>>>\n"
          ]
        },
        {
          "output_type": "stream",
          "name": "stdout",
          "text": [
            "22:31:34   >>>>>>>>>>>>>>>>>>>>>>>>>>>>>>\n"
          ]
        },
        {
          "output_type": "stream",
          "name": "stderr",
          "text": [
            "WARNING:torchdrug.core.meter:Epoch 19 end\n"
          ]
        },
        {
          "output_type": "stream",
          "name": "stdout",
          "text": [
            "22:31:34   Epoch 19 end\n"
          ]
        },
        {
          "output_type": "stream",
          "name": "stderr",
          "text": [
            "WARNING:torchdrug.core.meter:duration: 0.26 secs\n"
          ]
        },
        {
          "output_type": "stream",
          "name": "stdout",
          "text": [
            "22:31:34   duration: 0.26 secs\n"
          ]
        },
        {
          "output_type": "stream",
          "name": "stderr",
          "text": [
            "WARNING:torchdrug.core.meter:speed: 7.56 batch / sec\n"
          ]
        },
        {
          "output_type": "stream",
          "name": "stdout",
          "text": [
            "22:31:34   speed: 7.56 batch / sec\n"
          ]
        },
        {
          "output_type": "stream",
          "name": "stderr",
          "text": [
            "WARNING:torchdrug.core.meter:ETA: 29.92 secs\n"
          ]
        },
        {
          "output_type": "stream",
          "name": "stdout",
          "text": [
            "22:31:34   ETA: 29.92 secs\n"
          ]
        },
        {
          "output_type": "stream",
          "name": "stderr",
          "text": [
            "WARNING:torchdrug.core.meter:max GPU memory: 738.3 MiB\n"
          ]
        },
        {
          "output_type": "stream",
          "name": "stdout",
          "text": [
            "22:31:34   max GPU memory: 738.3 MiB\n"
          ]
        },
        {
          "output_type": "stream",
          "name": "stderr",
          "text": [
            "WARNING:torchdrug.core.logger:------------------------------\n"
          ]
        },
        {
          "output_type": "stream",
          "name": "stdout",
          "text": [
            "22:31:34   ------------------------------\n"
          ]
        },
        {
          "output_type": "stream",
          "name": "stderr",
          "text": [
            "WARNING:torchdrug.core.logger:average binary cross entropy: 0.764962\n"
          ]
        },
        {
          "output_type": "stream",
          "name": "stdout",
          "text": [
            "22:31:34   average binary cross entropy: 0.764962\n"
          ]
        },
        {
          "output_type": "stream",
          "name": "stderr",
          "text": [
            "WARNING:torchdrug.core.meter:>>>>>>>>>>>>>>>>>>>>>>>>>>>>>>\n"
          ]
        },
        {
          "output_type": "stream",
          "name": "stdout",
          "text": [
            "22:31:34   >>>>>>>>>>>>>>>>>>>>>>>>>>>>>>\n"
          ]
        },
        {
          "output_type": "stream",
          "name": "stderr",
          "text": [
            "WARNING:torchdrug.core.meter:Epoch 20 begin\n"
          ]
        },
        {
          "output_type": "stream",
          "name": "stdout",
          "text": [
            "22:31:34   Epoch 20 begin\n"
          ]
        },
        {
          "output_type": "stream",
          "name": "stderr",
          "text": [
            "WARNING:torchdrug.core.meter:>>>>>>>>>>>>>>>>>>>>>>>>>>>>>>\n"
          ]
        },
        {
          "output_type": "stream",
          "name": "stdout",
          "text": [
            "22:31:35   >>>>>>>>>>>>>>>>>>>>>>>>>>>>>>\n"
          ]
        },
        {
          "output_type": "stream",
          "name": "stderr",
          "text": [
            "WARNING:torchdrug.core.meter:Epoch 20 end\n"
          ]
        },
        {
          "output_type": "stream",
          "name": "stdout",
          "text": [
            "22:31:35   Epoch 20 end\n"
          ]
        },
        {
          "output_type": "stream",
          "name": "stderr",
          "text": [
            "WARNING:torchdrug.core.meter:duration: 0.25 secs\n"
          ]
        },
        {
          "output_type": "stream",
          "name": "stdout",
          "text": [
            "22:31:35   duration: 0.25 secs\n"
          ]
        },
        {
          "output_type": "stream",
          "name": "stderr",
          "text": [
            "WARNING:torchdrug.core.meter:speed: 8.15 batch / sec\n"
          ]
        },
        {
          "output_type": "stream",
          "name": "stdout",
          "text": [
            "22:31:35   speed: 8.15 batch / sec\n"
          ]
        },
        {
          "output_type": "stream",
          "name": "stderr",
          "text": [
            "WARNING:torchdrug.core.meter:ETA: 29.06 secs\n"
          ]
        },
        {
          "output_type": "stream",
          "name": "stdout",
          "text": [
            "22:31:35   ETA: 29.06 secs\n"
          ]
        },
        {
          "output_type": "stream",
          "name": "stderr",
          "text": [
            "WARNING:torchdrug.core.meter:max GPU memory: 743.2 MiB\n"
          ]
        },
        {
          "output_type": "stream",
          "name": "stdout",
          "text": [
            "22:31:35   max GPU memory: 743.2 MiB\n"
          ]
        },
        {
          "output_type": "stream",
          "name": "stderr",
          "text": [
            "WARNING:torchdrug.core.logger:------------------------------\n"
          ]
        },
        {
          "output_type": "stream",
          "name": "stdout",
          "text": [
            "22:31:35   ------------------------------\n"
          ]
        },
        {
          "output_type": "stream",
          "name": "stderr",
          "text": [
            "WARNING:torchdrug.core.logger:average binary cross entropy: 0.645829\n"
          ]
        },
        {
          "output_type": "stream",
          "name": "stdout",
          "text": [
            "22:31:35   average binary cross entropy: 0.645829\n"
          ]
        },
        {
          "output_type": "stream",
          "name": "stderr",
          "text": [
            "WARNING:torchdrug.core.meter:>>>>>>>>>>>>>>>>>>>>>>>>>>>>>>\n"
          ]
        },
        {
          "output_type": "stream",
          "name": "stdout",
          "text": [
            "22:31:35   >>>>>>>>>>>>>>>>>>>>>>>>>>>>>>\n"
          ]
        },
        {
          "output_type": "stream",
          "name": "stderr",
          "text": [
            "WARNING:torchdrug.core.meter:Epoch 21 begin\n"
          ]
        },
        {
          "output_type": "stream",
          "name": "stdout",
          "text": [
            "22:31:35   Epoch 21 begin\n"
          ]
        },
        {
          "output_type": "stream",
          "name": "stderr",
          "text": [
            "WARNING:torchdrug.core.meter:>>>>>>>>>>>>>>>>>>>>>>>>>>>>>>\n"
          ]
        },
        {
          "output_type": "stream",
          "name": "stdout",
          "text": [
            "22:31:35   >>>>>>>>>>>>>>>>>>>>>>>>>>>>>>\n"
          ]
        },
        {
          "output_type": "stream",
          "name": "stderr",
          "text": [
            "WARNING:torchdrug.core.meter:Epoch 21 end\n"
          ]
        },
        {
          "output_type": "stream",
          "name": "stdout",
          "text": [
            "22:31:35   Epoch 21 end\n"
          ]
        },
        {
          "output_type": "stream",
          "name": "stderr",
          "text": [
            "WARNING:torchdrug.core.meter:duration: 0.24 secs\n"
          ]
        },
        {
          "output_type": "stream",
          "name": "stdout",
          "text": [
            "22:31:35   duration: 0.24 secs\n"
          ]
        },
        {
          "output_type": "stream",
          "name": "stderr",
          "text": [
            "WARNING:torchdrug.core.meter:speed: 8.18 batch / sec\n"
          ]
        },
        {
          "output_type": "stream",
          "name": "stdout",
          "text": [
            "22:31:35   speed: 8.18 batch / sec\n"
          ]
        },
        {
          "output_type": "stream",
          "name": "stderr",
          "text": [
            "WARNING:torchdrug.core.meter:ETA: 28.26 secs\n"
          ]
        },
        {
          "output_type": "stream",
          "name": "stdout",
          "text": [
            "22:31:35   ETA: 28.26 secs\n"
          ]
        },
        {
          "output_type": "stream",
          "name": "stderr",
          "text": [
            "WARNING:torchdrug.core.meter:max GPU memory: 742.3 MiB\n"
          ]
        },
        {
          "output_type": "stream",
          "name": "stdout",
          "text": [
            "22:31:35   max GPU memory: 742.3 MiB\n"
          ]
        },
        {
          "output_type": "stream",
          "name": "stderr",
          "text": [
            "WARNING:torchdrug.core.logger:------------------------------\n"
          ]
        },
        {
          "output_type": "stream",
          "name": "stdout",
          "text": [
            "22:31:35   ------------------------------\n"
          ]
        },
        {
          "output_type": "stream",
          "name": "stderr",
          "text": [
            "WARNING:torchdrug.core.logger:average binary cross entropy: 0.55404\n"
          ]
        },
        {
          "output_type": "stream",
          "name": "stdout",
          "text": [
            "22:31:35   average binary cross entropy: 0.55404\n"
          ]
        },
        {
          "output_type": "stream",
          "name": "stderr",
          "text": [
            "WARNING:torchdrug.core.meter:>>>>>>>>>>>>>>>>>>>>>>>>>>>>>>\n"
          ]
        },
        {
          "output_type": "stream",
          "name": "stdout",
          "text": [
            "22:31:35   >>>>>>>>>>>>>>>>>>>>>>>>>>>>>>\n"
          ]
        },
        {
          "output_type": "stream",
          "name": "stderr",
          "text": [
            "WARNING:torchdrug.core.meter:Epoch 22 begin\n"
          ]
        },
        {
          "output_type": "stream",
          "name": "stdout",
          "text": [
            "22:31:35   Epoch 22 begin\n"
          ]
        },
        {
          "output_type": "stream",
          "name": "stderr",
          "text": [
            "WARNING:torchdrug.core.meter:>>>>>>>>>>>>>>>>>>>>>>>>>>>>>>\n"
          ]
        },
        {
          "output_type": "stream",
          "name": "stdout",
          "text": [
            "22:31:35   >>>>>>>>>>>>>>>>>>>>>>>>>>>>>>\n"
          ]
        },
        {
          "output_type": "stream",
          "name": "stderr",
          "text": [
            "WARNING:torchdrug.core.meter:Epoch 22 end\n"
          ]
        },
        {
          "output_type": "stream",
          "name": "stdout",
          "text": [
            "22:31:35   Epoch 22 end\n"
          ]
        },
        {
          "output_type": "stream",
          "name": "stderr",
          "text": [
            "WARNING:torchdrug.core.meter:duration: 0.27 secs\n"
          ]
        },
        {
          "output_type": "stream",
          "name": "stdout",
          "text": [
            "22:31:35   duration: 0.27 secs\n"
          ]
        },
        {
          "output_type": "stream",
          "name": "stderr",
          "text": [
            "WARNING:torchdrug.core.meter:speed: 7.54 batch / sec\n"
          ]
        },
        {
          "output_type": "stream",
          "name": "stdout",
          "text": [
            "22:31:35   speed: 7.54 batch / sec\n"
          ]
        },
        {
          "output_type": "stream",
          "name": "stderr",
          "text": [
            "WARNING:torchdrug.core.meter:ETA: 27.57 secs\n"
          ]
        },
        {
          "output_type": "stream",
          "name": "stdout",
          "text": [
            "22:31:35   ETA: 27.57 secs\n"
          ]
        },
        {
          "output_type": "stream",
          "name": "stderr",
          "text": [
            "WARNING:torchdrug.core.meter:max GPU memory: 743.0 MiB\n"
          ]
        },
        {
          "output_type": "stream",
          "name": "stdout",
          "text": [
            "22:31:35   max GPU memory: 743.0 MiB\n"
          ]
        },
        {
          "output_type": "stream",
          "name": "stderr",
          "text": [
            "WARNING:torchdrug.core.logger:------------------------------\n"
          ]
        },
        {
          "output_type": "stream",
          "name": "stdout",
          "text": [
            "22:31:35   ------------------------------\n"
          ]
        },
        {
          "output_type": "stream",
          "name": "stderr",
          "text": [
            "WARNING:torchdrug.core.logger:average binary cross entropy: 0.500773\n"
          ]
        },
        {
          "output_type": "stream",
          "name": "stdout",
          "text": [
            "22:31:35   average binary cross entropy: 0.500773\n"
          ]
        },
        {
          "output_type": "stream",
          "name": "stderr",
          "text": [
            "WARNING:torchdrug.core.meter:>>>>>>>>>>>>>>>>>>>>>>>>>>>>>>\n"
          ]
        },
        {
          "output_type": "stream",
          "name": "stdout",
          "text": [
            "22:31:35   >>>>>>>>>>>>>>>>>>>>>>>>>>>>>>\n"
          ]
        },
        {
          "output_type": "stream",
          "name": "stderr",
          "text": [
            "WARNING:torchdrug.core.meter:Epoch 23 begin\n"
          ]
        },
        {
          "output_type": "stream",
          "name": "stdout",
          "text": [
            "22:31:35   Epoch 23 begin\n"
          ]
        },
        {
          "output_type": "stream",
          "name": "stderr",
          "text": [
            "WARNING:torchdrug.core.meter:>>>>>>>>>>>>>>>>>>>>>>>>>>>>>>\n"
          ]
        },
        {
          "output_type": "stream",
          "name": "stdout",
          "text": [
            "22:31:35   >>>>>>>>>>>>>>>>>>>>>>>>>>>>>>\n"
          ]
        },
        {
          "output_type": "stream",
          "name": "stderr",
          "text": [
            "WARNING:torchdrug.core.meter:Epoch 23 end\n"
          ]
        },
        {
          "output_type": "stream",
          "name": "stdout",
          "text": [
            "22:31:35   Epoch 23 end\n"
          ]
        },
        {
          "output_type": "stream",
          "name": "stderr",
          "text": [
            "WARNING:torchdrug.core.meter:duration: 0.25 secs\n"
          ]
        },
        {
          "output_type": "stream",
          "name": "stdout",
          "text": [
            "22:31:35   duration: 0.25 secs\n"
          ]
        },
        {
          "output_type": "stream",
          "name": "stderr",
          "text": [
            "WARNING:torchdrug.core.meter:speed: 7.90 batch / sec\n"
          ]
        },
        {
          "output_type": "stream",
          "name": "stdout",
          "text": [
            "22:31:35   speed: 7.90 batch / sec\n"
          ]
        },
        {
          "output_type": "stream",
          "name": "stderr",
          "text": [
            "WARNING:torchdrug.core.meter:ETA: 26.88 secs\n"
          ]
        },
        {
          "output_type": "stream",
          "name": "stdout",
          "text": [
            "22:31:35   ETA: 26.88 secs\n"
          ]
        },
        {
          "output_type": "stream",
          "name": "stderr",
          "text": [
            "WARNING:torchdrug.core.meter:max GPU memory: 744.8 MiB\n"
          ]
        },
        {
          "output_type": "stream",
          "name": "stdout",
          "text": [
            "22:31:35   max GPU memory: 744.8 MiB\n"
          ]
        },
        {
          "output_type": "stream",
          "name": "stderr",
          "text": [
            "WARNING:torchdrug.core.logger:------------------------------\n"
          ]
        },
        {
          "output_type": "stream",
          "name": "stdout",
          "text": [
            "22:31:35   ------------------------------\n"
          ]
        },
        {
          "output_type": "stream",
          "name": "stderr",
          "text": [
            "WARNING:torchdrug.core.logger:average binary cross entropy: 0.491562\n"
          ]
        },
        {
          "output_type": "stream",
          "name": "stdout",
          "text": [
            "22:31:35   average binary cross entropy: 0.491562\n"
          ]
        },
        {
          "output_type": "stream",
          "name": "stderr",
          "text": [
            "WARNING:torchdrug.core.meter:>>>>>>>>>>>>>>>>>>>>>>>>>>>>>>\n"
          ]
        },
        {
          "output_type": "stream",
          "name": "stdout",
          "text": [
            "22:31:35   >>>>>>>>>>>>>>>>>>>>>>>>>>>>>>\n"
          ]
        },
        {
          "output_type": "stream",
          "name": "stderr",
          "text": [
            "WARNING:torchdrug.core.meter:Epoch 24 begin\n"
          ]
        },
        {
          "output_type": "stream",
          "name": "stdout",
          "text": [
            "22:31:35   Epoch 24 begin\n"
          ]
        },
        {
          "output_type": "stream",
          "name": "stderr",
          "text": [
            "WARNING:torchdrug.core.meter:>>>>>>>>>>>>>>>>>>>>>>>>>>>>>>\n"
          ]
        },
        {
          "output_type": "stream",
          "name": "stdout",
          "text": [
            "22:31:36   >>>>>>>>>>>>>>>>>>>>>>>>>>>>>>\n"
          ]
        },
        {
          "output_type": "stream",
          "name": "stderr",
          "text": [
            "WARNING:torchdrug.core.meter:Epoch 24 end\n"
          ]
        },
        {
          "output_type": "stream",
          "name": "stdout",
          "text": [
            "22:31:36   Epoch 24 end\n"
          ]
        },
        {
          "output_type": "stream",
          "name": "stderr",
          "text": [
            "WARNING:torchdrug.core.meter:duration: 0.25 secs\n"
          ]
        },
        {
          "output_type": "stream",
          "name": "stdout",
          "text": [
            "22:31:36   duration: 0.25 secs\n"
          ]
        },
        {
          "output_type": "stream",
          "name": "stderr",
          "text": [
            "WARNING:torchdrug.core.meter:speed: 8.05 batch / sec\n"
          ]
        },
        {
          "output_type": "stream",
          "name": "stdout",
          "text": [
            "22:31:36   speed: 8.05 batch / sec\n"
          ]
        },
        {
          "output_type": "stream",
          "name": "stderr",
          "text": [
            "WARNING:torchdrug.core.meter:ETA: 26.21 secs\n"
          ]
        },
        {
          "output_type": "stream",
          "name": "stdout",
          "text": [
            "22:31:36   ETA: 26.21 secs\n"
          ]
        },
        {
          "output_type": "stream",
          "name": "stderr",
          "text": [
            "WARNING:torchdrug.core.meter:max GPU memory: 739.3 MiB\n"
          ]
        },
        {
          "output_type": "stream",
          "name": "stdout",
          "text": [
            "22:31:36   max GPU memory: 739.3 MiB\n"
          ]
        },
        {
          "output_type": "stream",
          "name": "stderr",
          "text": [
            "WARNING:torchdrug.core.logger:------------------------------\n"
          ]
        },
        {
          "output_type": "stream",
          "name": "stdout",
          "text": [
            "22:31:36   ------------------------------\n"
          ]
        },
        {
          "output_type": "stream",
          "name": "stderr",
          "text": [
            "WARNING:torchdrug.core.logger:average binary cross entropy: 0.549532\n"
          ]
        },
        {
          "output_type": "stream",
          "name": "stdout",
          "text": [
            "22:31:36   average binary cross entropy: 0.549532\n"
          ]
        },
        {
          "output_type": "stream",
          "name": "stderr",
          "text": [
            "WARNING:torchdrug.core.meter:>>>>>>>>>>>>>>>>>>>>>>>>>>>>>>\n"
          ]
        },
        {
          "output_type": "stream",
          "name": "stdout",
          "text": [
            "22:31:36   >>>>>>>>>>>>>>>>>>>>>>>>>>>>>>\n"
          ]
        },
        {
          "output_type": "stream",
          "name": "stderr",
          "text": [
            "WARNING:torchdrug.core.meter:Epoch 25 begin\n"
          ]
        },
        {
          "output_type": "stream",
          "name": "stdout",
          "text": [
            "22:31:36   Epoch 25 begin\n"
          ]
        },
        {
          "output_type": "stream",
          "name": "stderr",
          "text": [
            "WARNING:torchdrug.core.meter:>>>>>>>>>>>>>>>>>>>>>>>>>>>>>>\n"
          ]
        },
        {
          "output_type": "stream",
          "name": "stdout",
          "text": [
            "22:31:36   >>>>>>>>>>>>>>>>>>>>>>>>>>>>>>\n"
          ]
        },
        {
          "output_type": "stream",
          "name": "stderr",
          "text": [
            "WARNING:torchdrug.core.meter:Epoch 25 end\n"
          ]
        },
        {
          "output_type": "stream",
          "name": "stdout",
          "text": [
            "22:31:36   Epoch 25 end\n"
          ]
        },
        {
          "output_type": "stream",
          "name": "stderr",
          "text": [
            "WARNING:torchdrug.core.meter:duration: 0.26 secs\n"
          ]
        },
        {
          "output_type": "stream",
          "name": "stdout",
          "text": [
            "22:31:36   duration: 0.26 secs\n"
          ]
        },
        {
          "output_type": "stream",
          "name": "stderr",
          "text": [
            "WARNING:torchdrug.core.meter:speed: 7.65 batch / sec\n"
          ]
        },
        {
          "output_type": "stream",
          "name": "stdout",
          "text": [
            "22:31:36   speed: 7.65 batch / sec\n"
          ]
        },
        {
          "output_type": "stream",
          "name": "stderr",
          "text": [
            "WARNING:torchdrug.core.meter:ETA: 25.61 secs\n"
          ]
        },
        {
          "output_type": "stream",
          "name": "stdout",
          "text": [
            "22:31:36   ETA: 25.61 secs\n"
          ]
        },
        {
          "output_type": "stream",
          "name": "stderr",
          "text": [
            "WARNING:torchdrug.core.meter:max GPU memory: 747.7 MiB\n"
          ]
        },
        {
          "output_type": "stream",
          "name": "stdout",
          "text": [
            "22:31:36   max GPU memory: 747.7 MiB\n"
          ]
        },
        {
          "output_type": "stream",
          "name": "stderr",
          "text": [
            "WARNING:torchdrug.core.logger:------------------------------\n"
          ]
        },
        {
          "output_type": "stream",
          "name": "stdout",
          "text": [
            "22:31:36   ------------------------------\n"
          ]
        },
        {
          "output_type": "stream",
          "name": "stderr",
          "text": [
            "WARNING:torchdrug.core.logger:average binary cross entropy: 0.6275\n"
          ]
        },
        {
          "output_type": "stream",
          "name": "stdout",
          "text": [
            "22:31:36   average binary cross entropy: 0.6275\n"
          ]
        },
        {
          "output_type": "stream",
          "name": "stderr",
          "text": [
            "WARNING:torchdrug.core.meter:>>>>>>>>>>>>>>>>>>>>>>>>>>>>>>\n"
          ]
        },
        {
          "output_type": "stream",
          "name": "stdout",
          "text": [
            "22:31:36   >>>>>>>>>>>>>>>>>>>>>>>>>>>>>>\n"
          ]
        },
        {
          "output_type": "stream",
          "name": "stderr",
          "text": [
            "WARNING:torchdrug.core.meter:Epoch 26 begin\n"
          ]
        },
        {
          "output_type": "stream",
          "name": "stdout",
          "text": [
            "22:31:36   Epoch 26 begin\n"
          ]
        },
        {
          "output_type": "stream",
          "name": "stderr",
          "text": [
            "WARNING:torchdrug.core.meter:>>>>>>>>>>>>>>>>>>>>>>>>>>>>>>\n"
          ]
        },
        {
          "output_type": "stream",
          "name": "stdout",
          "text": [
            "22:31:36   >>>>>>>>>>>>>>>>>>>>>>>>>>>>>>\n"
          ]
        },
        {
          "output_type": "stream",
          "name": "stderr",
          "text": [
            "WARNING:torchdrug.core.meter:Epoch 26 end\n"
          ]
        },
        {
          "output_type": "stream",
          "name": "stdout",
          "text": [
            "22:31:36   Epoch 26 end\n"
          ]
        },
        {
          "output_type": "stream",
          "name": "stderr",
          "text": [
            "WARNING:torchdrug.core.meter:duration: 0.24 secs\n"
          ]
        },
        {
          "output_type": "stream",
          "name": "stdout",
          "text": [
            "22:31:36   duration: 0.24 secs\n"
          ]
        },
        {
          "output_type": "stream",
          "name": "stderr",
          "text": [
            "WARNING:torchdrug.core.meter:speed: 8.18 batch / sec\n"
          ]
        },
        {
          "output_type": "stream",
          "name": "stdout",
          "text": [
            "22:31:36   speed: 8.18 batch / sec\n"
          ]
        },
        {
          "output_type": "stream",
          "name": "stderr",
          "text": [
            "WARNING:torchdrug.core.meter:ETA: 24.99 secs\n"
          ]
        },
        {
          "output_type": "stream",
          "name": "stdout",
          "text": [
            "22:31:36   ETA: 24.99 secs\n"
          ]
        },
        {
          "output_type": "stream",
          "name": "stderr",
          "text": [
            "WARNING:torchdrug.core.meter:max GPU memory: 745.6 MiB\n"
          ]
        },
        {
          "output_type": "stream",
          "name": "stdout",
          "text": [
            "22:31:36   max GPU memory: 745.6 MiB\n"
          ]
        },
        {
          "output_type": "stream",
          "name": "stderr",
          "text": [
            "WARNING:torchdrug.core.logger:------------------------------\n"
          ]
        },
        {
          "output_type": "stream",
          "name": "stdout",
          "text": [
            "22:31:36   ------------------------------\n"
          ]
        },
        {
          "output_type": "stream",
          "name": "stderr",
          "text": [
            "WARNING:torchdrug.core.logger:average binary cross entropy: 0.48934\n"
          ]
        },
        {
          "output_type": "stream",
          "name": "stdout",
          "text": [
            "22:31:36   average binary cross entropy: 0.48934\n"
          ]
        },
        {
          "output_type": "stream",
          "name": "stderr",
          "text": [
            "WARNING:torchdrug.core.meter:>>>>>>>>>>>>>>>>>>>>>>>>>>>>>>\n"
          ]
        },
        {
          "output_type": "stream",
          "name": "stdout",
          "text": [
            "22:31:36   >>>>>>>>>>>>>>>>>>>>>>>>>>>>>>\n"
          ]
        },
        {
          "output_type": "stream",
          "name": "stderr",
          "text": [
            "WARNING:torchdrug.core.meter:Epoch 27 begin\n"
          ]
        },
        {
          "output_type": "stream",
          "name": "stdout",
          "text": [
            "22:31:36   Epoch 27 begin\n"
          ]
        },
        {
          "output_type": "stream",
          "name": "stderr",
          "text": [
            "WARNING:torchdrug.core.meter:>>>>>>>>>>>>>>>>>>>>>>>>>>>>>>\n"
          ]
        },
        {
          "output_type": "stream",
          "name": "stdout",
          "text": [
            "22:31:36   >>>>>>>>>>>>>>>>>>>>>>>>>>>>>>\n"
          ]
        },
        {
          "output_type": "stream",
          "name": "stderr",
          "text": [
            "WARNING:torchdrug.core.meter:Epoch 27 end\n"
          ]
        },
        {
          "output_type": "stream",
          "name": "stdout",
          "text": [
            "22:31:36   Epoch 27 end\n"
          ]
        },
        {
          "output_type": "stream",
          "name": "stderr",
          "text": [
            "WARNING:torchdrug.core.meter:duration: 0.26 secs\n"
          ]
        },
        {
          "output_type": "stream",
          "name": "stdout",
          "text": [
            "22:31:36   duration: 0.26 secs\n"
          ]
        },
        {
          "output_type": "stream",
          "name": "stderr",
          "text": [
            "WARNING:torchdrug.core.meter:speed: 7.56 batch / sec\n"
          ]
        },
        {
          "output_type": "stream",
          "name": "stdout",
          "text": [
            "22:31:36   speed: 7.56 batch / sec\n"
          ]
        },
        {
          "output_type": "stream",
          "name": "stderr",
          "text": [
            "WARNING:torchdrug.core.meter:ETA: 24.45 secs\n"
          ]
        },
        {
          "output_type": "stream",
          "name": "stdout",
          "text": [
            "22:31:36   ETA: 24.45 secs\n"
          ]
        },
        {
          "output_type": "stream",
          "name": "stderr",
          "text": [
            "WARNING:torchdrug.core.meter:max GPU memory: 747.9 MiB\n"
          ]
        },
        {
          "output_type": "stream",
          "name": "stdout",
          "text": [
            "22:31:36   max GPU memory: 747.9 MiB\n"
          ]
        },
        {
          "output_type": "stream",
          "name": "stderr",
          "text": [
            "WARNING:torchdrug.core.logger:------------------------------\n"
          ]
        },
        {
          "output_type": "stream",
          "name": "stdout",
          "text": [
            "22:31:36   ------------------------------\n"
          ]
        },
        {
          "output_type": "stream",
          "name": "stderr",
          "text": [
            "WARNING:torchdrug.core.logger:average binary cross entropy: 0.533599\n"
          ]
        },
        {
          "output_type": "stream",
          "name": "stdout",
          "text": [
            "22:31:36   average binary cross entropy: 0.533599\n"
          ]
        },
        {
          "output_type": "stream",
          "name": "stderr",
          "text": [
            "WARNING:torchdrug.core.meter:>>>>>>>>>>>>>>>>>>>>>>>>>>>>>>\n"
          ]
        },
        {
          "output_type": "stream",
          "name": "stdout",
          "text": [
            "22:31:36   >>>>>>>>>>>>>>>>>>>>>>>>>>>>>>\n"
          ]
        },
        {
          "output_type": "stream",
          "name": "stderr",
          "text": [
            "WARNING:torchdrug.core.meter:Epoch 28 begin\n"
          ]
        },
        {
          "output_type": "stream",
          "name": "stdout",
          "text": [
            "22:31:36   Epoch 28 begin\n"
          ]
        },
        {
          "output_type": "stream",
          "name": "stderr",
          "text": [
            "WARNING:torchdrug.core.meter:>>>>>>>>>>>>>>>>>>>>>>>>>>>>>>\n"
          ]
        },
        {
          "output_type": "stream",
          "name": "stdout",
          "text": [
            "22:31:37   >>>>>>>>>>>>>>>>>>>>>>>>>>>>>>\n"
          ]
        },
        {
          "output_type": "stream",
          "name": "stderr",
          "text": [
            "WARNING:torchdrug.core.meter:Epoch 28 end\n"
          ]
        },
        {
          "output_type": "stream",
          "name": "stdout",
          "text": [
            "22:31:37   Epoch 28 end\n"
          ]
        },
        {
          "output_type": "stream",
          "name": "stderr",
          "text": [
            "WARNING:torchdrug.core.meter:duration: 0.28 secs\n"
          ]
        },
        {
          "output_type": "stream",
          "name": "stdout",
          "text": [
            "22:31:37   duration: 0.28 secs\n"
          ]
        },
        {
          "output_type": "stream",
          "name": "stderr",
          "text": [
            "WARNING:torchdrug.core.meter:speed: 7.17 batch / sec\n"
          ]
        },
        {
          "output_type": "stream",
          "name": "stdout",
          "text": [
            "22:31:37   speed: 7.17 batch / sec\n"
          ]
        },
        {
          "output_type": "stream",
          "name": "stderr",
          "text": [
            "WARNING:torchdrug.core.meter:ETA: 23.96 secs\n"
          ]
        },
        {
          "output_type": "stream",
          "name": "stdout",
          "text": [
            "22:31:37   ETA: 23.96 secs\n"
          ]
        },
        {
          "output_type": "stream",
          "name": "stderr",
          "text": [
            "WARNING:torchdrug.core.meter:max GPU memory: 747.5 MiB\n"
          ]
        },
        {
          "output_type": "stream",
          "name": "stdout",
          "text": [
            "22:31:37   max GPU memory: 747.5 MiB\n"
          ]
        },
        {
          "output_type": "stream",
          "name": "stderr",
          "text": [
            "WARNING:torchdrug.core.logger:------------------------------\n"
          ]
        },
        {
          "output_type": "stream",
          "name": "stdout",
          "text": [
            "22:31:37   ------------------------------\n"
          ]
        },
        {
          "output_type": "stream",
          "name": "stderr",
          "text": [
            "WARNING:torchdrug.core.logger:average binary cross entropy: 0.451033\n"
          ]
        },
        {
          "output_type": "stream",
          "name": "stdout",
          "text": [
            "22:31:37   average binary cross entropy: 0.451033\n"
          ]
        },
        {
          "output_type": "stream",
          "name": "stderr",
          "text": [
            "WARNING:torchdrug.core.meter:>>>>>>>>>>>>>>>>>>>>>>>>>>>>>>\n"
          ]
        },
        {
          "output_type": "stream",
          "name": "stdout",
          "text": [
            "22:31:37   >>>>>>>>>>>>>>>>>>>>>>>>>>>>>>\n"
          ]
        },
        {
          "output_type": "stream",
          "name": "stderr",
          "text": [
            "WARNING:torchdrug.core.meter:Epoch 29 begin\n"
          ]
        },
        {
          "output_type": "stream",
          "name": "stdout",
          "text": [
            "22:31:37   Epoch 29 begin\n"
          ]
        },
        {
          "output_type": "stream",
          "name": "stderr",
          "text": [
            "WARNING:torchdrug.core.meter:>>>>>>>>>>>>>>>>>>>>>>>>>>>>>>\n"
          ]
        },
        {
          "output_type": "stream",
          "name": "stdout",
          "text": [
            "22:31:37   >>>>>>>>>>>>>>>>>>>>>>>>>>>>>>\n"
          ]
        },
        {
          "output_type": "stream",
          "name": "stderr",
          "text": [
            "WARNING:torchdrug.core.meter:Epoch 29 end\n"
          ]
        },
        {
          "output_type": "stream",
          "name": "stdout",
          "text": [
            "22:31:37   Epoch 29 end\n"
          ]
        },
        {
          "output_type": "stream",
          "name": "stderr",
          "text": [
            "WARNING:torchdrug.core.meter:duration: 0.26 secs\n"
          ]
        },
        {
          "output_type": "stream",
          "name": "stdout",
          "text": [
            "22:31:37   duration: 0.26 secs\n"
          ]
        },
        {
          "output_type": "stream",
          "name": "stderr",
          "text": [
            "WARNING:torchdrug.core.meter:speed: 7.83 batch / sec\n"
          ]
        },
        {
          "output_type": "stream",
          "name": "stdout",
          "text": [
            "22:31:37   speed: 7.83 batch / sec\n"
          ]
        },
        {
          "output_type": "stream",
          "name": "stderr",
          "text": [
            "WARNING:torchdrug.core.meter:ETA: 23.43 secs\n"
          ]
        },
        {
          "output_type": "stream",
          "name": "stdout",
          "text": [
            "22:31:37   ETA: 23.43 secs\n"
          ]
        },
        {
          "output_type": "stream",
          "name": "stderr",
          "text": [
            "WARNING:torchdrug.core.meter:max GPU memory: 743.8 MiB\n"
          ]
        },
        {
          "output_type": "stream",
          "name": "stdout",
          "text": [
            "22:31:37   max GPU memory: 743.8 MiB\n"
          ]
        },
        {
          "output_type": "stream",
          "name": "stderr",
          "text": [
            "WARNING:torchdrug.core.logger:------------------------------\n"
          ]
        },
        {
          "output_type": "stream",
          "name": "stdout",
          "text": [
            "22:31:37   ------------------------------\n"
          ]
        },
        {
          "output_type": "stream",
          "name": "stderr",
          "text": [
            "WARNING:torchdrug.core.logger:average binary cross entropy: 0.380993\n"
          ]
        },
        {
          "output_type": "stream",
          "name": "stdout",
          "text": [
            "22:31:37   average binary cross entropy: 0.380993\n"
          ]
        },
        {
          "output_type": "stream",
          "name": "stderr",
          "text": [
            "WARNING:torchdrug.core.meter:>>>>>>>>>>>>>>>>>>>>>>>>>>>>>>\n"
          ]
        },
        {
          "output_type": "stream",
          "name": "stdout",
          "text": [
            "22:31:37   >>>>>>>>>>>>>>>>>>>>>>>>>>>>>>\n"
          ]
        },
        {
          "output_type": "stream",
          "name": "stderr",
          "text": [
            "WARNING:torchdrug.core.meter:Epoch 30 begin\n"
          ]
        },
        {
          "output_type": "stream",
          "name": "stdout",
          "text": [
            "22:31:37   Epoch 30 begin\n"
          ]
        },
        {
          "output_type": "stream",
          "name": "stderr",
          "text": [
            "WARNING:torchdrug.core.meter:>>>>>>>>>>>>>>>>>>>>>>>>>>>>>>\n"
          ]
        },
        {
          "output_type": "stream",
          "name": "stdout",
          "text": [
            "22:31:37   >>>>>>>>>>>>>>>>>>>>>>>>>>>>>>\n"
          ]
        },
        {
          "output_type": "stream",
          "name": "stderr",
          "text": [
            "WARNING:torchdrug.core.meter:Epoch 30 end\n"
          ]
        },
        {
          "output_type": "stream",
          "name": "stdout",
          "text": [
            "22:31:37   Epoch 30 end\n"
          ]
        },
        {
          "output_type": "stream",
          "name": "stderr",
          "text": [
            "WARNING:torchdrug.core.meter:duration: 0.24 secs\n"
          ]
        },
        {
          "output_type": "stream",
          "name": "stdout",
          "text": [
            "22:31:37   duration: 0.24 secs\n"
          ]
        },
        {
          "output_type": "stream",
          "name": "stderr",
          "text": [
            "WARNING:torchdrug.core.meter:speed: 8.36 batch / sec\n"
          ]
        },
        {
          "output_type": "stream",
          "name": "stdout",
          "text": [
            "22:31:37   speed: 8.36 batch / sec\n"
          ]
        },
        {
          "output_type": "stream",
          "name": "stderr",
          "text": [
            "WARNING:torchdrug.core.meter:ETA: 22.88 secs\n"
          ]
        },
        {
          "output_type": "stream",
          "name": "stdout",
          "text": [
            "22:31:37   ETA: 22.88 secs\n"
          ]
        },
        {
          "output_type": "stream",
          "name": "stderr",
          "text": [
            "WARNING:torchdrug.core.meter:max GPU memory: 747.0 MiB\n"
          ]
        },
        {
          "output_type": "stream",
          "name": "stdout",
          "text": [
            "22:31:37   max GPU memory: 747.0 MiB\n"
          ]
        },
        {
          "output_type": "stream",
          "name": "stderr",
          "text": [
            "WARNING:torchdrug.core.logger:------------------------------\n"
          ]
        },
        {
          "output_type": "stream",
          "name": "stdout",
          "text": [
            "22:31:37   ------------------------------\n"
          ]
        },
        {
          "output_type": "stream",
          "name": "stderr",
          "text": [
            "WARNING:torchdrug.core.logger:average binary cross entropy: 0.375137\n"
          ]
        },
        {
          "output_type": "stream",
          "name": "stdout",
          "text": [
            "22:31:37   average binary cross entropy: 0.375137\n"
          ]
        },
        {
          "output_type": "stream",
          "name": "stderr",
          "text": [
            "WARNING:torchdrug.core.meter:>>>>>>>>>>>>>>>>>>>>>>>>>>>>>>\n"
          ]
        },
        {
          "output_type": "stream",
          "name": "stdout",
          "text": [
            "22:31:37   >>>>>>>>>>>>>>>>>>>>>>>>>>>>>>\n"
          ]
        },
        {
          "output_type": "stream",
          "name": "stderr",
          "text": [
            "WARNING:torchdrug.core.meter:Epoch 31 begin\n"
          ]
        },
        {
          "output_type": "stream",
          "name": "stdout",
          "text": [
            "22:31:37   Epoch 31 begin\n"
          ]
        },
        {
          "output_type": "stream",
          "name": "stderr",
          "text": [
            "WARNING:torchdrug.core.meter:>>>>>>>>>>>>>>>>>>>>>>>>>>>>>>\n"
          ]
        },
        {
          "output_type": "stream",
          "name": "stdout",
          "text": [
            "22:31:37   >>>>>>>>>>>>>>>>>>>>>>>>>>>>>>\n"
          ]
        },
        {
          "output_type": "stream",
          "name": "stderr",
          "text": [
            "WARNING:torchdrug.core.meter:Epoch 31 end\n"
          ]
        },
        {
          "output_type": "stream",
          "name": "stdout",
          "text": [
            "22:31:37   Epoch 31 end\n"
          ]
        },
        {
          "output_type": "stream",
          "name": "stderr",
          "text": [
            "WARNING:torchdrug.core.meter:duration: 0.24 secs\n"
          ]
        },
        {
          "output_type": "stream",
          "name": "stdout",
          "text": [
            "22:31:37   duration: 0.24 secs\n"
          ]
        },
        {
          "output_type": "stream",
          "name": "stderr",
          "text": [
            "WARNING:torchdrug.core.meter:speed: 8.23 batch / sec\n"
          ]
        },
        {
          "output_type": "stream",
          "name": "stdout",
          "text": [
            "22:31:37   speed: 8.23 batch / sec\n"
          ]
        },
        {
          "output_type": "stream",
          "name": "stderr",
          "text": [
            "WARNING:torchdrug.core.meter:ETA: 22.36 secs\n"
          ]
        },
        {
          "output_type": "stream",
          "name": "stdout",
          "text": [
            "22:31:37   ETA: 22.36 secs\n"
          ]
        },
        {
          "output_type": "stream",
          "name": "stderr",
          "text": [
            "WARNING:torchdrug.core.meter:max GPU memory: 739.5 MiB\n"
          ]
        },
        {
          "output_type": "stream",
          "name": "stdout",
          "text": [
            "22:31:37   max GPU memory: 739.5 MiB\n"
          ]
        },
        {
          "output_type": "stream",
          "name": "stderr",
          "text": [
            "WARNING:torchdrug.core.logger:------------------------------\n"
          ]
        },
        {
          "output_type": "stream",
          "name": "stdout",
          "text": [
            "22:31:37   ------------------------------\n"
          ]
        },
        {
          "output_type": "stream",
          "name": "stderr",
          "text": [
            "WARNING:torchdrug.core.logger:average binary cross entropy: 0.328497\n"
          ]
        },
        {
          "output_type": "stream",
          "name": "stdout",
          "text": [
            "22:31:37   average binary cross entropy: 0.328497\n"
          ]
        },
        {
          "output_type": "stream",
          "name": "stderr",
          "text": [
            "WARNING:torchdrug.core.meter:>>>>>>>>>>>>>>>>>>>>>>>>>>>>>>\n"
          ]
        },
        {
          "output_type": "stream",
          "name": "stdout",
          "text": [
            "22:31:37   >>>>>>>>>>>>>>>>>>>>>>>>>>>>>>\n"
          ]
        },
        {
          "output_type": "stream",
          "name": "stderr",
          "text": [
            "WARNING:torchdrug.core.meter:Epoch 32 begin\n"
          ]
        },
        {
          "output_type": "stream",
          "name": "stdout",
          "text": [
            "22:31:37   Epoch 32 begin\n"
          ]
        },
        {
          "output_type": "stream",
          "name": "stderr",
          "text": [
            "WARNING:torchdrug.core.meter:>>>>>>>>>>>>>>>>>>>>>>>>>>>>>>\n"
          ]
        },
        {
          "output_type": "stream",
          "name": "stdout",
          "text": [
            "22:31:38   >>>>>>>>>>>>>>>>>>>>>>>>>>>>>>\n"
          ]
        },
        {
          "output_type": "stream",
          "name": "stderr",
          "text": [
            "WARNING:torchdrug.core.meter:Epoch 32 end\n"
          ]
        },
        {
          "output_type": "stream",
          "name": "stdout",
          "text": [
            "22:31:38   Epoch 32 end\n"
          ]
        },
        {
          "output_type": "stream",
          "name": "stderr",
          "text": [
            "WARNING:torchdrug.core.meter:duration: 0.26 secs\n"
          ]
        },
        {
          "output_type": "stream",
          "name": "stdout",
          "text": [
            "22:31:38   duration: 0.26 secs\n"
          ]
        },
        {
          "output_type": "stream",
          "name": "stderr",
          "text": [
            "WARNING:torchdrug.core.meter:speed: 7.75 batch / sec\n"
          ]
        },
        {
          "output_type": "stream",
          "name": "stdout",
          "text": [
            "22:31:38   speed: 7.75 batch / sec\n"
          ]
        },
        {
          "output_type": "stream",
          "name": "stderr",
          "text": [
            "WARNING:torchdrug.core.meter:ETA: 21.89 secs\n"
          ]
        },
        {
          "output_type": "stream",
          "name": "stdout",
          "text": [
            "22:31:38   ETA: 21.89 secs\n"
          ]
        },
        {
          "output_type": "stream",
          "name": "stderr",
          "text": [
            "WARNING:torchdrug.core.meter:max GPU memory: 748.8 MiB\n"
          ]
        },
        {
          "output_type": "stream",
          "name": "stdout",
          "text": [
            "22:31:38   max GPU memory: 748.8 MiB\n"
          ]
        },
        {
          "output_type": "stream",
          "name": "stderr",
          "text": [
            "WARNING:torchdrug.core.logger:------------------------------\n"
          ]
        },
        {
          "output_type": "stream",
          "name": "stdout",
          "text": [
            "22:31:38   ------------------------------\n"
          ]
        },
        {
          "output_type": "stream",
          "name": "stderr",
          "text": [
            "WARNING:torchdrug.core.logger:average binary cross entropy: 0.317812\n"
          ]
        },
        {
          "output_type": "stream",
          "name": "stdout",
          "text": [
            "22:31:38   average binary cross entropy: 0.317812\n"
          ]
        },
        {
          "output_type": "stream",
          "name": "stderr",
          "text": [
            "WARNING:torchdrug.core.meter:>>>>>>>>>>>>>>>>>>>>>>>>>>>>>>\n"
          ]
        },
        {
          "output_type": "stream",
          "name": "stdout",
          "text": [
            "22:31:38   >>>>>>>>>>>>>>>>>>>>>>>>>>>>>>\n"
          ]
        },
        {
          "output_type": "stream",
          "name": "stderr",
          "text": [
            "WARNING:torchdrug.core.meter:Epoch 33 begin\n"
          ]
        },
        {
          "output_type": "stream",
          "name": "stdout",
          "text": [
            "22:31:38   Epoch 33 begin\n"
          ]
        },
        {
          "output_type": "stream",
          "name": "stderr",
          "text": [
            "WARNING:torchdrug.core.meter:>>>>>>>>>>>>>>>>>>>>>>>>>>>>>>\n"
          ]
        },
        {
          "output_type": "stream",
          "name": "stdout",
          "text": [
            "22:31:38   >>>>>>>>>>>>>>>>>>>>>>>>>>>>>>\n"
          ]
        },
        {
          "output_type": "stream",
          "name": "stderr",
          "text": [
            "WARNING:torchdrug.core.meter:Epoch 33 end\n"
          ]
        },
        {
          "output_type": "stream",
          "name": "stdout",
          "text": [
            "22:31:38   Epoch 33 end\n"
          ]
        },
        {
          "output_type": "stream",
          "name": "stderr",
          "text": [
            "WARNING:torchdrug.core.meter:duration: 0.27 secs\n"
          ]
        },
        {
          "output_type": "stream",
          "name": "stdout",
          "text": [
            "22:31:38   duration: 0.27 secs\n"
          ]
        },
        {
          "output_type": "stream",
          "name": "stderr",
          "text": [
            "WARNING:torchdrug.core.meter:speed: 7.47 batch / sec\n"
          ]
        },
        {
          "output_type": "stream",
          "name": "stdout",
          "text": [
            "22:31:38   speed: 7.47 batch / sec\n"
          ]
        },
        {
          "output_type": "stream",
          "name": "stderr",
          "text": [
            "WARNING:torchdrug.core.meter:ETA: 21.45 secs\n"
          ]
        },
        {
          "output_type": "stream",
          "name": "stdout",
          "text": [
            "22:31:38   ETA: 21.45 secs\n"
          ]
        },
        {
          "output_type": "stream",
          "name": "stderr",
          "text": [
            "WARNING:torchdrug.core.meter:max GPU memory: 740.9 MiB\n"
          ]
        },
        {
          "output_type": "stream",
          "name": "stdout",
          "text": [
            "22:31:38   max GPU memory: 740.9 MiB\n"
          ]
        },
        {
          "output_type": "stream",
          "name": "stderr",
          "text": [
            "WARNING:torchdrug.core.logger:------------------------------\n"
          ]
        },
        {
          "output_type": "stream",
          "name": "stdout",
          "text": [
            "22:31:38   ------------------------------\n"
          ]
        },
        {
          "output_type": "stream",
          "name": "stderr",
          "text": [
            "WARNING:torchdrug.core.logger:average binary cross entropy: 0.269998\n"
          ]
        },
        {
          "output_type": "stream",
          "name": "stdout",
          "text": [
            "22:31:38   average binary cross entropy: 0.269998\n"
          ]
        },
        {
          "output_type": "stream",
          "name": "stderr",
          "text": [
            "WARNING:torchdrug.core.meter:>>>>>>>>>>>>>>>>>>>>>>>>>>>>>>\n"
          ]
        },
        {
          "output_type": "stream",
          "name": "stdout",
          "text": [
            "22:31:38   >>>>>>>>>>>>>>>>>>>>>>>>>>>>>>\n"
          ]
        },
        {
          "output_type": "stream",
          "name": "stderr",
          "text": [
            "WARNING:torchdrug.core.meter:Epoch 34 begin\n"
          ]
        },
        {
          "output_type": "stream",
          "name": "stdout",
          "text": [
            "22:31:38   Epoch 34 begin\n"
          ]
        },
        {
          "output_type": "stream",
          "name": "stderr",
          "text": [
            "WARNING:torchdrug.core.meter:>>>>>>>>>>>>>>>>>>>>>>>>>>>>>>\n"
          ]
        },
        {
          "output_type": "stream",
          "name": "stdout",
          "text": [
            "22:31:38   >>>>>>>>>>>>>>>>>>>>>>>>>>>>>>\n"
          ]
        },
        {
          "output_type": "stream",
          "name": "stderr",
          "text": [
            "WARNING:torchdrug.core.meter:Epoch 34 end\n"
          ]
        },
        {
          "output_type": "stream",
          "name": "stdout",
          "text": [
            "22:31:38   Epoch 34 end\n"
          ]
        },
        {
          "output_type": "stream",
          "name": "stderr",
          "text": [
            "WARNING:torchdrug.core.meter:duration: 0.25 secs\n"
          ]
        },
        {
          "output_type": "stream",
          "name": "stdout",
          "text": [
            "22:31:38   duration: 0.25 secs\n"
          ]
        },
        {
          "output_type": "stream",
          "name": "stderr",
          "text": [
            "WARNING:torchdrug.core.meter:speed: 7.87 batch / sec\n"
          ]
        },
        {
          "output_type": "stream",
          "name": "stdout",
          "text": [
            "22:31:38   speed: 7.87 batch / sec\n"
          ]
        },
        {
          "output_type": "stream",
          "name": "stderr",
          "text": [
            "WARNING:torchdrug.core.meter:ETA: 20.99 secs\n"
          ]
        },
        {
          "output_type": "stream",
          "name": "stdout",
          "text": [
            "22:31:38   ETA: 20.99 secs\n"
          ]
        },
        {
          "output_type": "stream",
          "name": "stderr",
          "text": [
            "WARNING:torchdrug.core.meter:max GPU memory: 736.3 MiB\n"
          ]
        },
        {
          "output_type": "stream",
          "name": "stdout",
          "text": [
            "22:31:38   max GPU memory: 736.3 MiB\n"
          ]
        },
        {
          "output_type": "stream",
          "name": "stderr",
          "text": [
            "WARNING:torchdrug.core.logger:------------------------------\n"
          ]
        },
        {
          "output_type": "stream",
          "name": "stdout",
          "text": [
            "22:31:38   ------------------------------\n"
          ]
        },
        {
          "output_type": "stream",
          "name": "stderr",
          "text": [
            "WARNING:torchdrug.core.logger:average binary cross entropy: 0.298488\n"
          ]
        },
        {
          "output_type": "stream",
          "name": "stdout",
          "text": [
            "22:31:38   average binary cross entropy: 0.298488\n"
          ]
        },
        {
          "output_type": "stream",
          "name": "stderr",
          "text": [
            "WARNING:torchdrug.core.meter:>>>>>>>>>>>>>>>>>>>>>>>>>>>>>>\n"
          ]
        },
        {
          "output_type": "stream",
          "name": "stdout",
          "text": [
            "22:31:38   >>>>>>>>>>>>>>>>>>>>>>>>>>>>>>\n"
          ]
        },
        {
          "output_type": "stream",
          "name": "stderr",
          "text": [
            "WARNING:torchdrug.core.meter:Epoch 35 begin\n"
          ]
        },
        {
          "output_type": "stream",
          "name": "stdout",
          "text": [
            "22:31:38   Epoch 35 begin\n"
          ]
        },
        {
          "output_type": "stream",
          "name": "stderr",
          "text": [
            "WARNING:torchdrug.core.meter:>>>>>>>>>>>>>>>>>>>>>>>>>>>>>>\n"
          ]
        },
        {
          "output_type": "stream",
          "name": "stdout",
          "text": [
            "22:31:38   >>>>>>>>>>>>>>>>>>>>>>>>>>>>>>\n"
          ]
        },
        {
          "output_type": "stream",
          "name": "stderr",
          "text": [
            "WARNING:torchdrug.core.meter:Epoch 35 end\n"
          ]
        },
        {
          "output_type": "stream",
          "name": "stdout",
          "text": [
            "22:31:38   Epoch 35 end\n"
          ]
        },
        {
          "output_type": "stream",
          "name": "stderr",
          "text": [
            "WARNING:torchdrug.core.meter:duration: 0.25 secs\n"
          ]
        },
        {
          "output_type": "stream",
          "name": "stdout",
          "text": [
            "22:31:38   duration: 0.25 secs\n"
          ]
        },
        {
          "output_type": "stream",
          "name": "stderr",
          "text": [
            "WARNING:torchdrug.core.meter:speed: 8.02 batch / sec\n"
          ]
        },
        {
          "output_type": "stream",
          "name": "stdout",
          "text": [
            "22:31:38   speed: 8.02 batch / sec\n"
          ]
        },
        {
          "output_type": "stream",
          "name": "stderr",
          "text": [
            "WARNING:torchdrug.core.meter:ETA: 20.54 secs\n"
          ]
        },
        {
          "output_type": "stream",
          "name": "stdout",
          "text": [
            "22:31:38   ETA: 20.54 secs\n"
          ]
        },
        {
          "output_type": "stream",
          "name": "stderr",
          "text": [
            "WARNING:torchdrug.core.meter:max GPU memory: 740.9 MiB\n"
          ]
        },
        {
          "output_type": "stream",
          "name": "stdout",
          "text": [
            "22:31:38   max GPU memory: 740.9 MiB\n"
          ]
        },
        {
          "output_type": "stream",
          "name": "stderr",
          "text": [
            "WARNING:torchdrug.core.logger:------------------------------\n"
          ]
        },
        {
          "output_type": "stream",
          "name": "stdout",
          "text": [
            "22:31:38   ------------------------------\n"
          ]
        },
        {
          "output_type": "stream",
          "name": "stderr",
          "text": [
            "WARNING:torchdrug.core.logger:average binary cross entropy: 0.260633\n"
          ]
        },
        {
          "output_type": "stream",
          "name": "stdout",
          "text": [
            "22:31:38   average binary cross entropy: 0.260633\n"
          ]
        },
        {
          "output_type": "stream",
          "name": "stderr",
          "text": [
            "WARNING:torchdrug.core.meter:>>>>>>>>>>>>>>>>>>>>>>>>>>>>>>\n"
          ]
        },
        {
          "output_type": "stream",
          "name": "stdout",
          "text": [
            "22:31:38   >>>>>>>>>>>>>>>>>>>>>>>>>>>>>>\n"
          ]
        },
        {
          "output_type": "stream",
          "name": "stderr",
          "text": [
            "WARNING:torchdrug.core.meter:Epoch 36 begin\n"
          ]
        },
        {
          "output_type": "stream",
          "name": "stdout",
          "text": [
            "22:31:38   Epoch 36 begin\n"
          ]
        },
        {
          "output_type": "stream",
          "name": "stderr",
          "text": [
            "WARNING:torchdrug.core.meter:>>>>>>>>>>>>>>>>>>>>>>>>>>>>>>\n"
          ]
        },
        {
          "output_type": "stream",
          "name": "stdout",
          "text": [
            "22:31:39   >>>>>>>>>>>>>>>>>>>>>>>>>>>>>>\n"
          ]
        },
        {
          "output_type": "stream",
          "name": "stderr",
          "text": [
            "WARNING:torchdrug.core.meter:Epoch 36 end\n"
          ]
        },
        {
          "output_type": "stream",
          "name": "stdout",
          "text": [
            "22:31:39   Epoch 36 end\n"
          ]
        },
        {
          "output_type": "stream",
          "name": "stderr",
          "text": [
            "WARNING:torchdrug.core.meter:duration: 0.25 secs\n"
          ]
        },
        {
          "output_type": "stream",
          "name": "stdout",
          "text": [
            "22:31:39   duration: 0.25 secs\n"
          ]
        },
        {
          "output_type": "stream",
          "name": "stderr",
          "text": [
            "WARNING:torchdrug.core.meter:speed: 8.08 batch / sec\n"
          ]
        },
        {
          "output_type": "stream",
          "name": "stdout",
          "text": [
            "22:31:39   speed: 8.08 batch / sec\n"
          ]
        },
        {
          "output_type": "stream",
          "name": "stderr",
          "text": [
            "WARNING:torchdrug.core.meter:ETA: 20.09 secs\n"
          ]
        },
        {
          "output_type": "stream",
          "name": "stdout",
          "text": [
            "22:31:39   ETA: 20.09 secs\n"
          ]
        },
        {
          "output_type": "stream",
          "name": "stderr",
          "text": [
            "WARNING:torchdrug.core.meter:max GPU memory: 740.7 MiB\n"
          ]
        },
        {
          "output_type": "stream",
          "name": "stdout",
          "text": [
            "22:31:39   max GPU memory: 740.7 MiB\n"
          ]
        },
        {
          "output_type": "stream",
          "name": "stderr",
          "text": [
            "WARNING:torchdrug.core.logger:------------------------------\n"
          ]
        },
        {
          "output_type": "stream",
          "name": "stdout",
          "text": [
            "22:31:39   ------------------------------\n"
          ]
        },
        {
          "output_type": "stream",
          "name": "stderr",
          "text": [
            "WARNING:torchdrug.core.logger:average binary cross entropy: 0.255537\n"
          ]
        },
        {
          "output_type": "stream",
          "name": "stdout",
          "text": [
            "22:31:39   average binary cross entropy: 0.255537\n"
          ]
        },
        {
          "output_type": "stream",
          "name": "stderr",
          "text": [
            "WARNING:torchdrug.core.meter:>>>>>>>>>>>>>>>>>>>>>>>>>>>>>>\n"
          ]
        },
        {
          "output_type": "stream",
          "name": "stdout",
          "text": [
            "22:31:39   >>>>>>>>>>>>>>>>>>>>>>>>>>>>>>\n"
          ]
        },
        {
          "output_type": "stream",
          "name": "stderr",
          "text": [
            "WARNING:torchdrug.core.meter:Epoch 37 begin\n"
          ]
        },
        {
          "output_type": "stream",
          "name": "stdout",
          "text": [
            "22:31:39   Epoch 37 begin\n"
          ]
        },
        {
          "output_type": "stream",
          "name": "stderr",
          "text": [
            "WARNING:torchdrug.core.meter:>>>>>>>>>>>>>>>>>>>>>>>>>>>>>>\n"
          ]
        },
        {
          "output_type": "stream",
          "name": "stdout",
          "text": [
            "22:31:39   >>>>>>>>>>>>>>>>>>>>>>>>>>>>>>\n"
          ]
        },
        {
          "output_type": "stream",
          "name": "stderr",
          "text": [
            "WARNING:torchdrug.core.meter:Epoch 37 end\n"
          ]
        },
        {
          "output_type": "stream",
          "name": "stdout",
          "text": [
            "22:31:39   Epoch 37 end\n"
          ]
        },
        {
          "output_type": "stream",
          "name": "stderr",
          "text": [
            "WARNING:torchdrug.core.meter:duration: 0.25 secs\n"
          ]
        },
        {
          "output_type": "stream",
          "name": "stdout",
          "text": [
            "22:31:39   duration: 0.25 secs\n"
          ]
        },
        {
          "output_type": "stream",
          "name": "stderr",
          "text": [
            "WARNING:torchdrug.core.meter:speed: 7.99 batch / sec\n"
          ]
        },
        {
          "output_type": "stream",
          "name": "stdout",
          "text": [
            "22:31:39   speed: 7.99 batch / sec\n"
          ]
        },
        {
          "output_type": "stream",
          "name": "stderr",
          "text": [
            "WARNING:torchdrug.core.meter:ETA: 19.66 secs\n"
          ]
        },
        {
          "output_type": "stream",
          "name": "stdout",
          "text": [
            "22:31:39   ETA: 19.66 secs\n"
          ]
        },
        {
          "output_type": "stream",
          "name": "stderr",
          "text": [
            "WARNING:torchdrug.core.meter:max GPU memory: 736.2 MiB\n"
          ]
        },
        {
          "output_type": "stream",
          "name": "stdout",
          "text": [
            "22:31:39   max GPU memory: 736.2 MiB\n"
          ]
        },
        {
          "output_type": "stream",
          "name": "stderr",
          "text": [
            "WARNING:torchdrug.core.logger:------------------------------\n"
          ]
        },
        {
          "output_type": "stream",
          "name": "stdout",
          "text": [
            "22:31:39   ------------------------------\n"
          ]
        },
        {
          "output_type": "stream",
          "name": "stderr",
          "text": [
            "WARNING:torchdrug.core.logger:average binary cross entropy: 0.221288\n"
          ]
        },
        {
          "output_type": "stream",
          "name": "stdout",
          "text": [
            "22:31:39   average binary cross entropy: 0.221288\n"
          ]
        },
        {
          "output_type": "stream",
          "name": "stderr",
          "text": [
            "WARNING:torchdrug.core.meter:>>>>>>>>>>>>>>>>>>>>>>>>>>>>>>\n"
          ]
        },
        {
          "output_type": "stream",
          "name": "stdout",
          "text": [
            "22:31:39   >>>>>>>>>>>>>>>>>>>>>>>>>>>>>>\n"
          ]
        },
        {
          "output_type": "stream",
          "name": "stderr",
          "text": [
            "WARNING:torchdrug.core.meter:Epoch 38 begin\n"
          ]
        },
        {
          "output_type": "stream",
          "name": "stdout",
          "text": [
            "22:31:39   Epoch 38 begin\n"
          ]
        },
        {
          "output_type": "stream",
          "name": "stderr",
          "text": [
            "WARNING:torchdrug.core.meter:>>>>>>>>>>>>>>>>>>>>>>>>>>>>>>\n"
          ]
        },
        {
          "output_type": "stream",
          "name": "stdout",
          "text": [
            "22:31:39   >>>>>>>>>>>>>>>>>>>>>>>>>>>>>>\n"
          ]
        },
        {
          "output_type": "stream",
          "name": "stderr",
          "text": [
            "WARNING:torchdrug.core.meter:Epoch 38 end\n"
          ]
        },
        {
          "output_type": "stream",
          "name": "stdout",
          "text": [
            "22:31:39   Epoch 38 end\n"
          ]
        },
        {
          "output_type": "stream",
          "name": "stderr",
          "text": [
            "WARNING:torchdrug.core.meter:duration: 0.25 secs\n"
          ]
        },
        {
          "output_type": "stream",
          "name": "stdout",
          "text": [
            "22:31:39   duration: 0.25 secs\n"
          ]
        },
        {
          "output_type": "stream",
          "name": "stderr",
          "text": [
            "WARNING:torchdrug.core.meter:speed: 7.91 batch / sec\n"
          ]
        },
        {
          "output_type": "stream",
          "name": "stdout",
          "text": [
            "22:31:39   speed: 7.91 batch / sec\n"
          ]
        },
        {
          "output_type": "stream",
          "name": "stderr",
          "text": [
            "WARNING:torchdrug.core.meter:ETA: 19.24 secs\n"
          ]
        },
        {
          "output_type": "stream",
          "name": "stdout",
          "text": [
            "22:31:39   ETA: 19.24 secs\n"
          ]
        },
        {
          "output_type": "stream",
          "name": "stderr",
          "text": [
            "WARNING:torchdrug.core.meter:max GPU memory: 740.6 MiB\n"
          ]
        },
        {
          "output_type": "stream",
          "name": "stdout",
          "text": [
            "22:31:39   max GPU memory: 740.6 MiB\n"
          ]
        },
        {
          "output_type": "stream",
          "name": "stderr",
          "text": [
            "WARNING:torchdrug.core.logger:------------------------------\n"
          ]
        },
        {
          "output_type": "stream",
          "name": "stdout",
          "text": [
            "22:31:39   ------------------------------\n"
          ]
        },
        {
          "output_type": "stream",
          "name": "stderr",
          "text": [
            "WARNING:torchdrug.core.logger:average binary cross entropy: 0.204296\n"
          ]
        },
        {
          "output_type": "stream",
          "name": "stdout",
          "text": [
            "22:31:39   average binary cross entropy: 0.204296\n"
          ]
        },
        {
          "output_type": "stream",
          "name": "stderr",
          "text": [
            "WARNING:torchdrug.core.meter:>>>>>>>>>>>>>>>>>>>>>>>>>>>>>>\n"
          ]
        },
        {
          "output_type": "stream",
          "name": "stdout",
          "text": [
            "22:31:39   >>>>>>>>>>>>>>>>>>>>>>>>>>>>>>\n"
          ]
        },
        {
          "output_type": "stream",
          "name": "stderr",
          "text": [
            "WARNING:torchdrug.core.meter:Epoch 39 begin\n"
          ]
        },
        {
          "output_type": "stream",
          "name": "stdout",
          "text": [
            "22:31:39   Epoch 39 begin\n"
          ]
        },
        {
          "output_type": "stream",
          "name": "stderr",
          "text": [
            "WARNING:torchdrug.core.meter:>>>>>>>>>>>>>>>>>>>>>>>>>>>>>>\n"
          ]
        },
        {
          "output_type": "stream",
          "name": "stdout",
          "text": [
            "22:31:39   >>>>>>>>>>>>>>>>>>>>>>>>>>>>>>\n"
          ]
        },
        {
          "output_type": "stream",
          "name": "stderr",
          "text": [
            "WARNING:torchdrug.core.meter:Epoch 39 end\n"
          ]
        },
        {
          "output_type": "stream",
          "name": "stdout",
          "text": [
            "22:31:39   Epoch 39 end\n"
          ]
        },
        {
          "output_type": "stream",
          "name": "stderr",
          "text": [
            "WARNING:torchdrug.core.meter:duration: 0.27 secs\n"
          ]
        },
        {
          "output_type": "stream",
          "name": "stdout",
          "text": [
            "22:31:39   duration: 0.27 secs\n"
          ]
        },
        {
          "output_type": "stream",
          "name": "stderr",
          "text": [
            "WARNING:torchdrug.core.meter:speed: 7.43 batch / sec\n"
          ]
        },
        {
          "output_type": "stream",
          "name": "stdout",
          "text": [
            "22:31:39   speed: 7.43 batch / sec\n"
          ]
        },
        {
          "output_type": "stream",
          "name": "stderr",
          "text": [
            "WARNING:torchdrug.core.meter:ETA: 18.86 secs\n"
          ]
        },
        {
          "output_type": "stream",
          "name": "stdout",
          "text": [
            "22:31:39   ETA: 18.86 secs\n"
          ]
        },
        {
          "output_type": "stream",
          "name": "stderr",
          "text": [
            "WARNING:torchdrug.core.meter:max GPU memory: 738.0 MiB\n"
          ]
        },
        {
          "output_type": "stream",
          "name": "stdout",
          "text": [
            "22:31:39   max GPU memory: 738.0 MiB\n"
          ]
        },
        {
          "output_type": "stream",
          "name": "stderr",
          "text": [
            "WARNING:torchdrug.core.logger:------------------------------\n"
          ]
        },
        {
          "output_type": "stream",
          "name": "stdout",
          "text": [
            "22:31:39   ------------------------------\n"
          ]
        },
        {
          "output_type": "stream",
          "name": "stderr",
          "text": [
            "WARNING:torchdrug.core.logger:average binary cross entropy: 0.261139\n"
          ]
        },
        {
          "output_type": "stream",
          "name": "stdout",
          "text": [
            "22:31:39   average binary cross entropy: 0.261139\n"
          ]
        },
        {
          "output_type": "stream",
          "name": "stderr",
          "text": [
            "WARNING:torchdrug.core.meter:>>>>>>>>>>>>>>>>>>>>>>>>>>>>>>\n"
          ]
        },
        {
          "output_type": "stream",
          "name": "stdout",
          "text": [
            "22:31:39   >>>>>>>>>>>>>>>>>>>>>>>>>>>>>>\n"
          ]
        },
        {
          "output_type": "stream",
          "name": "stderr",
          "text": [
            "WARNING:torchdrug.core.meter:Epoch 40 begin\n"
          ]
        },
        {
          "output_type": "stream",
          "name": "stdout",
          "text": [
            "22:31:39   Epoch 40 begin\n"
          ]
        },
        {
          "output_type": "stream",
          "name": "stderr",
          "text": [
            "WARNING:torchdrug.core.meter:>>>>>>>>>>>>>>>>>>>>>>>>>>>>>>\n"
          ]
        },
        {
          "output_type": "stream",
          "name": "stdout",
          "text": [
            "22:31:40   >>>>>>>>>>>>>>>>>>>>>>>>>>>>>>\n"
          ]
        },
        {
          "output_type": "stream",
          "name": "stderr",
          "text": [
            "WARNING:torchdrug.core.meter:Epoch 40 end\n"
          ]
        },
        {
          "output_type": "stream",
          "name": "stdout",
          "text": [
            "22:31:40   Epoch 40 end\n"
          ]
        },
        {
          "output_type": "stream",
          "name": "stderr",
          "text": [
            "WARNING:torchdrug.core.meter:duration: 0.27 secs\n"
          ]
        },
        {
          "output_type": "stream",
          "name": "stdout",
          "text": [
            "22:31:40   duration: 0.27 secs\n"
          ]
        },
        {
          "output_type": "stream",
          "name": "stderr",
          "text": [
            "WARNING:torchdrug.core.meter:speed: 7.39 batch / sec\n"
          ]
        },
        {
          "output_type": "stream",
          "name": "stdout",
          "text": [
            "22:31:40   speed: 7.39 batch / sec\n"
          ]
        },
        {
          "output_type": "stream",
          "name": "stderr",
          "text": [
            "WARNING:torchdrug.core.meter:ETA: 18.48 secs\n"
          ]
        },
        {
          "output_type": "stream",
          "name": "stdout",
          "text": [
            "22:31:40   ETA: 18.48 secs\n"
          ]
        },
        {
          "output_type": "stream",
          "name": "stderr",
          "text": [
            "WARNING:torchdrug.core.meter:max GPU memory: 738.0 MiB\n"
          ]
        },
        {
          "output_type": "stream",
          "name": "stdout",
          "text": [
            "22:31:40   max GPU memory: 738.0 MiB\n"
          ]
        },
        {
          "output_type": "stream",
          "name": "stderr",
          "text": [
            "WARNING:torchdrug.core.logger:------------------------------\n"
          ]
        },
        {
          "output_type": "stream",
          "name": "stdout",
          "text": [
            "22:31:40   ------------------------------\n"
          ]
        },
        {
          "output_type": "stream",
          "name": "stderr",
          "text": [
            "WARNING:torchdrug.core.logger:average binary cross entropy: 0.184315\n"
          ]
        },
        {
          "output_type": "stream",
          "name": "stdout",
          "text": [
            "22:31:40   average binary cross entropy: 0.184315\n"
          ]
        },
        {
          "output_type": "stream",
          "name": "stderr",
          "text": [
            "WARNING:torchdrug.core.meter:>>>>>>>>>>>>>>>>>>>>>>>>>>>>>>\n"
          ]
        },
        {
          "output_type": "stream",
          "name": "stdout",
          "text": [
            "22:31:40   >>>>>>>>>>>>>>>>>>>>>>>>>>>>>>\n"
          ]
        },
        {
          "output_type": "stream",
          "name": "stderr",
          "text": [
            "WARNING:torchdrug.core.meter:Epoch 41 begin\n"
          ]
        },
        {
          "output_type": "stream",
          "name": "stdout",
          "text": [
            "22:31:40   Epoch 41 begin\n"
          ]
        },
        {
          "output_type": "stream",
          "name": "stderr",
          "text": [
            "WARNING:torchdrug.core.meter:>>>>>>>>>>>>>>>>>>>>>>>>>>>>>>\n"
          ]
        },
        {
          "output_type": "stream",
          "name": "stdout",
          "text": [
            "22:31:40   >>>>>>>>>>>>>>>>>>>>>>>>>>>>>>\n"
          ]
        },
        {
          "output_type": "stream",
          "name": "stderr",
          "text": [
            "WARNING:torchdrug.core.meter:Epoch 41 end\n"
          ]
        },
        {
          "output_type": "stream",
          "name": "stdout",
          "text": [
            "22:31:40   Epoch 41 end\n"
          ]
        },
        {
          "output_type": "stream",
          "name": "stderr",
          "text": [
            "WARNING:torchdrug.core.meter:duration: 0.26 secs\n"
          ]
        },
        {
          "output_type": "stream",
          "name": "stdout",
          "text": [
            "22:31:40   duration: 0.26 secs\n"
          ]
        },
        {
          "output_type": "stream",
          "name": "stderr",
          "text": [
            "WARNING:torchdrug.core.meter:speed: 7.55 batch / sec\n"
          ]
        },
        {
          "output_type": "stream",
          "name": "stdout",
          "text": [
            "22:31:40   speed: 7.55 batch / sec\n"
          ]
        },
        {
          "output_type": "stream",
          "name": "stderr",
          "text": [
            "WARNING:torchdrug.core.meter:ETA: 18.10 secs\n"
          ]
        },
        {
          "output_type": "stream",
          "name": "stdout",
          "text": [
            "22:31:40   ETA: 18.10 secs\n"
          ]
        },
        {
          "output_type": "stream",
          "name": "stderr",
          "text": [
            "WARNING:torchdrug.core.meter:max GPU memory: 739.3 MiB\n"
          ]
        },
        {
          "output_type": "stream",
          "name": "stdout",
          "text": [
            "22:31:40   max GPU memory: 739.3 MiB\n"
          ]
        },
        {
          "output_type": "stream",
          "name": "stderr",
          "text": [
            "WARNING:torchdrug.core.logger:------------------------------\n"
          ]
        },
        {
          "output_type": "stream",
          "name": "stdout",
          "text": [
            "22:31:40   ------------------------------\n"
          ]
        },
        {
          "output_type": "stream",
          "name": "stderr",
          "text": [
            "WARNING:torchdrug.core.logger:average binary cross entropy: 0.172265\n"
          ]
        },
        {
          "output_type": "stream",
          "name": "stdout",
          "text": [
            "22:31:40   average binary cross entropy: 0.172265\n"
          ]
        },
        {
          "output_type": "stream",
          "name": "stderr",
          "text": [
            "WARNING:torchdrug.core.meter:>>>>>>>>>>>>>>>>>>>>>>>>>>>>>>\n"
          ]
        },
        {
          "output_type": "stream",
          "name": "stdout",
          "text": [
            "22:31:40   >>>>>>>>>>>>>>>>>>>>>>>>>>>>>>\n"
          ]
        },
        {
          "output_type": "stream",
          "name": "stderr",
          "text": [
            "WARNING:torchdrug.core.meter:Epoch 42 begin\n"
          ]
        },
        {
          "output_type": "stream",
          "name": "stdout",
          "text": [
            "22:31:40   Epoch 42 begin\n"
          ]
        },
        {
          "output_type": "stream",
          "name": "stderr",
          "text": [
            "WARNING:torchdrug.core.meter:>>>>>>>>>>>>>>>>>>>>>>>>>>>>>>\n"
          ]
        },
        {
          "output_type": "stream",
          "name": "stdout",
          "text": [
            "22:31:40   >>>>>>>>>>>>>>>>>>>>>>>>>>>>>>\n"
          ]
        },
        {
          "output_type": "stream",
          "name": "stderr",
          "text": [
            "WARNING:torchdrug.core.meter:Epoch 42 end\n"
          ]
        },
        {
          "output_type": "stream",
          "name": "stdout",
          "text": [
            "22:31:40   Epoch 42 end\n"
          ]
        },
        {
          "output_type": "stream",
          "name": "stderr",
          "text": [
            "WARNING:torchdrug.core.meter:duration: 0.24 secs\n"
          ]
        },
        {
          "output_type": "stream",
          "name": "stdout",
          "text": [
            "22:31:40   duration: 0.24 secs\n"
          ]
        },
        {
          "output_type": "stream",
          "name": "stderr",
          "text": [
            "WARNING:torchdrug.core.meter:speed: 8.24 batch / sec\n"
          ]
        },
        {
          "output_type": "stream",
          "name": "stdout",
          "text": [
            "22:31:40   speed: 8.24 batch / sec\n"
          ]
        },
        {
          "output_type": "stream",
          "name": "stderr",
          "text": [
            "WARNING:torchdrug.core.meter:ETA: 17.70 secs\n"
          ]
        },
        {
          "output_type": "stream",
          "name": "stdout",
          "text": [
            "22:31:40   ETA: 17.70 secs\n"
          ]
        },
        {
          "output_type": "stream",
          "name": "stderr",
          "text": [
            "WARNING:torchdrug.core.meter:max GPU memory: 744.6 MiB\n"
          ]
        },
        {
          "output_type": "stream",
          "name": "stdout",
          "text": [
            "22:31:40   max GPU memory: 744.6 MiB\n"
          ]
        },
        {
          "output_type": "stream",
          "name": "stderr",
          "text": [
            "WARNING:torchdrug.core.logger:------------------------------\n"
          ]
        },
        {
          "output_type": "stream",
          "name": "stdout",
          "text": [
            "22:31:40   ------------------------------\n"
          ]
        },
        {
          "output_type": "stream",
          "name": "stderr",
          "text": [
            "WARNING:torchdrug.core.logger:average binary cross entropy: 0.207896\n"
          ]
        },
        {
          "output_type": "stream",
          "name": "stdout",
          "text": [
            "22:31:40   average binary cross entropy: 0.207896\n"
          ]
        },
        {
          "output_type": "stream",
          "name": "stderr",
          "text": [
            "WARNING:torchdrug.core.meter:>>>>>>>>>>>>>>>>>>>>>>>>>>>>>>\n"
          ]
        },
        {
          "output_type": "stream",
          "name": "stdout",
          "text": [
            "22:31:40   >>>>>>>>>>>>>>>>>>>>>>>>>>>>>>\n"
          ]
        },
        {
          "output_type": "stream",
          "name": "stderr",
          "text": [
            "WARNING:torchdrug.core.meter:Epoch 43 begin\n"
          ]
        },
        {
          "output_type": "stream",
          "name": "stdout",
          "text": [
            "22:31:40   Epoch 43 begin\n"
          ]
        },
        {
          "output_type": "stream",
          "name": "stderr",
          "text": [
            "WARNING:torchdrug.core.meter:>>>>>>>>>>>>>>>>>>>>>>>>>>>>>>\n"
          ]
        },
        {
          "output_type": "stream",
          "name": "stdout",
          "text": [
            "22:31:40   >>>>>>>>>>>>>>>>>>>>>>>>>>>>>>\n"
          ]
        },
        {
          "output_type": "stream",
          "name": "stderr",
          "text": [
            "WARNING:torchdrug.core.meter:Epoch 43 end\n"
          ]
        },
        {
          "output_type": "stream",
          "name": "stdout",
          "text": [
            "22:31:40   Epoch 43 end\n"
          ]
        },
        {
          "output_type": "stream",
          "name": "stderr",
          "text": [
            "WARNING:torchdrug.core.meter:duration: 0.25 secs\n"
          ]
        },
        {
          "output_type": "stream",
          "name": "stdout",
          "text": [
            "22:31:40   duration: 0.25 secs\n"
          ]
        },
        {
          "output_type": "stream",
          "name": "stderr",
          "text": [
            "WARNING:torchdrug.core.meter:speed: 7.91 batch / sec\n"
          ]
        },
        {
          "output_type": "stream",
          "name": "stdout",
          "text": [
            "22:31:40   speed: 7.91 batch / sec\n"
          ]
        },
        {
          "output_type": "stream",
          "name": "stderr",
          "text": [
            "WARNING:torchdrug.core.meter:ETA: 17.31 secs\n"
          ]
        },
        {
          "output_type": "stream",
          "name": "stdout",
          "text": [
            "22:31:40   ETA: 17.31 secs\n"
          ]
        },
        {
          "output_type": "stream",
          "name": "stderr",
          "text": [
            "WARNING:torchdrug.core.meter:max GPU memory: 734.1 MiB\n"
          ]
        },
        {
          "output_type": "stream",
          "name": "stdout",
          "text": [
            "22:31:40   max GPU memory: 734.1 MiB\n"
          ]
        },
        {
          "output_type": "stream",
          "name": "stderr",
          "text": [
            "WARNING:torchdrug.core.logger:------------------------------\n"
          ]
        },
        {
          "output_type": "stream",
          "name": "stdout",
          "text": [
            "22:31:40   ------------------------------\n"
          ]
        },
        {
          "output_type": "stream",
          "name": "stderr",
          "text": [
            "WARNING:torchdrug.core.logger:average binary cross entropy: 0.188003\n"
          ]
        },
        {
          "output_type": "stream",
          "name": "stdout",
          "text": [
            "22:31:40   average binary cross entropy: 0.188003\n"
          ]
        },
        {
          "output_type": "stream",
          "name": "stderr",
          "text": [
            "WARNING:torchdrug.core.meter:>>>>>>>>>>>>>>>>>>>>>>>>>>>>>>\n"
          ]
        },
        {
          "output_type": "stream",
          "name": "stdout",
          "text": [
            "22:31:40   >>>>>>>>>>>>>>>>>>>>>>>>>>>>>>\n"
          ]
        },
        {
          "output_type": "stream",
          "name": "stderr",
          "text": [
            "WARNING:torchdrug.core.meter:Epoch 44 begin\n"
          ]
        },
        {
          "output_type": "stream",
          "name": "stdout",
          "text": [
            "22:31:40   Epoch 44 begin\n"
          ]
        },
        {
          "output_type": "stream",
          "name": "stderr",
          "text": [
            "WARNING:torchdrug.core.meter:>>>>>>>>>>>>>>>>>>>>>>>>>>>>>>\n"
          ]
        },
        {
          "output_type": "stream",
          "name": "stdout",
          "text": [
            "22:31:41   >>>>>>>>>>>>>>>>>>>>>>>>>>>>>>\n"
          ]
        },
        {
          "output_type": "stream",
          "name": "stderr",
          "text": [
            "WARNING:torchdrug.core.meter:Epoch 44 end\n"
          ]
        },
        {
          "output_type": "stream",
          "name": "stdout",
          "text": [
            "22:31:41   Epoch 44 end\n"
          ]
        },
        {
          "output_type": "stream",
          "name": "stderr",
          "text": [
            "WARNING:torchdrug.core.meter:duration: 0.25 secs\n"
          ]
        },
        {
          "output_type": "stream",
          "name": "stdout",
          "text": [
            "22:31:41   duration: 0.25 secs\n"
          ]
        },
        {
          "output_type": "stream",
          "name": "stderr",
          "text": [
            "WARNING:torchdrug.core.meter:speed: 8.03 batch / sec\n"
          ]
        },
        {
          "output_type": "stream",
          "name": "stdout",
          "text": [
            "22:31:41   speed: 8.03 batch / sec\n"
          ]
        },
        {
          "output_type": "stream",
          "name": "stderr",
          "text": [
            "WARNING:torchdrug.core.meter:ETA: 16.93 secs\n"
          ]
        },
        {
          "output_type": "stream",
          "name": "stdout",
          "text": [
            "22:31:41   ETA: 16.93 secs\n"
          ]
        },
        {
          "output_type": "stream",
          "name": "stderr",
          "text": [
            "WARNING:torchdrug.core.meter:max GPU memory: 739.4 MiB\n"
          ]
        },
        {
          "output_type": "stream",
          "name": "stdout",
          "text": [
            "22:31:41   max GPU memory: 739.4 MiB\n"
          ]
        },
        {
          "output_type": "stream",
          "name": "stderr",
          "text": [
            "WARNING:torchdrug.core.logger:------------------------------\n"
          ]
        },
        {
          "output_type": "stream",
          "name": "stdout",
          "text": [
            "22:31:41   ------------------------------\n"
          ]
        },
        {
          "output_type": "stream",
          "name": "stderr",
          "text": [
            "WARNING:torchdrug.core.logger:average binary cross entropy: 0.218984\n"
          ]
        },
        {
          "output_type": "stream",
          "name": "stdout",
          "text": [
            "22:31:41   average binary cross entropy: 0.218984\n"
          ]
        },
        {
          "output_type": "stream",
          "name": "stderr",
          "text": [
            "WARNING:torchdrug.core.meter:>>>>>>>>>>>>>>>>>>>>>>>>>>>>>>\n"
          ]
        },
        {
          "output_type": "stream",
          "name": "stdout",
          "text": [
            "22:31:41   >>>>>>>>>>>>>>>>>>>>>>>>>>>>>>\n"
          ]
        },
        {
          "output_type": "stream",
          "name": "stderr",
          "text": [
            "WARNING:torchdrug.core.meter:Epoch 45 begin\n"
          ]
        },
        {
          "output_type": "stream",
          "name": "stdout",
          "text": [
            "22:31:41   Epoch 45 begin\n"
          ]
        },
        {
          "output_type": "stream",
          "name": "stderr",
          "text": [
            "WARNING:torchdrug.core.meter:>>>>>>>>>>>>>>>>>>>>>>>>>>>>>>\n"
          ]
        },
        {
          "output_type": "stream",
          "name": "stdout",
          "text": [
            "22:31:41   >>>>>>>>>>>>>>>>>>>>>>>>>>>>>>\n"
          ]
        },
        {
          "output_type": "stream",
          "name": "stderr",
          "text": [
            "WARNING:torchdrug.core.meter:Epoch 45 end\n"
          ]
        },
        {
          "output_type": "stream",
          "name": "stdout",
          "text": [
            "22:31:41   Epoch 45 end\n"
          ]
        },
        {
          "output_type": "stream",
          "name": "stderr",
          "text": [
            "WARNING:torchdrug.core.meter:duration: 0.25 secs\n"
          ]
        },
        {
          "output_type": "stream",
          "name": "stdout",
          "text": [
            "22:31:41   duration: 0.25 secs\n"
          ]
        },
        {
          "output_type": "stream",
          "name": "stderr",
          "text": [
            "WARNING:torchdrug.core.meter:speed: 7.86 batch / sec\n"
          ]
        },
        {
          "output_type": "stream",
          "name": "stdout",
          "text": [
            "22:31:41   speed: 7.86 batch / sec\n"
          ]
        },
        {
          "output_type": "stream",
          "name": "stderr",
          "text": [
            "WARNING:torchdrug.core.meter:ETA: 16.56 secs\n"
          ]
        },
        {
          "output_type": "stream",
          "name": "stdout",
          "text": [
            "22:31:41   ETA: 16.56 secs\n"
          ]
        },
        {
          "output_type": "stream",
          "name": "stderr",
          "text": [
            "WARNING:torchdrug.core.meter:max GPU memory: 751.4 MiB\n"
          ]
        },
        {
          "output_type": "stream",
          "name": "stdout",
          "text": [
            "22:31:41   max GPU memory: 751.4 MiB\n"
          ]
        },
        {
          "output_type": "stream",
          "name": "stderr",
          "text": [
            "WARNING:torchdrug.core.logger:------------------------------\n"
          ]
        },
        {
          "output_type": "stream",
          "name": "stdout",
          "text": [
            "22:31:41   ------------------------------\n"
          ]
        },
        {
          "output_type": "stream",
          "name": "stderr",
          "text": [
            "WARNING:torchdrug.core.logger:average binary cross entropy: 0.161523\n"
          ]
        },
        {
          "output_type": "stream",
          "name": "stdout",
          "text": [
            "22:31:41   average binary cross entropy: 0.161523\n"
          ]
        },
        {
          "output_type": "stream",
          "name": "stderr",
          "text": [
            "WARNING:torchdrug.core.meter:>>>>>>>>>>>>>>>>>>>>>>>>>>>>>>\n"
          ]
        },
        {
          "output_type": "stream",
          "name": "stdout",
          "text": [
            "22:31:41   >>>>>>>>>>>>>>>>>>>>>>>>>>>>>>\n"
          ]
        },
        {
          "output_type": "stream",
          "name": "stderr",
          "text": [
            "WARNING:torchdrug.core.meter:Epoch 46 begin\n"
          ]
        },
        {
          "output_type": "stream",
          "name": "stdout",
          "text": [
            "22:31:41   Epoch 46 begin\n"
          ]
        },
        {
          "output_type": "stream",
          "name": "stderr",
          "text": [
            "WARNING:torchdrug.core.meter:>>>>>>>>>>>>>>>>>>>>>>>>>>>>>>\n"
          ]
        },
        {
          "output_type": "stream",
          "name": "stdout",
          "text": [
            "22:31:41   >>>>>>>>>>>>>>>>>>>>>>>>>>>>>>\n"
          ]
        },
        {
          "output_type": "stream",
          "name": "stderr",
          "text": [
            "WARNING:torchdrug.core.meter:Epoch 46 end\n"
          ]
        },
        {
          "output_type": "stream",
          "name": "stdout",
          "text": [
            "22:31:41   Epoch 46 end\n"
          ]
        },
        {
          "output_type": "stream",
          "name": "stderr",
          "text": [
            "WARNING:torchdrug.core.meter:duration: 0.26 secs\n"
          ]
        },
        {
          "output_type": "stream",
          "name": "stdout",
          "text": [
            "22:31:41   duration: 0.26 secs\n"
          ]
        },
        {
          "output_type": "stream",
          "name": "stderr",
          "text": [
            "WARNING:torchdrug.core.meter:speed: 7.77 batch / sec\n"
          ]
        },
        {
          "output_type": "stream",
          "name": "stdout",
          "text": [
            "22:31:41   speed: 7.77 batch / sec\n"
          ]
        },
        {
          "output_type": "stream",
          "name": "stderr",
          "text": [
            "WARNING:torchdrug.core.meter:ETA: 16.20 secs\n"
          ]
        },
        {
          "output_type": "stream",
          "name": "stdout",
          "text": [
            "22:31:41   ETA: 16.20 secs\n"
          ]
        },
        {
          "output_type": "stream",
          "name": "stderr",
          "text": [
            "WARNING:torchdrug.core.meter:max GPU memory: 754.7 MiB\n"
          ]
        },
        {
          "output_type": "stream",
          "name": "stdout",
          "text": [
            "22:31:41   max GPU memory: 754.7 MiB\n"
          ]
        },
        {
          "output_type": "stream",
          "name": "stderr",
          "text": [
            "WARNING:torchdrug.core.logger:------------------------------\n"
          ]
        },
        {
          "output_type": "stream",
          "name": "stdout",
          "text": [
            "22:31:41   ------------------------------\n"
          ]
        },
        {
          "output_type": "stream",
          "name": "stderr",
          "text": [
            "WARNING:torchdrug.core.logger:average binary cross entropy: 0.182061\n"
          ]
        },
        {
          "output_type": "stream",
          "name": "stdout",
          "text": [
            "22:31:41   average binary cross entropy: 0.182061\n"
          ]
        },
        {
          "output_type": "stream",
          "name": "stderr",
          "text": [
            "WARNING:torchdrug.core.meter:>>>>>>>>>>>>>>>>>>>>>>>>>>>>>>\n"
          ]
        },
        {
          "output_type": "stream",
          "name": "stdout",
          "text": [
            "22:31:41   >>>>>>>>>>>>>>>>>>>>>>>>>>>>>>\n"
          ]
        },
        {
          "output_type": "stream",
          "name": "stderr",
          "text": [
            "WARNING:torchdrug.core.meter:Epoch 47 begin\n"
          ]
        },
        {
          "output_type": "stream",
          "name": "stdout",
          "text": [
            "22:31:41   Epoch 47 begin\n"
          ]
        },
        {
          "output_type": "stream",
          "name": "stderr",
          "text": [
            "WARNING:torchdrug.core.meter:>>>>>>>>>>>>>>>>>>>>>>>>>>>>>>\n"
          ]
        },
        {
          "output_type": "stream",
          "name": "stdout",
          "text": [
            "22:31:41   >>>>>>>>>>>>>>>>>>>>>>>>>>>>>>\n"
          ]
        },
        {
          "output_type": "stream",
          "name": "stderr",
          "text": [
            "WARNING:torchdrug.core.meter:Epoch 47 end\n"
          ]
        },
        {
          "output_type": "stream",
          "name": "stdout",
          "text": [
            "22:31:41   Epoch 47 end\n"
          ]
        },
        {
          "output_type": "stream",
          "name": "stderr",
          "text": [
            "WARNING:torchdrug.core.meter:duration: 0.25 secs\n"
          ]
        },
        {
          "output_type": "stream",
          "name": "stdout",
          "text": [
            "22:31:41   duration: 0.25 secs\n"
          ]
        },
        {
          "output_type": "stream",
          "name": "stderr",
          "text": [
            "WARNING:torchdrug.core.meter:speed: 7.97 batch / sec\n"
          ]
        },
        {
          "output_type": "stream",
          "name": "stdout",
          "text": [
            "22:31:41   speed: 7.97 batch / sec\n"
          ]
        },
        {
          "output_type": "stream",
          "name": "stderr",
          "text": [
            "WARNING:torchdrug.core.meter:ETA: 15.83 secs\n"
          ]
        },
        {
          "output_type": "stream",
          "name": "stdout",
          "text": [
            "22:31:41   ETA: 15.83 secs\n"
          ]
        },
        {
          "output_type": "stream",
          "name": "stderr",
          "text": [
            "WARNING:torchdrug.core.meter:max GPU memory: 743.2 MiB\n"
          ]
        },
        {
          "output_type": "stream",
          "name": "stdout",
          "text": [
            "22:31:41   max GPU memory: 743.2 MiB\n"
          ]
        },
        {
          "output_type": "stream",
          "name": "stderr",
          "text": [
            "WARNING:torchdrug.core.logger:------------------------------\n"
          ]
        },
        {
          "output_type": "stream",
          "name": "stdout",
          "text": [
            "22:31:41   ------------------------------\n"
          ]
        },
        {
          "output_type": "stream",
          "name": "stderr",
          "text": [
            "WARNING:torchdrug.core.logger:average binary cross entropy: 0.179598\n"
          ]
        },
        {
          "output_type": "stream",
          "name": "stdout",
          "text": [
            "22:31:41   average binary cross entropy: 0.179598\n"
          ]
        },
        {
          "output_type": "stream",
          "name": "stderr",
          "text": [
            "WARNING:torchdrug.core.meter:>>>>>>>>>>>>>>>>>>>>>>>>>>>>>>\n"
          ]
        },
        {
          "output_type": "stream",
          "name": "stdout",
          "text": [
            "22:31:42   >>>>>>>>>>>>>>>>>>>>>>>>>>>>>>\n"
          ]
        },
        {
          "output_type": "stream",
          "name": "stderr",
          "text": [
            "WARNING:torchdrug.core.meter:Epoch 48 begin\n"
          ]
        },
        {
          "output_type": "stream",
          "name": "stdout",
          "text": [
            "22:31:42   Epoch 48 begin\n"
          ]
        },
        {
          "output_type": "stream",
          "name": "stderr",
          "text": [
            "WARNING:torchdrug.core.meter:>>>>>>>>>>>>>>>>>>>>>>>>>>>>>>\n"
          ]
        },
        {
          "output_type": "stream",
          "name": "stdout",
          "text": [
            "22:31:42   >>>>>>>>>>>>>>>>>>>>>>>>>>>>>>\n"
          ]
        },
        {
          "output_type": "stream",
          "name": "stderr",
          "text": [
            "WARNING:torchdrug.core.meter:Epoch 48 end\n"
          ]
        },
        {
          "output_type": "stream",
          "name": "stdout",
          "text": [
            "22:31:42   Epoch 48 end\n"
          ]
        },
        {
          "output_type": "stream",
          "name": "stderr",
          "text": [
            "WARNING:torchdrug.core.meter:duration: 0.24 secs\n"
          ]
        },
        {
          "output_type": "stream",
          "name": "stdout",
          "text": [
            "22:31:42   duration: 0.24 secs\n"
          ]
        },
        {
          "output_type": "stream",
          "name": "stderr",
          "text": [
            "WARNING:torchdrug.core.meter:speed: 8.16 batch / sec\n"
          ]
        },
        {
          "output_type": "stream",
          "name": "stdout",
          "text": [
            "22:31:42   speed: 8.16 batch / sec\n"
          ]
        },
        {
          "output_type": "stream",
          "name": "stderr",
          "text": [
            "WARNING:torchdrug.core.meter:ETA: 15.47 secs\n"
          ]
        },
        {
          "output_type": "stream",
          "name": "stdout",
          "text": [
            "22:31:42   ETA: 15.47 secs\n"
          ]
        },
        {
          "output_type": "stream",
          "name": "stderr",
          "text": [
            "WARNING:torchdrug.core.meter:max GPU memory: 742.0 MiB\n"
          ]
        },
        {
          "output_type": "stream",
          "name": "stdout",
          "text": [
            "22:31:42   max GPU memory: 742.0 MiB\n"
          ]
        },
        {
          "output_type": "stream",
          "name": "stderr",
          "text": [
            "WARNING:torchdrug.core.logger:------------------------------\n"
          ]
        },
        {
          "output_type": "stream",
          "name": "stdout",
          "text": [
            "22:31:42   ------------------------------\n"
          ]
        },
        {
          "output_type": "stream",
          "name": "stderr",
          "text": [
            "WARNING:torchdrug.core.logger:average binary cross entropy: 0.162731\n"
          ]
        },
        {
          "output_type": "stream",
          "name": "stdout",
          "text": [
            "22:31:42   average binary cross entropy: 0.162731\n"
          ]
        },
        {
          "output_type": "stream",
          "name": "stderr",
          "text": [
            "WARNING:torchdrug.core.meter:>>>>>>>>>>>>>>>>>>>>>>>>>>>>>>\n"
          ]
        },
        {
          "output_type": "stream",
          "name": "stdout",
          "text": [
            "22:31:42   >>>>>>>>>>>>>>>>>>>>>>>>>>>>>>\n"
          ]
        },
        {
          "output_type": "stream",
          "name": "stderr",
          "text": [
            "WARNING:torchdrug.core.meter:Epoch 49 begin\n"
          ]
        },
        {
          "output_type": "stream",
          "name": "stdout",
          "text": [
            "22:31:42   Epoch 49 begin\n"
          ]
        },
        {
          "output_type": "stream",
          "name": "stderr",
          "text": [
            "WARNING:torchdrug.core.meter:>>>>>>>>>>>>>>>>>>>>>>>>>>>>>>\n"
          ]
        },
        {
          "output_type": "stream",
          "name": "stdout",
          "text": [
            "22:31:42   >>>>>>>>>>>>>>>>>>>>>>>>>>>>>>\n"
          ]
        },
        {
          "output_type": "stream",
          "name": "stderr",
          "text": [
            "WARNING:torchdrug.core.meter:Epoch 49 end\n"
          ]
        },
        {
          "output_type": "stream",
          "name": "stdout",
          "text": [
            "22:31:42   Epoch 49 end\n"
          ]
        },
        {
          "output_type": "stream",
          "name": "stderr",
          "text": [
            "WARNING:torchdrug.core.meter:duration: 0.25 secs\n"
          ]
        },
        {
          "output_type": "stream",
          "name": "stdout",
          "text": [
            "22:31:42   duration: 0.25 secs\n"
          ]
        },
        {
          "output_type": "stream",
          "name": "stderr",
          "text": [
            "WARNING:torchdrug.core.meter:speed: 7.88 batch / sec\n"
          ]
        },
        {
          "output_type": "stream",
          "name": "stdout",
          "text": [
            "22:31:42   speed: 7.88 batch / sec\n"
          ]
        },
        {
          "output_type": "stream",
          "name": "stderr",
          "text": [
            "WARNING:torchdrug.core.meter:ETA: 15.11 secs\n"
          ]
        },
        {
          "output_type": "stream",
          "name": "stdout",
          "text": [
            "22:31:42   ETA: 15.11 secs\n"
          ]
        },
        {
          "output_type": "stream",
          "name": "stderr",
          "text": [
            "WARNING:torchdrug.core.meter:max GPU memory: 731.2 MiB\n"
          ]
        },
        {
          "output_type": "stream",
          "name": "stdout",
          "text": [
            "22:31:42   max GPU memory: 731.2 MiB\n"
          ]
        },
        {
          "output_type": "stream",
          "name": "stderr",
          "text": [
            "WARNING:torchdrug.core.logger:------------------------------\n"
          ]
        },
        {
          "output_type": "stream",
          "name": "stdout",
          "text": [
            "22:31:42   ------------------------------\n"
          ]
        },
        {
          "output_type": "stream",
          "name": "stderr",
          "text": [
            "WARNING:torchdrug.core.logger:average binary cross entropy: 0.186878\n"
          ]
        },
        {
          "output_type": "stream",
          "name": "stdout",
          "text": [
            "22:31:42   average binary cross entropy: 0.186878\n"
          ]
        },
        {
          "output_type": "stream",
          "name": "stderr",
          "text": [
            "WARNING:torchdrug.core.meter:>>>>>>>>>>>>>>>>>>>>>>>>>>>>>>\n"
          ]
        },
        {
          "output_type": "stream",
          "name": "stdout",
          "text": [
            "22:31:42   >>>>>>>>>>>>>>>>>>>>>>>>>>>>>>\n"
          ]
        },
        {
          "output_type": "stream",
          "name": "stderr",
          "text": [
            "WARNING:torchdrug.core.meter:Epoch 50 begin\n"
          ]
        },
        {
          "output_type": "stream",
          "name": "stdout",
          "text": [
            "22:31:42   Epoch 50 begin\n"
          ]
        },
        {
          "output_type": "stream",
          "name": "stderr",
          "text": [
            "WARNING:torchdrug.core.logger:>>>>>>>>>>>>>>>>>>>>>>>>>>>>>>\n"
          ]
        },
        {
          "output_type": "stream",
          "name": "stdout",
          "text": [
            "22:31:42   >>>>>>>>>>>>>>>>>>>>>>>>>>>>>>\n"
          ]
        },
        {
          "output_type": "stream",
          "name": "stderr",
          "text": [
            "WARNING:torchdrug.core.logger:binary cross entropy: 0.142723\n"
          ]
        },
        {
          "output_type": "stream",
          "name": "stdout",
          "text": [
            "22:31:42   binary cross entropy: 0.142723\n"
          ]
        },
        {
          "output_type": "stream",
          "name": "stderr",
          "text": [
            "WARNING:torchdrug.core.meter:>>>>>>>>>>>>>>>>>>>>>>>>>>>>>>\n"
          ]
        },
        {
          "output_type": "stream",
          "name": "stdout",
          "text": [
            "22:31:42   >>>>>>>>>>>>>>>>>>>>>>>>>>>>>>\n"
          ]
        },
        {
          "output_type": "stream",
          "name": "stderr",
          "text": [
            "WARNING:torchdrug.core.meter:Epoch 50 end\n"
          ]
        },
        {
          "output_type": "stream",
          "name": "stdout",
          "text": [
            "22:31:42   Epoch 50 end\n"
          ]
        },
        {
          "output_type": "stream",
          "name": "stderr",
          "text": [
            "WARNING:torchdrug.core.meter:duration: 0.27 secs\n"
          ]
        },
        {
          "output_type": "stream",
          "name": "stdout",
          "text": [
            "22:31:42   duration: 0.27 secs\n"
          ]
        },
        {
          "output_type": "stream",
          "name": "stderr",
          "text": [
            "WARNING:torchdrug.core.meter:speed: 7.33 batch / sec\n"
          ]
        },
        {
          "output_type": "stream",
          "name": "stdout",
          "text": [
            "22:31:42   speed: 7.33 batch / sec\n"
          ]
        },
        {
          "output_type": "stream",
          "name": "stderr",
          "text": [
            "WARNING:torchdrug.core.meter:ETA: 14.78 secs\n"
          ]
        },
        {
          "output_type": "stream",
          "name": "stdout",
          "text": [
            "22:31:42   ETA: 14.78 secs\n"
          ]
        },
        {
          "output_type": "stream",
          "name": "stderr",
          "text": [
            "WARNING:torchdrug.core.meter:max GPU memory: 742.8 MiB\n"
          ]
        },
        {
          "output_type": "stream",
          "name": "stdout",
          "text": [
            "22:31:42   max GPU memory: 742.8 MiB\n"
          ]
        },
        {
          "output_type": "stream",
          "name": "stderr",
          "text": [
            "WARNING:torchdrug.core.logger:------------------------------\n"
          ]
        },
        {
          "output_type": "stream",
          "name": "stdout",
          "text": [
            "22:31:42   ------------------------------\n"
          ]
        },
        {
          "output_type": "stream",
          "name": "stderr",
          "text": [
            "WARNING:torchdrug.core.logger:average binary cross entropy: 0.182545\n"
          ]
        },
        {
          "output_type": "stream",
          "name": "stdout",
          "text": [
            "22:31:42   average binary cross entropy: 0.182545\n"
          ]
        },
        {
          "output_type": "stream",
          "name": "stderr",
          "text": [
            "WARNING:torchdrug.core.meter:>>>>>>>>>>>>>>>>>>>>>>>>>>>>>>\n"
          ]
        },
        {
          "output_type": "stream",
          "name": "stdout",
          "text": [
            "22:31:42   >>>>>>>>>>>>>>>>>>>>>>>>>>>>>>\n"
          ]
        },
        {
          "output_type": "stream",
          "name": "stderr",
          "text": [
            "WARNING:torchdrug.core.meter:Epoch 51 begin\n"
          ]
        },
        {
          "output_type": "stream",
          "name": "stdout",
          "text": [
            "22:31:42   Epoch 51 begin\n"
          ]
        },
        {
          "output_type": "stream",
          "name": "stderr",
          "text": [
            "WARNING:torchdrug.core.meter:>>>>>>>>>>>>>>>>>>>>>>>>>>>>>>\n"
          ]
        },
        {
          "output_type": "stream",
          "name": "stdout",
          "text": [
            "22:31:43   >>>>>>>>>>>>>>>>>>>>>>>>>>>>>>\n"
          ]
        },
        {
          "output_type": "stream",
          "name": "stderr",
          "text": [
            "WARNING:torchdrug.core.meter:Epoch 51 end\n"
          ]
        },
        {
          "output_type": "stream",
          "name": "stdout",
          "text": [
            "22:31:43   Epoch 51 end\n"
          ]
        },
        {
          "output_type": "stream",
          "name": "stderr",
          "text": [
            "WARNING:torchdrug.core.meter:duration: 0.28 secs\n"
          ]
        },
        {
          "output_type": "stream",
          "name": "stdout",
          "text": [
            "22:31:43   duration: 0.28 secs\n"
          ]
        },
        {
          "output_type": "stream",
          "name": "stderr",
          "text": [
            "WARNING:torchdrug.core.meter:speed: 7.16 batch / sec\n"
          ]
        },
        {
          "output_type": "stream",
          "name": "stdout",
          "text": [
            "22:31:43   speed: 7.16 batch / sec\n"
          ]
        },
        {
          "output_type": "stream",
          "name": "stderr",
          "text": [
            "WARNING:torchdrug.core.meter:ETA: 14.46 secs\n"
          ]
        },
        {
          "output_type": "stream",
          "name": "stdout",
          "text": [
            "22:31:43   ETA: 14.46 secs\n"
          ]
        },
        {
          "output_type": "stream",
          "name": "stderr",
          "text": [
            "WARNING:torchdrug.core.meter:max GPU memory: 739.0 MiB\n"
          ]
        },
        {
          "output_type": "stream",
          "name": "stdout",
          "text": [
            "22:31:43   max GPU memory: 739.0 MiB\n"
          ]
        },
        {
          "output_type": "stream",
          "name": "stderr",
          "text": [
            "WARNING:torchdrug.core.logger:------------------------------\n"
          ]
        },
        {
          "output_type": "stream",
          "name": "stdout",
          "text": [
            "22:31:43   ------------------------------\n"
          ]
        },
        {
          "output_type": "stream",
          "name": "stderr",
          "text": [
            "WARNING:torchdrug.core.logger:average binary cross entropy: 0.14841\n"
          ]
        },
        {
          "output_type": "stream",
          "name": "stdout",
          "text": [
            "22:31:43   average binary cross entropy: 0.14841\n"
          ]
        },
        {
          "output_type": "stream",
          "name": "stderr",
          "text": [
            "WARNING:torchdrug.core.meter:>>>>>>>>>>>>>>>>>>>>>>>>>>>>>>\n"
          ]
        },
        {
          "output_type": "stream",
          "name": "stdout",
          "text": [
            "22:31:43   >>>>>>>>>>>>>>>>>>>>>>>>>>>>>>\n"
          ]
        },
        {
          "output_type": "stream",
          "name": "stderr",
          "text": [
            "WARNING:torchdrug.core.meter:Epoch 52 begin\n"
          ]
        },
        {
          "output_type": "stream",
          "name": "stdout",
          "text": [
            "22:31:43   Epoch 52 begin\n"
          ]
        },
        {
          "output_type": "stream",
          "name": "stderr",
          "text": [
            "WARNING:torchdrug.core.meter:>>>>>>>>>>>>>>>>>>>>>>>>>>>>>>\n"
          ]
        },
        {
          "output_type": "stream",
          "name": "stdout",
          "text": [
            "22:31:43   >>>>>>>>>>>>>>>>>>>>>>>>>>>>>>\n"
          ]
        },
        {
          "output_type": "stream",
          "name": "stderr",
          "text": [
            "WARNING:torchdrug.core.meter:Epoch 52 end\n"
          ]
        },
        {
          "output_type": "stream",
          "name": "stdout",
          "text": [
            "22:31:43   Epoch 52 end\n"
          ]
        },
        {
          "output_type": "stream",
          "name": "stderr",
          "text": [
            "WARNING:torchdrug.core.meter:duration: 0.26 secs\n"
          ]
        },
        {
          "output_type": "stream",
          "name": "stdout",
          "text": [
            "22:31:43   duration: 0.26 secs\n"
          ]
        },
        {
          "output_type": "stream",
          "name": "stderr",
          "text": [
            "WARNING:torchdrug.core.meter:speed: 7.56 batch / sec\n"
          ]
        },
        {
          "output_type": "stream",
          "name": "stdout",
          "text": [
            "22:31:43   speed: 7.56 batch / sec\n"
          ]
        },
        {
          "output_type": "stream",
          "name": "stderr",
          "text": [
            "WARNING:torchdrug.core.meter:ETA: 14.13 secs\n"
          ]
        },
        {
          "output_type": "stream",
          "name": "stdout",
          "text": [
            "22:31:43   ETA: 14.13 secs\n"
          ]
        },
        {
          "output_type": "stream",
          "name": "stderr",
          "text": [
            "WARNING:torchdrug.core.meter:max GPU memory: 747.9 MiB\n"
          ]
        },
        {
          "output_type": "stream",
          "name": "stdout",
          "text": [
            "22:31:43   max GPU memory: 747.9 MiB\n"
          ]
        },
        {
          "output_type": "stream",
          "name": "stderr",
          "text": [
            "WARNING:torchdrug.core.logger:------------------------------\n"
          ]
        },
        {
          "output_type": "stream",
          "name": "stdout",
          "text": [
            "22:31:43   ------------------------------\n"
          ]
        },
        {
          "output_type": "stream",
          "name": "stderr",
          "text": [
            "WARNING:torchdrug.core.logger:average binary cross entropy: 0.141871\n"
          ]
        },
        {
          "output_type": "stream",
          "name": "stdout",
          "text": [
            "22:31:43   average binary cross entropy: 0.141871\n"
          ]
        },
        {
          "output_type": "stream",
          "name": "stderr",
          "text": [
            "WARNING:torchdrug.core.meter:>>>>>>>>>>>>>>>>>>>>>>>>>>>>>>\n"
          ]
        },
        {
          "output_type": "stream",
          "name": "stdout",
          "text": [
            "22:31:43   >>>>>>>>>>>>>>>>>>>>>>>>>>>>>>\n"
          ]
        },
        {
          "output_type": "stream",
          "name": "stderr",
          "text": [
            "WARNING:torchdrug.core.meter:Epoch 53 begin\n"
          ]
        },
        {
          "output_type": "stream",
          "name": "stdout",
          "text": [
            "22:31:43   Epoch 53 begin\n"
          ]
        },
        {
          "output_type": "stream",
          "name": "stderr",
          "text": [
            "WARNING:torchdrug.core.meter:>>>>>>>>>>>>>>>>>>>>>>>>>>>>>>\n"
          ]
        },
        {
          "output_type": "stream",
          "name": "stdout",
          "text": [
            "22:31:43   >>>>>>>>>>>>>>>>>>>>>>>>>>>>>>\n"
          ]
        },
        {
          "output_type": "stream",
          "name": "stderr",
          "text": [
            "WARNING:torchdrug.core.meter:Epoch 53 end\n"
          ]
        },
        {
          "output_type": "stream",
          "name": "stdout",
          "text": [
            "22:31:43   Epoch 53 end\n"
          ]
        },
        {
          "output_type": "stream",
          "name": "stderr",
          "text": [
            "WARNING:torchdrug.core.meter:duration: 0.26 secs\n"
          ]
        },
        {
          "output_type": "stream",
          "name": "stdout",
          "text": [
            "22:31:43   duration: 0.26 secs\n"
          ]
        },
        {
          "output_type": "stream",
          "name": "stderr",
          "text": [
            "WARNING:torchdrug.core.meter:speed: 7.56 batch / sec\n"
          ]
        },
        {
          "output_type": "stream",
          "name": "stdout",
          "text": [
            "22:31:43   speed: 7.56 batch / sec\n"
          ]
        },
        {
          "output_type": "stream",
          "name": "stderr",
          "text": [
            "WARNING:torchdrug.core.meter:ETA: 13.80 secs\n"
          ]
        },
        {
          "output_type": "stream",
          "name": "stdout",
          "text": [
            "22:31:43   ETA: 13.80 secs\n"
          ]
        },
        {
          "output_type": "stream",
          "name": "stderr",
          "text": [
            "WARNING:torchdrug.core.meter:max GPU memory: 736.3 MiB\n"
          ]
        },
        {
          "output_type": "stream",
          "name": "stdout",
          "text": [
            "22:31:43   max GPU memory: 736.3 MiB\n"
          ]
        },
        {
          "output_type": "stream",
          "name": "stderr",
          "text": [
            "WARNING:torchdrug.core.logger:------------------------------\n"
          ]
        },
        {
          "output_type": "stream",
          "name": "stdout",
          "text": [
            "22:31:43   ------------------------------\n"
          ]
        },
        {
          "output_type": "stream",
          "name": "stderr",
          "text": [
            "WARNING:torchdrug.core.logger:average binary cross entropy: 0.146119\n"
          ]
        },
        {
          "output_type": "stream",
          "name": "stdout",
          "text": [
            "22:31:43   average binary cross entropy: 0.146119\n"
          ]
        },
        {
          "output_type": "stream",
          "name": "stderr",
          "text": [
            "WARNING:torchdrug.core.meter:>>>>>>>>>>>>>>>>>>>>>>>>>>>>>>\n"
          ]
        },
        {
          "output_type": "stream",
          "name": "stdout",
          "text": [
            "22:31:43   >>>>>>>>>>>>>>>>>>>>>>>>>>>>>>\n"
          ]
        },
        {
          "output_type": "stream",
          "name": "stderr",
          "text": [
            "WARNING:torchdrug.core.meter:Epoch 54 begin\n"
          ]
        },
        {
          "output_type": "stream",
          "name": "stdout",
          "text": [
            "22:31:43   Epoch 54 begin\n"
          ]
        },
        {
          "output_type": "stream",
          "name": "stderr",
          "text": [
            "WARNING:torchdrug.core.meter:>>>>>>>>>>>>>>>>>>>>>>>>>>>>>>\n"
          ]
        },
        {
          "output_type": "stream",
          "name": "stdout",
          "text": [
            "22:31:43   >>>>>>>>>>>>>>>>>>>>>>>>>>>>>>\n"
          ]
        },
        {
          "output_type": "stream",
          "name": "stderr",
          "text": [
            "WARNING:torchdrug.core.meter:Epoch 54 end\n"
          ]
        },
        {
          "output_type": "stream",
          "name": "stdout",
          "text": [
            "22:31:43   Epoch 54 end\n"
          ]
        },
        {
          "output_type": "stream",
          "name": "stderr",
          "text": [
            "WARNING:torchdrug.core.meter:duration: 0.28 secs\n"
          ]
        },
        {
          "output_type": "stream",
          "name": "stdout",
          "text": [
            "22:31:43   duration: 0.28 secs\n"
          ]
        },
        {
          "output_type": "stream",
          "name": "stderr",
          "text": [
            "WARNING:torchdrug.core.meter:speed: 7.19 batch / sec\n"
          ]
        },
        {
          "output_type": "stream",
          "name": "stdout",
          "text": [
            "22:31:43   speed: 7.19 batch / sec\n"
          ]
        },
        {
          "output_type": "stream",
          "name": "stderr",
          "text": [
            "WARNING:torchdrug.core.meter:ETA: 13.48 secs\n"
          ]
        },
        {
          "output_type": "stream",
          "name": "stdout",
          "text": [
            "22:31:43   ETA: 13.48 secs\n"
          ]
        },
        {
          "output_type": "stream",
          "name": "stderr",
          "text": [
            "WARNING:torchdrug.core.meter:max GPU memory: 748.5 MiB\n"
          ]
        },
        {
          "output_type": "stream",
          "name": "stdout",
          "text": [
            "22:31:43   max GPU memory: 748.5 MiB\n"
          ]
        },
        {
          "output_type": "stream",
          "name": "stderr",
          "text": [
            "WARNING:torchdrug.core.logger:------------------------------\n"
          ]
        },
        {
          "output_type": "stream",
          "name": "stdout",
          "text": [
            "22:31:43   ------------------------------\n"
          ]
        },
        {
          "output_type": "stream",
          "name": "stderr",
          "text": [
            "WARNING:torchdrug.core.logger:average binary cross entropy: 0.142184\n"
          ]
        },
        {
          "output_type": "stream",
          "name": "stdout",
          "text": [
            "22:31:43   average binary cross entropy: 0.142184\n"
          ]
        },
        {
          "output_type": "stream",
          "name": "stderr",
          "text": [
            "WARNING:torchdrug.core.meter:>>>>>>>>>>>>>>>>>>>>>>>>>>>>>>\n"
          ]
        },
        {
          "output_type": "stream",
          "name": "stdout",
          "text": [
            "22:31:43   >>>>>>>>>>>>>>>>>>>>>>>>>>>>>>\n"
          ]
        },
        {
          "output_type": "stream",
          "name": "stderr",
          "text": [
            "WARNING:torchdrug.core.meter:Epoch 55 begin\n"
          ]
        },
        {
          "output_type": "stream",
          "name": "stdout",
          "text": [
            "22:31:43   Epoch 55 begin\n"
          ]
        },
        {
          "output_type": "stream",
          "name": "stderr",
          "text": [
            "WARNING:torchdrug.core.meter:>>>>>>>>>>>>>>>>>>>>>>>>>>>>>>\n"
          ]
        },
        {
          "output_type": "stream",
          "name": "stdout",
          "text": [
            "22:31:44   >>>>>>>>>>>>>>>>>>>>>>>>>>>>>>\n"
          ]
        },
        {
          "output_type": "stream",
          "name": "stderr",
          "text": [
            "WARNING:torchdrug.core.meter:Epoch 55 end\n"
          ]
        },
        {
          "output_type": "stream",
          "name": "stdout",
          "text": [
            "22:31:44   Epoch 55 end\n"
          ]
        },
        {
          "output_type": "stream",
          "name": "stderr",
          "text": [
            "WARNING:torchdrug.core.meter:duration: 0.27 secs\n"
          ]
        },
        {
          "output_type": "stream",
          "name": "stdout",
          "text": [
            "22:31:44   duration: 0.27 secs\n"
          ]
        },
        {
          "output_type": "stream",
          "name": "stderr",
          "text": [
            "WARNING:torchdrug.core.meter:speed: 7.51 batch / sec\n"
          ]
        },
        {
          "output_type": "stream",
          "name": "stdout",
          "text": [
            "22:31:44   speed: 7.51 batch / sec\n"
          ]
        },
        {
          "output_type": "stream",
          "name": "stderr",
          "text": [
            "WARNING:torchdrug.core.meter:ETA: 13.15 secs\n"
          ]
        },
        {
          "output_type": "stream",
          "name": "stdout",
          "text": [
            "22:31:44   ETA: 13.15 secs\n"
          ]
        },
        {
          "output_type": "stream",
          "name": "stderr",
          "text": [
            "WARNING:torchdrug.core.meter:max GPU memory: 737.1 MiB\n"
          ]
        },
        {
          "output_type": "stream",
          "name": "stdout",
          "text": [
            "22:31:44   max GPU memory: 737.1 MiB\n"
          ]
        },
        {
          "output_type": "stream",
          "name": "stderr",
          "text": [
            "WARNING:torchdrug.core.logger:------------------------------\n"
          ]
        },
        {
          "output_type": "stream",
          "name": "stdout",
          "text": [
            "22:31:44   ------------------------------\n"
          ]
        },
        {
          "output_type": "stream",
          "name": "stderr",
          "text": [
            "WARNING:torchdrug.core.logger:average binary cross entropy: 0.165454\n"
          ]
        },
        {
          "output_type": "stream",
          "name": "stdout",
          "text": [
            "22:31:44   average binary cross entropy: 0.165454\n"
          ]
        },
        {
          "output_type": "stream",
          "name": "stderr",
          "text": [
            "WARNING:torchdrug.core.meter:>>>>>>>>>>>>>>>>>>>>>>>>>>>>>>\n"
          ]
        },
        {
          "output_type": "stream",
          "name": "stdout",
          "text": [
            "22:31:44   >>>>>>>>>>>>>>>>>>>>>>>>>>>>>>\n"
          ]
        },
        {
          "output_type": "stream",
          "name": "stderr",
          "text": [
            "WARNING:torchdrug.core.meter:Epoch 56 begin\n"
          ]
        },
        {
          "output_type": "stream",
          "name": "stdout",
          "text": [
            "22:31:44   Epoch 56 begin\n"
          ]
        },
        {
          "output_type": "stream",
          "name": "stderr",
          "text": [
            "WARNING:torchdrug.core.meter:>>>>>>>>>>>>>>>>>>>>>>>>>>>>>>\n"
          ]
        },
        {
          "output_type": "stream",
          "name": "stdout",
          "text": [
            "22:31:44   >>>>>>>>>>>>>>>>>>>>>>>>>>>>>>\n"
          ]
        },
        {
          "output_type": "stream",
          "name": "stderr",
          "text": [
            "WARNING:torchdrug.core.meter:Epoch 56 end\n"
          ]
        },
        {
          "output_type": "stream",
          "name": "stdout",
          "text": [
            "22:31:44   Epoch 56 end\n"
          ]
        },
        {
          "output_type": "stream",
          "name": "stderr",
          "text": [
            "WARNING:torchdrug.core.meter:duration: 0.26 secs\n"
          ]
        },
        {
          "output_type": "stream",
          "name": "stdout",
          "text": [
            "22:31:44   duration: 0.26 secs\n"
          ]
        },
        {
          "output_type": "stream",
          "name": "stderr",
          "text": [
            "WARNING:torchdrug.core.meter:speed: 7.70 batch / sec\n"
          ]
        },
        {
          "output_type": "stream",
          "name": "stdout",
          "text": [
            "22:31:44   speed: 7.70 batch / sec\n"
          ]
        },
        {
          "output_type": "stream",
          "name": "stderr",
          "text": [
            "WARNING:torchdrug.core.meter:ETA: 12.82 secs\n"
          ]
        },
        {
          "output_type": "stream",
          "name": "stdout",
          "text": [
            "22:31:44   ETA: 12.82 secs\n"
          ]
        },
        {
          "output_type": "stream",
          "name": "stderr",
          "text": [
            "WARNING:torchdrug.core.meter:max GPU memory: 743.2 MiB\n"
          ]
        },
        {
          "output_type": "stream",
          "name": "stdout",
          "text": [
            "22:31:44   max GPU memory: 743.2 MiB\n"
          ]
        },
        {
          "output_type": "stream",
          "name": "stderr",
          "text": [
            "WARNING:torchdrug.core.logger:------------------------------\n"
          ]
        },
        {
          "output_type": "stream",
          "name": "stdout",
          "text": [
            "22:31:44   ------------------------------\n"
          ]
        },
        {
          "output_type": "stream",
          "name": "stderr",
          "text": [
            "WARNING:torchdrug.core.logger:average binary cross entropy: 0.130439\n"
          ]
        },
        {
          "output_type": "stream",
          "name": "stdout",
          "text": [
            "22:31:44   average binary cross entropy: 0.130439\n"
          ]
        },
        {
          "output_type": "stream",
          "name": "stderr",
          "text": [
            "WARNING:torchdrug.core.meter:>>>>>>>>>>>>>>>>>>>>>>>>>>>>>>\n"
          ]
        },
        {
          "output_type": "stream",
          "name": "stdout",
          "text": [
            "22:31:44   >>>>>>>>>>>>>>>>>>>>>>>>>>>>>>\n"
          ]
        },
        {
          "output_type": "stream",
          "name": "stderr",
          "text": [
            "WARNING:torchdrug.core.meter:Epoch 57 begin\n"
          ]
        },
        {
          "output_type": "stream",
          "name": "stdout",
          "text": [
            "22:31:44   Epoch 57 begin\n"
          ]
        },
        {
          "output_type": "stream",
          "name": "stderr",
          "text": [
            "WARNING:torchdrug.core.meter:>>>>>>>>>>>>>>>>>>>>>>>>>>>>>>\n"
          ]
        },
        {
          "output_type": "stream",
          "name": "stdout",
          "text": [
            "22:31:44   >>>>>>>>>>>>>>>>>>>>>>>>>>>>>>\n"
          ]
        },
        {
          "output_type": "stream",
          "name": "stderr",
          "text": [
            "WARNING:torchdrug.core.meter:Epoch 57 end\n"
          ]
        },
        {
          "output_type": "stream",
          "name": "stdout",
          "text": [
            "22:31:44   Epoch 57 end\n"
          ]
        },
        {
          "output_type": "stream",
          "name": "stderr",
          "text": [
            "WARNING:torchdrug.core.meter:duration: 0.26 secs\n"
          ]
        },
        {
          "output_type": "stream",
          "name": "stdout",
          "text": [
            "22:31:44   duration: 0.26 secs\n"
          ]
        },
        {
          "output_type": "stream",
          "name": "stderr",
          "text": [
            "WARNING:torchdrug.core.meter:speed: 7.72 batch / sec\n"
          ]
        },
        {
          "output_type": "stream",
          "name": "stdout",
          "text": [
            "22:31:44   speed: 7.72 batch / sec\n"
          ]
        },
        {
          "output_type": "stream",
          "name": "stderr",
          "text": [
            "WARNING:torchdrug.core.meter:ETA: 12.50 secs\n"
          ]
        },
        {
          "output_type": "stream",
          "name": "stdout",
          "text": [
            "22:31:44   ETA: 12.50 secs\n"
          ]
        },
        {
          "output_type": "stream",
          "name": "stderr",
          "text": [
            "WARNING:torchdrug.core.meter:max GPU memory: 743.4 MiB\n"
          ]
        },
        {
          "output_type": "stream",
          "name": "stdout",
          "text": [
            "22:31:44   max GPU memory: 743.4 MiB\n"
          ]
        },
        {
          "output_type": "stream",
          "name": "stderr",
          "text": [
            "WARNING:torchdrug.core.logger:------------------------------\n"
          ]
        },
        {
          "output_type": "stream",
          "name": "stdout",
          "text": [
            "22:31:44   ------------------------------\n"
          ]
        },
        {
          "output_type": "stream",
          "name": "stderr",
          "text": [
            "WARNING:torchdrug.core.logger:average binary cross entropy: 0.166447\n"
          ]
        },
        {
          "output_type": "stream",
          "name": "stdout",
          "text": [
            "22:31:44   average binary cross entropy: 0.166447\n"
          ]
        },
        {
          "output_type": "stream",
          "name": "stderr",
          "text": [
            "WARNING:torchdrug.core.meter:>>>>>>>>>>>>>>>>>>>>>>>>>>>>>>\n"
          ]
        },
        {
          "output_type": "stream",
          "name": "stdout",
          "text": [
            "22:31:44   >>>>>>>>>>>>>>>>>>>>>>>>>>>>>>\n"
          ]
        },
        {
          "output_type": "stream",
          "name": "stderr",
          "text": [
            "WARNING:torchdrug.core.meter:Epoch 58 begin\n"
          ]
        },
        {
          "output_type": "stream",
          "name": "stdout",
          "text": [
            "22:31:44   Epoch 58 begin\n"
          ]
        },
        {
          "output_type": "stream",
          "name": "stderr",
          "text": [
            "WARNING:torchdrug.core.meter:>>>>>>>>>>>>>>>>>>>>>>>>>>>>>>\n"
          ]
        },
        {
          "output_type": "stream",
          "name": "stdout",
          "text": [
            "22:31:44   >>>>>>>>>>>>>>>>>>>>>>>>>>>>>>\n"
          ]
        },
        {
          "output_type": "stream",
          "name": "stderr",
          "text": [
            "WARNING:torchdrug.core.meter:Epoch 58 end\n"
          ]
        },
        {
          "output_type": "stream",
          "name": "stdout",
          "text": [
            "22:31:44   Epoch 58 end\n"
          ]
        },
        {
          "output_type": "stream",
          "name": "stderr",
          "text": [
            "WARNING:torchdrug.core.meter:duration: 0.25 secs\n"
          ]
        },
        {
          "output_type": "stream",
          "name": "stdout",
          "text": [
            "22:31:44   duration: 0.25 secs\n"
          ]
        },
        {
          "output_type": "stream",
          "name": "stderr",
          "text": [
            "WARNING:torchdrug.core.meter:speed: 8.12 batch / sec\n"
          ]
        },
        {
          "output_type": "stream",
          "name": "stdout",
          "text": [
            "22:31:44   speed: 8.12 batch / sec\n"
          ]
        },
        {
          "output_type": "stream",
          "name": "stderr",
          "text": [
            "WARNING:torchdrug.core.meter:ETA: 12.16 secs\n"
          ]
        },
        {
          "output_type": "stream",
          "name": "stdout",
          "text": [
            "22:31:44   ETA: 12.16 secs\n"
          ]
        },
        {
          "output_type": "stream",
          "name": "stderr",
          "text": [
            "WARNING:torchdrug.core.meter:max GPU memory: 745.3 MiB\n"
          ]
        },
        {
          "output_type": "stream",
          "name": "stdout",
          "text": [
            "22:31:44   max GPU memory: 745.3 MiB\n"
          ]
        },
        {
          "output_type": "stream",
          "name": "stderr",
          "text": [
            "WARNING:torchdrug.core.logger:------------------------------\n"
          ]
        },
        {
          "output_type": "stream",
          "name": "stdout",
          "text": [
            "22:31:44   ------------------------------\n"
          ]
        },
        {
          "output_type": "stream",
          "name": "stderr",
          "text": [
            "WARNING:torchdrug.core.logger:average binary cross entropy: 0.121362\n"
          ]
        },
        {
          "output_type": "stream",
          "name": "stdout",
          "text": [
            "22:31:44   average binary cross entropy: 0.121362\n"
          ]
        },
        {
          "output_type": "stream",
          "name": "stderr",
          "text": [
            "WARNING:torchdrug.core.meter:>>>>>>>>>>>>>>>>>>>>>>>>>>>>>>\n"
          ]
        },
        {
          "output_type": "stream",
          "name": "stdout",
          "text": [
            "22:31:44   >>>>>>>>>>>>>>>>>>>>>>>>>>>>>>\n"
          ]
        },
        {
          "output_type": "stream",
          "name": "stderr",
          "text": [
            "WARNING:torchdrug.core.meter:Epoch 59 begin\n"
          ]
        },
        {
          "output_type": "stream",
          "name": "stdout",
          "text": [
            "22:31:44   Epoch 59 begin\n"
          ]
        },
        {
          "output_type": "stream",
          "name": "stderr",
          "text": [
            "WARNING:torchdrug.core.meter:>>>>>>>>>>>>>>>>>>>>>>>>>>>>>>\n"
          ]
        },
        {
          "output_type": "stream",
          "name": "stdout",
          "text": [
            "22:31:45   >>>>>>>>>>>>>>>>>>>>>>>>>>>>>>\n"
          ]
        },
        {
          "output_type": "stream",
          "name": "stderr",
          "text": [
            "WARNING:torchdrug.core.meter:Epoch 59 end\n"
          ]
        },
        {
          "output_type": "stream",
          "name": "stdout",
          "text": [
            "22:31:45   Epoch 59 end\n"
          ]
        },
        {
          "output_type": "stream",
          "name": "stderr",
          "text": [
            "WARNING:torchdrug.core.meter:duration: 0.25 secs\n"
          ]
        },
        {
          "output_type": "stream",
          "name": "stdout",
          "text": [
            "22:31:45   duration: 0.25 secs\n"
          ]
        },
        {
          "output_type": "stream",
          "name": "stderr",
          "text": [
            "WARNING:torchdrug.core.meter:speed: 8.03 batch / sec\n"
          ]
        },
        {
          "output_type": "stream",
          "name": "stdout",
          "text": [
            "22:31:45   speed: 8.03 batch / sec\n"
          ]
        },
        {
          "output_type": "stream",
          "name": "stderr",
          "text": [
            "WARNING:torchdrug.core.meter:ETA: 11.84 secs\n"
          ]
        },
        {
          "output_type": "stream",
          "name": "stdout",
          "text": [
            "22:31:45   ETA: 11.84 secs\n"
          ]
        },
        {
          "output_type": "stream",
          "name": "stderr",
          "text": [
            "WARNING:torchdrug.core.meter:max GPU memory: 731.8 MiB\n"
          ]
        },
        {
          "output_type": "stream",
          "name": "stdout",
          "text": [
            "22:31:45   max GPU memory: 731.8 MiB\n"
          ]
        },
        {
          "output_type": "stream",
          "name": "stderr",
          "text": [
            "WARNING:torchdrug.core.logger:------------------------------\n"
          ]
        },
        {
          "output_type": "stream",
          "name": "stdout",
          "text": [
            "22:31:45   ------------------------------\n"
          ]
        },
        {
          "output_type": "stream",
          "name": "stderr",
          "text": [
            "WARNING:torchdrug.core.logger:average binary cross entropy: 0.147492\n"
          ]
        },
        {
          "output_type": "stream",
          "name": "stdout",
          "text": [
            "22:31:45   average binary cross entropy: 0.147492\n"
          ]
        },
        {
          "output_type": "stream",
          "name": "stderr",
          "text": [
            "WARNING:torchdrug.core.meter:>>>>>>>>>>>>>>>>>>>>>>>>>>>>>>\n"
          ]
        },
        {
          "output_type": "stream",
          "name": "stdout",
          "text": [
            "22:31:45   >>>>>>>>>>>>>>>>>>>>>>>>>>>>>>\n"
          ]
        },
        {
          "output_type": "stream",
          "name": "stderr",
          "text": [
            "WARNING:torchdrug.core.meter:Epoch 60 begin\n"
          ]
        },
        {
          "output_type": "stream",
          "name": "stdout",
          "text": [
            "22:31:45   Epoch 60 begin\n"
          ]
        },
        {
          "output_type": "stream",
          "name": "stderr",
          "text": [
            "WARNING:torchdrug.core.meter:>>>>>>>>>>>>>>>>>>>>>>>>>>>>>>\n"
          ]
        },
        {
          "output_type": "stream",
          "name": "stdout",
          "text": [
            "22:31:45   >>>>>>>>>>>>>>>>>>>>>>>>>>>>>>\n"
          ]
        },
        {
          "output_type": "stream",
          "name": "stderr",
          "text": [
            "WARNING:torchdrug.core.meter:Epoch 60 end\n"
          ]
        },
        {
          "output_type": "stream",
          "name": "stdout",
          "text": [
            "22:31:45   Epoch 60 end\n"
          ]
        },
        {
          "output_type": "stream",
          "name": "stderr",
          "text": [
            "WARNING:torchdrug.core.meter:duration: 0.25 secs\n"
          ]
        },
        {
          "output_type": "stream",
          "name": "stdout",
          "text": [
            "22:31:45   duration: 0.25 secs\n"
          ]
        },
        {
          "output_type": "stream",
          "name": "stderr",
          "text": [
            "WARNING:torchdrug.core.meter:speed: 7.85 batch / sec\n"
          ]
        },
        {
          "output_type": "stream",
          "name": "stdout",
          "text": [
            "22:31:45   speed: 7.85 batch / sec\n"
          ]
        },
        {
          "output_type": "stream",
          "name": "stderr",
          "text": [
            "WARNING:torchdrug.core.meter:ETA: 11.51 secs\n"
          ]
        },
        {
          "output_type": "stream",
          "name": "stdout",
          "text": [
            "22:31:45   ETA: 11.51 secs\n"
          ]
        },
        {
          "output_type": "stream",
          "name": "stderr",
          "text": [
            "WARNING:torchdrug.core.meter:max GPU memory: 739.7 MiB\n"
          ]
        },
        {
          "output_type": "stream",
          "name": "stdout",
          "text": [
            "22:31:45   max GPU memory: 739.7 MiB\n"
          ]
        },
        {
          "output_type": "stream",
          "name": "stderr",
          "text": [
            "WARNING:torchdrug.core.logger:------------------------------\n"
          ]
        },
        {
          "output_type": "stream",
          "name": "stdout",
          "text": [
            "22:31:45   ------------------------------\n"
          ]
        },
        {
          "output_type": "stream",
          "name": "stderr",
          "text": [
            "WARNING:torchdrug.core.logger:average binary cross entropy: 0.109276\n"
          ]
        },
        {
          "output_type": "stream",
          "name": "stdout",
          "text": [
            "22:31:45   average binary cross entropy: 0.109276\n"
          ]
        },
        {
          "output_type": "stream",
          "name": "stderr",
          "text": [
            "WARNING:torchdrug.core.meter:>>>>>>>>>>>>>>>>>>>>>>>>>>>>>>\n"
          ]
        },
        {
          "output_type": "stream",
          "name": "stdout",
          "text": [
            "22:31:45   >>>>>>>>>>>>>>>>>>>>>>>>>>>>>>\n"
          ]
        },
        {
          "output_type": "stream",
          "name": "stderr",
          "text": [
            "WARNING:torchdrug.core.meter:Epoch 61 begin\n"
          ]
        },
        {
          "output_type": "stream",
          "name": "stdout",
          "text": [
            "22:31:45   Epoch 61 begin\n"
          ]
        },
        {
          "output_type": "stream",
          "name": "stderr",
          "text": [
            "WARNING:torchdrug.core.meter:>>>>>>>>>>>>>>>>>>>>>>>>>>>>>>\n"
          ]
        },
        {
          "output_type": "stream",
          "name": "stdout",
          "text": [
            "22:31:45   >>>>>>>>>>>>>>>>>>>>>>>>>>>>>>\n"
          ]
        },
        {
          "output_type": "stream",
          "name": "stderr",
          "text": [
            "WARNING:torchdrug.core.meter:Epoch 61 end\n"
          ]
        },
        {
          "output_type": "stream",
          "name": "stdout",
          "text": [
            "22:31:45   Epoch 61 end\n"
          ]
        },
        {
          "output_type": "stream",
          "name": "stderr",
          "text": [
            "WARNING:torchdrug.core.meter:duration: 0.24 secs\n"
          ]
        },
        {
          "output_type": "stream",
          "name": "stdout",
          "text": [
            "22:31:45   duration: 0.24 secs\n"
          ]
        },
        {
          "output_type": "stream",
          "name": "stderr",
          "text": [
            "WARNING:torchdrug.core.meter:speed: 8.21 batch / sec\n"
          ]
        },
        {
          "output_type": "stream",
          "name": "stdout",
          "text": [
            "22:31:45   speed: 8.21 batch / sec\n"
          ]
        },
        {
          "output_type": "stream",
          "name": "stderr",
          "text": [
            "WARNING:torchdrug.core.meter:ETA: 11.19 secs\n"
          ]
        },
        {
          "output_type": "stream",
          "name": "stdout",
          "text": [
            "22:31:45   ETA: 11.19 secs\n"
          ]
        },
        {
          "output_type": "stream",
          "name": "stderr",
          "text": [
            "WARNING:torchdrug.core.meter:max GPU memory: 744.0 MiB\n"
          ]
        },
        {
          "output_type": "stream",
          "name": "stdout",
          "text": [
            "22:31:45   max GPU memory: 744.0 MiB\n"
          ]
        },
        {
          "output_type": "stream",
          "name": "stderr",
          "text": [
            "WARNING:torchdrug.core.logger:------------------------------\n"
          ]
        },
        {
          "output_type": "stream",
          "name": "stdout",
          "text": [
            "22:31:45   ------------------------------\n"
          ]
        },
        {
          "output_type": "stream",
          "name": "stderr",
          "text": [
            "WARNING:torchdrug.core.logger:average binary cross entropy: 0.109742\n"
          ]
        },
        {
          "output_type": "stream",
          "name": "stdout",
          "text": [
            "22:31:45   average binary cross entropy: 0.109742\n"
          ]
        },
        {
          "output_type": "stream",
          "name": "stderr",
          "text": [
            "WARNING:torchdrug.core.meter:>>>>>>>>>>>>>>>>>>>>>>>>>>>>>>\n"
          ]
        },
        {
          "output_type": "stream",
          "name": "stdout",
          "text": [
            "22:31:45   >>>>>>>>>>>>>>>>>>>>>>>>>>>>>>\n"
          ]
        },
        {
          "output_type": "stream",
          "name": "stderr",
          "text": [
            "WARNING:torchdrug.core.meter:Epoch 62 begin\n"
          ]
        },
        {
          "output_type": "stream",
          "name": "stdout",
          "text": [
            "22:31:45   Epoch 62 begin\n"
          ]
        },
        {
          "output_type": "stream",
          "name": "stderr",
          "text": [
            "WARNING:torchdrug.core.meter:>>>>>>>>>>>>>>>>>>>>>>>>>>>>>>\n"
          ]
        },
        {
          "output_type": "stream",
          "name": "stdout",
          "text": [
            "22:31:45   >>>>>>>>>>>>>>>>>>>>>>>>>>>>>>\n"
          ]
        },
        {
          "output_type": "stream",
          "name": "stderr",
          "text": [
            "WARNING:torchdrug.core.meter:Epoch 62 end\n"
          ]
        },
        {
          "output_type": "stream",
          "name": "stdout",
          "text": [
            "22:31:45   Epoch 62 end\n"
          ]
        },
        {
          "output_type": "stream",
          "name": "stderr",
          "text": [
            "WARNING:torchdrug.core.meter:duration: 0.25 secs\n"
          ]
        },
        {
          "output_type": "stream",
          "name": "stdout",
          "text": [
            "22:31:45   duration: 0.25 secs\n"
          ]
        },
        {
          "output_type": "stream",
          "name": "stderr",
          "text": [
            "WARNING:torchdrug.core.meter:speed: 8.04 batch / sec\n"
          ]
        },
        {
          "output_type": "stream",
          "name": "stdout",
          "text": [
            "22:31:45   speed: 8.04 batch / sec\n"
          ]
        },
        {
          "output_type": "stream",
          "name": "stderr",
          "text": [
            "WARNING:torchdrug.core.meter:ETA: 10.87 secs\n"
          ]
        },
        {
          "output_type": "stream",
          "name": "stdout",
          "text": [
            "22:31:45   ETA: 10.87 secs\n"
          ]
        },
        {
          "output_type": "stream",
          "name": "stderr",
          "text": [
            "WARNING:torchdrug.core.meter:max GPU memory: 746.8 MiB\n"
          ]
        },
        {
          "output_type": "stream",
          "name": "stdout",
          "text": [
            "22:31:45   max GPU memory: 746.8 MiB\n"
          ]
        },
        {
          "output_type": "stream",
          "name": "stderr",
          "text": [
            "WARNING:torchdrug.core.logger:------------------------------\n"
          ]
        },
        {
          "output_type": "stream",
          "name": "stdout",
          "text": [
            "22:31:45   ------------------------------\n"
          ]
        },
        {
          "output_type": "stream",
          "name": "stderr",
          "text": [
            "WARNING:torchdrug.core.logger:average binary cross entropy: 0.106155\n"
          ]
        },
        {
          "output_type": "stream",
          "name": "stdout",
          "text": [
            "22:31:45   average binary cross entropy: 0.106155\n"
          ]
        },
        {
          "output_type": "stream",
          "name": "stderr",
          "text": [
            "WARNING:torchdrug.core.meter:>>>>>>>>>>>>>>>>>>>>>>>>>>>>>>\n"
          ]
        },
        {
          "output_type": "stream",
          "name": "stdout",
          "text": [
            "22:31:45   >>>>>>>>>>>>>>>>>>>>>>>>>>>>>>\n"
          ]
        },
        {
          "output_type": "stream",
          "name": "stderr",
          "text": [
            "WARNING:torchdrug.core.meter:Epoch 63 begin\n"
          ]
        },
        {
          "output_type": "stream",
          "name": "stdout",
          "text": [
            "22:31:45   Epoch 63 begin\n"
          ]
        },
        {
          "output_type": "stream",
          "name": "stderr",
          "text": [
            "WARNING:torchdrug.core.meter:>>>>>>>>>>>>>>>>>>>>>>>>>>>>>>\n"
          ]
        },
        {
          "output_type": "stream",
          "name": "stdout",
          "text": [
            "22:31:46   >>>>>>>>>>>>>>>>>>>>>>>>>>>>>>\n"
          ]
        },
        {
          "output_type": "stream",
          "name": "stderr",
          "text": [
            "WARNING:torchdrug.core.meter:Epoch 63 end\n"
          ]
        },
        {
          "output_type": "stream",
          "name": "stdout",
          "text": [
            "22:31:46   Epoch 63 end\n"
          ]
        },
        {
          "output_type": "stream",
          "name": "stderr",
          "text": [
            "WARNING:torchdrug.core.meter:duration: 0.26 secs\n"
          ]
        },
        {
          "output_type": "stream",
          "name": "stdout",
          "text": [
            "22:31:46   duration: 0.26 secs\n"
          ]
        },
        {
          "output_type": "stream",
          "name": "stderr",
          "text": [
            "WARNING:torchdrug.core.meter:speed: 7.79 batch / sec\n"
          ]
        },
        {
          "output_type": "stream",
          "name": "stdout",
          "text": [
            "22:31:46   speed: 7.79 batch / sec\n"
          ]
        },
        {
          "output_type": "stream",
          "name": "stderr",
          "text": [
            "WARNING:torchdrug.core.meter:ETA: 10.55 secs\n"
          ]
        },
        {
          "output_type": "stream",
          "name": "stdout",
          "text": [
            "22:31:46   ETA: 10.55 secs\n"
          ]
        },
        {
          "output_type": "stream",
          "name": "stderr",
          "text": [
            "WARNING:torchdrug.core.meter:max GPU memory: 744.6 MiB\n"
          ]
        },
        {
          "output_type": "stream",
          "name": "stdout",
          "text": [
            "22:31:46   max GPU memory: 744.6 MiB\n"
          ]
        },
        {
          "output_type": "stream",
          "name": "stderr",
          "text": [
            "WARNING:torchdrug.core.logger:------------------------------\n"
          ]
        },
        {
          "output_type": "stream",
          "name": "stdout",
          "text": [
            "22:31:46   ------------------------------\n"
          ]
        },
        {
          "output_type": "stream",
          "name": "stderr",
          "text": [
            "WARNING:torchdrug.core.logger:average binary cross entropy: 0.114604\n"
          ]
        },
        {
          "output_type": "stream",
          "name": "stdout",
          "text": [
            "22:31:46   average binary cross entropy: 0.114604\n"
          ]
        },
        {
          "output_type": "stream",
          "name": "stderr",
          "text": [
            "WARNING:torchdrug.core.meter:>>>>>>>>>>>>>>>>>>>>>>>>>>>>>>\n"
          ]
        },
        {
          "output_type": "stream",
          "name": "stdout",
          "text": [
            "22:31:46   >>>>>>>>>>>>>>>>>>>>>>>>>>>>>>\n"
          ]
        },
        {
          "output_type": "stream",
          "name": "stderr",
          "text": [
            "WARNING:torchdrug.core.meter:Epoch 64 begin\n"
          ]
        },
        {
          "output_type": "stream",
          "name": "stdout",
          "text": [
            "22:31:46   Epoch 64 begin\n"
          ]
        },
        {
          "output_type": "stream",
          "name": "stderr",
          "text": [
            "WARNING:torchdrug.core.meter:>>>>>>>>>>>>>>>>>>>>>>>>>>>>>>\n"
          ]
        },
        {
          "output_type": "stream",
          "name": "stdout",
          "text": [
            "22:31:46   >>>>>>>>>>>>>>>>>>>>>>>>>>>>>>\n"
          ]
        },
        {
          "output_type": "stream",
          "name": "stderr",
          "text": [
            "WARNING:torchdrug.core.meter:Epoch 64 end\n"
          ]
        },
        {
          "output_type": "stream",
          "name": "stdout",
          "text": [
            "22:31:46   Epoch 64 end\n"
          ]
        },
        {
          "output_type": "stream",
          "name": "stderr",
          "text": [
            "WARNING:torchdrug.core.meter:duration: 0.27 secs\n"
          ]
        },
        {
          "output_type": "stream",
          "name": "stdout",
          "text": [
            "22:31:46   duration: 0.27 secs\n"
          ]
        },
        {
          "output_type": "stream",
          "name": "stderr",
          "text": [
            "WARNING:torchdrug.core.meter:speed: 7.51 batch / sec\n"
          ]
        },
        {
          "output_type": "stream",
          "name": "stdout",
          "text": [
            "22:31:46   speed: 7.51 batch / sec\n"
          ]
        },
        {
          "output_type": "stream",
          "name": "stderr",
          "text": [
            "WARNING:torchdrug.core.meter:ETA: 10.24 secs\n"
          ]
        },
        {
          "output_type": "stream",
          "name": "stdout",
          "text": [
            "22:31:46   ETA: 10.24 secs\n"
          ]
        },
        {
          "output_type": "stream",
          "name": "stderr",
          "text": [
            "WARNING:torchdrug.core.meter:max GPU memory: 748.5 MiB\n"
          ]
        },
        {
          "output_type": "stream",
          "name": "stdout",
          "text": [
            "22:31:46   max GPU memory: 748.5 MiB\n"
          ]
        },
        {
          "output_type": "stream",
          "name": "stderr",
          "text": [
            "WARNING:torchdrug.core.logger:------------------------------\n"
          ]
        },
        {
          "output_type": "stream",
          "name": "stdout",
          "text": [
            "22:31:46   ------------------------------\n"
          ]
        },
        {
          "output_type": "stream",
          "name": "stderr",
          "text": [
            "WARNING:torchdrug.core.logger:average binary cross entropy: 0.11253\n"
          ]
        },
        {
          "output_type": "stream",
          "name": "stdout",
          "text": [
            "22:31:46   average binary cross entropy: 0.11253\n"
          ]
        },
        {
          "output_type": "stream",
          "name": "stderr",
          "text": [
            "WARNING:torchdrug.core.meter:>>>>>>>>>>>>>>>>>>>>>>>>>>>>>>\n"
          ]
        },
        {
          "output_type": "stream",
          "name": "stdout",
          "text": [
            "22:31:46   >>>>>>>>>>>>>>>>>>>>>>>>>>>>>>\n"
          ]
        },
        {
          "output_type": "stream",
          "name": "stderr",
          "text": [
            "WARNING:torchdrug.core.meter:Epoch 65 begin\n"
          ]
        },
        {
          "output_type": "stream",
          "name": "stdout",
          "text": [
            "22:31:46   Epoch 65 begin\n"
          ]
        },
        {
          "output_type": "stream",
          "name": "stderr",
          "text": [
            "WARNING:torchdrug.core.meter:>>>>>>>>>>>>>>>>>>>>>>>>>>>>>>\n"
          ]
        },
        {
          "output_type": "stream",
          "name": "stdout",
          "text": [
            "22:31:46   >>>>>>>>>>>>>>>>>>>>>>>>>>>>>>\n"
          ]
        },
        {
          "output_type": "stream",
          "name": "stderr",
          "text": [
            "WARNING:torchdrug.core.meter:Epoch 65 end\n"
          ]
        },
        {
          "output_type": "stream",
          "name": "stdout",
          "text": [
            "22:31:46   Epoch 65 end\n"
          ]
        },
        {
          "output_type": "stream",
          "name": "stderr",
          "text": [
            "WARNING:torchdrug.core.meter:duration: 0.24 secs\n"
          ]
        },
        {
          "output_type": "stream",
          "name": "stdout",
          "text": [
            "22:31:46   duration: 0.24 secs\n"
          ]
        },
        {
          "output_type": "stream",
          "name": "stderr",
          "text": [
            "WARNING:torchdrug.core.meter:speed: 8.22 batch / sec\n"
          ]
        },
        {
          "output_type": "stream",
          "name": "stdout",
          "text": [
            "22:31:46   speed: 8.22 batch / sec\n"
          ]
        },
        {
          "output_type": "stream",
          "name": "stderr",
          "text": [
            "WARNING:torchdrug.core.meter:ETA: 9.93 secs\n"
          ]
        },
        {
          "output_type": "stream",
          "name": "stdout",
          "text": [
            "22:31:46   ETA: 9.93 secs\n"
          ]
        },
        {
          "output_type": "stream",
          "name": "stderr",
          "text": [
            "WARNING:torchdrug.core.meter:max GPU memory: 744.1 MiB\n"
          ]
        },
        {
          "output_type": "stream",
          "name": "stdout",
          "text": [
            "22:31:46   max GPU memory: 744.1 MiB\n"
          ]
        },
        {
          "output_type": "stream",
          "name": "stderr",
          "text": [
            "WARNING:torchdrug.core.logger:------------------------------\n"
          ]
        },
        {
          "output_type": "stream",
          "name": "stdout",
          "text": [
            "22:31:46   ------------------------------\n"
          ]
        },
        {
          "output_type": "stream",
          "name": "stderr",
          "text": [
            "WARNING:torchdrug.core.logger:average binary cross entropy: 0.116186\n"
          ]
        },
        {
          "output_type": "stream",
          "name": "stdout",
          "text": [
            "22:31:46   average binary cross entropy: 0.116186\n"
          ]
        },
        {
          "output_type": "stream",
          "name": "stderr",
          "text": [
            "WARNING:torchdrug.core.meter:>>>>>>>>>>>>>>>>>>>>>>>>>>>>>>\n"
          ]
        },
        {
          "output_type": "stream",
          "name": "stdout",
          "text": [
            "22:31:46   >>>>>>>>>>>>>>>>>>>>>>>>>>>>>>\n"
          ]
        },
        {
          "output_type": "stream",
          "name": "stderr",
          "text": [
            "WARNING:torchdrug.core.meter:Epoch 66 begin\n"
          ]
        },
        {
          "output_type": "stream",
          "name": "stdout",
          "text": [
            "22:31:46   Epoch 66 begin\n"
          ]
        },
        {
          "output_type": "stream",
          "name": "stderr",
          "text": [
            "WARNING:torchdrug.core.meter:>>>>>>>>>>>>>>>>>>>>>>>>>>>>>>\n"
          ]
        },
        {
          "output_type": "stream",
          "name": "stdout",
          "text": [
            "22:31:46   >>>>>>>>>>>>>>>>>>>>>>>>>>>>>>\n"
          ]
        },
        {
          "output_type": "stream",
          "name": "stderr",
          "text": [
            "WARNING:torchdrug.core.meter:Epoch 66 end\n"
          ]
        },
        {
          "output_type": "stream",
          "name": "stdout",
          "text": [
            "22:31:46   Epoch 66 end\n"
          ]
        },
        {
          "output_type": "stream",
          "name": "stderr",
          "text": [
            "WARNING:torchdrug.core.meter:duration: 0.25 secs\n"
          ]
        },
        {
          "output_type": "stream",
          "name": "stdout",
          "text": [
            "22:31:46   duration: 0.25 secs\n"
          ]
        },
        {
          "output_type": "stream",
          "name": "stderr",
          "text": [
            "WARNING:torchdrug.core.meter:speed: 8.08 batch / sec\n"
          ]
        },
        {
          "output_type": "stream",
          "name": "stdout",
          "text": [
            "22:31:46   speed: 8.08 batch / sec\n"
          ]
        },
        {
          "output_type": "stream",
          "name": "stderr",
          "text": [
            "WARNING:torchdrug.core.meter:ETA: 9.61 secs\n"
          ]
        },
        {
          "output_type": "stream",
          "name": "stdout",
          "text": [
            "22:31:46   ETA: 9.61 secs\n"
          ]
        },
        {
          "output_type": "stream",
          "name": "stderr",
          "text": [
            "WARNING:torchdrug.core.meter:max GPU memory: 748.0 MiB\n"
          ]
        },
        {
          "output_type": "stream",
          "name": "stdout",
          "text": [
            "22:31:46   max GPU memory: 748.0 MiB\n"
          ]
        },
        {
          "output_type": "stream",
          "name": "stderr",
          "text": [
            "WARNING:torchdrug.core.logger:------------------------------\n"
          ]
        },
        {
          "output_type": "stream",
          "name": "stdout",
          "text": [
            "22:31:46   ------------------------------\n"
          ]
        },
        {
          "output_type": "stream",
          "name": "stderr",
          "text": [
            "WARNING:torchdrug.core.logger:average binary cross entropy: 0.112114\n"
          ]
        },
        {
          "output_type": "stream",
          "name": "stdout",
          "text": [
            "22:31:46   average binary cross entropy: 0.112114\n"
          ]
        },
        {
          "output_type": "stream",
          "name": "stderr",
          "text": [
            "WARNING:torchdrug.core.meter:>>>>>>>>>>>>>>>>>>>>>>>>>>>>>>\n"
          ]
        },
        {
          "output_type": "stream",
          "name": "stdout",
          "text": [
            "22:31:46   >>>>>>>>>>>>>>>>>>>>>>>>>>>>>>\n"
          ]
        },
        {
          "output_type": "stream",
          "name": "stderr",
          "text": [
            "WARNING:torchdrug.core.meter:Epoch 67 begin\n"
          ]
        },
        {
          "output_type": "stream",
          "name": "stdout",
          "text": [
            "22:31:46   Epoch 67 begin\n"
          ]
        },
        {
          "output_type": "stream",
          "name": "stderr",
          "text": [
            "WARNING:torchdrug.core.meter:>>>>>>>>>>>>>>>>>>>>>>>>>>>>>>\n"
          ]
        },
        {
          "output_type": "stream",
          "name": "stdout",
          "text": [
            "22:31:47   >>>>>>>>>>>>>>>>>>>>>>>>>>>>>>\n"
          ]
        },
        {
          "output_type": "stream",
          "name": "stderr",
          "text": [
            "WARNING:torchdrug.core.meter:Epoch 67 end\n"
          ]
        },
        {
          "output_type": "stream",
          "name": "stdout",
          "text": [
            "22:31:47   Epoch 67 end\n"
          ]
        },
        {
          "output_type": "stream",
          "name": "stderr",
          "text": [
            "WARNING:torchdrug.core.meter:duration: 0.26 secs\n"
          ]
        },
        {
          "output_type": "stream",
          "name": "stdout",
          "text": [
            "22:31:47   duration: 0.26 secs\n"
          ]
        },
        {
          "output_type": "stream",
          "name": "stderr",
          "text": [
            "WARNING:torchdrug.core.meter:speed: 7.80 batch / sec\n"
          ]
        },
        {
          "output_type": "stream",
          "name": "stdout",
          "text": [
            "22:31:47   speed: 7.80 batch / sec\n"
          ]
        },
        {
          "output_type": "stream",
          "name": "stderr",
          "text": [
            "WARNING:torchdrug.core.meter:ETA: 9.30 secs\n"
          ]
        },
        {
          "output_type": "stream",
          "name": "stdout",
          "text": [
            "22:31:47   ETA: 9.30 secs\n"
          ]
        },
        {
          "output_type": "stream",
          "name": "stderr",
          "text": [
            "WARNING:torchdrug.core.meter:max GPU memory: 738.4 MiB\n"
          ]
        },
        {
          "output_type": "stream",
          "name": "stdout",
          "text": [
            "22:31:47   max GPU memory: 738.4 MiB\n"
          ]
        },
        {
          "output_type": "stream",
          "name": "stderr",
          "text": [
            "WARNING:torchdrug.core.logger:------------------------------\n"
          ]
        },
        {
          "output_type": "stream",
          "name": "stdout",
          "text": [
            "22:31:47   ------------------------------\n"
          ]
        },
        {
          "output_type": "stream",
          "name": "stderr",
          "text": [
            "WARNING:torchdrug.core.logger:average binary cross entropy: 0.124314\n"
          ]
        },
        {
          "output_type": "stream",
          "name": "stdout",
          "text": [
            "22:31:47   average binary cross entropy: 0.124314\n"
          ]
        },
        {
          "output_type": "stream",
          "name": "stderr",
          "text": [
            "WARNING:torchdrug.core.meter:>>>>>>>>>>>>>>>>>>>>>>>>>>>>>>\n"
          ]
        },
        {
          "output_type": "stream",
          "name": "stdout",
          "text": [
            "22:31:47   >>>>>>>>>>>>>>>>>>>>>>>>>>>>>>\n"
          ]
        },
        {
          "output_type": "stream",
          "name": "stderr",
          "text": [
            "WARNING:torchdrug.core.meter:Epoch 68 begin\n"
          ]
        },
        {
          "output_type": "stream",
          "name": "stdout",
          "text": [
            "22:31:47   Epoch 68 begin\n"
          ]
        },
        {
          "output_type": "stream",
          "name": "stderr",
          "text": [
            "WARNING:torchdrug.core.meter:>>>>>>>>>>>>>>>>>>>>>>>>>>>>>>\n"
          ]
        },
        {
          "output_type": "stream",
          "name": "stdout",
          "text": [
            "22:31:47   >>>>>>>>>>>>>>>>>>>>>>>>>>>>>>\n"
          ]
        },
        {
          "output_type": "stream",
          "name": "stderr",
          "text": [
            "WARNING:torchdrug.core.meter:Epoch 68 end\n"
          ]
        },
        {
          "output_type": "stream",
          "name": "stdout",
          "text": [
            "22:31:47   Epoch 68 end\n"
          ]
        },
        {
          "output_type": "stream",
          "name": "stderr",
          "text": [
            "WARNING:torchdrug.core.meter:duration: 0.25 secs\n"
          ]
        },
        {
          "output_type": "stream",
          "name": "stdout",
          "text": [
            "22:31:47   duration: 0.25 secs\n"
          ]
        },
        {
          "output_type": "stream",
          "name": "stderr",
          "text": [
            "WARNING:torchdrug.core.meter:speed: 7.93 batch / sec\n"
          ]
        },
        {
          "output_type": "stream",
          "name": "stdout",
          "text": [
            "22:31:47   speed: 7.93 batch / sec\n"
          ]
        },
        {
          "output_type": "stream",
          "name": "stderr",
          "text": [
            "WARNING:torchdrug.core.meter:ETA: 9.00 secs\n"
          ]
        },
        {
          "output_type": "stream",
          "name": "stdout",
          "text": [
            "22:31:47   ETA: 9.00 secs\n"
          ]
        },
        {
          "output_type": "stream",
          "name": "stderr",
          "text": [
            "WARNING:torchdrug.core.meter:max GPU memory: 746.8 MiB\n"
          ]
        },
        {
          "output_type": "stream",
          "name": "stdout",
          "text": [
            "22:31:47   max GPU memory: 746.8 MiB\n"
          ]
        },
        {
          "output_type": "stream",
          "name": "stderr",
          "text": [
            "WARNING:torchdrug.core.logger:------------------------------\n"
          ]
        },
        {
          "output_type": "stream",
          "name": "stdout",
          "text": [
            "22:31:47   ------------------------------\n"
          ]
        },
        {
          "output_type": "stream",
          "name": "stderr",
          "text": [
            "WARNING:torchdrug.core.logger:average binary cross entropy: 0.121547\n"
          ]
        },
        {
          "output_type": "stream",
          "name": "stdout",
          "text": [
            "22:31:47   average binary cross entropy: 0.121547\n"
          ]
        },
        {
          "output_type": "stream",
          "name": "stderr",
          "text": [
            "WARNING:torchdrug.core.meter:>>>>>>>>>>>>>>>>>>>>>>>>>>>>>>\n"
          ]
        },
        {
          "output_type": "stream",
          "name": "stdout",
          "text": [
            "22:31:47   >>>>>>>>>>>>>>>>>>>>>>>>>>>>>>\n"
          ]
        },
        {
          "output_type": "stream",
          "name": "stderr",
          "text": [
            "WARNING:torchdrug.core.meter:Epoch 69 begin\n"
          ]
        },
        {
          "output_type": "stream",
          "name": "stdout",
          "text": [
            "22:31:47   Epoch 69 begin\n"
          ]
        },
        {
          "output_type": "stream",
          "name": "stderr",
          "text": [
            "WARNING:torchdrug.core.meter:>>>>>>>>>>>>>>>>>>>>>>>>>>>>>>\n"
          ]
        },
        {
          "output_type": "stream",
          "name": "stdout",
          "text": [
            "22:31:47   >>>>>>>>>>>>>>>>>>>>>>>>>>>>>>\n"
          ]
        },
        {
          "output_type": "stream",
          "name": "stderr",
          "text": [
            "WARNING:torchdrug.core.meter:Epoch 69 end\n"
          ]
        },
        {
          "output_type": "stream",
          "name": "stdout",
          "text": [
            "22:31:47   Epoch 69 end\n"
          ]
        },
        {
          "output_type": "stream",
          "name": "stderr",
          "text": [
            "WARNING:torchdrug.core.meter:duration: 0.24 secs\n"
          ]
        },
        {
          "output_type": "stream",
          "name": "stdout",
          "text": [
            "22:31:47   duration: 0.24 secs\n"
          ]
        },
        {
          "output_type": "stream",
          "name": "stderr",
          "text": [
            "WARNING:torchdrug.core.meter:speed: 8.17 batch / sec\n"
          ]
        },
        {
          "output_type": "stream",
          "name": "stdout",
          "text": [
            "22:31:47   speed: 8.17 batch / sec\n"
          ]
        },
        {
          "output_type": "stream",
          "name": "stderr",
          "text": [
            "WARNING:torchdrug.core.meter:ETA: 8.69 secs\n"
          ]
        },
        {
          "output_type": "stream",
          "name": "stdout",
          "text": [
            "22:31:47   ETA: 8.69 secs\n"
          ]
        },
        {
          "output_type": "stream",
          "name": "stderr",
          "text": [
            "WARNING:torchdrug.core.meter:max GPU memory: 747.8 MiB\n"
          ]
        },
        {
          "output_type": "stream",
          "name": "stdout",
          "text": [
            "22:31:47   max GPU memory: 747.8 MiB\n"
          ]
        },
        {
          "output_type": "stream",
          "name": "stderr",
          "text": [
            "WARNING:torchdrug.core.logger:------------------------------\n"
          ]
        },
        {
          "output_type": "stream",
          "name": "stdout",
          "text": [
            "22:31:47   ------------------------------\n"
          ]
        },
        {
          "output_type": "stream",
          "name": "stderr",
          "text": [
            "WARNING:torchdrug.core.logger:average binary cross entropy: 0.146147\n"
          ]
        },
        {
          "output_type": "stream",
          "name": "stdout",
          "text": [
            "22:31:47   average binary cross entropy: 0.146147\n"
          ]
        },
        {
          "output_type": "stream",
          "name": "stderr",
          "text": [
            "WARNING:torchdrug.core.meter:>>>>>>>>>>>>>>>>>>>>>>>>>>>>>>\n"
          ]
        },
        {
          "output_type": "stream",
          "name": "stdout",
          "text": [
            "22:31:47   >>>>>>>>>>>>>>>>>>>>>>>>>>>>>>\n"
          ]
        },
        {
          "output_type": "stream",
          "name": "stderr",
          "text": [
            "WARNING:torchdrug.core.meter:Epoch 70 begin\n"
          ]
        },
        {
          "output_type": "stream",
          "name": "stdout",
          "text": [
            "22:31:47   Epoch 70 begin\n"
          ]
        },
        {
          "output_type": "stream",
          "name": "stderr",
          "text": [
            "WARNING:torchdrug.core.meter:>>>>>>>>>>>>>>>>>>>>>>>>>>>>>>\n"
          ]
        },
        {
          "output_type": "stream",
          "name": "stdout",
          "text": [
            "22:31:47   >>>>>>>>>>>>>>>>>>>>>>>>>>>>>>\n"
          ]
        },
        {
          "output_type": "stream",
          "name": "stderr",
          "text": [
            "WARNING:torchdrug.core.meter:Epoch 70 end\n"
          ]
        },
        {
          "output_type": "stream",
          "name": "stdout",
          "text": [
            "22:31:47   Epoch 70 end\n"
          ]
        },
        {
          "output_type": "stream",
          "name": "stderr",
          "text": [
            "WARNING:torchdrug.core.meter:duration: 0.25 secs\n"
          ]
        },
        {
          "output_type": "stream",
          "name": "stdout",
          "text": [
            "22:31:47   duration: 0.25 secs\n"
          ]
        },
        {
          "output_type": "stream",
          "name": "stderr",
          "text": [
            "WARNING:torchdrug.core.meter:speed: 8.12 batch / sec\n"
          ]
        },
        {
          "output_type": "stream",
          "name": "stdout",
          "text": [
            "22:31:47   speed: 8.12 batch / sec\n"
          ]
        },
        {
          "output_type": "stream",
          "name": "stderr",
          "text": [
            "WARNING:torchdrug.core.meter:ETA: 8.38 secs\n"
          ]
        },
        {
          "output_type": "stream",
          "name": "stdout",
          "text": [
            "22:31:47   ETA: 8.38 secs\n"
          ]
        },
        {
          "output_type": "stream",
          "name": "stderr",
          "text": [
            "WARNING:torchdrug.core.meter:max GPU memory: 738.6 MiB\n"
          ]
        },
        {
          "output_type": "stream",
          "name": "stdout",
          "text": [
            "22:31:47   max GPU memory: 738.6 MiB\n"
          ]
        },
        {
          "output_type": "stream",
          "name": "stderr",
          "text": [
            "WARNING:torchdrug.core.logger:------------------------------\n"
          ]
        },
        {
          "output_type": "stream",
          "name": "stdout",
          "text": [
            "22:31:47   ------------------------------\n"
          ]
        },
        {
          "output_type": "stream",
          "name": "stderr",
          "text": [
            "WARNING:torchdrug.core.logger:average binary cross entropy: 0.10969\n"
          ]
        },
        {
          "output_type": "stream",
          "name": "stdout",
          "text": [
            "22:31:47   average binary cross entropy: 0.10969\n"
          ]
        },
        {
          "output_type": "stream",
          "name": "stderr",
          "text": [
            "WARNING:torchdrug.core.meter:>>>>>>>>>>>>>>>>>>>>>>>>>>>>>>\n"
          ]
        },
        {
          "output_type": "stream",
          "name": "stdout",
          "text": [
            "22:31:47   >>>>>>>>>>>>>>>>>>>>>>>>>>>>>>\n"
          ]
        },
        {
          "output_type": "stream",
          "name": "stderr",
          "text": [
            "WARNING:torchdrug.core.meter:Epoch 71 begin\n"
          ]
        },
        {
          "output_type": "stream",
          "name": "stdout",
          "text": [
            "22:31:47   Epoch 71 begin\n"
          ]
        },
        {
          "output_type": "stream",
          "name": "stderr",
          "text": [
            "WARNING:torchdrug.core.meter:>>>>>>>>>>>>>>>>>>>>>>>>>>>>>>\n"
          ]
        },
        {
          "output_type": "stream",
          "name": "stdout",
          "text": [
            "22:31:48   >>>>>>>>>>>>>>>>>>>>>>>>>>>>>>\n"
          ]
        },
        {
          "output_type": "stream",
          "name": "stderr",
          "text": [
            "WARNING:torchdrug.core.meter:Epoch 71 end\n"
          ]
        },
        {
          "output_type": "stream",
          "name": "stdout",
          "text": [
            "22:31:48   Epoch 71 end\n"
          ]
        },
        {
          "output_type": "stream",
          "name": "stderr",
          "text": [
            "WARNING:torchdrug.core.meter:duration: 0.37 secs\n"
          ]
        },
        {
          "output_type": "stream",
          "name": "stdout",
          "text": [
            "22:31:48   duration: 0.37 secs\n"
          ]
        },
        {
          "output_type": "stream",
          "name": "stderr",
          "text": [
            "WARNING:torchdrug.core.meter:speed: 5.44 batch / sec\n"
          ]
        },
        {
          "output_type": "stream",
          "name": "stdout",
          "text": [
            "22:31:48   speed: 5.44 batch / sec\n"
          ]
        },
        {
          "output_type": "stream",
          "name": "stderr",
          "text": [
            "WARNING:torchdrug.core.meter:ETA: 8.12 secs\n"
          ]
        },
        {
          "output_type": "stream",
          "name": "stdout",
          "text": [
            "22:31:48   ETA: 8.12 secs\n"
          ]
        },
        {
          "output_type": "stream",
          "name": "stderr",
          "text": [
            "WARNING:torchdrug.core.meter:max GPU memory: 743.2 MiB\n"
          ]
        },
        {
          "output_type": "stream",
          "name": "stdout",
          "text": [
            "22:31:48   max GPU memory: 743.2 MiB\n"
          ]
        },
        {
          "output_type": "stream",
          "name": "stderr",
          "text": [
            "WARNING:torchdrug.core.logger:------------------------------\n"
          ]
        },
        {
          "output_type": "stream",
          "name": "stdout",
          "text": [
            "22:31:48   ------------------------------\n"
          ]
        },
        {
          "output_type": "stream",
          "name": "stderr",
          "text": [
            "WARNING:torchdrug.core.logger:average binary cross entropy: 0.116945\n"
          ]
        },
        {
          "output_type": "stream",
          "name": "stdout",
          "text": [
            "22:31:48   average binary cross entropy: 0.116945\n"
          ]
        },
        {
          "output_type": "stream",
          "name": "stderr",
          "text": [
            "WARNING:torchdrug.core.meter:>>>>>>>>>>>>>>>>>>>>>>>>>>>>>>\n"
          ]
        },
        {
          "output_type": "stream",
          "name": "stdout",
          "text": [
            "22:31:48   >>>>>>>>>>>>>>>>>>>>>>>>>>>>>>\n"
          ]
        },
        {
          "output_type": "stream",
          "name": "stderr",
          "text": [
            "WARNING:torchdrug.core.meter:Epoch 72 begin\n"
          ]
        },
        {
          "output_type": "stream",
          "name": "stdout",
          "text": [
            "22:31:48   Epoch 72 begin\n"
          ]
        },
        {
          "output_type": "stream",
          "name": "stderr",
          "text": [
            "WARNING:torchdrug.core.meter:>>>>>>>>>>>>>>>>>>>>>>>>>>>>>>\n"
          ]
        },
        {
          "output_type": "stream",
          "name": "stdout",
          "text": [
            "22:31:48   >>>>>>>>>>>>>>>>>>>>>>>>>>>>>>\n"
          ]
        },
        {
          "output_type": "stream",
          "name": "stderr",
          "text": [
            "WARNING:torchdrug.core.meter:Epoch 72 end\n"
          ]
        },
        {
          "output_type": "stream",
          "name": "stdout",
          "text": [
            "22:31:48   Epoch 72 end\n"
          ]
        },
        {
          "output_type": "stream",
          "name": "stderr",
          "text": [
            "WARNING:torchdrug.core.meter:duration: 0.24 secs\n"
          ]
        },
        {
          "output_type": "stream",
          "name": "stdout",
          "text": [
            "22:31:48   duration: 0.24 secs\n"
          ]
        },
        {
          "output_type": "stream",
          "name": "stderr",
          "text": [
            "WARNING:torchdrug.core.meter:speed: 8.18 batch / sec\n"
          ]
        },
        {
          "output_type": "stream",
          "name": "stdout",
          "text": [
            "22:31:48   speed: 8.18 batch / sec\n"
          ]
        },
        {
          "output_type": "stream",
          "name": "stderr",
          "text": [
            "WARNING:torchdrug.core.meter:ETA: 7.81 secs\n"
          ]
        },
        {
          "output_type": "stream",
          "name": "stdout",
          "text": [
            "22:31:48   ETA: 7.81 secs\n"
          ]
        },
        {
          "output_type": "stream",
          "name": "stderr",
          "text": [
            "WARNING:torchdrug.core.meter:max GPU memory: 747.3 MiB\n"
          ]
        },
        {
          "output_type": "stream",
          "name": "stdout",
          "text": [
            "22:31:48   max GPU memory: 747.3 MiB\n"
          ]
        },
        {
          "output_type": "stream",
          "name": "stderr",
          "text": [
            "WARNING:torchdrug.core.logger:------------------------------\n"
          ]
        },
        {
          "output_type": "stream",
          "name": "stdout",
          "text": [
            "22:31:48   ------------------------------\n"
          ]
        },
        {
          "output_type": "stream",
          "name": "stderr",
          "text": [
            "WARNING:torchdrug.core.logger:average binary cross entropy: 0.101346\n"
          ]
        },
        {
          "output_type": "stream",
          "name": "stdout",
          "text": [
            "22:31:48   average binary cross entropy: 0.101346\n"
          ]
        },
        {
          "output_type": "stream",
          "name": "stderr",
          "text": [
            "WARNING:torchdrug.core.meter:>>>>>>>>>>>>>>>>>>>>>>>>>>>>>>\n"
          ]
        },
        {
          "output_type": "stream",
          "name": "stdout",
          "text": [
            "22:31:48   >>>>>>>>>>>>>>>>>>>>>>>>>>>>>>\n"
          ]
        },
        {
          "output_type": "stream",
          "name": "stderr",
          "text": [
            "WARNING:torchdrug.core.meter:Epoch 73 begin\n"
          ]
        },
        {
          "output_type": "stream",
          "name": "stdout",
          "text": [
            "22:31:48   Epoch 73 begin\n"
          ]
        },
        {
          "output_type": "stream",
          "name": "stderr",
          "text": [
            "WARNING:torchdrug.core.meter:>>>>>>>>>>>>>>>>>>>>>>>>>>>>>>\n"
          ]
        },
        {
          "output_type": "stream",
          "name": "stdout",
          "text": [
            "22:31:48   >>>>>>>>>>>>>>>>>>>>>>>>>>>>>>\n"
          ]
        },
        {
          "output_type": "stream",
          "name": "stderr",
          "text": [
            "WARNING:torchdrug.core.meter:Epoch 73 end\n"
          ]
        },
        {
          "output_type": "stream",
          "name": "stdout",
          "text": [
            "22:31:48   Epoch 73 end\n"
          ]
        },
        {
          "output_type": "stream",
          "name": "stderr",
          "text": [
            "WARNING:torchdrug.core.meter:duration: 0.24 secs\n"
          ]
        },
        {
          "output_type": "stream",
          "name": "stdout",
          "text": [
            "22:31:48   duration: 0.24 secs\n"
          ]
        },
        {
          "output_type": "stream",
          "name": "stderr",
          "text": [
            "WARNING:torchdrug.core.meter:speed: 8.30 batch / sec\n"
          ]
        },
        {
          "output_type": "stream",
          "name": "stdout",
          "text": [
            "22:31:48   speed: 8.30 batch / sec\n"
          ]
        },
        {
          "output_type": "stream",
          "name": "stderr",
          "text": [
            "WARNING:torchdrug.core.meter:ETA: 7.51 secs\n"
          ]
        },
        {
          "output_type": "stream",
          "name": "stdout",
          "text": [
            "22:31:48   ETA: 7.51 secs\n"
          ]
        },
        {
          "output_type": "stream",
          "name": "stderr",
          "text": [
            "WARNING:torchdrug.core.meter:max GPU memory: 737.0 MiB\n"
          ]
        },
        {
          "output_type": "stream",
          "name": "stdout",
          "text": [
            "22:31:48   max GPU memory: 737.0 MiB\n"
          ]
        },
        {
          "output_type": "stream",
          "name": "stderr",
          "text": [
            "WARNING:torchdrug.core.logger:------------------------------\n"
          ]
        },
        {
          "output_type": "stream",
          "name": "stdout",
          "text": [
            "22:31:48   ------------------------------\n"
          ]
        },
        {
          "output_type": "stream",
          "name": "stderr",
          "text": [
            "WARNING:torchdrug.core.logger:average binary cross entropy: 0.0954248\n"
          ]
        },
        {
          "output_type": "stream",
          "name": "stdout",
          "text": [
            "22:31:48   average binary cross entropy: 0.0954248\n"
          ]
        },
        {
          "output_type": "stream",
          "name": "stderr",
          "text": [
            "WARNING:torchdrug.core.meter:>>>>>>>>>>>>>>>>>>>>>>>>>>>>>>\n"
          ]
        },
        {
          "output_type": "stream",
          "name": "stdout",
          "text": [
            "22:31:48   >>>>>>>>>>>>>>>>>>>>>>>>>>>>>>\n"
          ]
        },
        {
          "output_type": "stream",
          "name": "stderr",
          "text": [
            "WARNING:torchdrug.core.meter:Epoch 74 begin\n"
          ]
        },
        {
          "output_type": "stream",
          "name": "stdout",
          "text": [
            "22:31:48   Epoch 74 begin\n"
          ]
        },
        {
          "output_type": "stream",
          "name": "stderr",
          "text": [
            "WARNING:torchdrug.core.meter:>>>>>>>>>>>>>>>>>>>>>>>>>>>>>>\n"
          ]
        },
        {
          "output_type": "stream",
          "name": "stdout",
          "text": [
            "22:31:48   >>>>>>>>>>>>>>>>>>>>>>>>>>>>>>\n"
          ]
        },
        {
          "output_type": "stream",
          "name": "stderr",
          "text": [
            "WARNING:torchdrug.core.meter:Epoch 74 end\n"
          ]
        },
        {
          "output_type": "stream",
          "name": "stdout",
          "text": [
            "22:31:48   Epoch 74 end\n"
          ]
        },
        {
          "output_type": "stream",
          "name": "stderr",
          "text": [
            "WARNING:torchdrug.core.meter:duration: 0.24 secs\n"
          ]
        },
        {
          "output_type": "stream",
          "name": "stdout",
          "text": [
            "22:31:48   duration: 0.24 secs\n"
          ]
        },
        {
          "output_type": "stream",
          "name": "stderr",
          "text": [
            "WARNING:torchdrug.core.meter:speed: 8.21 batch / sec\n"
          ]
        },
        {
          "output_type": "stream",
          "name": "stdout",
          "text": [
            "22:31:48   speed: 8.21 batch / sec\n"
          ]
        },
        {
          "output_type": "stream",
          "name": "stderr",
          "text": [
            "WARNING:torchdrug.core.meter:ETA: 7.20 secs\n"
          ]
        },
        {
          "output_type": "stream",
          "name": "stdout",
          "text": [
            "22:31:48   ETA: 7.20 secs\n"
          ]
        },
        {
          "output_type": "stream",
          "name": "stderr",
          "text": [
            "WARNING:torchdrug.core.meter:max GPU memory: 737.4 MiB\n"
          ]
        },
        {
          "output_type": "stream",
          "name": "stdout",
          "text": [
            "22:31:48   max GPU memory: 737.4 MiB\n"
          ]
        },
        {
          "output_type": "stream",
          "name": "stderr",
          "text": [
            "WARNING:torchdrug.core.logger:------------------------------\n"
          ]
        },
        {
          "output_type": "stream",
          "name": "stdout",
          "text": [
            "22:31:48   ------------------------------\n"
          ]
        },
        {
          "output_type": "stream",
          "name": "stderr",
          "text": [
            "WARNING:torchdrug.core.logger:average binary cross entropy: 0.0972524\n"
          ]
        },
        {
          "output_type": "stream",
          "name": "stdout",
          "text": [
            "22:31:48   average binary cross entropy: 0.0972524\n"
          ]
        },
        {
          "output_type": "stream",
          "name": "stderr",
          "text": [
            "WARNING:torchdrug.core.meter:>>>>>>>>>>>>>>>>>>>>>>>>>>>>>>\n"
          ]
        },
        {
          "output_type": "stream",
          "name": "stdout",
          "text": [
            "22:31:48   >>>>>>>>>>>>>>>>>>>>>>>>>>>>>>\n"
          ]
        },
        {
          "output_type": "stream",
          "name": "stderr",
          "text": [
            "WARNING:torchdrug.core.meter:Epoch 75 begin\n"
          ]
        },
        {
          "output_type": "stream",
          "name": "stdout",
          "text": [
            "22:31:48   Epoch 75 begin\n"
          ]
        },
        {
          "output_type": "stream",
          "name": "stderr",
          "text": [
            "WARNING:torchdrug.core.meter:>>>>>>>>>>>>>>>>>>>>>>>>>>>>>>\n"
          ]
        },
        {
          "output_type": "stream",
          "name": "stdout",
          "text": [
            "22:31:49   >>>>>>>>>>>>>>>>>>>>>>>>>>>>>>\n"
          ]
        },
        {
          "output_type": "stream",
          "name": "stderr",
          "text": [
            "WARNING:torchdrug.core.meter:Epoch 75 end\n"
          ]
        },
        {
          "output_type": "stream",
          "name": "stdout",
          "text": [
            "22:31:49   Epoch 75 end\n"
          ]
        },
        {
          "output_type": "stream",
          "name": "stderr",
          "text": [
            "WARNING:torchdrug.core.meter:duration: 0.25 secs\n"
          ]
        },
        {
          "output_type": "stream",
          "name": "stdout",
          "text": [
            "22:31:49   duration: 0.25 secs\n"
          ]
        },
        {
          "output_type": "stream",
          "name": "stderr",
          "text": [
            "WARNING:torchdrug.core.meter:speed: 7.97 batch / sec\n"
          ]
        },
        {
          "output_type": "stream",
          "name": "stdout",
          "text": [
            "22:31:49   speed: 7.97 batch / sec\n"
          ]
        },
        {
          "output_type": "stream",
          "name": "stderr",
          "text": [
            "WARNING:torchdrug.core.meter:ETA: 6.90 secs\n"
          ]
        },
        {
          "output_type": "stream",
          "name": "stdout",
          "text": [
            "22:31:49   ETA: 6.90 secs\n"
          ]
        },
        {
          "output_type": "stream",
          "name": "stderr",
          "text": [
            "WARNING:torchdrug.core.meter:max GPU memory: 736.8 MiB\n"
          ]
        },
        {
          "output_type": "stream",
          "name": "stdout",
          "text": [
            "22:31:49   max GPU memory: 736.8 MiB\n"
          ]
        },
        {
          "output_type": "stream",
          "name": "stderr",
          "text": [
            "WARNING:torchdrug.core.logger:------------------------------\n"
          ]
        },
        {
          "output_type": "stream",
          "name": "stdout",
          "text": [
            "22:31:49   ------------------------------\n"
          ]
        },
        {
          "output_type": "stream",
          "name": "stderr",
          "text": [
            "WARNING:torchdrug.core.logger:average binary cross entropy: 0.11359\n"
          ]
        },
        {
          "output_type": "stream",
          "name": "stdout",
          "text": [
            "22:31:49   average binary cross entropy: 0.11359\n"
          ]
        },
        {
          "output_type": "stream",
          "name": "stderr",
          "text": [
            "WARNING:torchdrug.core.meter:>>>>>>>>>>>>>>>>>>>>>>>>>>>>>>\n"
          ]
        },
        {
          "output_type": "stream",
          "name": "stdout",
          "text": [
            "22:31:49   >>>>>>>>>>>>>>>>>>>>>>>>>>>>>>\n"
          ]
        },
        {
          "output_type": "stream",
          "name": "stderr",
          "text": [
            "WARNING:torchdrug.core.meter:Epoch 76 begin\n"
          ]
        },
        {
          "output_type": "stream",
          "name": "stdout",
          "text": [
            "22:31:49   Epoch 76 begin\n"
          ]
        },
        {
          "output_type": "stream",
          "name": "stderr",
          "text": [
            "WARNING:torchdrug.core.meter:>>>>>>>>>>>>>>>>>>>>>>>>>>>>>>\n"
          ]
        },
        {
          "output_type": "stream",
          "name": "stdout",
          "text": [
            "22:31:49   >>>>>>>>>>>>>>>>>>>>>>>>>>>>>>\n"
          ]
        },
        {
          "output_type": "stream",
          "name": "stderr",
          "text": [
            "WARNING:torchdrug.core.meter:Epoch 76 end\n"
          ]
        },
        {
          "output_type": "stream",
          "name": "stdout",
          "text": [
            "22:31:49   Epoch 76 end\n"
          ]
        },
        {
          "output_type": "stream",
          "name": "stderr",
          "text": [
            "WARNING:torchdrug.core.meter:duration: 0.25 secs\n"
          ]
        },
        {
          "output_type": "stream",
          "name": "stdout",
          "text": [
            "22:31:49   duration: 0.25 secs\n"
          ]
        },
        {
          "output_type": "stream",
          "name": "stderr",
          "text": [
            "WARNING:torchdrug.core.meter:speed: 8.04 batch / sec\n"
          ]
        },
        {
          "output_type": "stream",
          "name": "stdout",
          "text": [
            "22:31:49   speed: 8.04 batch / sec\n"
          ]
        },
        {
          "output_type": "stream",
          "name": "stderr",
          "text": [
            "WARNING:torchdrug.core.meter:ETA: 6.60 secs\n"
          ]
        },
        {
          "output_type": "stream",
          "name": "stdout",
          "text": [
            "22:31:49   ETA: 6.60 secs\n"
          ]
        },
        {
          "output_type": "stream",
          "name": "stderr",
          "text": [
            "WARNING:torchdrug.core.meter:max GPU memory: 735.4 MiB\n"
          ]
        },
        {
          "output_type": "stream",
          "name": "stdout",
          "text": [
            "22:31:49   max GPU memory: 735.4 MiB\n"
          ]
        },
        {
          "output_type": "stream",
          "name": "stderr",
          "text": [
            "WARNING:torchdrug.core.logger:------------------------------\n"
          ]
        },
        {
          "output_type": "stream",
          "name": "stdout",
          "text": [
            "22:31:49   ------------------------------\n"
          ]
        },
        {
          "output_type": "stream",
          "name": "stderr",
          "text": [
            "WARNING:torchdrug.core.logger:average binary cross entropy: 0.113505\n"
          ]
        },
        {
          "output_type": "stream",
          "name": "stdout",
          "text": [
            "22:31:49   average binary cross entropy: 0.113505\n"
          ]
        },
        {
          "output_type": "stream",
          "name": "stderr",
          "text": [
            "WARNING:torchdrug.core.meter:>>>>>>>>>>>>>>>>>>>>>>>>>>>>>>\n"
          ]
        },
        {
          "output_type": "stream",
          "name": "stdout",
          "text": [
            "22:31:49   >>>>>>>>>>>>>>>>>>>>>>>>>>>>>>\n"
          ]
        },
        {
          "output_type": "stream",
          "name": "stderr",
          "text": [
            "WARNING:torchdrug.core.meter:Epoch 77 begin\n"
          ]
        },
        {
          "output_type": "stream",
          "name": "stdout",
          "text": [
            "22:31:49   Epoch 77 begin\n"
          ]
        },
        {
          "output_type": "stream",
          "name": "stderr",
          "text": [
            "WARNING:torchdrug.core.meter:>>>>>>>>>>>>>>>>>>>>>>>>>>>>>>\n"
          ]
        },
        {
          "output_type": "stream",
          "name": "stdout",
          "text": [
            "22:31:49   >>>>>>>>>>>>>>>>>>>>>>>>>>>>>>\n"
          ]
        },
        {
          "output_type": "stream",
          "name": "stderr",
          "text": [
            "WARNING:torchdrug.core.meter:Epoch 77 end\n"
          ]
        },
        {
          "output_type": "stream",
          "name": "stdout",
          "text": [
            "22:31:49   Epoch 77 end\n"
          ]
        },
        {
          "output_type": "stream",
          "name": "stderr",
          "text": [
            "WARNING:torchdrug.core.meter:duration: 0.26 secs\n"
          ]
        },
        {
          "output_type": "stream",
          "name": "stdout",
          "text": [
            "22:31:49   duration: 0.26 secs\n"
          ]
        },
        {
          "output_type": "stream",
          "name": "stderr",
          "text": [
            "WARNING:torchdrug.core.meter:speed: 7.72 batch / sec\n"
          ]
        },
        {
          "output_type": "stream",
          "name": "stdout",
          "text": [
            "22:31:49   speed: 7.72 batch / sec\n"
          ]
        },
        {
          "output_type": "stream",
          "name": "stderr",
          "text": [
            "WARNING:torchdrug.core.meter:ETA: 6.31 secs\n"
          ]
        },
        {
          "output_type": "stream",
          "name": "stdout",
          "text": [
            "22:31:49   ETA: 6.31 secs\n"
          ]
        },
        {
          "output_type": "stream",
          "name": "stderr",
          "text": [
            "WARNING:torchdrug.core.meter:max GPU memory: 748.8 MiB\n"
          ]
        },
        {
          "output_type": "stream",
          "name": "stdout",
          "text": [
            "22:31:49   max GPU memory: 748.8 MiB\n"
          ]
        },
        {
          "output_type": "stream",
          "name": "stderr",
          "text": [
            "WARNING:torchdrug.core.logger:------------------------------\n"
          ]
        },
        {
          "output_type": "stream",
          "name": "stdout",
          "text": [
            "22:31:49   ------------------------------\n"
          ]
        },
        {
          "output_type": "stream",
          "name": "stderr",
          "text": [
            "WARNING:torchdrug.core.logger:average binary cross entropy: 0.106845\n"
          ]
        },
        {
          "output_type": "stream",
          "name": "stdout",
          "text": [
            "22:31:49   average binary cross entropy: 0.106845\n"
          ]
        },
        {
          "output_type": "stream",
          "name": "stderr",
          "text": [
            "WARNING:torchdrug.core.meter:>>>>>>>>>>>>>>>>>>>>>>>>>>>>>>\n"
          ]
        },
        {
          "output_type": "stream",
          "name": "stdout",
          "text": [
            "22:31:49   >>>>>>>>>>>>>>>>>>>>>>>>>>>>>>\n"
          ]
        },
        {
          "output_type": "stream",
          "name": "stderr",
          "text": [
            "WARNING:torchdrug.core.meter:Epoch 78 begin\n"
          ]
        },
        {
          "output_type": "stream",
          "name": "stdout",
          "text": [
            "22:31:49   Epoch 78 begin\n"
          ]
        },
        {
          "output_type": "stream",
          "name": "stderr",
          "text": [
            "WARNING:torchdrug.core.meter:>>>>>>>>>>>>>>>>>>>>>>>>>>>>>>\n"
          ]
        },
        {
          "output_type": "stream",
          "name": "stdout",
          "text": [
            "22:31:49   >>>>>>>>>>>>>>>>>>>>>>>>>>>>>>\n"
          ]
        },
        {
          "output_type": "stream",
          "name": "stderr",
          "text": [
            "WARNING:torchdrug.core.meter:Epoch 78 end\n"
          ]
        },
        {
          "output_type": "stream",
          "name": "stdout",
          "text": [
            "22:31:49   Epoch 78 end\n"
          ]
        },
        {
          "output_type": "stream",
          "name": "stderr",
          "text": [
            "WARNING:torchdrug.core.meter:duration: 0.25 secs\n"
          ]
        },
        {
          "output_type": "stream",
          "name": "stdout",
          "text": [
            "22:31:49   duration: 0.25 secs\n"
          ]
        },
        {
          "output_type": "stream",
          "name": "stderr",
          "text": [
            "WARNING:torchdrug.core.meter:speed: 8.05 batch / sec\n"
          ]
        },
        {
          "output_type": "stream",
          "name": "stdout",
          "text": [
            "22:31:49   speed: 8.05 batch / sec\n"
          ]
        },
        {
          "output_type": "stream",
          "name": "stderr",
          "text": [
            "WARNING:torchdrug.core.meter:ETA: 6.01 secs\n"
          ]
        },
        {
          "output_type": "stream",
          "name": "stdout",
          "text": [
            "22:31:49   ETA: 6.01 secs\n"
          ]
        },
        {
          "output_type": "stream",
          "name": "stderr",
          "text": [
            "WARNING:torchdrug.core.meter:max GPU memory: 743.5 MiB\n"
          ]
        },
        {
          "output_type": "stream",
          "name": "stdout",
          "text": [
            "22:31:49   max GPU memory: 743.5 MiB\n"
          ]
        },
        {
          "output_type": "stream",
          "name": "stderr",
          "text": [
            "WARNING:torchdrug.core.logger:------------------------------\n"
          ]
        },
        {
          "output_type": "stream",
          "name": "stdout",
          "text": [
            "22:31:50   ------------------------------\n"
          ]
        },
        {
          "output_type": "stream",
          "name": "stderr",
          "text": [
            "WARNING:torchdrug.core.logger:average binary cross entropy: 0.132801\n"
          ]
        },
        {
          "output_type": "stream",
          "name": "stdout",
          "text": [
            "22:31:50   average binary cross entropy: 0.132801\n"
          ]
        },
        {
          "output_type": "stream",
          "name": "stderr",
          "text": [
            "WARNING:torchdrug.core.meter:>>>>>>>>>>>>>>>>>>>>>>>>>>>>>>\n"
          ]
        },
        {
          "output_type": "stream",
          "name": "stdout",
          "text": [
            "22:31:50   >>>>>>>>>>>>>>>>>>>>>>>>>>>>>>\n"
          ]
        },
        {
          "output_type": "stream",
          "name": "stderr",
          "text": [
            "WARNING:torchdrug.core.meter:Epoch 79 begin\n"
          ]
        },
        {
          "output_type": "stream",
          "name": "stdout",
          "text": [
            "22:31:50   Epoch 79 begin\n"
          ]
        },
        {
          "output_type": "stream",
          "name": "stderr",
          "text": [
            "WARNING:torchdrug.core.meter:>>>>>>>>>>>>>>>>>>>>>>>>>>>>>>\n"
          ]
        },
        {
          "output_type": "stream",
          "name": "stdout",
          "text": [
            "22:31:50   >>>>>>>>>>>>>>>>>>>>>>>>>>>>>>\n"
          ]
        },
        {
          "output_type": "stream",
          "name": "stderr",
          "text": [
            "WARNING:torchdrug.core.meter:Epoch 79 end\n"
          ]
        },
        {
          "output_type": "stream",
          "name": "stdout",
          "text": [
            "22:31:50   Epoch 79 end\n"
          ]
        },
        {
          "output_type": "stream",
          "name": "stderr",
          "text": [
            "WARNING:torchdrug.core.meter:duration: 0.25 secs\n"
          ]
        },
        {
          "output_type": "stream",
          "name": "stdout",
          "text": [
            "22:31:50   duration: 0.25 secs\n"
          ]
        },
        {
          "output_type": "stream",
          "name": "stderr",
          "text": [
            "WARNING:torchdrug.core.meter:speed: 8.08 batch / sec\n"
          ]
        },
        {
          "output_type": "stream",
          "name": "stdout",
          "text": [
            "22:31:50   speed: 8.08 batch / sec\n"
          ]
        },
        {
          "output_type": "stream",
          "name": "stderr",
          "text": [
            "WARNING:torchdrug.core.meter:ETA: 5.72 secs\n"
          ]
        },
        {
          "output_type": "stream",
          "name": "stdout",
          "text": [
            "22:31:50   ETA: 5.72 secs\n"
          ]
        },
        {
          "output_type": "stream",
          "name": "stderr",
          "text": [
            "WARNING:torchdrug.core.meter:max GPU memory: 739.6 MiB\n"
          ]
        },
        {
          "output_type": "stream",
          "name": "stdout",
          "text": [
            "22:31:50   max GPU memory: 739.6 MiB\n"
          ]
        },
        {
          "output_type": "stream",
          "name": "stderr",
          "text": [
            "WARNING:torchdrug.core.logger:------------------------------\n"
          ]
        },
        {
          "output_type": "stream",
          "name": "stdout",
          "text": [
            "22:31:50   ------------------------------\n"
          ]
        },
        {
          "output_type": "stream",
          "name": "stderr",
          "text": [
            "WARNING:torchdrug.core.logger:average binary cross entropy: 0.148282\n"
          ]
        },
        {
          "output_type": "stream",
          "name": "stdout",
          "text": [
            "22:31:50   average binary cross entropy: 0.148282\n"
          ]
        },
        {
          "output_type": "stream",
          "name": "stderr",
          "text": [
            "WARNING:torchdrug.core.meter:>>>>>>>>>>>>>>>>>>>>>>>>>>>>>>\n"
          ]
        },
        {
          "output_type": "stream",
          "name": "stdout",
          "text": [
            "22:31:50   >>>>>>>>>>>>>>>>>>>>>>>>>>>>>>\n"
          ]
        },
        {
          "output_type": "stream",
          "name": "stderr",
          "text": [
            "WARNING:torchdrug.core.meter:Epoch 80 begin\n"
          ]
        },
        {
          "output_type": "stream",
          "name": "stdout",
          "text": [
            "22:31:50   Epoch 80 begin\n"
          ]
        },
        {
          "output_type": "stream",
          "name": "stderr",
          "text": [
            "WARNING:torchdrug.core.meter:>>>>>>>>>>>>>>>>>>>>>>>>>>>>>>\n"
          ]
        },
        {
          "output_type": "stream",
          "name": "stdout",
          "text": [
            "22:31:50   >>>>>>>>>>>>>>>>>>>>>>>>>>>>>>\n"
          ]
        },
        {
          "output_type": "stream",
          "name": "stderr",
          "text": [
            "WARNING:torchdrug.core.meter:Epoch 80 end\n"
          ]
        },
        {
          "output_type": "stream",
          "name": "stdout",
          "text": [
            "22:31:50   Epoch 80 end\n"
          ]
        },
        {
          "output_type": "stream",
          "name": "stderr",
          "text": [
            "WARNING:torchdrug.core.meter:duration: 0.27 secs\n"
          ]
        },
        {
          "output_type": "stream",
          "name": "stdout",
          "text": [
            "22:31:50   duration: 0.27 secs\n"
          ]
        },
        {
          "output_type": "stream",
          "name": "stderr",
          "text": [
            "WARNING:torchdrug.core.meter:speed: 7.53 batch / sec\n"
          ]
        },
        {
          "output_type": "stream",
          "name": "stdout",
          "text": [
            "22:31:50   speed: 7.53 batch / sec\n"
          ]
        },
        {
          "output_type": "stream",
          "name": "stderr",
          "text": [
            "WARNING:torchdrug.core.meter:ETA: 5.43 secs\n"
          ]
        },
        {
          "output_type": "stream",
          "name": "stdout",
          "text": [
            "22:31:50   ETA: 5.43 secs\n"
          ]
        },
        {
          "output_type": "stream",
          "name": "stderr",
          "text": [
            "WARNING:torchdrug.core.meter:max GPU memory: 748.1 MiB\n"
          ]
        },
        {
          "output_type": "stream",
          "name": "stdout",
          "text": [
            "22:31:50   max GPU memory: 748.1 MiB\n"
          ]
        },
        {
          "output_type": "stream",
          "name": "stderr",
          "text": [
            "WARNING:torchdrug.core.logger:------------------------------\n"
          ]
        },
        {
          "output_type": "stream",
          "name": "stdout",
          "text": [
            "22:31:50   ------------------------------\n"
          ]
        },
        {
          "output_type": "stream",
          "name": "stderr",
          "text": [
            "WARNING:torchdrug.core.logger:average binary cross entropy: 0.145475\n"
          ]
        },
        {
          "output_type": "stream",
          "name": "stdout",
          "text": [
            "22:31:50   average binary cross entropy: 0.145475\n"
          ]
        },
        {
          "output_type": "stream",
          "name": "stderr",
          "text": [
            "WARNING:torchdrug.core.meter:>>>>>>>>>>>>>>>>>>>>>>>>>>>>>>\n"
          ]
        },
        {
          "output_type": "stream",
          "name": "stdout",
          "text": [
            "22:31:50   >>>>>>>>>>>>>>>>>>>>>>>>>>>>>>\n"
          ]
        },
        {
          "output_type": "stream",
          "name": "stderr",
          "text": [
            "WARNING:torchdrug.core.meter:Epoch 81 begin\n"
          ]
        },
        {
          "output_type": "stream",
          "name": "stdout",
          "text": [
            "22:31:50   Epoch 81 begin\n"
          ]
        },
        {
          "output_type": "stream",
          "name": "stderr",
          "text": [
            "WARNING:torchdrug.core.meter:>>>>>>>>>>>>>>>>>>>>>>>>>>>>>>\n"
          ]
        },
        {
          "output_type": "stream",
          "name": "stdout",
          "text": [
            "22:31:50   >>>>>>>>>>>>>>>>>>>>>>>>>>>>>>\n"
          ]
        },
        {
          "output_type": "stream",
          "name": "stderr",
          "text": [
            "WARNING:torchdrug.core.meter:Epoch 81 end\n"
          ]
        },
        {
          "output_type": "stream",
          "name": "stdout",
          "text": [
            "22:31:50   Epoch 81 end\n"
          ]
        },
        {
          "output_type": "stream",
          "name": "stderr",
          "text": [
            "WARNING:torchdrug.core.meter:duration: 0.24 secs\n"
          ]
        },
        {
          "output_type": "stream",
          "name": "stdout",
          "text": [
            "22:31:50   duration: 0.24 secs\n"
          ]
        },
        {
          "output_type": "stream",
          "name": "stderr",
          "text": [
            "WARNING:torchdrug.core.meter:speed: 8.31 batch / sec\n"
          ]
        },
        {
          "output_type": "stream",
          "name": "stdout",
          "text": [
            "22:31:50   speed: 8.31 batch / sec\n"
          ]
        },
        {
          "output_type": "stream",
          "name": "stderr",
          "text": [
            "WARNING:torchdrug.core.meter:ETA: 5.13 secs\n"
          ]
        },
        {
          "output_type": "stream",
          "name": "stdout",
          "text": [
            "22:31:50   ETA: 5.13 secs\n"
          ]
        },
        {
          "output_type": "stream",
          "name": "stderr",
          "text": [
            "WARNING:torchdrug.core.meter:max GPU memory: 737.5 MiB\n"
          ]
        },
        {
          "output_type": "stream",
          "name": "stdout",
          "text": [
            "22:31:50   max GPU memory: 737.5 MiB\n"
          ]
        },
        {
          "output_type": "stream",
          "name": "stderr",
          "text": [
            "WARNING:torchdrug.core.logger:------------------------------\n"
          ]
        },
        {
          "output_type": "stream",
          "name": "stdout",
          "text": [
            "22:31:50   ------------------------------\n"
          ]
        },
        {
          "output_type": "stream",
          "name": "stderr",
          "text": [
            "WARNING:torchdrug.core.logger:average binary cross entropy: 0.0977952\n"
          ]
        },
        {
          "output_type": "stream",
          "name": "stdout",
          "text": [
            "22:31:50   average binary cross entropy: 0.0977952\n"
          ]
        },
        {
          "output_type": "stream",
          "name": "stderr",
          "text": [
            "WARNING:torchdrug.core.meter:>>>>>>>>>>>>>>>>>>>>>>>>>>>>>>\n"
          ]
        },
        {
          "output_type": "stream",
          "name": "stdout",
          "text": [
            "22:31:50   >>>>>>>>>>>>>>>>>>>>>>>>>>>>>>\n"
          ]
        },
        {
          "output_type": "stream",
          "name": "stderr",
          "text": [
            "WARNING:torchdrug.core.meter:Epoch 82 begin\n"
          ]
        },
        {
          "output_type": "stream",
          "name": "stdout",
          "text": [
            "22:31:50   Epoch 82 begin\n"
          ]
        },
        {
          "output_type": "stream",
          "name": "stderr",
          "text": [
            "WARNING:torchdrug.core.meter:>>>>>>>>>>>>>>>>>>>>>>>>>>>>>>\n"
          ]
        },
        {
          "output_type": "stream",
          "name": "stdout",
          "text": [
            "22:31:50   >>>>>>>>>>>>>>>>>>>>>>>>>>>>>>\n"
          ]
        },
        {
          "output_type": "stream",
          "name": "stderr",
          "text": [
            "WARNING:torchdrug.core.meter:Epoch 82 end\n"
          ]
        },
        {
          "output_type": "stream",
          "name": "stdout",
          "text": [
            "22:31:50   Epoch 82 end\n"
          ]
        },
        {
          "output_type": "stream",
          "name": "stderr",
          "text": [
            "WARNING:torchdrug.core.meter:duration: 0.24 secs\n"
          ]
        },
        {
          "output_type": "stream",
          "name": "stdout",
          "text": [
            "22:31:50   duration: 0.24 secs\n"
          ]
        },
        {
          "output_type": "stream",
          "name": "stderr",
          "text": [
            "WARNING:torchdrug.core.meter:speed: 8.34 batch / sec\n"
          ]
        },
        {
          "output_type": "stream",
          "name": "stdout",
          "text": [
            "22:31:50   speed: 8.34 batch / sec\n"
          ]
        },
        {
          "output_type": "stream",
          "name": "stderr",
          "text": [
            "WARNING:torchdrug.core.meter:ETA: 4.84 secs\n"
          ]
        },
        {
          "output_type": "stream",
          "name": "stdout",
          "text": [
            "22:31:50   ETA: 4.84 secs\n"
          ]
        },
        {
          "output_type": "stream",
          "name": "stderr",
          "text": [
            "WARNING:torchdrug.core.meter:max GPU memory: 739.2 MiB\n"
          ]
        },
        {
          "output_type": "stream",
          "name": "stdout",
          "text": [
            "22:31:50   max GPU memory: 739.2 MiB\n"
          ]
        },
        {
          "output_type": "stream",
          "name": "stderr",
          "text": [
            "WARNING:torchdrug.core.logger:------------------------------\n"
          ]
        },
        {
          "output_type": "stream",
          "name": "stdout",
          "text": [
            "22:31:50   ------------------------------\n"
          ]
        },
        {
          "output_type": "stream",
          "name": "stderr",
          "text": [
            "WARNING:torchdrug.core.logger:average binary cross entropy: 0.0904744\n"
          ]
        },
        {
          "output_type": "stream",
          "name": "stdout",
          "text": [
            "22:31:50   average binary cross entropy: 0.0904744\n"
          ]
        },
        {
          "output_type": "stream",
          "name": "stderr",
          "text": [
            "WARNING:torchdrug.core.meter:>>>>>>>>>>>>>>>>>>>>>>>>>>>>>>\n"
          ]
        },
        {
          "output_type": "stream",
          "name": "stdout",
          "text": [
            "22:31:50   >>>>>>>>>>>>>>>>>>>>>>>>>>>>>>\n"
          ]
        },
        {
          "output_type": "stream",
          "name": "stderr",
          "text": [
            "WARNING:torchdrug.core.meter:Epoch 83 begin\n"
          ]
        },
        {
          "output_type": "stream",
          "name": "stdout",
          "text": [
            "22:31:50   Epoch 83 begin\n"
          ]
        },
        {
          "output_type": "stream",
          "name": "stderr",
          "text": [
            "WARNING:torchdrug.core.meter:>>>>>>>>>>>>>>>>>>>>>>>>>>>>>>\n"
          ]
        },
        {
          "output_type": "stream",
          "name": "stdout",
          "text": [
            "22:31:51   >>>>>>>>>>>>>>>>>>>>>>>>>>>>>>\n"
          ]
        },
        {
          "output_type": "stream",
          "name": "stderr",
          "text": [
            "WARNING:torchdrug.core.meter:Epoch 83 end\n"
          ]
        },
        {
          "output_type": "stream",
          "name": "stdout",
          "text": [
            "22:31:51   Epoch 83 end\n"
          ]
        },
        {
          "output_type": "stream",
          "name": "stderr",
          "text": [
            "WARNING:torchdrug.core.meter:duration: 0.26 secs\n"
          ]
        },
        {
          "output_type": "stream",
          "name": "stdout",
          "text": [
            "22:31:51   duration: 0.26 secs\n"
          ]
        },
        {
          "output_type": "stream",
          "name": "stderr",
          "text": [
            "WARNING:torchdrug.core.meter:speed: 7.81 batch / sec\n"
          ]
        },
        {
          "output_type": "stream",
          "name": "stdout",
          "text": [
            "22:31:51   speed: 7.81 batch / sec\n"
          ]
        },
        {
          "output_type": "stream",
          "name": "stderr",
          "text": [
            "WARNING:torchdrug.core.meter:ETA: 4.55 secs\n"
          ]
        },
        {
          "output_type": "stream",
          "name": "stdout",
          "text": [
            "22:31:51   ETA: 4.55 secs\n"
          ]
        },
        {
          "output_type": "stream",
          "name": "stderr",
          "text": [
            "WARNING:torchdrug.core.meter:max GPU memory: 748.2 MiB\n"
          ]
        },
        {
          "output_type": "stream",
          "name": "stdout",
          "text": [
            "22:31:51   max GPU memory: 748.2 MiB\n"
          ]
        },
        {
          "output_type": "stream",
          "name": "stderr",
          "text": [
            "WARNING:torchdrug.core.logger:------------------------------\n"
          ]
        },
        {
          "output_type": "stream",
          "name": "stdout",
          "text": [
            "22:31:51   ------------------------------\n"
          ]
        },
        {
          "output_type": "stream",
          "name": "stderr",
          "text": [
            "WARNING:torchdrug.core.logger:average binary cross entropy: 0.0931226\n"
          ]
        },
        {
          "output_type": "stream",
          "name": "stdout",
          "text": [
            "22:31:51   average binary cross entropy: 0.0931226\n"
          ]
        },
        {
          "output_type": "stream",
          "name": "stderr",
          "text": [
            "WARNING:torchdrug.core.meter:>>>>>>>>>>>>>>>>>>>>>>>>>>>>>>\n"
          ]
        },
        {
          "output_type": "stream",
          "name": "stdout",
          "text": [
            "22:31:51   >>>>>>>>>>>>>>>>>>>>>>>>>>>>>>\n"
          ]
        },
        {
          "output_type": "stream",
          "name": "stderr",
          "text": [
            "WARNING:torchdrug.core.meter:Epoch 84 begin\n"
          ]
        },
        {
          "output_type": "stream",
          "name": "stdout",
          "text": [
            "22:31:51   Epoch 84 begin\n"
          ]
        },
        {
          "output_type": "stream",
          "name": "stderr",
          "text": [
            "WARNING:torchdrug.core.meter:>>>>>>>>>>>>>>>>>>>>>>>>>>>>>>\n"
          ]
        },
        {
          "output_type": "stream",
          "name": "stdout",
          "text": [
            "22:31:51   >>>>>>>>>>>>>>>>>>>>>>>>>>>>>>\n"
          ]
        },
        {
          "output_type": "stream",
          "name": "stderr",
          "text": [
            "WARNING:torchdrug.core.meter:Epoch 84 end\n"
          ]
        },
        {
          "output_type": "stream",
          "name": "stdout",
          "text": [
            "22:31:51   Epoch 84 end\n"
          ]
        },
        {
          "output_type": "stream",
          "name": "stderr",
          "text": [
            "WARNING:torchdrug.core.meter:duration: 0.26 secs\n"
          ]
        },
        {
          "output_type": "stream",
          "name": "stdout",
          "text": [
            "22:31:51   duration: 0.26 secs\n"
          ]
        },
        {
          "output_type": "stream",
          "name": "stderr",
          "text": [
            "WARNING:torchdrug.core.meter:speed: 7.78 batch / sec\n"
          ]
        },
        {
          "output_type": "stream",
          "name": "stdout",
          "text": [
            "22:31:51   speed: 7.78 batch / sec\n"
          ]
        },
        {
          "output_type": "stream",
          "name": "stderr",
          "text": [
            "WARNING:torchdrug.core.meter:ETA: 4.26 secs\n"
          ]
        },
        {
          "output_type": "stream",
          "name": "stdout",
          "text": [
            "22:31:51   ETA: 4.26 secs\n"
          ]
        },
        {
          "output_type": "stream",
          "name": "stderr",
          "text": [
            "WARNING:torchdrug.core.meter:max GPU memory: 738.2 MiB\n"
          ]
        },
        {
          "output_type": "stream",
          "name": "stdout",
          "text": [
            "22:31:51   max GPU memory: 738.2 MiB\n"
          ]
        },
        {
          "output_type": "stream",
          "name": "stderr",
          "text": [
            "WARNING:torchdrug.core.logger:------------------------------\n"
          ]
        },
        {
          "output_type": "stream",
          "name": "stdout",
          "text": [
            "22:31:51   ------------------------------\n"
          ]
        },
        {
          "output_type": "stream",
          "name": "stderr",
          "text": [
            "WARNING:torchdrug.core.logger:average binary cross entropy: 0.0862996\n"
          ]
        },
        {
          "output_type": "stream",
          "name": "stdout",
          "text": [
            "22:31:51   average binary cross entropy: 0.0862996\n"
          ]
        },
        {
          "output_type": "stream",
          "name": "stderr",
          "text": [
            "WARNING:torchdrug.core.meter:>>>>>>>>>>>>>>>>>>>>>>>>>>>>>>\n"
          ]
        },
        {
          "output_type": "stream",
          "name": "stdout",
          "text": [
            "22:31:51   >>>>>>>>>>>>>>>>>>>>>>>>>>>>>>\n"
          ]
        },
        {
          "output_type": "stream",
          "name": "stderr",
          "text": [
            "WARNING:torchdrug.core.meter:Epoch 85 begin\n"
          ]
        },
        {
          "output_type": "stream",
          "name": "stdout",
          "text": [
            "22:31:51   Epoch 85 begin\n"
          ]
        },
        {
          "output_type": "stream",
          "name": "stderr",
          "text": [
            "WARNING:torchdrug.core.meter:>>>>>>>>>>>>>>>>>>>>>>>>>>>>>>\n"
          ]
        },
        {
          "output_type": "stream",
          "name": "stdout",
          "text": [
            "22:31:51   >>>>>>>>>>>>>>>>>>>>>>>>>>>>>>\n"
          ]
        },
        {
          "output_type": "stream",
          "name": "stderr",
          "text": [
            "WARNING:torchdrug.core.meter:Epoch 85 end\n"
          ]
        },
        {
          "output_type": "stream",
          "name": "stdout",
          "text": [
            "22:31:51   Epoch 85 end\n"
          ]
        },
        {
          "output_type": "stream",
          "name": "stderr",
          "text": [
            "WARNING:torchdrug.core.meter:duration: 0.24 secs\n"
          ]
        },
        {
          "output_type": "stream",
          "name": "stdout",
          "text": [
            "22:31:51   duration: 0.24 secs\n"
          ]
        },
        {
          "output_type": "stream",
          "name": "stderr",
          "text": [
            "WARNING:torchdrug.core.meter:speed: 8.24 batch / sec\n"
          ]
        },
        {
          "output_type": "stream",
          "name": "stdout",
          "text": [
            "22:31:51   speed: 8.24 batch / sec\n"
          ]
        },
        {
          "output_type": "stream",
          "name": "stderr",
          "text": [
            "WARNING:torchdrug.core.meter:ETA: 3.97 secs\n"
          ]
        },
        {
          "output_type": "stream",
          "name": "stdout",
          "text": [
            "22:31:51   ETA: 3.97 secs\n"
          ]
        },
        {
          "output_type": "stream",
          "name": "stderr",
          "text": [
            "WARNING:torchdrug.core.meter:max GPU memory: 738.1 MiB\n"
          ]
        },
        {
          "output_type": "stream",
          "name": "stdout",
          "text": [
            "22:31:51   max GPU memory: 738.1 MiB\n"
          ]
        },
        {
          "output_type": "stream",
          "name": "stderr",
          "text": [
            "WARNING:torchdrug.core.logger:------------------------------\n"
          ]
        },
        {
          "output_type": "stream",
          "name": "stdout",
          "text": [
            "22:31:51   ------------------------------\n"
          ]
        },
        {
          "output_type": "stream",
          "name": "stderr",
          "text": [
            "WARNING:torchdrug.core.logger:average binary cross entropy: 0.113251\n"
          ]
        },
        {
          "output_type": "stream",
          "name": "stdout",
          "text": [
            "22:31:51   average binary cross entropy: 0.113251\n"
          ]
        },
        {
          "output_type": "stream",
          "name": "stderr",
          "text": [
            "WARNING:torchdrug.core.meter:>>>>>>>>>>>>>>>>>>>>>>>>>>>>>>\n"
          ]
        },
        {
          "output_type": "stream",
          "name": "stdout",
          "text": [
            "22:31:51   >>>>>>>>>>>>>>>>>>>>>>>>>>>>>>\n"
          ]
        },
        {
          "output_type": "stream",
          "name": "stderr",
          "text": [
            "WARNING:torchdrug.core.meter:Epoch 86 begin\n"
          ]
        },
        {
          "output_type": "stream",
          "name": "stdout",
          "text": [
            "22:31:51   Epoch 86 begin\n"
          ]
        },
        {
          "output_type": "stream",
          "name": "stderr",
          "text": [
            "WARNING:torchdrug.core.meter:>>>>>>>>>>>>>>>>>>>>>>>>>>>>>>\n"
          ]
        },
        {
          "output_type": "stream",
          "name": "stdout",
          "text": [
            "22:31:51   >>>>>>>>>>>>>>>>>>>>>>>>>>>>>>\n"
          ]
        },
        {
          "output_type": "stream",
          "name": "stderr",
          "text": [
            "WARNING:torchdrug.core.meter:Epoch 86 end\n"
          ]
        },
        {
          "output_type": "stream",
          "name": "stdout",
          "text": [
            "22:31:51   Epoch 86 end\n"
          ]
        },
        {
          "output_type": "stream",
          "name": "stderr",
          "text": [
            "WARNING:torchdrug.core.meter:duration: 0.24 secs\n"
          ]
        },
        {
          "output_type": "stream",
          "name": "stdout",
          "text": [
            "22:31:51   duration: 0.24 secs\n"
          ]
        },
        {
          "output_type": "stream",
          "name": "stderr",
          "text": [
            "WARNING:torchdrug.core.meter:speed: 8.18 batch / sec\n"
          ]
        },
        {
          "output_type": "stream",
          "name": "stdout",
          "text": [
            "22:31:51   speed: 8.18 batch / sec\n"
          ]
        },
        {
          "output_type": "stream",
          "name": "stderr",
          "text": [
            "WARNING:torchdrug.core.meter:ETA: 3.68 secs\n"
          ]
        },
        {
          "output_type": "stream",
          "name": "stdout",
          "text": [
            "22:31:51   ETA: 3.68 secs\n"
          ]
        },
        {
          "output_type": "stream",
          "name": "stderr",
          "text": [
            "WARNING:torchdrug.core.meter:max GPU memory: 743.5 MiB\n"
          ]
        },
        {
          "output_type": "stream",
          "name": "stdout",
          "text": [
            "22:31:51   max GPU memory: 743.5 MiB\n"
          ]
        },
        {
          "output_type": "stream",
          "name": "stderr",
          "text": [
            "WARNING:torchdrug.core.logger:------------------------------\n"
          ]
        },
        {
          "output_type": "stream",
          "name": "stdout",
          "text": [
            "22:31:51   ------------------------------\n"
          ]
        },
        {
          "output_type": "stream",
          "name": "stderr",
          "text": [
            "WARNING:torchdrug.core.logger:average binary cross entropy: 0.0875553\n"
          ]
        },
        {
          "output_type": "stream",
          "name": "stdout",
          "text": [
            "22:31:51   average binary cross entropy: 0.0875553\n"
          ]
        },
        {
          "output_type": "stream",
          "name": "stderr",
          "text": [
            "WARNING:torchdrug.core.meter:>>>>>>>>>>>>>>>>>>>>>>>>>>>>>>\n"
          ]
        },
        {
          "output_type": "stream",
          "name": "stdout",
          "text": [
            "22:31:51   >>>>>>>>>>>>>>>>>>>>>>>>>>>>>>\n"
          ]
        },
        {
          "output_type": "stream",
          "name": "stderr",
          "text": [
            "WARNING:torchdrug.core.meter:Epoch 87 begin\n"
          ]
        },
        {
          "output_type": "stream",
          "name": "stdout",
          "text": [
            "22:31:51   Epoch 87 begin\n"
          ]
        },
        {
          "output_type": "stream",
          "name": "stderr",
          "text": [
            "WARNING:torchdrug.core.meter:>>>>>>>>>>>>>>>>>>>>>>>>>>>>>>\n"
          ]
        },
        {
          "output_type": "stream",
          "name": "stdout",
          "text": [
            "22:31:52   >>>>>>>>>>>>>>>>>>>>>>>>>>>>>>\n"
          ]
        },
        {
          "output_type": "stream",
          "name": "stderr",
          "text": [
            "WARNING:torchdrug.core.meter:Epoch 87 end\n"
          ]
        },
        {
          "output_type": "stream",
          "name": "stdout",
          "text": [
            "22:31:52   Epoch 87 end\n"
          ]
        },
        {
          "output_type": "stream",
          "name": "stderr",
          "text": [
            "WARNING:torchdrug.core.meter:duration: 0.25 secs\n"
          ]
        },
        {
          "output_type": "stream",
          "name": "stdout",
          "text": [
            "22:31:52   duration: 0.25 secs\n"
          ]
        },
        {
          "output_type": "stream",
          "name": "stderr",
          "text": [
            "WARNING:torchdrug.core.meter:speed: 7.98 batch / sec\n"
          ]
        },
        {
          "output_type": "stream",
          "name": "stdout",
          "text": [
            "22:31:52   speed: 7.98 batch / sec\n"
          ]
        },
        {
          "output_type": "stream",
          "name": "stderr",
          "text": [
            "WARNING:torchdrug.core.meter:ETA: 3.39 secs\n"
          ]
        },
        {
          "output_type": "stream",
          "name": "stdout",
          "text": [
            "22:31:52   ETA: 3.39 secs\n"
          ]
        },
        {
          "output_type": "stream",
          "name": "stderr",
          "text": [
            "WARNING:torchdrug.core.meter:max GPU memory: 742.6 MiB\n"
          ]
        },
        {
          "output_type": "stream",
          "name": "stdout",
          "text": [
            "22:31:52   max GPU memory: 742.6 MiB\n"
          ]
        },
        {
          "output_type": "stream",
          "name": "stderr",
          "text": [
            "WARNING:torchdrug.core.logger:------------------------------\n"
          ]
        },
        {
          "output_type": "stream",
          "name": "stdout",
          "text": [
            "22:31:52   ------------------------------\n"
          ]
        },
        {
          "output_type": "stream",
          "name": "stderr",
          "text": [
            "WARNING:torchdrug.core.logger:average binary cross entropy: 0.0902114\n"
          ]
        },
        {
          "output_type": "stream",
          "name": "stdout",
          "text": [
            "22:31:52   average binary cross entropy: 0.0902114\n"
          ]
        },
        {
          "output_type": "stream",
          "name": "stderr",
          "text": [
            "WARNING:torchdrug.core.meter:>>>>>>>>>>>>>>>>>>>>>>>>>>>>>>\n"
          ]
        },
        {
          "output_type": "stream",
          "name": "stdout",
          "text": [
            "22:31:52   >>>>>>>>>>>>>>>>>>>>>>>>>>>>>>\n"
          ]
        },
        {
          "output_type": "stream",
          "name": "stderr",
          "text": [
            "WARNING:torchdrug.core.meter:Epoch 88 begin\n"
          ]
        },
        {
          "output_type": "stream",
          "name": "stdout",
          "text": [
            "22:31:52   Epoch 88 begin\n"
          ]
        },
        {
          "output_type": "stream",
          "name": "stderr",
          "text": [
            "WARNING:torchdrug.core.meter:>>>>>>>>>>>>>>>>>>>>>>>>>>>>>>\n"
          ]
        },
        {
          "output_type": "stream",
          "name": "stdout",
          "text": [
            "22:31:52   >>>>>>>>>>>>>>>>>>>>>>>>>>>>>>\n"
          ]
        },
        {
          "output_type": "stream",
          "name": "stderr",
          "text": [
            "WARNING:torchdrug.core.meter:Epoch 88 end\n"
          ]
        },
        {
          "output_type": "stream",
          "name": "stdout",
          "text": [
            "22:31:52   Epoch 88 end\n"
          ]
        },
        {
          "output_type": "stream",
          "name": "stderr",
          "text": [
            "WARNING:torchdrug.core.meter:duration: 0.26 secs\n"
          ]
        },
        {
          "output_type": "stream",
          "name": "stdout",
          "text": [
            "22:31:52   duration: 0.26 secs\n"
          ]
        },
        {
          "output_type": "stream",
          "name": "stderr",
          "text": [
            "WARNING:torchdrug.core.meter:speed: 7.71 batch / sec\n"
          ]
        },
        {
          "output_type": "stream",
          "name": "stdout",
          "text": [
            "22:31:52   speed: 7.71 batch / sec\n"
          ]
        },
        {
          "output_type": "stream",
          "name": "stderr",
          "text": [
            "WARNING:torchdrug.core.meter:ETA: 3.11 secs\n"
          ]
        },
        {
          "output_type": "stream",
          "name": "stdout",
          "text": [
            "22:31:52   ETA: 3.11 secs\n"
          ]
        },
        {
          "output_type": "stream",
          "name": "stderr",
          "text": [
            "WARNING:torchdrug.core.meter:max GPU memory: 742.0 MiB\n"
          ]
        },
        {
          "output_type": "stream",
          "name": "stdout",
          "text": [
            "22:31:52   max GPU memory: 742.0 MiB\n"
          ]
        },
        {
          "output_type": "stream",
          "name": "stderr",
          "text": [
            "WARNING:torchdrug.core.logger:------------------------------\n"
          ]
        },
        {
          "output_type": "stream",
          "name": "stdout",
          "text": [
            "22:31:52   ------------------------------\n"
          ]
        },
        {
          "output_type": "stream",
          "name": "stderr",
          "text": [
            "WARNING:torchdrug.core.logger:average binary cross entropy: 0.0880755\n"
          ]
        },
        {
          "output_type": "stream",
          "name": "stdout",
          "text": [
            "22:31:52   average binary cross entropy: 0.0880755\n"
          ]
        },
        {
          "output_type": "stream",
          "name": "stderr",
          "text": [
            "WARNING:torchdrug.core.meter:>>>>>>>>>>>>>>>>>>>>>>>>>>>>>>\n"
          ]
        },
        {
          "output_type": "stream",
          "name": "stdout",
          "text": [
            "22:31:52   >>>>>>>>>>>>>>>>>>>>>>>>>>>>>>\n"
          ]
        },
        {
          "output_type": "stream",
          "name": "stderr",
          "text": [
            "WARNING:torchdrug.core.meter:Epoch 89 begin\n"
          ]
        },
        {
          "output_type": "stream",
          "name": "stdout",
          "text": [
            "22:31:52   Epoch 89 begin\n"
          ]
        },
        {
          "output_type": "stream",
          "name": "stderr",
          "text": [
            "WARNING:torchdrug.core.meter:>>>>>>>>>>>>>>>>>>>>>>>>>>>>>>\n"
          ]
        },
        {
          "output_type": "stream",
          "name": "stdout",
          "text": [
            "22:31:52   >>>>>>>>>>>>>>>>>>>>>>>>>>>>>>\n"
          ]
        },
        {
          "output_type": "stream",
          "name": "stderr",
          "text": [
            "WARNING:torchdrug.core.meter:Epoch 89 end\n"
          ]
        },
        {
          "output_type": "stream",
          "name": "stdout",
          "text": [
            "22:31:52   Epoch 89 end\n"
          ]
        },
        {
          "output_type": "stream",
          "name": "stderr",
          "text": [
            "WARNING:torchdrug.core.meter:duration: 0.25 secs\n"
          ]
        },
        {
          "output_type": "stream",
          "name": "stdout",
          "text": [
            "22:31:52   duration: 0.25 secs\n"
          ]
        },
        {
          "output_type": "stream",
          "name": "stderr",
          "text": [
            "WARNING:torchdrug.core.meter:speed: 8.09 batch / sec\n"
          ]
        },
        {
          "output_type": "stream",
          "name": "stdout",
          "text": [
            "22:31:52   speed: 8.09 batch / sec\n"
          ]
        },
        {
          "output_type": "stream",
          "name": "stderr",
          "text": [
            "WARNING:torchdrug.core.meter:ETA: 2.82 secs\n"
          ]
        },
        {
          "output_type": "stream",
          "name": "stdout",
          "text": [
            "22:31:52   ETA: 2.82 secs\n"
          ]
        },
        {
          "output_type": "stream",
          "name": "stderr",
          "text": [
            "WARNING:torchdrug.core.meter:max GPU memory: 748.8 MiB\n"
          ]
        },
        {
          "output_type": "stream",
          "name": "stdout",
          "text": [
            "22:31:52   max GPU memory: 748.8 MiB\n"
          ]
        },
        {
          "output_type": "stream",
          "name": "stderr",
          "text": [
            "WARNING:torchdrug.core.logger:------------------------------\n"
          ]
        },
        {
          "output_type": "stream",
          "name": "stdout",
          "text": [
            "22:31:52   ------------------------------\n"
          ]
        },
        {
          "output_type": "stream",
          "name": "stderr",
          "text": [
            "WARNING:torchdrug.core.logger:average binary cross entropy: 0.0880265\n"
          ]
        },
        {
          "output_type": "stream",
          "name": "stdout",
          "text": [
            "22:31:52   average binary cross entropy: 0.0880265\n"
          ]
        },
        {
          "output_type": "stream",
          "name": "stderr",
          "text": [
            "WARNING:torchdrug.core.meter:>>>>>>>>>>>>>>>>>>>>>>>>>>>>>>\n"
          ]
        },
        {
          "output_type": "stream",
          "name": "stdout",
          "text": [
            "22:31:52   >>>>>>>>>>>>>>>>>>>>>>>>>>>>>>\n"
          ]
        },
        {
          "output_type": "stream",
          "name": "stderr",
          "text": [
            "WARNING:torchdrug.core.meter:Epoch 90 begin\n"
          ]
        },
        {
          "output_type": "stream",
          "name": "stdout",
          "text": [
            "22:31:52   Epoch 90 begin\n"
          ]
        },
        {
          "output_type": "stream",
          "name": "stderr",
          "text": [
            "WARNING:torchdrug.core.meter:>>>>>>>>>>>>>>>>>>>>>>>>>>>>>>\n"
          ]
        },
        {
          "output_type": "stream",
          "name": "stdout",
          "text": [
            "22:31:52   >>>>>>>>>>>>>>>>>>>>>>>>>>>>>>\n"
          ]
        },
        {
          "output_type": "stream",
          "name": "stderr",
          "text": [
            "WARNING:torchdrug.core.meter:Epoch 90 end\n"
          ]
        },
        {
          "output_type": "stream",
          "name": "stdout",
          "text": [
            "22:31:52   Epoch 90 end\n"
          ]
        },
        {
          "output_type": "stream",
          "name": "stderr",
          "text": [
            "WARNING:torchdrug.core.meter:duration: 0.25 secs\n"
          ]
        },
        {
          "output_type": "stream",
          "name": "stdout",
          "text": [
            "22:31:52   duration: 0.25 secs\n"
          ]
        },
        {
          "output_type": "stream",
          "name": "stderr",
          "text": [
            "WARNING:torchdrug.core.meter:speed: 8.09 batch / sec\n"
          ]
        },
        {
          "output_type": "stream",
          "name": "stdout",
          "text": [
            "22:31:52   speed: 8.09 batch / sec\n"
          ]
        },
        {
          "output_type": "stream",
          "name": "stderr",
          "text": [
            "WARNING:torchdrug.core.meter:ETA: 2.53 secs\n"
          ]
        },
        {
          "output_type": "stream",
          "name": "stdout",
          "text": [
            "22:31:52   ETA: 2.53 secs\n"
          ]
        },
        {
          "output_type": "stream",
          "name": "stderr",
          "text": [
            "WARNING:torchdrug.core.meter:max GPU memory: 722.9 MiB\n"
          ]
        },
        {
          "output_type": "stream",
          "name": "stdout",
          "text": [
            "22:31:52   max GPU memory: 722.9 MiB\n"
          ]
        },
        {
          "output_type": "stream",
          "name": "stderr",
          "text": [
            "WARNING:torchdrug.core.logger:------------------------------\n"
          ]
        },
        {
          "output_type": "stream",
          "name": "stdout",
          "text": [
            "22:31:52   ------------------------------\n"
          ]
        },
        {
          "output_type": "stream",
          "name": "stderr",
          "text": [
            "WARNING:torchdrug.core.logger:average binary cross entropy: 0.0954622\n"
          ]
        },
        {
          "output_type": "stream",
          "name": "stdout",
          "text": [
            "22:31:53   average binary cross entropy: 0.0954622\n"
          ]
        },
        {
          "output_type": "stream",
          "name": "stderr",
          "text": [
            "WARNING:torchdrug.core.meter:>>>>>>>>>>>>>>>>>>>>>>>>>>>>>>\n"
          ]
        },
        {
          "output_type": "stream",
          "name": "stdout",
          "text": [
            "22:31:53   >>>>>>>>>>>>>>>>>>>>>>>>>>>>>>\n"
          ]
        },
        {
          "output_type": "stream",
          "name": "stderr",
          "text": [
            "WARNING:torchdrug.core.meter:Epoch 91 begin\n"
          ]
        },
        {
          "output_type": "stream",
          "name": "stdout",
          "text": [
            "22:31:53   Epoch 91 begin\n"
          ]
        },
        {
          "output_type": "stream",
          "name": "stderr",
          "text": [
            "WARNING:torchdrug.core.meter:>>>>>>>>>>>>>>>>>>>>>>>>>>>>>>\n"
          ]
        },
        {
          "output_type": "stream",
          "name": "stdout",
          "text": [
            "22:31:53   >>>>>>>>>>>>>>>>>>>>>>>>>>>>>>\n"
          ]
        },
        {
          "output_type": "stream",
          "name": "stderr",
          "text": [
            "WARNING:torchdrug.core.meter:Epoch 91 end\n"
          ]
        },
        {
          "output_type": "stream",
          "name": "stdout",
          "text": [
            "22:31:53   Epoch 91 end\n"
          ]
        },
        {
          "output_type": "stream",
          "name": "stderr",
          "text": [
            "WARNING:torchdrug.core.meter:duration: 0.24 secs\n"
          ]
        },
        {
          "output_type": "stream",
          "name": "stdout",
          "text": [
            "22:31:53   duration: 0.24 secs\n"
          ]
        },
        {
          "output_type": "stream",
          "name": "stderr",
          "text": [
            "WARNING:torchdrug.core.meter:speed: 8.24 batch / sec\n"
          ]
        },
        {
          "output_type": "stream",
          "name": "stdout",
          "text": [
            "22:31:53   speed: 8.24 batch / sec\n"
          ]
        },
        {
          "output_type": "stream",
          "name": "stderr",
          "text": [
            "WARNING:torchdrug.core.meter:ETA: 2.25 secs\n"
          ]
        },
        {
          "output_type": "stream",
          "name": "stdout",
          "text": [
            "22:31:53   ETA: 2.25 secs\n"
          ]
        },
        {
          "output_type": "stream",
          "name": "stderr",
          "text": [
            "WARNING:torchdrug.core.meter:max GPU memory: 738.6 MiB\n"
          ]
        },
        {
          "output_type": "stream",
          "name": "stdout",
          "text": [
            "22:31:53   max GPU memory: 738.6 MiB\n"
          ]
        },
        {
          "output_type": "stream",
          "name": "stderr",
          "text": [
            "WARNING:torchdrug.core.logger:------------------------------\n"
          ]
        },
        {
          "output_type": "stream",
          "name": "stdout",
          "text": [
            "22:31:53   ------------------------------\n"
          ]
        },
        {
          "output_type": "stream",
          "name": "stderr",
          "text": [
            "WARNING:torchdrug.core.logger:average binary cross entropy: 0.0765667\n"
          ]
        },
        {
          "output_type": "stream",
          "name": "stdout",
          "text": [
            "22:31:53   average binary cross entropy: 0.0765667\n"
          ]
        },
        {
          "output_type": "stream",
          "name": "stderr",
          "text": [
            "WARNING:torchdrug.core.meter:>>>>>>>>>>>>>>>>>>>>>>>>>>>>>>\n"
          ]
        },
        {
          "output_type": "stream",
          "name": "stdout",
          "text": [
            "22:31:53   >>>>>>>>>>>>>>>>>>>>>>>>>>>>>>\n"
          ]
        },
        {
          "output_type": "stream",
          "name": "stderr",
          "text": [
            "WARNING:torchdrug.core.meter:Epoch 92 begin\n"
          ]
        },
        {
          "output_type": "stream",
          "name": "stdout",
          "text": [
            "22:31:53   Epoch 92 begin\n"
          ]
        },
        {
          "output_type": "stream",
          "name": "stderr",
          "text": [
            "WARNING:torchdrug.core.meter:>>>>>>>>>>>>>>>>>>>>>>>>>>>>>>\n"
          ]
        },
        {
          "output_type": "stream",
          "name": "stdout",
          "text": [
            "22:31:53   >>>>>>>>>>>>>>>>>>>>>>>>>>>>>>\n"
          ]
        },
        {
          "output_type": "stream",
          "name": "stderr",
          "text": [
            "WARNING:torchdrug.core.meter:Epoch 92 end\n"
          ]
        },
        {
          "output_type": "stream",
          "name": "stdout",
          "text": [
            "22:31:53   Epoch 92 end\n"
          ]
        },
        {
          "output_type": "stream",
          "name": "stderr",
          "text": [
            "WARNING:torchdrug.core.meter:duration: 0.25 secs\n"
          ]
        },
        {
          "output_type": "stream",
          "name": "stdout",
          "text": [
            "22:31:53   duration: 0.25 secs\n"
          ]
        },
        {
          "output_type": "stream",
          "name": "stderr",
          "text": [
            "WARNING:torchdrug.core.meter:speed: 8.05 batch / sec\n"
          ]
        },
        {
          "output_type": "stream",
          "name": "stdout",
          "text": [
            "22:31:53   speed: 8.05 batch / sec\n"
          ]
        },
        {
          "output_type": "stream",
          "name": "stderr",
          "text": [
            "WARNING:torchdrug.core.meter:ETA: 1.97 secs\n"
          ]
        },
        {
          "output_type": "stream",
          "name": "stdout",
          "text": [
            "22:31:53   ETA: 1.97 secs\n"
          ]
        },
        {
          "output_type": "stream",
          "name": "stderr",
          "text": [
            "WARNING:torchdrug.core.meter:max GPU memory: 744.4 MiB\n"
          ]
        },
        {
          "output_type": "stream",
          "name": "stdout",
          "text": [
            "22:31:53   max GPU memory: 744.4 MiB\n"
          ]
        },
        {
          "output_type": "stream",
          "name": "stderr",
          "text": [
            "WARNING:torchdrug.core.logger:------------------------------\n"
          ]
        },
        {
          "output_type": "stream",
          "name": "stdout",
          "text": [
            "22:31:53   ------------------------------\n"
          ]
        },
        {
          "output_type": "stream",
          "name": "stderr",
          "text": [
            "WARNING:torchdrug.core.logger:average binary cross entropy: 0.0932469\n"
          ]
        },
        {
          "output_type": "stream",
          "name": "stdout",
          "text": [
            "22:31:53   average binary cross entropy: 0.0932469\n"
          ]
        },
        {
          "output_type": "stream",
          "name": "stderr",
          "text": [
            "WARNING:torchdrug.core.meter:>>>>>>>>>>>>>>>>>>>>>>>>>>>>>>\n"
          ]
        },
        {
          "output_type": "stream",
          "name": "stdout",
          "text": [
            "22:31:53   >>>>>>>>>>>>>>>>>>>>>>>>>>>>>>\n"
          ]
        },
        {
          "output_type": "stream",
          "name": "stderr",
          "text": [
            "WARNING:torchdrug.core.meter:Epoch 93 begin\n"
          ]
        },
        {
          "output_type": "stream",
          "name": "stdout",
          "text": [
            "22:31:53   Epoch 93 begin\n"
          ]
        },
        {
          "output_type": "stream",
          "name": "stderr",
          "text": [
            "WARNING:torchdrug.core.meter:>>>>>>>>>>>>>>>>>>>>>>>>>>>>>>\n"
          ]
        },
        {
          "output_type": "stream",
          "name": "stdout",
          "text": [
            "22:31:53   >>>>>>>>>>>>>>>>>>>>>>>>>>>>>>\n"
          ]
        },
        {
          "output_type": "stream",
          "name": "stderr",
          "text": [
            "WARNING:torchdrug.core.meter:Epoch 93 end\n"
          ]
        },
        {
          "output_type": "stream",
          "name": "stdout",
          "text": [
            "22:31:53   Epoch 93 end\n"
          ]
        },
        {
          "output_type": "stream",
          "name": "stderr",
          "text": [
            "WARNING:torchdrug.core.meter:duration: 0.25 secs\n"
          ]
        },
        {
          "output_type": "stream",
          "name": "stdout",
          "text": [
            "22:31:53   duration: 0.25 secs\n"
          ]
        },
        {
          "output_type": "stream",
          "name": "stderr",
          "text": [
            "WARNING:torchdrug.core.meter:speed: 7.85 batch / sec\n"
          ]
        },
        {
          "output_type": "stream",
          "name": "stdout",
          "text": [
            "22:31:53   speed: 7.85 batch / sec\n"
          ]
        },
        {
          "output_type": "stream",
          "name": "stderr",
          "text": [
            "WARNING:torchdrug.core.meter:ETA: 1.68 secs\n"
          ]
        },
        {
          "output_type": "stream",
          "name": "stdout",
          "text": [
            "22:31:53   ETA: 1.68 secs\n"
          ]
        },
        {
          "output_type": "stream",
          "name": "stderr",
          "text": [
            "WARNING:torchdrug.core.meter:max GPU memory: 752.7 MiB\n"
          ]
        },
        {
          "output_type": "stream",
          "name": "stdout",
          "text": [
            "22:31:53   max GPU memory: 752.7 MiB\n"
          ]
        },
        {
          "output_type": "stream",
          "name": "stderr",
          "text": [
            "WARNING:torchdrug.core.logger:------------------------------\n"
          ]
        },
        {
          "output_type": "stream",
          "name": "stdout",
          "text": [
            "22:31:53   ------------------------------\n"
          ]
        },
        {
          "output_type": "stream",
          "name": "stderr",
          "text": [
            "WARNING:torchdrug.core.logger:average binary cross entropy: 0.0773375\n"
          ]
        },
        {
          "output_type": "stream",
          "name": "stdout",
          "text": [
            "22:31:53   average binary cross entropy: 0.0773375\n"
          ]
        },
        {
          "output_type": "stream",
          "name": "stderr",
          "text": [
            "WARNING:torchdrug.core.meter:>>>>>>>>>>>>>>>>>>>>>>>>>>>>>>\n"
          ]
        },
        {
          "output_type": "stream",
          "name": "stdout",
          "text": [
            "22:31:53   >>>>>>>>>>>>>>>>>>>>>>>>>>>>>>\n"
          ]
        },
        {
          "output_type": "stream",
          "name": "stderr",
          "text": [
            "WARNING:torchdrug.core.meter:Epoch 94 begin\n"
          ]
        },
        {
          "output_type": "stream",
          "name": "stdout",
          "text": [
            "22:31:53   Epoch 94 begin\n"
          ]
        },
        {
          "output_type": "stream",
          "name": "stderr",
          "text": [
            "WARNING:torchdrug.core.meter:>>>>>>>>>>>>>>>>>>>>>>>>>>>>>>\n"
          ]
        },
        {
          "output_type": "stream",
          "name": "stdout",
          "text": [
            "22:31:53   >>>>>>>>>>>>>>>>>>>>>>>>>>>>>>\n"
          ]
        },
        {
          "output_type": "stream",
          "name": "stderr",
          "text": [
            "WARNING:torchdrug.core.meter:Epoch 94 end\n"
          ]
        },
        {
          "output_type": "stream",
          "name": "stdout",
          "text": [
            "22:31:53   Epoch 94 end\n"
          ]
        },
        {
          "output_type": "stream",
          "name": "stderr",
          "text": [
            "WARNING:torchdrug.core.meter:duration: 0.26 secs\n"
          ]
        },
        {
          "output_type": "stream",
          "name": "stdout",
          "text": [
            "22:31:53   duration: 0.26 secs\n"
          ]
        },
        {
          "output_type": "stream",
          "name": "stderr",
          "text": [
            "WARNING:torchdrug.core.meter:speed: 7.79 batch / sec\n"
          ]
        },
        {
          "output_type": "stream",
          "name": "stdout",
          "text": [
            "22:31:53   speed: 7.79 batch / sec\n"
          ]
        },
        {
          "output_type": "stream",
          "name": "stderr",
          "text": [
            "WARNING:torchdrug.core.meter:ETA: 1.40 secs\n"
          ]
        },
        {
          "output_type": "stream",
          "name": "stdout",
          "text": [
            "22:31:53   ETA: 1.40 secs\n"
          ]
        },
        {
          "output_type": "stream",
          "name": "stderr",
          "text": [
            "WARNING:torchdrug.core.meter:max GPU memory: 737.8 MiB\n"
          ]
        },
        {
          "output_type": "stream",
          "name": "stdout",
          "text": [
            "22:31:53   max GPU memory: 737.8 MiB\n"
          ]
        },
        {
          "output_type": "stream",
          "name": "stderr",
          "text": [
            "WARNING:torchdrug.core.logger:------------------------------\n"
          ]
        },
        {
          "output_type": "stream",
          "name": "stdout",
          "text": [
            "22:31:54   ------------------------------\n"
          ]
        },
        {
          "output_type": "stream",
          "name": "stderr",
          "text": [
            "WARNING:torchdrug.core.logger:average binary cross entropy: 0.110744\n"
          ]
        },
        {
          "output_type": "stream",
          "name": "stdout",
          "text": [
            "22:31:54   average binary cross entropy: 0.110744\n"
          ]
        },
        {
          "output_type": "stream",
          "name": "stderr",
          "text": [
            "WARNING:torchdrug.core.meter:>>>>>>>>>>>>>>>>>>>>>>>>>>>>>>\n"
          ]
        },
        {
          "output_type": "stream",
          "name": "stdout",
          "text": [
            "22:31:54   >>>>>>>>>>>>>>>>>>>>>>>>>>>>>>\n"
          ]
        },
        {
          "output_type": "stream",
          "name": "stderr",
          "text": [
            "WARNING:torchdrug.core.meter:Epoch 95 begin\n"
          ]
        },
        {
          "output_type": "stream",
          "name": "stdout",
          "text": [
            "22:31:54   Epoch 95 begin\n"
          ]
        },
        {
          "output_type": "stream",
          "name": "stderr",
          "text": [
            "WARNING:torchdrug.core.meter:>>>>>>>>>>>>>>>>>>>>>>>>>>>>>>\n"
          ]
        },
        {
          "output_type": "stream",
          "name": "stdout",
          "text": [
            "22:31:54   >>>>>>>>>>>>>>>>>>>>>>>>>>>>>>\n"
          ]
        },
        {
          "output_type": "stream",
          "name": "stderr",
          "text": [
            "WARNING:torchdrug.core.meter:Epoch 95 end\n"
          ]
        },
        {
          "output_type": "stream",
          "name": "stdout",
          "text": [
            "22:31:54   Epoch 95 end\n"
          ]
        },
        {
          "output_type": "stream",
          "name": "stderr",
          "text": [
            "WARNING:torchdrug.core.meter:duration: 0.26 secs\n"
          ]
        },
        {
          "output_type": "stream",
          "name": "stdout",
          "text": [
            "22:31:54   duration: 0.26 secs\n"
          ]
        },
        {
          "output_type": "stream",
          "name": "stderr",
          "text": [
            "WARNING:torchdrug.core.meter:speed: 7.75 batch / sec\n"
          ]
        },
        {
          "output_type": "stream",
          "name": "stdout",
          "text": [
            "22:31:54   speed: 7.75 batch / sec\n"
          ]
        },
        {
          "output_type": "stream",
          "name": "stderr",
          "text": [
            "WARNING:torchdrug.core.meter:ETA: 1.12 secs\n"
          ]
        },
        {
          "output_type": "stream",
          "name": "stdout",
          "text": [
            "22:31:54   ETA: 1.12 secs\n"
          ]
        },
        {
          "output_type": "stream",
          "name": "stderr",
          "text": [
            "WARNING:torchdrug.core.meter:max GPU memory: 735.9 MiB\n"
          ]
        },
        {
          "output_type": "stream",
          "name": "stdout",
          "text": [
            "22:31:54   max GPU memory: 735.9 MiB\n"
          ]
        },
        {
          "output_type": "stream",
          "name": "stderr",
          "text": [
            "WARNING:torchdrug.core.logger:------------------------------\n"
          ]
        },
        {
          "output_type": "stream",
          "name": "stdout",
          "text": [
            "22:31:54   ------------------------------\n"
          ]
        },
        {
          "output_type": "stream",
          "name": "stderr",
          "text": [
            "WARNING:torchdrug.core.logger:average binary cross entropy: 0.0908031\n"
          ]
        },
        {
          "output_type": "stream",
          "name": "stdout",
          "text": [
            "22:31:54   average binary cross entropy: 0.0908031\n"
          ]
        },
        {
          "output_type": "stream",
          "name": "stderr",
          "text": [
            "WARNING:torchdrug.core.meter:>>>>>>>>>>>>>>>>>>>>>>>>>>>>>>\n"
          ]
        },
        {
          "output_type": "stream",
          "name": "stdout",
          "text": [
            "22:31:54   >>>>>>>>>>>>>>>>>>>>>>>>>>>>>>\n"
          ]
        },
        {
          "output_type": "stream",
          "name": "stderr",
          "text": [
            "WARNING:torchdrug.core.meter:Epoch 96 begin\n"
          ]
        },
        {
          "output_type": "stream",
          "name": "stdout",
          "text": [
            "22:31:54   Epoch 96 begin\n"
          ]
        },
        {
          "output_type": "stream",
          "name": "stderr",
          "text": [
            "WARNING:torchdrug.core.meter:>>>>>>>>>>>>>>>>>>>>>>>>>>>>>>\n"
          ]
        },
        {
          "output_type": "stream",
          "name": "stdout",
          "text": [
            "22:31:54   >>>>>>>>>>>>>>>>>>>>>>>>>>>>>>\n"
          ]
        },
        {
          "output_type": "stream",
          "name": "stderr",
          "text": [
            "WARNING:torchdrug.core.meter:Epoch 96 end\n"
          ]
        },
        {
          "output_type": "stream",
          "name": "stdout",
          "text": [
            "22:31:54   Epoch 96 end\n"
          ]
        },
        {
          "output_type": "stream",
          "name": "stderr",
          "text": [
            "WARNING:torchdrug.core.meter:duration: 0.25 secs\n"
          ]
        },
        {
          "output_type": "stream",
          "name": "stdout",
          "text": [
            "22:31:54   duration: 0.25 secs\n"
          ]
        },
        {
          "output_type": "stream",
          "name": "stderr",
          "text": [
            "WARNING:torchdrug.core.meter:speed: 8.00 batch / sec\n"
          ]
        },
        {
          "output_type": "stream",
          "name": "stdout",
          "text": [
            "22:31:54   speed: 8.00 batch / sec\n"
          ]
        },
        {
          "output_type": "stream",
          "name": "stderr",
          "text": [
            "WARNING:torchdrug.core.meter:ETA: 0.84 secs\n"
          ]
        },
        {
          "output_type": "stream",
          "name": "stdout",
          "text": [
            "22:31:54   ETA: 0.84 secs\n"
          ]
        },
        {
          "output_type": "stream",
          "name": "stderr",
          "text": [
            "WARNING:torchdrug.core.meter:max GPU memory: 742.2 MiB\n"
          ]
        },
        {
          "output_type": "stream",
          "name": "stdout",
          "text": [
            "22:31:54   max GPU memory: 742.2 MiB\n"
          ]
        },
        {
          "output_type": "stream",
          "name": "stderr",
          "text": [
            "WARNING:torchdrug.core.logger:------------------------------\n"
          ]
        },
        {
          "output_type": "stream",
          "name": "stdout",
          "text": [
            "22:31:54   ------------------------------\n"
          ]
        },
        {
          "output_type": "stream",
          "name": "stderr",
          "text": [
            "WARNING:torchdrug.core.logger:average binary cross entropy: 0.0872605\n"
          ]
        },
        {
          "output_type": "stream",
          "name": "stdout",
          "text": [
            "22:31:54   average binary cross entropy: 0.0872605\n"
          ]
        },
        {
          "output_type": "stream",
          "name": "stderr",
          "text": [
            "WARNING:torchdrug.core.meter:>>>>>>>>>>>>>>>>>>>>>>>>>>>>>>\n"
          ]
        },
        {
          "output_type": "stream",
          "name": "stdout",
          "text": [
            "22:31:54   >>>>>>>>>>>>>>>>>>>>>>>>>>>>>>\n"
          ]
        },
        {
          "output_type": "stream",
          "name": "stderr",
          "text": [
            "WARNING:torchdrug.core.meter:Epoch 97 begin\n"
          ]
        },
        {
          "output_type": "stream",
          "name": "stdout",
          "text": [
            "22:31:54   Epoch 97 begin\n"
          ]
        },
        {
          "output_type": "stream",
          "name": "stderr",
          "text": [
            "WARNING:torchdrug.core.meter:>>>>>>>>>>>>>>>>>>>>>>>>>>>>>>\n"
          ]
        },
        {
          "output_type": "stream",
          "name": "stdout",
          "text": [
            "22:31:54   >>>>>>>>>>>>>>>>>>>>>>>>>>>>>>\n"
          ]
        },
        {
          "output_type": "stream",
          "name": "stderr",
          "text": [
            "WARNING:torchdrug.core.meter:Epoch 97 end\n"
          ]
        },
        {
          "output_type": "stream",
          "name": "stdout",
          "text": [
            "22:31:54   Epoch 97 end\n"
          ]
        },
        {
          "output_type": "stream",
          "name": "stderr",
          "text": [
            "WARNING:torchdrug.core.meter:duration: 0.27 secs\n"
          ]
        },
        {
          "output_type": "stream",
          "name": "stdout",
          "text": [
            "22:31:54   duration: 0.27 secs\n"
          ]
        },
        {
          "output_type": "stream",
          "name": "stderr",
          "text": [
            "WARNING:torchdrug.core.meter:speed: 7.37 batch / sec\n"
          ]
        },
        {
          "output_type": "stream",
          "name": "stdout",
          "text": [
            "22:31:54   speed: 7.37 batch / sec\n"
          ]
        },
        {
          "output_type": "stream",
          "name": "stderr",
          "text": [
            "WARNING:torchdrug.core.meter:ETA: 0.56 secs\n"
          ]
        },
        {
          "output_type": "stream",
          "name": "stdout",
          "text": [
            "22:31:54   ETA: 0.56 secs\n"
          ]
        },
        {
          "output_type": "stream",
          "name": "stderr",
          "text": [
            "WARNING:torchdrug.core.meter:max GPU memory: 729.8 MiB\n"
          ]
        },
        {
          "output_type": "stream",
          "name": "stdout",
          "text": [
            "22:31:54   max GPU memory: 729.8 MiB\n"
          ]
        },
        {
          "output_type": "stream",
          "name": "stderr",
          "text": [
            "WARNING:torchdrug.core.logger:------------------------------\n"
          ]
        },
        {
          "output_type": "stream",
          "name": "stdout",
          "text": [
            "22:31:54   ------------------------------\n"
          ]
        },
        {
          "output_type": "stream",
          "name": "stderr",
          "text": [
            "WARNING:torchdrug.core.logger:average binary cross entropy: 0.0817527\n"
          ]
        },
        {
          "output_type": "stream",
          "name": "stdout",
          "text": [
            "22:31:54   average binary cross entropy: 0.0817527\n"
          ]
        },
        {
          "output_type": "stream",
          "name": "stderr",
          "text": [
            "WARNING:torchdrug.core.meter:>>>>>>>>>>>>>>>>>>>>>>>>>>>>>>\n"
          ]
        },
        {
          "output_type": "stream",
          "name": "stdout",
          "text": [
            "22:31:54   >>>>>>>>>>>>>>>>>>>>>>>>>>>>>>\n"
          ]
        },
        {
          "output_type": "stream",
          "name": "stderr",
          "text": [
            "WARNING:torchdrug.core.meter:Epoch 98 begin\n"
          ]
        },
        {
          "output_type": "stream",
          "name": "stdout",
          "text": [
            "22:31:54   Epoch 98 begin\n"
          ]
        },
        {
          "output_type": "stream",
          "name": "stderr",
          "text": [
            "WARNING:torchdrug.core.meter:>>>>>>>>>>>>>>>>>>>>>>>>>>>>>>\n"
          ]
        },
        {
          "output_type": "stream",
          "name": "stdout",
          "text": [
            "22:31:55   >>>>>>>>>>>>>>>>>>>>>>>>>>>>>>\n"
          ]
        },
        {
          "output_type": "stream",
          "name": "stderr",
          "text": [
            "WARNING:torchdrug.core.meter:Epoch 98 end\n"
          ]
        },
        {
          "output_type": "stream",
          "name": "stdout",
          "text": [
            "22:31:55   Epoch 98 end\n"
          ]
        },
        {
          "output_type": "stream",
          "name": "stderr",
          "text": [
            "WARNING:torchdrug.core.meter:duration: 0.28 secs\n"
          ]
        },
        {
          "output_type": "stream",
          "name": "stdout",
          "text": [
            "22:31:55   duration: 0.28 secs\n"
          ]
        },
        {
          "output_type": "stream",
          "name": "stderr",
          "text": [
            "WARNING:torchdrug.core.meter:speed: 7.14 batch / sec\n"
          ]
        },
        {
          "output_type": "stream",
          "name": "stdout",
          "text": [
            "22:31:55   speed: 7.14 batch / sec\n"
          ]
        },
        {
          "output_type": "stream",
          "name": "stderr",
          "text": [
            "WARNING:torchdrug.core.meter:ETA: 0.28 secs\n"
          ]
        },
        {
          "output_type": "stream",
          "name": "stdout",
          "text": [
            "22:31:55   ETA: 0.28 secs\n"
          ]
        },
        {
          "output_type": "stream",
          "name": "stderr",
          "text": [
            "WARNING:torchdrug.core.meter:max GPU memory: 738.9 MiB\n"
          ]
        },
        {
          "output_type": "stream",
          "name": "stdout",
          "text": [
            "22:31:55   max GPU memory: 738.9 MiB\n"
          ]
        },
        {
          "output_type": "stream",
          "name": "stderr",
          "text": [
            "WARNING:torchdrug.core.logger:------------------------------\n"
          ]
        },
        {
          "output_type": "stream",
          "name": "stdout",
          "text": [
            "22:31:55   ------------------------------\n"
          ]
        },
        {
          "output_type": "stream",
          "name": "stderr",
          "text": [
            "WARNING:torchdrug.core.logger:average binary cross entropy: 0.0861382\n"
          ]
        },
        {
          "output_type": "stream",
          "name": "stdout",
          "text": [
            "22:31:55   average binary cross entropy: 0.0861382\n"
          ]
        },
        {
          "output_type": "stream",
          "name": "stderr",
          "text": [
            "WARNING:torchdrug.core.meter:>>>>>>>>>>>>>>>>>>>>>>>>>>>>>>\n"
          ]
        },
        {
          "output_type": "stream",
          "name": "stdout",
          "text": [
            "22:31:55   >>>>>>>>>>>>>>>>>>>>>>>>>>>>>>\n"
          ]
        },
        {
          "output_type": "stream",
          "name": "stderr",
          "text": [
            "WARNING:torchdrug.core.meter:Epoch 99 begin\n"
          ]
        },
        {
          "output_type": "stream",
          "name": "stdout",
          "text": [
            "22:31:55   Epoch 99 begin\n"
          ]
        },
        {
          "output_type": "stream",
          "name": "stderr",
          "text": [
            "WARNING:torchdrug.core.meter:>>>>>>>>>>>>>>>>>>>>>>>>>>>>>>\n"
          ]
        },
        {
          "output_type": "stream",
          "name": "stdout",
          "text": [
            "22:31:55   >>>>>>>>>>>>>>>>>>>>>>>>>>>>>>\n"
          ]
        },
        {
          "output_type": "stream",
          "name": "stderr",
          "text": [
            "WARNING:torchdrug.core.meter:Epoch 99 end\n"
          ]
        },
        {
          "output_type": "stream",
          "name": "stdout",
          "text": [
            "22:31:55   Epoch 99 end\n"
          ]
        },
        {
          "output_type": "stream",
          "name": "stderr",
          "text": [
            "WARNING:torchdrug.core.meter:duration: 0.26 secs\n"
          ]
        },
        {
          "output_type": "stream",
          "name": "stdout",
          "text": [
            "22:31:55   duration: 0.26 secs\n"
          ]
        },
        {
          "output_type": "stream",
          "name": "stderr",
          "text": [
            "WARNING:torchdrug.core.meter:speed: 7.72 batch / sec\n"
          ]
        },
        {
          "output_type": "stream",
          "name": "stdout",
          "text": [
            "22:31:55   speed: 7.72 batch / sec\n"
          ]
        },
        {
          "output_type": "stream",
          "name": "stderr",
          "text": [
            "WARNING:torchdrug.core.meter:ETA: 0.00 secs\n"
          ]
        },
        {
          "output_type": "stream",
          "name": "stdout",
          "text": [
            "22:31:55   ETA: 0.00 secs\n"
          ]
        },
        {
          "output_type": "stream",
          "name": "stderr",
          "text": [
            "WARNING:torchdrug.core.meter:max GPU memory: 744.2 MiB\n"
          ]
        },
        {
          "output_type": "stream",
          "name": "stdout",
          "text": [
            "22:31:55   max GPU memory: 744.2 MiB\n"
          ]
        },
        {
          "output_type": "stream",
          "name": "stderr",
          "text": [
            "WARNING:torchdrug.core.logger:------------------------------\n"
          ]
        },
        {
          "output_type": "stream",
          "name": "stdout",
          "text": [
            "22:31:55   ------------------------------\n"
          ]
        },
        {
          "output_type": "stream",
          "name": "stderr",
          "text": [
            "WARNING:torchdrug.core.logger:average binary cross entropy: 0.0940764\n"
          ]
        },
        {
          "output_type": "stream",
          "name": "stdout",
          "text": [
            "22:31:55   average binary cross entropy: 0.0940764\n"
          ]
        }
      ]
    },
    {
      "cell_type": "markdown",
      "source": [
        "We can log the training progress to W&B platform with a simple argument. Note this requires you to have a W&B account."
      ],
      "metadata": {
        "id": "-zMqIu5C34X0"
      }
    },
    {
      "cell_type": "code",
      "source": [
        "# solver = core.Engine(task, train_set, valid_set, test_set, optimizer,\n",
        "#                      batch_size=1024, gpus=[0], logger=\"wandb\")"
      ],
      "metadata": {
        "id": "Benyxkap39Og"
      },
      "execution_count": null,
      "outputs": []
    },
    {
      "cell_type": "markdown",
      "source": [
        "The output in our W&B console may look like follows."
      ],
      "metadata": {
        "id": "iQ728RAS4ZJx"
      }
    },
    {
      "cell_type": "markdown",
      "source": [
        "![wandb_demo.png](https://raw.githubusercontent.com/DeepGraphLearning/torchdrug/master/asset/model/wandb_demo.png)"
      ],
      "metadata": {
        "id": "8ATIkaJskRLC"
      }
    },
    {
      "cell_type": "markdown",
      "metadata": {
        "id": "p6aONUbqfTFJ"
      },
      "source": [
        "### Test the Model\n",
        "To test the model on validation set, it only takes one line."
      ]
    },
    {
      "cell_type": "code",
      "metadata": {
        "id": "X85oBLXMfKY0",
        "colab": {
          "base_uri": "https://localhost:8080/"
        },
        "outputId": "7611d8b1-66e8-4e40-c3d5-2b8e7ec071f2"
      },
      "source": [
        "solver.evaluate(\"valid\")"
      ],
      "execution_count": null,
      "outputs": [
        {
          "output_type": "stream",
          "name": "stderr",
          "text": [
            "WARNING:torchdrug.core.engine:>>>>>>>>>>>>>>>>>>>>>>>>>>>>>>\n"
          ]
        },
        {
          "output_type": "stream",
          "name": "stdout",
          "text": [
            "22:31:55   >>>>>>>>>>>>>>>>>>>>>>>>>>>>>>\n"
          ]
        },
        {
          "output_type": "stream",
          "name": "stderr",
          "text": [
            "WARNING:torchdrug.core.engine:Evaluate on valid\n"
          ]
        },
        {
          "output_type": "stream",
          "name": "stdout",
          "text": [
            "22:31:55   Evaluate on valid\n"
          ]
        },
        {
          "output_type": "stream",
          "name": "stderr",
          "text": [
            "WARNING:torchdrug.core.logger:------------------------------\n"
          ]
        },
        {
          "output_type": "stream",
          "name": "stdout",
          "text": [
            "22:31:55   ------------------------------\n"
          ]
        },
        {
          "output_type": "stream",
          "name": "stderr",
          "text": [
            "WARNING:torchdrug.core.logger:auprc [CT_TOX]: 0.373957\n"
          ]
        },
        {
          "output_type": "stream",
          "name": "stdout",
          "text": [
            "22:31:55   auprc [CT_TOX]: 0.373957\n"
          ]
        },
        {
          "output_type": "stream",
          "name": "stderr",
          "text": [
            "WARNING:torchdrug.core.logger:auprc [FDA_APPROVED]: 0.991254\n"
          ]
        },
        {
          "output_type": "stream",
          "name": "stdout",
          "text": [
            "22:31:55   auprc [FDA_APPROVED]: 0.991254\n"
          ]
        },
        {
          "output_type": "stream",
          "name": "stderr",
          "text": [
            "WARNING:torchdrug.core.logger:auroc [CT_TOX]: 0.835821\n"
          ]
        },
        {
          "output_type": "stream",
          "name": "stdout",
          "text": [
            "22:31:55   auroc [CT_TOX]: 0.835821\n"
          ]
        },
        {
          "output_type": "stream",
          "name": "stderr",
          "text": [
            "WARNING:torchdrug.core.logger:auroc [FDA_APPROVED]: 0.888321\n"
          ]
        },
        {
          "output_type": "stream",
          "name": "stdout",
          "text": [
            "22:31:55   auroc [FDA_APPROVED]: 0.888321\n"
          ]
        },
        {
          "output_type": "execute_result",
          "data": {
            "text/plain": [
              "{'auprc [FDA_APPROVED]': tensor(0.9913, device='cuda:0'),\n",
              " 'auprc [CT_TOX]': tensor(0.3740, device='cuda:0'),\n",
              " 'auroc [FDA_APPROVED]': tensor(0.8883, device='cuda:0'),\n",
              " 'auroc [CT_TOX]': tensor(0.8358, device='cuda:0')}"
            ]
          },
          "metadata": {},
          "execution_count": 24
        }
      ]
    },
    {
      "cell_type": "markdown",
      "metadata": {
        "id": "M6w-y8JLfen_"
      },
      "source": [
        "Alternatively, we can make prediction on arbitrary input batches. The following code shows the prediction for the first 8 samples in the validation set.\n",
        "\n"
      ]
    },
    {
      "cell_type": "code",
      "metadata": {
        "id": "l4DBfG4WfbNa",
        "colab": {
          "base_uri": "https://localhost:8080/",
          "height": 277
        },
        "outputId": "1f3a3f15-d4f6-4ad7-fa6f-0482e2cfb543"
      },
      "source": [
        "from torchdrug import utils\n",
        "\n",
        "batch = data.graph_collate(valid_set[:8])\n",
        "batch[\"graph\"].visualize(num_row=1)\n",
        "batch = utils.cuda(batch, device=solver.device)\n",
        "pred = F.sigmoid(task.predict(batch))\n",
        "for t, p in zip(task.task, pred.t()):\n",
        "    print(\"%s: %s\" % (t, p))"
      ],
      "execution_count": null,
      "outputs": [
        {
          "output_type": "stream",
          "name": "stderr",
          "text": [
            "/usr/local/lib/python3.7/dist-packages/torch/nn/functional.py:1960: UserWarning: nn.functional.sigmoid is deprecated. Use torch.sigmoid instead.\n",
            "  warnings.warn(\"nn.functional.sigmoid is deprecated. Use torch.sigmoid instead.\")\n"
          ]
        },
        {
          "output_type": "stream",
          "name": "stdout",
          "text": [
            "FDA_APPROVED: tensor([0.8580, 1.0000, 0.9749, 0.9999, 0.9996, 1.0000, 1.0000, 1.0000],\n",
            "       device='cuda:0', grad_fn=<UnbindBackward0>)\n",
            "CT_TOX: tensor([1.7450e-02, 1.6434e-05, 2.4531e-01, 5.5848e-06, 3.5647e-06, 2.1318e-03,\n",
            "        2.3492e-13, 2.2680e-16], device='cuda:0', grad_fn=<UnbindBackward0>)\n"
          ]
        },
        {
          "output_type": "display_data",
          "data": {
            "text/plain": [
              "<Figure size 1728x216 with 8 Axes>"
            ],
            "image/png": "[encoded data removed]"
          },
          "metadata": {
            "needs_background": "light"
          }
        }
      ]
    }
  ]
}